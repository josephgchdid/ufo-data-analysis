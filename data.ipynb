{
 "cells": [
  {
   "cell_type": "code",
   "execution_count": 1,
   "source": [
    "import pandas as pd\r\n",
    "import matplotlib.pyplot as plt\r\n",
    "import plotly.graph_objects as go\r\n",
    "import plotly.express as px\r\n",
    "import plotly.offline as pyo\r\n",
    "import missingno as msno"
   ],
   "outputs": [],
   "metadata": {}
  },
  {
   "cell_type": "code",
   "execution_count": null,
   "source": [
    "pyo.init_notebook_mode()"
   ],
   "outputs": [],
   "metadata": {}
  },
  {
   "cell_type": "code",
   "execution_count": 2,
   "source": [
    "dataset = pd.read_csv('cleaned_ufo.csv')"
   ],
   "outputs": [],
   "metadata": {}
  },
  {
   "cell_type": "code",
   "execution_count": 3,
   "source": [
    "dataset.drop(dataset.loc[dataset[\"year\"] == \"unknown\"].index, inplace=True)"
   ],
   "outputs": [],
   "metadata": {}
  },
  {
   "cell_type": "code",
   "execution_count": 4,
   "source": [
    "dataset.dtypes"
   ],
   "outputs": [
    {
     "output_type": "execute_result",
     "data": {
      "text/plain": [
       "location         object\n",
       "country          object\n",
       "shape            object\n",
       "summary          object\n",
       "year             object\n",
       "month            object\n",
       "day of month     object\n",
       "time             object\n",
       "time duration     int64\n",
       "time unit        object\n",
       "dtype: object"
      ]
     },
     "metadata": {},
     "execution_count": 4
    }
   ],
   "metadata": {}
  },
  {
   "cell_type": "markdown",
   "source": [
    "pandas reads `int` columns as `float` and time as `str` by default. this cannot be changed"
   ],
   "metadata": {}
  },
  {
   "cell_type": "code",
   "execution_count": 5,
   "source": [
    "dataset[\"year\"] = dataset[\"year\"].astype(\"float\").astype(\"Int64\")\r\n",
    "dataset[\"day of month\"] = dataset[\"day of month\"].astype(\"float\").astype(\"Int64\")\r\n",
    "dataset[\"time\"] = pd.to_datetime(dataset[\"time\"],format= '%H:%M:%S' ).dt.time"
   ],
   "outputs": [],
   "metadata": {}
  },
  {
   "cell_type": "code",
   "execution_count": 6,
   "source": [
    "shape = pd.DataFrame(columns=[\"count\",\"shape\", \"year\"])"
   ],
   "outputs": [],
   "metadata": {}
  },
  {
   "cell_type": "code",
   "execution_count": 7,
   "source": [
    "yearList = list(dataset[\"year\"].unique())\r\n",
    "yearList.sort()\r\n",
    "\r\n",
    "for year in yearList:\r\n",
    "    \r\n",
    "    data = dataset[ dataset[\"year\"] == year].groupby([\"year\"],)[\"shape\"].value_counts().to_frame()\r\n",
    " \r\n",
    "    data.rename(columns={\"shape\" : \"count\"}, inplace=True)\r\n",
    " \r\n",
    "    data[\"shape\"] =  data.index.get_level_values(1)\r\n",
    " \r\n",
    "    data[\"year\"] = year\r\n",
    "\r\n",
    "    shape = shape.append(data, ignore_index=True)\r\n",
    "\r\n",
    "shape[\"count\"] = shape[\"count\"].astype('Int64')"
   ],
   "outputs": [],
   "metadata": {}
  },
  {
   "cell_type": "code",
   "execution_count": 8,
   "source": [
    "shapeCount = shape[ [\"count\", \"shape\"]].groupby(\"shape\").sum()"
   ],
   "outputs": [],
   "metadata": {}
  },
  {
   "cell_type": "code",
   "execution_count": 9,
   "source": [
    "\r\n",
    "barTitle = \"Figure showing all the different ufo shapes spotted from {} till {}\".format(min(yearList), max(yearList))\r\n",
    "\r\n",
    "data = [go.Bar(y=shapeCount[\"count\"],x = shapeCount.index, width= 1.01)]\r\n",
    "\r\n",
    "fig = go.Figure(data = data , layout_title_text  = barTitle )\r\n",
    "fig.show()"
   ],
   "outputs": [
    {
     "output_type": "display_data",
     "data": {
      "application/vnd.plotly.v1+json": {
       "config": {
        "plotlyServerURL": "https://plot.ly"
       },
       "data": [
        {
         "type": "bar",
         "width": 1.01,
         "x": [
          "changed",
          "chevron",
          "cigar",
          "circle",
          "cone",
          "crescent",
          "cross",
          "cylinder",
          "delta",
          "diamond",
          "disk",
          "egg",
          "fireball",
          "flash",
          "formation",
          "light",
          "oval",
          "pyramid",
          "rectangle",
          "sphere",
          "teardrop",
          "triangle",
          "unknown"
         ],
         "y": [
          2278,
          1053,
          2221,
          10595,
          381,
          2,
          315,
          1486,
          5,
          1348,
          4919,
          733,
          6945,
          1767,
          3328,
          20058,
          3977,
          1,
          1651,
          6305,
          806,
          8500,
          16724
         ]
        }
       ],
       "layout": {
        "template": {
         "data": {
          "bar": [
           {
            "error_x": {
             "color": "#2a3f5f"
            },
            "error_y": {
             "color": "#2a3f5f"
            },
            "marker": {
             "line": {
              "color": "#E5ECF6",
              "width": 0.5
             },
             "pattern": {
              "fillmode": "overlay",
              "size": 10,
              "solidity": 0.2
             }
            },
            "type": "bar"
           }
          ],
          "barpolar": [
           {
            "marker": {
             "line": {
              "color": "#E5ECF6",
              "width": 0.5
             },
             "pattern": {
              "fillmode": "overlay",
              "size": 10,
              "solidity": 0.2
             }
            },
            "type": "barpolar"
           }
          ],
          "carpet": [
           {
            "aaxis": {
             "endlinecolor": "#2a3f5f",
             "gridcolor": "white",
             "linecolor": "white",
             "minorgridcolor": "white",
             "startlinecolor": "#2a3f5f"
            },
            "baxis": {
             "endlinecolor": "#2a3f5f",
             "gridcolor": "white",
             "linecolor": "white",
             "minorgridcolor": "white",
             "startlinecolor": "#2a3f5f"
            },
            "type": "carpet"
           }
          ],
          "choropleth": [
           {
            "colorbar": {
             "outlinewidth": 0,
             "ticks": ""
            },
            "type": "choropleth"
           }
          ],
          "contour": [
           {
            "colorbar": {
             "outlinewidth": 0,
             "ticks": ""
            },
            "colorscale": [
             [
              0,
              "#0d0887"
             ],
             [
              0.1111111111111111,
              "#46039f"
             ],
             [
              0.2222222222222222,
              "#7201a8"
             ],
             [
              0.3333333333333333,
              "#9c179e"
             ],
             [
              0.4444444444444444,
              "#bd3786"
             ],
             [
              0.5555555555555556,
              "#d8576b"
             ],
             [
              0.6666666666666666,
              "#ed7953"
             ],
             [
              0.7777777777777778,
              "#fb9f3a"
             ],
             [
              0.8888888888888888,
              "#fdca26"
             ],
             [
              1,
              "#f0f921"
             ]
            ],
            "type": "contour"
           }
          ],
          "contourcarpet": [
           {
            "colorbar": {
             "outlinewidth": 0,
             "ticks": ""
            },
            "type": "contourcarpet"
           }
          ],
          "heatmap": [
           {
            "colorbar": {
             "outlinewidth": 0,
             "ticks": ""
            },
            "colorscale": [
             [
              0,
              "#0d0887"
             ],
             [
              0.1111111111111111,
              "#46039f"
             ],
             [
              0.2222222222222222,
              "#7201a8"
             ],
             [
              0.3333333333333333,
              "#9c179e"
             ],
             [
              0.4444444444444444,
              "#bd3786"
             ],
             [
              0.5555555555555556,
              "#d8576b"
             ],
             [
              0.6666666666666666,
              "#ed7953"
             ],
             [
              0.7777777777777778,
              "#fb9f3a"
             ],
             [
              0.8888888888888888,
              "#fdca26"
             ],
             [
              1,
              "#f0f921"
             ]
            ],
            "type": "heatmap"
           }
          ],
          "heatmapgl": [
           {
            "colorbar": {
             "outlinewidth": 0,
             "ticks": ""
            },
            "colorscale": [
             [
              0,
              "#0d0887"
             ],
             [
              0.1111111111111111,
              "#46039f"
             ],
             [
              0.2222222222222222,
              "#7201a8"
             ],
             [
              0.3333333333333333,
              "#9c179e"
             ],
             [
              0.4444444444444444,
              "#bd3786"
             ],
             [
              0.5555555555555556,
              "#d8576b"
             ],
             [
              0.6666666666666666,
              "#ed7953"
             ],
             [
              0.7777777777777778,
              "#fb9f3a"
             ],
             [
              0.8888888888888888,
              "#fdca26"
             ],
             [
              1,
              "#f0f921"
             ]
            ],
            "type": "heatmapgl"
           }
          ],
          "histogram": [
           {
            "marker": {
             "pattern": {
              "fillmode": "overlay",
              "size": 10,
              "solidity": 0.2
             }
            },
            "type": "histogram"
           }
          ],
          "histogram2d": [
           {
            "colorbar": {
             "outlinewidth": 0,
             "ticks": ""
            },
            "colorscale": [
             [
              0,
              "#0d0887"
             ],
             [
              0.1111111111111111,
              "#46039f"
             ],
             [
              0.2222222222222222,
              "#7201a8"
             ],
             [
              0.3333333333333333,
              "#9c179e"
             ],
             [
              0.4444444444444444,
              "#bd3786"
             ],
             [
              0.5555555555555556,
              "#d8576b"
             ],
             [
              0.6666666666666666,
              "#ed7953"
             ],
             [
              0.7777777777777778,
              "#fb9f3a"
             ],
             [
              0.8888888888888888,
              "#fdca26"
             ],
             [
              1,
              "#f0f921"
             ]
            ],
            "type": "histogram2d"
           }
          ],
          "histogram2dcontour": [
           {
            "colorbar": {
             "outlinewidth": 0,
             "ticks": ""
            },
            "colorscale": [
             [
              0,
              "#0d0887"
             ],
             [
              0.1111111111111111,
              "#46039f"
             ],
             [
              0.2222222222222222,
              "#7201a8"
             ],
             [
              0.3333333333333333,
              "#9c179e"
             ],
             [
              0.4444444444444444,
              "#bd3786"
             ],
             [
              0.5555555555555556,
              "#d8576b"
             ],
             [
              0.6666666666666666,
              "#ed7953"
             ],
             [
              0.7777777777777778,
              "#fb9f3a"
             ],
             [
              0.8888888888888888,
              "#fdca26"
             ],
             [
              1,
              "#f0f921"
             ]
            ],
            "type": "histogram2dcontour"
           }
          ],
          "mesh3d": [
           {
            "colorbar": {
             "outlinewidth": 0,
             "ticks": ""
            },
            "type": "mesh3d"
           }
          ],
          "parcoords": [
           {
            "line": {
             "colorbar": {
              "outlinewidth": 0,
              "ticks": ""
             }
            },
            "type": "parcoords"
           }
          ],
          "pie": [
           {
            "automargin": true,
            "type": "pie"
           }
          ],
          "scatter": [
           {
            "marker": {
             "colorbar": {
              "outlinewidth": 0,
              "ticks": ""
             }
            },
            "type": "scatter"
           }
          ],
          "scatter3d": [
           {
            "line": {
             "colorbar": {
              "outlinewidth": 0,
              "ticks": ""
             }
            },
            "marker": {
             "colorbar": {
              "outlinewidth": 0,
              "ticks": ""
             }
            },
            "type": "scatter3d"
           }
          ],
          "scattercarpet": [
           {
            "marker": {
             "colorbar": {
              "outlinewidth": 0,
              "ticks": ""
             }
            },
            "type": "scattercarpet"
           }
          ],
          "scattergeo": [
           {
            "marker": {
             "colorbar": {
              "outlinewidth": 0,
              "ticks": ""
             }
            },
            "type": "scattergeo"
           }
          ],
          "scattergl": [
           {
            "marker": {
             "colorbar": {
              "outlinewidth": 0,
              "ticks": ""
             }
            },
            "type": "scattergl"
           }
          ],
          "scattermapbox": [
           {
            "marker": {
             "colorbar": {
              "outlinewidth": 0,
              "ticks": ""
             }
            },
            "type": "scattermapbox"
           }
          ],
          "scatterpolar": [
           {
            "marker": {
             "colorbar": {
              "outlinewidth": 0,
              "ticks": ""
             }
            },
            "type": "scatterpolar"
           }
          ],
          "scatterpolargl": [
           {
            "marker": {
             "colorbar": {
              "outlinewidth": 0,
              "ticks": ""
             }
            },
            "type": "scatterpolargl"
           }
          ],
          "scatterternary": [
           {
            "marker": {
             "colorbar": {
              "outlinewidth": 0,
              "ticks": ""
             }
            },
            "type": "scatterternary"
           }
          ],
          "surface": [
           {
            "colorbar": {
             "outlinewidth": 0,
             "ticks": ""
            },
            "colorscale": [
             [
              0,
              "#0d0887"
             ],
             [
              0.1111111111111111,
              "#46039f"
             ],
             [
              0.2222222222222222,
              "#7201a8"
             ],
             [
              0.3333333333333333,
              "#9c179e"
             ],
             [
              0.4444444444444444,
              "#bd3786"
             ],
             [
              0.5555555555555556,
              "#d8576b"
             ],
             [
              0.6666666666666666,
              "#ed7953"
             ],
             [
              0.7777777777777778,
              "#fb9f3a"
             ],
             [
              0.8888888888888888,
              "#fdca26"
             ],
             [
              1,
              "#f0f921"
             ]
            ],
            "type": "surface"
           }
          ],
          "table": [
           {
            "cells": {
             "fill": {
              "color": "#EBF0F8"
             },
             "line": {
              "color": "white"
             }
            },
            "header": {
             "fill": {
              "color": "#C8D4E3"
             },
             "line": {
              "color": "white"
             }
            },
            "type": "table"
           }
          ]
         },
         "layout": {
          "annotationdefaults": {
           "arrowcolor": "#2a3f5f",
           "arrowhead": 0,
           "arrowwidth": 1
          },
          "autotypenumbers": "strict",
          "coloraxis": {
           "colorbar": {
            "outlinewidth": 0,
            "ticks": ""
           }
          },
          "colorscale": {
           "diverging": [
            [
             0,
             "#8e0152"
            ],
            [
             0.1,
             "#c51b7d"
            ],
            [
             0.2,
             "#de77ae"
            ],
            [
             0.3,
             "#f1b6da"
            ],
            [
             0.4,
             "#fde0ef"
            ],
            [
             0.5,
             "#f7f7f7"
            ],
            [
             0.6,
             "#e6f5d0"
            ],
            [
             0.7,
             "#b8e186"
            ],
            [
             0.8,
             "#7fbc41"
            ],
            [
             0.9,
             "#4d9221"
            ],
            [
             1,
             "#276419"
            ]
           ],
           "sequential": [
            [
             0,
             "#0d0887"
            ],
            [
             0.1111111111111111,
             "#46039f"
            ],
            [
             0.2222222222222222,
             "#7201a8"
            ],
            [
             0.3333333333333333,
             "#9c179e"
            ],
            [
             0.4444444444444444,
             "#bd3786"
            ],
            [
             0.5555555555555556,
             "#d8576b"
            ],
            [
             0.6666666666666666,
             "#ed7953"
            ],
            [
             0.7777777777777778,
             "#fb9f3a"
            ],
            [
             0.8888888888888888,
             "#fdca26"
            ],
            [
             1,
             "#f0f921"
            ]
           ],
           "sequentialminus": [
            [
             0,
             "#0d0887"
            ],
            [
             0.1111111111111111,
             "#46039f"
            ],
            [
             0.2222222222222222,
             "#7201a8"
            ],
            [
             0.3333333333333333,
             "#9c179e"
            ],
            [
             0.4444444444444444,
             "#bd3786"
            ],
            [
             0.5555555555555556,
             "#d8576b"
            ],
            [
             0.6666666666666666,
             "#ed7953"
            ],
            [
             0.7777777777777778,
             "#fb9f3a"
            ],
            [
             0.8888888888888888,
             "#fdca26"
            ],
            [
             1,
             "#f0f921"
            ]
           ]
          },
          "colorway": [
           "#636efa",
           "#EF553B",
           "#00cc96",
           "#ab63fa",
           "#FFA15A",
           "#19d3f3",
           "#FF6692",
           "#B6E880",
           "#FF97FF",
           "#FECB52"
          ],
          "font": {
           "color": "#2a3f5f"
          },
          "geo": {
           "bgcolor": "white",
           "lakecolor": "white",
           "landcolor": "#E5ECF6",
           "showlakes": true,
           "showland": true,
           "subunitcolor": "white"
          },
          "hoverlabel": {
           "align": "left"
          },
          "hovermode": "closest",
          "mapbox": {
           "style": "light"
          },
          "paper_bgcolor": "white",
          "plot_bgcolor": "#E5ECF6",
          "polar": {
           "angularaxis": {
            "gridcolor": "white",
            "linecolor": "white",
            "ticks": ""
           },
           "bgcolor": "#E5ECF6",
           "radialaxis": {
            "gridcolor": "white",
            "linecolor": "white",
            "ticks": ""
           }
          },
          "scene": {
           "xaxis": {
            "backgroundcolor": "#E5ECF6",
            "gridcolor": "white",
            "gridwidth": 2,
            "linecolor": "white",
            "showbackground": true,
            "ticks": "",
            "zerolinecolor": "white"
           },
           "yaxis": {
            "backgroundcolor": "#E5ECF6",
            "gridcolor": "white",
            "gridwidth": 2,
            "linecolor": "white",
            "showbackground": true,
            "ticks": "",
            "zerolinecolor": "white"
           },
           "zaxis": {
            "backgroundcolor": "#E5ECF6",
            "gridcolor": "white",
            "gridwidth": 2,
            "linecolor": "white",
            "showbackground": true,
            "ticks": "",
            "zerolinecolor": "white"
           }
          },
          "shapedefaults": {
           "line": {
            "color": "#2a3f5f"
           }
          },
          "ternary": {
           "aaxis": {
            "gridcolor": "white",
            "linecolor": "white",
            "ticks": ""
           },
           "baxis": {
            "gridcolor": "white",
            "linecolor": "white",
            "ticks": ""
           },
           "bgcolor": "#E5ECF6",
           "caxis": {
            "gridcolor": "white",
            "linecolor": "white",
            "ticks": ""
           }
          },
          "title": {
           "x": 0.05
          },
          "xaxis": {
           "automargin": true,
           "gridcolor": "white",
           "linecolor": "white",
           "ticks": "",
           "title": {
            "standoff": 15
           },
           "zerolinecolor": "white",
           "zerolinewidth": 2
          },
          "yaxis": {
           "automargin": true,
           "gridcolor": "white",
           "linecolor": "white",
           "ticks": "",
           "title": {
            "standoff": 15
           },
           "zerolinecolor": "white",
           "zerolinewidth": 2
          }
         }
        },
        "title": {
         "text": "Figure showing all the different ufo shapes spotted from 1970 till 2021"
        }
       }
      }
     },
     "metadata": {}
    }
   ],
   "metadata": {}
  },
  {
   "cell_type": "code",
   "execution_count": 13,
   "source": [
    "shapeCountry = dataset.value_counts(subset=[\"year\", \"shape\", \"country\"]).to_frame().reset_index()\r\n",
    "\r\n",
    "shapeCountry =  shapeCountry.rename(columns={0: \"count\"})\r\n",
    "shapeCountry =  shapeCountry.groupby([\"country\", \"year\"]).head()\r\n",
    "minVal = shapeCountry[\"count\"].min()\r\n",
    "maxVal = shapeCountry[\"count\"].max()"
   ],
   "outputs": [],
   "metadata": {}
  },
  {
   "cell_type": "code",
   "execution_count": 14,
   "source": [
    "\r\n",
    "fig = px.scatter(\r\n",
    "    shapeCountry,\r\n",
    "    x = \"year\",\r\n",
    "    y = \"count\",\r\n",
    "    animation_frame=\"year\",\r\n",
    "    animation_group=\"country\",\r\n",
    "    size = \"count\",\r\n",
    "    color= \"shape\",\r\n",
    "    hover_name= \"country\",\r\n",
    "    log_x=True,\r\n",
    "    size_max= 50,\r\n",
    "    range_y=[minVal, maxVal],\r\n",
    "    range_x=[1970, 2020]\r\n",
    ")\r\n",
    "\r\n",
    "fig.add_annotation(\r\n",
    "        text=\"Figure showing shape count by country over the years\",\r\n",
    "        x=0,\r\n",
    "        y=-0.12,\r\n",
    "        showarrow=False,\r\n",
    "        textangle=0,\r\n",
    "        xanchor='left',\r\n",
    "        xref=\"paper\",\r\n",
    "        yref=\"paper\"\r\n",
    "        )\r\n",
    "fig.show()"
   ],
   "outputs": [
    {
     "output_type": "display_data",
     "data": {
      "application/vnd.plotly.v1+json": {
       "config": {
        "plotlyServerURL": "https://plot.ly"
       },
       "data": [
        {
         "hovertemplate": "<b>%{hovertext}</b><br><br>shape=light<br>year=2020<br>index=%{x}<br>count=%{marker.size}<extra></extra>",
         "hovertext": [
          "united states",
          "canada",
          "unknown",
          "australia",
          "india",
          "germany",
          "brazil",
          "puerto rico",
          "mexico",
          "lebanon",
          "albania",
          "bahamas",
          "croatia",
          "switzerland",
          "spain",
          "seychelles",
          "panama",
          "norway",
          "new zealand",
          "mali",
          "malaysia",
          "jordan",
          "jersey",
          "israel",
          "indonesia",
          "iceland"
         ],
         "ids": [
          "united states",
          "canada",
          "unknown",
          "australia",
          "india",
          "germany",
          "brazil",
          "puerto rico",
          "mexico",
          "lebanon",
          "albania",
          "bahamas",
          "croatia",
          "switzerland",
          "spain",
          "seychelles",
          "panama",
          "norway",
          "new zealand",
          "mali",
          "malaysia",
          "jordan",
          "jersey",
          "israel",
          "indonesia",
          "iceland"
         ],
         "legendgroup": "light",
         "marker": {
          "color": "#636efa",
          "size": [
           1626,
           80,
           23,
           10,
           10,
           4,
           3,
           2,
           2,
           2,
           1,
           1,
           1,
           1,
           1,
           1,
           1,
           1,
           1,
           1,
           1,
           1,
           1,
           1,
           1,
           1
          ],
          "sizemode": "area",
          "sizeref": 0.6504,
          "symbol": "circle"
         },
         "mode": "markers",
         "name": "light",
         "orientation": "v",
         "showlegend": true,
         "type": "scatter",
         "x": [
          0,
          246,
          493,
          773,
          774,
          1179,
          1238,
          1555,
          1557,
          1558,
          2204,
          2228,
          2230,
          2240,
          2241,
          2242,
          2243,
          2245,
          2246,
          2248,
          2249,
          2251,
          2252,
          2253,
          2254,
          2255
         ],
         "xaxis": "x",
         "y": [
          1626,
          80,
          23,
          10,
          10,
          4,
          3,
          2,
          2,
          2,
          1,
          1,
          1,
          1,
          1,
          1,
          1,
          1,
          1,
          1,
          1,
          1,
          1,
          1,
          1,
          1
         ],
         "yaxis": "y"
        },
        {
         "hovertemplate": "<b>%{hovertext}</b><br><br>shape=unknown<br>year=2020<br>index=%{x}<br>count=%{marker.size}<extra></extra>",
         "hovertext": [
          "united states",
          "canada",
          "unknown",
          "india",
          "mexico",
          "germany",
          "thailand",
          "norway",
          "france",
          "finland",
          "czech republic",
          "brazil",
          "indonesia",
          "ireland",
          "isle of man",
          "switzerland",
          "sri lanka",
          "portugal",
          "netherlands",
          "kenya",
          "jersey",
          "israel"
         ],
         "ids": [
          "united states",
          "canada",
          "unknown",
          "india",
          "mexico",
          "germany",
          "thailand",
          "norway",
          "france",
          "finland",
          "czech republic",
          "brazil",
          "indonesia",
          "ireland",
          "isle of man",
          "switzerland",
          "sri lanka",
          "portugal",
          "netherlands",
          "kenya",
          "jersey",
          "israel"
         ],
         "legendgroup": "unknown",
         "marker": {
          "color": "#EF553B",
          "size": [
           1539,
           43,
           25,
           5,
           3,
           3,
           2,
           2,
           2,
           1,
           1,
           1,
           1,
           1,
           1,
           1,
           1,
           1,
           1,
           1,
           1,
           1
          ],
          "sizemode": "area",
          "sizeref": 0.6504,
          "symbol": "circle"
         },
         "mode": "markers",
         "name": "unknown",
         "orientation": "v",
         "showlegend": true,
         "type": "scatter",
         "x": [
          1,
          349,
          464,
          1030,
          1211,
          1215,
          1470,
          1576,
          1584,
          2375,
          2376,
          2378,
          2386,
          2399,
          2414,
          2417,
          2418,
          2419,
          2421,
          2423,
          2424,
          2425
         ],
         "xaxis": "x",
         "y": [
          1539,
          43,
          25,
          5,
          3,
          3,
          2,
          2,
          2,
          1,
          1,
          1,
          1,
          1,
          1,
          1,
          1,
          1,
          1,
          1,
          1,
          1
         ],
         "yaxis": "y"
        },
        {
         "hovertemplate": "<b>%{hovertext}</b><br><br>shape=circle<br>year=2020<br>index=%{x}<br>count=%{marker.size}<extra></extra>",
         "hovertext": [
          "united states",
          "canada",
          "unknown",
          "panama",
          "germany",
          "brazil",
          "ireland",
          "indonesia",
          "mexico",
          "jordan",
          "france",
          "cyprus",
          "croatia",
          "angola"
         ],
         "ids": [
          "united states",
          "canada",
          "unknown",
          "panama",
          "germany",
          "brazil",
          "ireland",
          "indonesia",
          "mexico",
          "jordan",
          "france",
          "cyprus",
          "croatia",
          "angola"
         ],
         "legendgroup": "circle",
         "marker": {
          "color": "#00cc96",
          "size": [
           830,
           30,
           8,
           3,
           2,
           2,
           2,
           1,
           1,
           1,
           1,
           1,
           1,
           1
          ],
          "sizemode": "area",
          "sizeref": 0.6504,
          "symbol": "circle"
         },
         "mode": "markers",
         "name": "circle",
         "orientation": "v",
         "showlegend": true,
         "type": "scatter",
         "x": [
          14,
          417,
          830,
          1385,
          1457,
          1599,
          1640,
          2288,
          2297,
          2298,
          2302,
          2303,
          2304,
          2307
         ],
         "xaxis": "x",
         "y": [
          830,
          30,
          8,
          3,
          2,
          2,
          2,
          1,
          1,
          1,
          1,
          1,
          1,
          1
         ],
         "yaxis": "y"
        },
        {
         "hovertemplate": "<b>%{hovertext}</b><br><br>shape=fireball<br>year=2020<br>index=%{x}<br>count=%{marker.size}<extra></extra>",
         "hovertext": [
          "jordan"
         ],
         "ids": [
          "jordan"
         ],
         "legendgroup": "fireball",
         "marker": {
          "color": "#ab63fa",
          "size": [
           1
          ],
          "sizemode": "area",
          "sizeref": 0.6504,
          "symbol": "circle"
         },
         "mode": "markers",
         "name": "fireball",
         "orientation": "v",
         "showlegend": true,
         "type": "scatter",
         "x": [
          2217
         ],
         "xaxis": "x",
         "y": [
          1
         ],
         "yaxis": "y"
        },
        {
         "hovertemplate": "<b>%{hovertext}</b><br><br>shape=triangle<br>year=2020<br>index=%{x}<br>count=%{marker.size}<extra></extra>",
         "hovertext": [
          "united states",
          "canada",
          "india",
          "australia",
          "thailand",
          "ireland",
          "china",
          "armenia"
         ],
         "ids": [
          "united states",
          "canada",
          "india",
          "australia",
          "thailand",
          "ireland",
          "china",
          "armenia"
         ],
         "legendgroup": "triangle",
         "marker": {
          "color": "#FFA15A",
          "size": [
           401,
           18,
           7,
           1,
           1,
           1,
           1,
           1
          ],
          "sizemode": "area",
          "sizeref": 0.6504,
          "symbol": "circle"
         },
         "mode": "markers",
         "name": "triangle",
         "orientation": "v",
         "showlegend": true,
         "type": "scatter",
         "x": [
          57,
          566,
          895,
          2373,
          2380,
          2382,
          2384,
          2385
         ],
         "xaxis": "x",
         "y": [
          401,
          18,
          7,
          1,
          1,
          1,
          1,
          1
         ],
         "yaxis": "y"
        },
        {
         "hovertemplate": "<b>%{hovertext}</b><br><br>shape=sphere<br>year=2020<br>index=%{x}<br>count=%{marker.size}<extra></extra>",
         "hovertext": [
          "united states",
          "unknown",
          "turkey",
          "mexico",
          "lebanon",
          "kenya",
          "japan",
          "germany"
         ],
         "ids": [
          "united states",
          "unknown",
          "turkey",
          "mexico",
          "lebanon",
          "kenya",
          "japan",
          "germany"
         ],
         "legendgroup": "sphere",
         "marker": {
          "color": "#19d3f3",
          "size": [
           409,
           12,
           1,
           1,
           1,
           1,
           1,
           1
          ],
          "sizemode": "area",
          "sizeref": 0.6504,
          "symbol": "circle"
         },
         "mode": "markers",
         "name": "sphere",
         "orientation": "v",
         "showlegend": true,
         "type": "scatter",
         "x": [
          54,
          718,
          2390,
          2391,
          2392,
          2393,
          2395,
          2397
         ],
         "xaxis": "x",
         "y": [
          409,
          12,
          1,
          1,
          1,
          1,
          1,
          1
         ],
         "yaxis": "y"
        },
        {
         "hovertemplate": "<b>%{hovertext}</b><br><br>shape=disk<br>year=2020<br>index=%{x}<br>count=%{marker.size}<extra></extra>",
         "hovertext": [
          "switzerland",
          "australia",
          "panama",
          "new zealand",
          "china"
         ],
         "ids": [
          "switzerland",
          "australia",
          "panama",
          "new zealand",
          "china"
         ],
         "legendgroup": "disk",
         "marker": {
          "color": "#FF6692",
          "size": [
           2,
           2,
           1,
           1,
           1
          ],
          "sizemode": "area",
          "sizeref": 0.6504,
          "symbol": "circle"
         },
         "mode": "markers",
         "name": "disk",
         "orientation": "v",
         "showlegend": true,
         "type": "scatter",
         "x": [
          1596,
          1625,
          2222,
          2223,
          2225
         ],
         "xaxis": "x",
         "y": [
          2,
          2,
          1,
          1,
          1
         ],
         "yaxis": "y"
        },
        {
         "hovertemplate": "<b>%{hovertext}</b><br><br>shape=formation<br>year=2020<br>index=%{x}<br>count=%{marker.size}<extra></extra>",
         "hovertext": [
          "canada",
          "unknown",
          "ireland",
          "india",
          "south africa",
          "lebanon"
         ],
         "ids": [
          "canada",
          "unknown",
          "ireland",
          "india",
          "south africa",
          "lebanon"
         ],
         "legendgroup": "formation",
         "marker": {
          "color": "#B6E880",
          "size": [
           27,
           10,
           2,
           2,
           1,
           1
          ],
          "sizemode": "area",
          "sizeref": 0.6504,
          "symbol": "circle"
         },
         "mode": "markers",
         "name": "formation",
         "orientation": "v",
         "showlegend": true,
         "type": "scatter",
         "x": [
          445,
          776,
          1566,
          1567,
          2207,
          2208
         ],
         "xaxis": "x",
         "y": [
          27,
          10,
          2,
          2,
          1,
          1
         ],
         "yaxis": "y"
        },
        {
         "hovertemplate": "<b>%{hovertext}</b><br><br>shape=oval<br>year=2020<br>index=%{x}<br>count=%{marker.size}<extra></extra>",
         "hovertext": [
          "mali",
          "france",
          "ecuador"
         ],
         "ids": [
          "mali",
          "france",
          "ecuador"
         ],
         "legendgroup": "oval",
         "marker": {
          "color": "#FF97FF",
          "size": [
           1,
           1,
           1
          ],
          "sizemode": "area",
          "sizeref": 0.6504,
          "symbol": "circle"
         },
         "mode": "markers",
         "name": "oval",
         "orientation": "v",
         "showlegend": true,
         "type": "scatter",
         "x": [
          2234,
          2235,
          2236
         ],
         "xaxis": "x",
         "y": [
          1,
          1,
          1
         ],
         "yaxis": "y"
        },
        {
         "hovertemplate": "<b>%{hovertext}</b><br><br>shape=cigar<br>year=2020<br>index=%{x}<br>count=%{marker.size}<extra></extra>",
         "hovertext": [
          "indonesia",
          "greenland",
          "bahamas"
         ],
         "ids": [
          "indonesia",
          "greenland",
          "bahamas"
         ],
         "legendgroup": "cigar",
         "marker": {
          "color": "#FECB52",
          "size": [
           1,
           1,
           1
          ],
          "sizemode": "area",
          "sizeref": 0.6504,
          "symbol": "circle"
         },
         "mode": "markers",
         "name": "cigar",
         "orientation": "v",
         "showlegend": true,
         "type": "scatter",
         "x": [
          2309,
          2310,
          2312
         ],
         "xaxis": "x",
         "y": [
          1,
          1,
          1
         ],
         "yaxis": "y"
        },
        {
         "hovertemplate": "<b>%{hovertext}</b><br><br>shape=flash<br>year=2020<br>index=%{x}<br>count=%{marker.size}<extra></extra>",
         "hovertext": [
          "india",
          "australia"
         ],
         "ids": [
          "india",
          "australia"
         ],
         "legendgroup": "flash",
         "marker": {
          "color": "#636efa",
          "size": [
           4,
           1
          ],
          "sizemode": "area",
          "sizeref": 0.6504,
          "symbol": "circle"
         },
         "mode": "markers",
         "name": "flash",
         "orientation": "v",
         "showlegend": true,
         "type": "scatter",
         "x": [
          1119,
          2214
         ],
         "xaxis": "x",
         "y": [
          4,
          1
         ],
         "yaxis": "y"
        },
        {
         "hovertemplate": "<b>%{hovertext}</b><br><br>shape=rectangle<br>year=2020<br>index=%{x}<br>count=%{marker.size}<extra></extra>",
         "hovertext": [
          "jamaica"
         ],
         "ids": [
          "jamaica"
         ],
         "legendgroup": "rectangle",
         "marker": {
          "color": "#EF553B",
          "size": [
           1
          ],
          "sizemode": "area",
          "sizeref": 0.6504,
          "symbol": "circle"
         },
         "mode": "markers",
         "name": "rectangle",
         "orientation": "v",
         "showlegend": true,
         "type": "scatter",
         "x": [
          2313
         ],
         "xaxis": "x",
         "y": [
          1
         ],
         "yaxis": "y"
        },
        {
         "hovertemplate": "<b>%{hovertext}</b><br><br>shape=changed<br>year=2020<br>index=%{x}<br>count=%{marker.size}<extra></extra>",
         "hovertext": [
          "jordan",
          "panama"
         ],
         "ids": [
          "jordan",
          "panama"
         ],
         "legendgroup": "changed",
         "marker": {
          "color": "#00cc96",
          "size": [
           2,
           1
          ],
          "sizemode": "area",
          "sizeref": 0.6504,
          "symbol": "circle"
         },
         "mode": "markers",
         "name": "changed",
         "orientation": "v",
         "showlegend": true,
         "type": "scatter",
         "x": [
          1609,
          2263
         ],
         "xaxis": "x",
         "y": [
          2,
          1
         ],
         "yaxis": "y"
        },
        {
         "hovertemplate": "<b>%{hovertext}</b><br><br>shape=cylinder<br>year=2020<br>index=%{x}<br>count=%{marker.size}<extra></extra>",
         "hovertext": [
          "jordan"
         ],
         "ids": [
          "jordan"
         ],
         "legendgroup": "cylinder",
         "marker": {
          "color": "#ab63fa",
          "size": [
           1
          ],
          "sizemode": "area",
          "sizeref": 0.6504,
          "symbol": "circle"
         },
         "mode": "markers",
         "name": "cylinder",
         "orientation": "v",
         "showlegend": true,
         "type": "scatter",
         "x": [
          2259
         ],
         "xaxis": "x",
         "y": [
          1
         ],
         "yaxis": "y"
        },
        {
         "hovertemplate": "<b>%{hovertext}</b><br><br>shape=diamond<br>year=2020<br>index=%{x}<br>count=%{marker.size}<extra></extra>",
         "hovertext": [
          "hungary"
         ],
         "ids": [
          "hungary"
         ],
         "legendgroup": "diamond",
         "marker": {
          "color": "#19d3f3",
          "size": [
           1
          ],
          "sizemode": "area",
          "sizeref": 0.6504,
          "symbol": "circle"
         },
         "mode": "markers",
         "name": "diamond",
         "orientation": "v",
         "showlegend": true,
         "type": "scatter",
         "x": [
          2227
         ],
         "xaxis": "x",
         "y": [
          1
         ],
         "yaxis": "y"
        },
        {
         "hovertemplate": "<b>%{hovertext}</b><br><br>shape=chevron<br>year=2020<br>index=%{x}<br>count=%{marker.size}<extra></extra>",
         "hovertext": [
          "philippines",
          "argentina",
          "chile",
          "indonesia"
         ],
         "ids": [
          "philippines",
          "argentina",
          "chile",
          "indonesia"
         ],
         "legendgroup": "chevron",
         "marker": {
          "color": "#FF6692",
          "size": [
           2,
           1,
           1,
           1
          ],
          "sizemode": "area",
          "sizeref": 0.6504,
          "symbol": "circle"
         },
         "mode": "markers",
         "name": "chevron",
         "orientation": "v",
         "showlegend": true,
         "type": "scatter",
         "x": [
          1605,
          2261,
          2285,
          2286
         ],
         "xaxis": "x",
         "y": [
          2,
          1,
          1,
          1
         ],
         "yaxis": "y"
        },
        {
         "hovertemplate": "<b>%{hovertext}</b><br><br>shape=cross<br>year=2020<br>index=%{x}<br>count=%{marker.size}<extra></extra>",
         "hovertext": [
          "argentina"
         ],
         "ids": [
          "argentina"
         ],
         "legendgroup": "cross",
         "marker": {
          "color": "#FECB52",
          "size": [
           1
          ],
          "sizemode": "area",
          "sizeref": 0.6504,
          "symbol": "circle"
         },
         "mode": "markers",
         "name": "cross",
         "orientation": "v",
         "showlegend": true,
         "type": "scatter",
         "x": [
          2292
         ],
         "xaxis": "x",
         "y": [
          1
         ],
         "yaxis": "y"
        }
       ],
       "frames": [
        {
         "data": [
          {
           "hovertemplate": "<b>%{hovertext}</b><br><br>shape=light<br>year=2020<br>index=%{x}<br>count=%{marker.size}<extra></extra>",
           "hovertext": [
            "united states",
            "canada",
            "unknown",
            "australia",
            "india",
            "germany",
            "brazil",
            "puerto rico",
            "mexico",
            "lebanon",
            "albania",
            "bahamas",
            "croatia",
            "switzerland",
            "spain",
            "seychelles",
            "panama",
            "norway",
            "new zealand",
            "mali",
            "malaysia",
            "jordan",
            "jersey",
            "israel",
            "indonesia",
            "iceland"
           ],
           "ids": [
            "united states",
            "canada",
            "unknown",
            "australia",
            "india",
            "germany",
            "brazil",
            "puerto rico",
            "mexico",
            "lebanon",
            "albania",
            "bahamas",
            "croatia",
            "switzerland",
            "spain",
            "seychelles",
            "panama",
            "norway",
            "new zealand",
            "mali",
            "malaysia",
            "jordan",
            "jersey",
            "israel",
            "indonesia",
            "iceland"
           ],
           "legendgroup": "light",
           "marker": {
            "color": "#636efa",
            "size": [
             1626,
             80,
             23,
             10,
             10,
             4,
             3,
             2,
             2,
             2,
             1,
             1,
             1,
             1,
             1,
             1,
             1,
             1,
             1,
             1,
             1,
             1,
             1,
             1,
             1,
             1
            ],
            "sizemode": "area",
            "sizeref": 0.6504,
            "symbol": "circle"
           },
           "mode": "markers",
           "name": "light",
           "orientation": "v",
           "showlegend": true,
           "type": "scatter",
           "x": [
            0,
            246,
            493,
            773,
            774,
            1179,
            1238,
            1555,
            1557,
            1558,
            2204,
            2228,
            2230,
            2240,
            2241,
            2242,
            2243,
            2245,
            2246,
            2248,
            2249,
            2251,
            2252,
            2253,
            2254,
            2255
           ],
           "xaxis": "x",
           "y": [
            1626,
            80,
            23,
            10,
            10,
            4,
            3,
            2,
            2,
            2,
            1,
            1,
            1,
            1,
            1,
            1,
            1,
            1,
            1,
            1,
            1,
            1,
            1,
            1,
            1,
            1
           ],
           "yaxis": "y"
          },
          {
           "hovertemplate": "<b>%{hovertext}</b><br><br>shape=unknown<br>year=2020<br>index=%{x}<br>count=%{marker.size}<extra></extra>",
           "hovertext": [
            "united states",
            "canada",
            "unknown",
            "india",
            "mexico",
            "germany",
            "thailand",
            "norway",
            "france",
            "finland",
            "czech republic",
            "brazil",
            "indonesia",
            "ireland",
            "isle of man",
            "switzerland",
            "sri lanka",
            "portugal",
            "netherlands",
            "kenya",
            "jersey",
            "israel"
           ],
           "ids": [
            "united states",
            "canada",
            "unknown",
            "india",
            "mexico",
            "germany",
            "thailand",
            "norway",
            "france",
            "finland",
            "czech republic",
            "brazil",
            "indonesia",
            "ireland",
            "isle of man",
            "switzerland",
            "sri lanka",
            "portugal",
            "netherlands",
            "kenya",
            "jersey",
            "israel"
           ],
           "legendgroup": "unknown",
           "marker": {
            "color": "#EF553B",
            "size": [
             1539,
             43,
             25,
             5,
             3,
             3,
             2,
             2,
             2,
             1,
             1,
             1,
             1,
             1,
             1,
             1,
             1,
             1,
             1,
             1,
             1,
             1
            ],
            "sizemode": "area",
            "sizeref": 0.6504,
            "symbol": "circle"
           },
           "mode": "markers",
           "name": "unknown",
           "orientation": "v",
           "showlegend": true,
           "type": "scatter",
           "x": [
            1,
            349,
            464,
            1030,
            1211,
            1215,
            1470,
            1576,
            1584,
            2375,
            2376,
            2378,
            2386,
            2399,
            2414,
            2417,
            2418,
            2419,
            2421,
            2423,
            2424,
            2425
           ],
           "xaxis": "x",
           "y": [
            1539,
            43,
            25,
            5,
            3,
            3,
            2,
            2,
            2,
            1,
            1,
            1,
            1,
            1,
            1,
            1,
            1,
            1,
            1,
            1,
            1,
            1
           ],
           "yaxis": "y"
          },
          {
           "hovertemplate": "<b>%{hovertext}</b><br><br>shape=circle<br>year=2020<br>index=%{x}<br>count=%{marker.size}<extra></extra>",
           "hovertext": [
            "united states",
            "canada",
            "unknown",
            "panama",
            "germany",
            "brazil",
            "ireland",
            "indonesia",
            "mexico",
            "jordan",
            "france",
            "cyprus",
            "croatia",
            "angola"
           ],
           "ids": [
            "united states",
            "canada",
            "unknown",
            "panama",
            "germany",
            "brazil",
            "ireland",
            "indonesia",
            "mexico",
            "jordan",
            "france",
            "cyprus",
            "croatia",
            "angola"
           ],
           "legendgroup": "circle",
           "marker": {
            "color": "#00cc96",
            "size": [
             830,
             30,
             8,
             3,
             2,
             2,
             2,
             1,
             1,
             1,
             1,
             1,
             1,
             1
            ],
            "sizemode": "area",
            "sizeref": 0.6504,
            "symbol": "circle"
           },
           "mode": "markers",
           "name": "circle",
           "orientation": "v",
           "showlegend": true,
           "type": "scatter",
           "x": [
            14,
            417,
            830,
            1385,
            1457,
            1599,
            1640,
            2288,
            2297,
            2298,
            2302,
            2303,
            2304,
            2307
           ],
           "xaxis": "x",
           "y": [
            830,
            30,
            8,
            3,
            2,
            2,
            2,
            1,
            1,
            1,
            1,
            1,
            1,
            1
           ],
           "yaxis": "y"
          },
          {
           "hovertemplate": "<b>%{hovertext}</b><br><br>shape=fireball<br>year=2020<br>index=%{x}<br>count=%{marker.size}<extra></extra>",
           "hovertext": [
            "jordan"
           ],
           "ids": [
            "jordan"
           ],
           "legendgroup": "fireball",
           "marker": {
            "color": "#ab63fa",
            "size": [
             1
            ],
            "sizemode": "area",
            "sizeref": 0.6504,
            "symbol": "circle"
           },
           "mode": "markers",
           "name": "fireball",
           "orientation": "v",
           "showlegend": true,
           "type": "scatter",
           "x": [
            2217
           ],
           "xaxis": "x",
           "y": [
            1
           ],
           "yaxis": "y"
          },
          {
           "hovertemplate": "<b>%{hovertext}</b><br><br>shape=triangle<br>year=2020<br>index=%{x}<br>count=%{marker.size}<extra></extra>",
           "hovertext": [
            "united states",
            "canada",
            "india",
            "australia",
            "thailand",
            "ireland",
            "china",
            "armenia"
           ],
           "ids": [
            "united states",
            "canada",
            "india",
            "australia",
            "thailand",
            "ireland",
            "china",
            "armenia"
           ],
           "legendgroup": "triangle",
           "marker": {
            "color": "#FFA15A",
            "size": [
             401,
             18,
             7,
             1,
             1,
             1,
             1,
             1
            ],
            "sizemode": "area",
            "sizeref": 0.6504,
            "symbol": "circle"
           },
           "mode": "markers",
           "name": "triangle",
           "orientation": "v",
           "showlegend": true,
           "type": "scatter",
           "x": [
            57,
            566,
            895,
            2373,
            2380,
            2382,
            2384,
            2385
           ],
           "xaxis": "x",
           "y": [
            401,
            18,
            7,
            1,
            1,
            1,
            1,
            1
           ],
           "yaxis": "y"
          },
          {
           "hovertemplate": "<b>%{hovertext}</b><br><br>shape=sphere<br>year=2020<br>index=%{x}<br>count=%{marker.size}<extra></extra>",
           "hovertext": [
            "united states",
            "unknown",
            "turkey",
            "mexico",
            "lebanon",
            "kenya",
            "japan",
            "germany"
           ],
           "ids": [
            "united states",
            "unknown",
            "turkey",
            "mexico",
            "lebanon",
            "kenya",
            "japan",
            "germany"
           ],
           "legendgroup": "sphere",
           "marker": {
            "color": "#19d3f3",
            "size": [
             409,
             12,
             1,
             1,
             1,
             1,
             1,
             1
            ],
            "sizemode": "area",
            "sizeref": 0.6504,
            "symbol": "circle"
           },
           "mode": "markers",
           "name": "sphere",
           "orientation": "v",
           "showlegend": true,
           "type": "scatter",
           "x": [
            54,
            718,
            2390,
            2391,
            2392,
            2393,
            2395,
            2397
           ],
           "xaxis": "x",
           "y": [
            409,
            12,
            1,
            1,
            1,
            1,
            1,
            1
           ],
           "yaxis": "y"
          },
          {
           "hovertemplate": "<b>%{hovertext}</b><br><br>shape=disk<br>year=2020<br>index=%{x}<br>count=%{marker.size}<extra></extra>",
           "hovertext": [
            "switzerland",
            "australia",
            "panama",
            "new zealand",
            "china"
           ],
           "ids": [
            "switzerland",
            "australia",
            "panama",
            "new zealand",
            "china"
           ],
           "legendgroup": "disk",
           "marker": {
            "color": "#FF6692",
            "size": [
             2,
             2,
             1,
             1,
             1
            ],
            "sizemode": "area",
            "sizeref": 0.6504,
            "symbol": "circle"
           },
           "mode": "markers",
           "name": "disk",
           "orientation": "v",
           "showlegend": true,
           "type": "scatter",
           "x": [
            1596,
            1625,
            2222,
            2223,
            2225
           ],
           "xaxis": "x",
           "y": [
            2,
            2,
            1,
            1,
            1
           ],
           "yaxis": "y"
          },
          {
           "hovertemplate": "<b>%{hovertext}</b><br><br>shape=formation<br>year=2020<br>index=%{x}<br>count=%{marker.size}<extra></extra>",
           "hovertext": [
            "canada",
            "unknown",
            "ireland",
            "india",
            "south africa",
            "lebanon"
           ],
           "ids": [
            "canada",
            "unknown",
            "ireland",
            "india",
            "south africa",
            "lebanon"
           ],
           "legendgroup": "formation",
           "marker": {
            "color": "#B6E880",
            "size": [
             27,
             10,
             2,
             2,
             1,
             1
            ],
            "sizemode": "area",
            "sizeref": 0.6504,
            "symbol": "circle"
           },
           "mode": "markers",
           "name": "formation",
           "orientation": "v",
           "showlegend": true,
           "type": "scatter",
           "x": [
            445,
            776,
            1566,
            1567,
            2207,
            2208
           ],
           "xaxis": "x",
           "y": [
            27,
            10,
            2,
            2,
            1,
            1
           ],
           "yaxis": "y"
          },
          {
           "hovertemplate": "<b>%{hovertext}</b><br><br>shape=oval<br>year=2020<br>index=%{x}<br>count=%{marker.size}<extra></extra>",
           "hovertext": [
            "mali",
            "france",
            "ecuador"
           ],
           "ids": [
            "mali",
            "france",
            "ecuador"
           ],
           "legendgroup": "oval",
           "marker": {
            "color": "#FF97FF",
            "size": [
             1,
             1,
             1
            ],
            "sizemode": "area",
            "sizeref": 0.6504,
            "symbol": "circle"
           },
           "mode": "markers",
           "name": "oval",
           "orientation": "v",
           "showlegend": true,
           "type": "scatter",
           "x": [
            2234,
            2235,
            2236
           ],
           "xaxis": "x",
           "y": [
            1,
            1,
            1
           ],
           "yaxis": "y"
          },
          {
           "hovertemplate": "<b>%{hovertext}</b><br><br>shape=cigar<br>year=2020<br>index=%{x}<br>count=%{marker.size}<extra></extra>",
           "hovertext": [
            "indonesia",
            "greenland",
            "bahamas"
           ],
           "ids": [
            "indonesia",
            "greenland",
            "bahamas"
           ],
           "legendgroup": "cigar",
           "marker": {
            "color": "#FECB52",
            "size": [
             1,
             1,
             1
            ],
            "sizemode": "area",
            "sizeref": 0.6504,
            "symbol": "circle"
           },
           "mode": "markers",
           "name": "cigar",
           "orientation": "v",
           "showlegend": true,
           "type": "scatter",
           "x": [
            2309,
            2310,
            2312
           ],
           "xaxis": "x",
           "y": [
            1,
            1,
            1
           ],
           "yaxis": "y"
          },
          {
           "hovertemplate": "<b>%{hovertext}</b><br><br>shape=flash<br>year=2020<br>index=%{x}<br>count=%{marker.size}<extra></extra>",
           "hovertext": [
            "india",
            "australia"
           ],
           "ids": [
            "india",
            "australia"
           ],
           "legendgroup": "flash",
           "marker": {
            "color": "#636efa",
            "size": [
             4,
             1
            ],
            "sizemode": "area",
            "sizeref": 0.6504,
            "symbol": "circle"
           },
           "mode": "markers",
           "name": "flash",
           "orientation": "v",
           "showlegend": true,
           "type": "scatter",
           "x": [
            1119,
            2214
           ],
           "xaxis": "x",
           "y": [
            4,
            1
           ],
           "yaxis": "y"
          },
          {
           "hovertemplate": "<b>%{hovertext}</b><br><br>shape=rectangle<br>year=2020<br>index=%{x}<br>count=%{marker.size}<extra></extra>",
           "hovertext": [
            "jamaica"
           ],
           "ids": [
            "jamaica"
           ],
           "legendgroup": "rectangle",
           "marker": {
            "color": "#EF553B",
            "size": [
             1
            ],
            "sizemode": "area",
            "sizeref": 0.6504,
            "symbol": "circle"
           },
           "mode": "markers",
           "name": "rectangle",
           "orientation": "v",
           "showlegend": true,
           "type": "scatter",
           "x": [
            2313
           ],
           "xaxis": "x",
           "y": [
            1
           ],
           "yaxis": "y"
          },
          {
           "hovertemplate": "<b>%{hovertext}</b><br><br>shape=changed<br>year=2020<br>index=%{x}<br>count=%{marker.size}<extra></extra>",
           "hovertext": [
            "jordan",
            "panama"
           ],
           "ids": [
            "jordan",
            "panama"
           ],
           "legendgroup": "changed",
           "marker": {
            "color": "#00cc96",
            "size": [
             2,
             1
            ],
            "sizemode": "area",
            "sizeref": 0.6504,
            "symbol": "circle"
           },
           "mode": "markers",
           "name": "changed",
           "orientation": "v",
           "showlegend": true,
           "type": "scatter",
           "x": [
            1609,
            2263
           ],
           "xaxis": "x",
           "y": [
            2,
            1
           ],
           "yaxis": "y"
          },
          {
           "hovertemplate": "<b>%{hovertext}</b><br><br>shape=cylinder<br>year=2020<br>index=%{x}<br>count=%{marker.size}<extra></extra>",
           "hovertext": [
            "jordan"
           ],
           "ids": [
            "jordan"
           ],
           "legendgroup": "cylinder",
           "marker": {
            "color": "#ab63fa",
            "size": [
             1
            ],
            "sizemode": "area",
            "sizeref": 0.6504,
            "symbol": "circle"
           },
           "mode": "markers",
           "name": "cylinder",
           "orientation": "v",
           "showlegend": true,
           "type": "scatter",
           "x": [
            2259
           ],
           "xaxis": "x",
           "y": [
            1
           ],
           "yaxis": "y"
          },
          {
           "hovertemplate": "<b>%{hovertext}</b><br><br>shape=diamond<br>year=2020<br>index=%{x}<br>count=%{marker.size}<extra></extra>",
           "hovertext": [
            "hungary"
           ],
           "ids": [
            "hungary"
           ],
           "legendgroup": "diamond",
           "marker": {
            "color": "#19d3f3",
            "size": [
             1
            ],
            "sizemode": "area",
            "sizeref": 0.6504,
            "symbol": "circle"
           },
           "mode": "markers",
           "name": "diamond",
           "orientation": "v",
           "showlegend": true,
           "type": "scatter",
           "x": [
            2227
           ],
           "xaxis": "x",
           "y": [
            1
           ],
           "yaxis": "y"
          },
          {
           "hovertemplate": "<b>%{hovertext}</b><br><br>shape=chevron<br>year=2020<br>index=%{x}<br>count=%{marker.size}<extra></extra>",
           "hovertext": [
            "philippines",
            "argentina",
            "chile",
            "indonesia"
           ],
           "ids": [
            "philippines",
            "argentina",
            "chile",
            "indonesia"
           ],
           "legendgroup": "chevron",
           "marker": {
            "color": "#FF6692",
            "size": [
             2,
             1,
             1,
             1
            ],
            "sizemode": "area",
            "sizeref": 0.6504,
            "symbol": "circle"
           },
           "mode": "markers",
           "name": "chevron",
           "orientation": "v",
           "showlegend": true,
           "type": "scatter",
           "x": [
            1605,
            2261,
            2285,
            2286
           ],
           "xaxis": "x",
           "y": [
            2,
            1,
            1,
            1
           ],
           "yaxis": "y"
          },
          {
           "hovertemplate": "<b>%{hovertext}</b><br><br>shape=cross<br>year=2020<br>index=%{x}<br>count=%{marker.size}<extra></extra>",
           "hovertext": [
            "argentina"
           ],
           "ids": [
            "argentina"
           ],
           "legendgroup": "cross",
           "marker": {
            "color": "#FECB52",
            "size": [
             1
            ],
            "sizemode": "area",
            "sizeref": 0.6504,
            "symbol": "circle"
           },
           "mode": "markers",
           "name": "cross",
           "orientation": "v",
           "showlegend": true,
           "type": "scatter",
           "x": [
            2292
           ],
           "xaxis": "x",
           "y": [
            1
           ],
           "yaxis": "y"
          }
         ],
         "name": "2020"
        },
        {
         "data": [
          {
           "hovertemplate": "<b>%{hovertext}</b><br><br>shape=light<br>year=2014<br>index=%{x}<br>count=%{marker.size}<extra></extra>",
           "hovertext": [
            "united states",
            "canada",
            "unknown",
            "india",
            "australia",
            "mexico",
            "greece",
            "jamaica",
            "panama",
            "philippines",
            "romania",
            "slovenia",
            "turkey",
            "south africa",
            "puerto rico",
            "peru",
            "new zealand",
            "malta",
            "japan",
            "israel",
            "isle of man",
            "honduras",
            "france",
            "ecuador",
            "croatia",
            "belgium"
           ],
           "ids": [
            "united states",
            "canada",
            "unknown",
            "india",
            "australia",
            "mexico",
            "greece",
            "jamaica",
            "panama",
            "philippines",
            "romania",
            "slovenia",
            "turkey",
            "south africa",
            "puerto rico",
            "peru",
            "new zealand",
            "malta",
            "japan",
            "israel",
            "isle of man",
            "honduras",
            "france",
            "ecuador",
            "croatia",
            "belgium"
           ],
           "legendgroup": "light",
           "marker": {
            "color": "#636efa",
            "size": [
             1525,
             52,
             20,
             12,
             6,
             2,
             2,
             2,
             2,
             2,
             2,
             1,
             1,
             1,
             1,
             1,
             1,
             1,
             1,
             1,
             1,
             1,
             1,
             1,
             1,
             1
            ],
            "sizemode": "area",
            "sizeref": 0.6504,
            "symbol": "circle"
           },
           "mode": "markers",
           "name": "light",
           "orientation": "v",
           "showlegend": true,
           "type": "scatter",
           "x": [
            2,
            306,
            541,
            709,
            993,
            1459,
            1463,
            1466,
            1469,
            1471,
            1472,
            3142,
            3154,
            3184,
            3201,
            3219,
            3220,
            3221,
            3222,
            3223,
            3224,
            3226,
            3228,
            3229,
            3230,
            3232
           ],
           "xaxis": "x",
           "y": [
            1525,
            52,
            20,
            12,
            6,
            2,
            2,
            2,
            2,
            2,
            2,
            1,
            1,
            1,
            1,
            1,
            1,
            1,
            1,
            1,
            1,
            1,
            1,
            1,
            1,
            1
           ],
           "yaxis": "y"
          },
          {
           "hovertemplate": "<b>%{hovertext}</b><br><br>shape=unknown<br>year=2014<br>index=%{x}<br>count=%{marker.size}<extra></extra>",
           "hovertext": [
            "united states",
            "canada",
            "unknown",
            "india",
            "australia",
            "panama",
            "brazil",
            "jordan",
            "mexico",
            "spain",
            "netherlands",
            "turkey",
            "sweden",
            "south africa",
            "serbia",
            "puerto rico",
            "portugal",
            "pakistan",
            "lithuania",
            "lebanon",
            "japan",
            "germany",
            "france",
            "denmark",
            "china",
            "bulgaria"
           ],
           "ids": [
            "united states",
            "canada",
            "unknown",
            "india",
            "australia",
            "panama",
            "brazil",
            "jordan",
            "mexico",
            "spain",
            "netherlands",
            "turkey",
            "sweden",
            "south africa",
            "serbia",
            "puerto rico",
            "portugal",
            "pakistan",
            "lithuania",
            "lebanon",
            "japan",
            "germany",
            "france",
            "denmark",
            "china",
            "bulgaria"
           ],
           "legendgroup": "unknown",
           "marker": {
            "color": "#EF553B",
            "size": [
             995,
             37,
             30,
             5,
             5,
             3,
             2,
             2,
             2,
             2,
             1,
             1,
             1,
             1,
             1,
             1,
             1,
             1,
             1,
             1,
             1,
             1,
             1,
             1,
             1,
             1
            ],
            "sizemode": "area",
            "sizeref": 0.6504,
            "symbol": "circle"
           },
           "mode": "markers",
           "name": "unknown",
           "orientation": "v",
           "showlegend": true,
           "type": "scatter",
           "x": [
            10,
            380,
            418,
            1085,
            1087,
            1333,
            1540,
            1542,
            1543,
            1544,
            3305,
            3311,
            3312,
            3313,
            3314,
            3315,
            3316,
            3317,
            3318,
            3320,
            3322,
            3324,
            3325,
            3326,
            3327,
            3329
           ],
           "xaxis": "x",
           "y": [
            995,
            37,
            30,
            5,
            5,
            3,
            2,
            2,
            2,
            2,
            1,
            1,
            1,
            1,
            1,
            1,
            1,
            1,
            1,
            1,
            1,
            1,
            1,
            1,
            1,
            1
           ],
           "yaxis": "y"
          },
          {
           "hovertemplate": "<b>%{hovertext}</b><br><br>shape=circle<br>year=2014<br>index=%{x}<br>count=%{marker.size}<extra></extra>",
           "hovertext": [
            "united states",
            "canada",
            "unknown",
            "australia",
            "ireland",
            "lebanon",
            "mexico",
            "new zealand",
            "colombia",
            "brazil",
            "jersey",
            "japan",
            "germany",
            "egypt",
            "cyprus",
            "barbados",
            "austria",
            "spain",
            "thailand"
           ],
           "ids": [
            "united states",
            "canada",
            "unknown",
            "australia",
            "ireland",
            "lebanon",
            "mexico",
            "new zealand",
            "colombia",
            "brazil",
            "jersey",
            "japan",
            "germany",
            "egypt",
            "cyprus",
            "barbados",
            "austria",
            "spain",
            "thailand"
           ],
           "legendgroup": "circle",
           "marker": {
            "color": "#00cc96",
            "size": [
             968,
             42,
             18,
             4,
             3,
             2,
             2,
             2,
             2,
             1,
             1,
             1,
             1,
             1,
             1,
             1,
             1,
             1,
             1
            ],
            "sizemode": "area",
            "sizeref": 0.6504,
            "symbol": "circle"
           },
           "mode": "markers",
           "name": "circle",
           "orientation": "v",
           "showlegend": true,
           "type": "scatter",
           "x": [
            11,
            353,
            573,
            1121,
            1388,
            1486,
            1487,
            1489,
            1550,
            3482,
            3486,
            3487,
            3490,
            3491,
            3492,
            3495,
            3497,
            3511,
            3512
           ],
           "xaxis": "x",
           "y": [
            968,
            42,
            18,
            4,
            3,
            2,
            2,
            2,
            2,
            1,
            1,
            1,
            1,
            1,
            1,
            1,
            1,
            1,
            1
           ],
           "yaxis": "y"
          },
          {
           "hovertemplate": "<b>%{hovertext}</b><br><br>shape=fireball<br>year=2014<br>index=%{x}<br>count=%{marker.size}<extra></extra>",
           "hovertext": [
            "united states",
            "canada",
            "india",
            "lebanon",
            "turkey",
            "switzerland",
            "panama",
            "netherlands",
            "kenya",
            "greece",
            "denmark",
            "bulgaria",
            "brazil",
            "bahamas"
           ],
           "ids": [
            "united states",
            "canada",
            "india",
            "lebanon",
            "turkey",
            "switzerland",
            "panama",
            "netherlands",
            "kenya",
            "greece",
            "denmark",
            "bulgaria",
            "brazil",
            "bahamas"
           ],
           "legendgroup": "fireball",
           "marker": {
            "color": "#ab63fa",
            "size": [
             816,
             33,
             12,
             1,
             1,
             1,
             1,
             1,
             1,
             1,
             1,
             1,
             1,
             1
            ],
            "sizemode": "area",
            "sizeref": 0.6504,
            "symbol": "circle"
           },
           "mode": "markers",
           "name": "fireball",
           "orientation": "v",
           "showlegend": true,
           "type": "scatter",
           "x": [
            15,
            400,
            708,
            3187,
            3196,
            3197,
            3198,
            3199,
            3200,
            3203,
            3204,
            3206,
            3207,
            3208
           ],
           "xaxis": "x",
           "y": [
            816,
            33,
            12,
            1,
            1,
            1,
            1,
            1,
            1,
            1,
            1,
            1,
            1,
            1
           ],
           "yaxis": "y"
          },
          {
           "hovertemplate": "<b>%{hovertext}</b><br><br>shape=triangle<br>year=2014<br>index=%{x}<br>count=%{marker.size}<extra></extra>",
           "hovertext": [
            "united states",
            "canada",
            "unknown",
            "india",
            "brazil",
            "mexico",
            "south africa",
            "slovenia",
            "puerto rico",
            "niger",
            "myanmar",
            "malaysia",
            "japan",
            "italy",
            "israel",
            "indonesia",
            "france",
            "spain"
           ],
           "ids": [
            "united states",
            "canada",
            "unknown",
            "india",
            "brazil",
            "mexico",
            "south africa",
            "slovenia",
            "puerto rico",
            "niger",
            "myanmar",
            "malaysia",
            "japan",
            "italy",
            "israel",
            "indonesia",
            "france",
            "spain"
           ],
           "legendgroup": "triangle",
           "marker": {
            "color": "#FFA15A",
            "size": [
             603,
             22,
             11,
             6,
             2,
             2,
             2,
             1,
             1,
             1,
             1,
             1,
             1,
             1,
             1,
             1,
             1,
             1
            ],
            "sizemode": "area",
            "sizeref": 0.6504,
            "symbol": "circle"
           },
           "mode": "markers",
           "name": "triangle",
           "orientation": "v",
           "showlegend": true,
           "type": "scatter",
           "x": [
            33,
            516,
            738,
            934,
            1530,
            1535,
            1537,
            3159,
            3160,
            3161,
            3162,
            3163,
            3164,
            3165,
            3166,
            3167,
            3169,
            3186
           ],
           "xaxis": "x",
           "y": [
            603,
            22,
            11,
            6,
            2,
            2,
            2,
            1,
            1,
            1,
            1,
            1,
            1,
            1,
            1,
            1,
            1,
            1
           ],
           "yaxis": "y"
          },
          {
           "hovertemplate": "<b>%{hovertext}</b><br><br>shape=sphere<br>year=2014<br>index=%{x}<br>count=%{marker.size}<extra></extra>",
           "hovertext": [
            "greece",
            "australia",
            "bermuda",
            "costa rica",
            "turkey",
            "south africa",
            "panama",
            "new zealand",
            "ireland",
            "indonesia"
           ],
           "ids": [
            "greece",
            "australia",
            "bermuda",
            "costa rica",
            "turkey",
            "south africa",
            "panama",
            "new zealand",
            "ireland",
            "indonesia"
           ],
           "legendgroup": "sphere",
           "marker": {
            "color": "#19d3f3",
            "size": [
             2,
             1,
             1,
             1,
             1,
             1,
             1,
             1,
             1,
             1
            ],
            "sizemode": "area",
            "sizeref": 0.6504,
            "symbol": "circle"
           },
           "mode": "markers",
           "name": "sphere",
           "orientation": "v",
           "showlegend": true,
           "type": "scatter",
           "x": [
            1479,
            3129,
            3155,
            3156,
            3177,
            3178,
            3179,
            3180,
            3182,
            3183
           ],
           "xaxis": "x",
           "y": [
            2,
            1,
            1,
            1,
            1,
            1,
            1,
            1,
            1,
            1
           ],
           "yaxis": "y"
          },
          {
           "hovertemplate": "<b>%{hovertext}</b><br><br>shape=disk<br>year=2014<br>index=%{x}<br>count=%{marker.size}<extra></extra>",
           "hovertext": [
            "brazil",
            "ukraine",
            "south africa",
            "tonga",
            "pakistan",
            "lebanon",
            "germany"
           ],
           "ids": [
            "brazil",
            "ukraine",
            "south africa",
            "tonga",
            "pakistan",
            "lebanon",
            "germany"
           ],
           "legendgroup": "disk",
           "marker": {
            "color": "#FF6692",
            "size": [
             2,
             1,
             1,
             1,
             1,
             1,
             1
            ],
            "sizemode": "area",
            "sizeref": 0.6504,
            "symbol": "circle"
           },
           "mode": "markers",
           "name": "disk",
           "orientation": "v",
           "showlegend": true,
           "type": "scatter",
           "x": [
            1495,
            3213,
            3245,
            3361,
            3362,
            3513,
            3517
           ],
           "xaxis": "x",
           "y": [
            2,
            1,
            1,
            1,
            1,
            1,
            1
           ],
           "yaxis": "y"
          },
          {
           "hovertemplate": "<b>%{hovertext}</b><br><br>shape=formation<br>year=2014<br>index=%{x}<br>count=%{marker.size}<extra></extra>",
           "hovertext": [
            "bulgaria",
            "dominica",
            "puerto rico",
            "philippines",
            "new zealand",
            "lithuania",
            "japan",
            "france"
           ],
           "ids": [
            "bulgaria",
            "dominica",
            "puerto rico",
            "philippines",
            "new zealand",
            "lithuania",
            "japan",
            "france"
           ],
           "legendgroup": "formation",
           "marker": {
            "color": "#B6E880",
            "size": [
             1,
             1,
             1,
             1,
             1,
             1,
             1,
             1
            ],
            "sizemode": "area",
            "sizeref": 0.6504,
            "symbol": "circle"
           },
           "mode": "markers",
           "name": "formation",
           "orientation": "v",
           "showlegend": true,
           "type": "scatter",
           "x": [
            3215,
            3217,
            3235,
            3236,
            3237,
            3239,
            3240,
            3242
           ],
           "xaxis": "x",
           "y": [
            1,
            1,
            1,
            1,
            1,
            1,
            1,
            1
           ],
           "yaxis": "y"
          },
          {
           "hovertemplate": "<b>%{hovertext}</b><br><br>shape=oval<br>year=2014<br>index=%{x}<br>count=%{marker.size}<extra></extra>",
           "hovertext": [
            "unknown",
            "netherlands",
            "spain",
            "portugal",
            "mexico",
            "lebanon",
            "germany",
            "france",
            "czech republic",
            "china",
            "bahrain"
           ],
           "ids": [
            "unknown",
            "netherlands",
            "spain",
            "portugal",
            "mexico",
            "lebanon",
            "germany",
            "france",
            "czech republic",
            "china",
            "bahrain"
           ],
           "legendgroup": "oval",
           "marker": {
            "color": "#FF97FF",
            "size": [
             6,
             1,
             1,
             1,
             1,
             1,
             1,
             1,
             1,
             1,
             1
            ],
            "sizemode": "area",
            "sizeref": 0.6504,
            "symbol": "circle"
           },
           "mode": "markers",
           "name": "oval",
           "orientation": "v",
           "showlegend": true,
           "type": "scatter",
           "x": [
            929,
            3128,
            3139,
            3140,
            3141,
            3143,
            3145,
            3146,
            3147,
            3148,
            3150
           ],
           "xaxis": "x",
           "y": [
            6,
            1,
            1,
            1,
            1,
            1,
            1,
            1,
            1,
            1,
            1
           ],
           "yaxis": "y"
          },
          {
           "hovertemplate": "<b>%{hovertext}</b><br><br>shape=cigar<br>year=2014<br>index=%{x}<br>count=%{marker.size}<extra></extra>",
           "hovertext": [
            "panama",
            "oman",
            "morocco",
            "italy",
            "ireland"
           ],
           "ids": [
            "panama",
            "oman",
            "morocco",
            "italy",
            "ireland"
           ],
           "legendgroup": "cigar",
           "marker": {
            "color": "#FECB52",
            "size": [
             1,
             1,
             1,
             1,
             1
            ],
            "sizemode": "area",
            "sizeref": 0.6504,
            "symbol": "circle"
           },
           "mode": "markers",
           "name": "cigar",
           "orientation": "v",
           "showlegend": true,
           "type": "scatter",
           "x": [
            3500,
            3501,
            3502,
            3503,
            3504
           ],
           "xaxis": "x",
           "y": [
            1,
            1,
            1,
            1,
            1
           ],
           "yaxis": "y"
          },
          {
           "hovertemplate": "<b>%{hovertext}</b><br><br>shape=flash<br>year=2014<br>index=%{x}<br>count=%{marker.size}<extra></extra>",
           "hovertext": [
            "greece"
           ],
           "ids": [
            "greece"
           ],
           "legendgroup": "flash",
           "marker": {
            "color": "#636efa",
            "size": [
             1
            ],
            "sizemode": "area",
            "sizeref": 0.6504,
            "symbol": "circle"
           },
           "mode": "markers",
           "name": "flash",
           "orientation": "v",
           "showlegend": true,
           "type": "scatter",
           "x": [
            3192
           ],
           "xaxis": "x",
           "y": [
            1
           ],
           "yaxis": "y"
          },
          {
           "hovertemplate": "<b>%{hovertext}</b><br><br>shape=rectangle<br>year=2014<br>index=%{x}<br>count=%{marker.size}<extra></extra>",
           "hovertext": [
            "india",
            "thailand",
            "greece",
            "australia"
           ],
           "ids": [
            "india",
            "thailand",
            "greece",
            "australia"
           ],
           "legendgroup": "rectangle",
           "marker": {
            "color": "#EF553B",
            "size": [
             4,
             1,
             1,
             1
            ],
            "sizemode": "area",
            "sizeref": 0.6504,
            "symbol": "circle"
           },
           "mode": "markers",
           "name": "rectangle",
           "orientation": "v",
           "showlegend": true,
           "type": "scatter",
           "x": [
            1143,
            3132,
            3134,
            3136
           ],
           "xaxis": "x",
           "y": [
            4,
            1,
            1,
            1
           ],
           "yaxis": "y"
          },
          {
           "hovertemplate": "<b>%{hovertext}</b><br><br>shape=changed<br>year=2014<br>index=%{x}<br>count=%{marker.size}<extra></extra>",
           "hovertext": [
            "slovakia",
            "norway",
            "malaysia",
            "jamaica",
            "costa rica",
            "bulgaria",
            "bahamas"
           ],
           "ids": [
            "slovakia",
            "norway",
            "malaysia",
            "jamaica",
            "costa rica",
            "bulgaria",
            "bahamas"
           ],
           "legendgroup": "changed",
           "marker": {
            "color": "#00cc96",
            "size": [
             1,
             1,
             1,
             1,
             1,
             1,
             1
            ],
            "sizemode": "area",
            "sizeref": 0.6504,
            "symbol": "circle"
           },
           "mode": "markers",
           "name": "changed",
           "orientation": "v",
           "showlegend": true,
           "type": "scatter",
           "x": [
            3574,
            3575,
            3576,
            3577,
            3579,
            3581,
            3582
           ],
           "xaxis": "x",
           "y": [
            1,
            1,
            1,
            1,
            1,
            1,
            1
           ],
           "yaxis": "y"
          },
          {
           "hovertemplate": "<b>%{hovertext}</b><br><br>shape=cylinder<br>year=2014<br>index=%{x}<br>count=%{marker.size}<extra></extra>",
           "hovertext": [
            "spain"
           ],
           "ids": [
            "spain"
           ],
           "legendgroup": "cylinder",
           "marker": {
            "color": "#ab63fa",
            "size": [
             1
            ],
            "sizemode": "area",
            "sizeref": 0.6504,
            "symbol": "circle"
           },
           "mode": "markers",
           "name": "cylinder",
           "orientation": "v",
           "showlegend": true,
           "type": "scatter",
           "x": [
            3527
           ],
           "xaxis": "x",
           "y": [
            1
           ],
           "yaxis": "y"
          },
          {
           "hovertemplate": "<b>%{hovertext}</b><br><br>shape=egg<br>year=2014<br>index=%{x}<br>count=%{marker.size}<extra></extra>",
           "hovertext": [
            "new zealand"
           ],
           "ids": [
            "new zealand"
           ],
           "legendgroup": "egg",
           "marker": {
            "color": "#FFA15A",
            "size": [
             1
            ],
            "sizemode": "area",
            "sizeref": 0.6504,
            "symbol": "circle"
           },
           "mode": "markers",
           "name": "egg",
           "orientation": "v",
           "showlegend": true,
           "type": "scatter",
           "x": [
            3211
           ],
           "xaxis": "x",
           "y": [
            1
           ],
           "yaxis": "y"
          },
          {
           "hovertemplate": "<b>%{hovertext}</b><br><br>shape=diamond<br>year=2014<br>index=%{x}<br>count=%{marker.size}<extra></extra>",
           "hovertext": [
            "romania",
            "portugal",
            "indonesia",
            "finland"
           ],
           "ids": [
            "romania",
            "portugal",
            "indonesia",
            "finland"
           ],
           "legendgroup": "diamond",
           "marker": {
            "color": "#19d3f3",
            "size": [
             1,
             1,
             1,
             1
            ],
            "sizemode": "area",
            "sizeref": 0.6504,
            "symbol": "circle"
           },
           "mode": "markers",
           "name": "diamond",
           "orientation": "v",
           "showlegend": true,
           "type": "scatter",
           "x": [
            3520,
            3521,
            3522,
            3524
           ],
           "xaxis": "x",
           "y": [
            1,
            1,
            1,
            1
           ],
           "yaxis": "y"
          },
          {
           "hovertemplate": "<b>%{hovertext}</b><br><br>shape=chevron<br>year=2014<br>index=%{x}<br>count=%{marker.size}<extra></extra>",
           "hovertext": [
            "italy"
           ],
           "ids": [
            "italy"
           ],
           "legendgroup": "chevron",
           "marker": {
            "color": "#FF6692",
            "size": [
             1
            ],
            "sizemode": "area",
            "sizeref": 0.6504,
            "symbol": "circle"
           },
           "mode": "markers",
           "name": "chevron",
           "orientation": "v",
           "showlegend": true,
           "type": "scatter",
           "x": [
            3538
           ],
           "xaxis": "x",
           "y": [
            1
           ],
           "yaxis": "y"
          },
          {
           "hovertemplate": "<b>%{hovertext}</b><br><br>shape=cone<br>year=2014<br>index=%{x}<br>count=%{marker.size}<extra></extra>",
           "hovertext": [
            "kenya"
           ],
           "ids": [
            "kenya"
           ],
           "legendgroup": "cone",
           "marker": {
            "color": "#B6E880",
            "size": [
             1
            ],
            "sizemode": "area",
            "sizeref": 0.6504,
            "symbol": "circle"
           },
           "mode": "markers",
           "name": "cone",
           "orientation": "v",
           "showlegend": true,
           "type": "scatter",
           "x": [
            3535
           ],
           "xaxis": "x",
           "y": [
            1
           ],
           "yaxis": "y"
          }
         ],
         "name": "2014"
        },
        {
         "data": [
          {
           "hovertemplate": "<b>%{hovertext}</b><br><br>shape=light<br>year=2019<br>index=%{x}<br>count=%{marker.size}<extra></extra>",
           "hovertext": [
            "united states",
            "canada",
            "unknown",
            "india",
            "denmark",
            "lebanon",
            "south africa",
            "turkey",
            "spain",
            "poland",
            "philippines",
            "panama",
            "niger",
            "nauru",
            "mexico",
            "ireland",
            "greece",
            "argentina"
           ],
           "ids": [
            "united states",
            "canada",
            "unknown",
            "india",
            "denmark",
            "lebanon",
            "south africa",
            "turkey",
            "spain",
            "poland",
            "philippines",
            "panama",
            "niger",
            "nauru",
            "mexico",
            "ireland",
            "greece",
            "argentina"
           ],
           "legendgroup": "light",
           "marker": {
            "color": "#636efa",
            "size": [
             1160,
             47,
             26,
             10,
             2,
             2,
             2,
             1,
             1,
             1,
             1,
             1,
             1,
             1,
             1,
             1,
             1,
             1
            ],
            "sizemode": "area",
            "sizeref": 0.6504,
            "symbol": "circle"
           },
           "mode": "markers",
           "name": "light",
           "orientation": "v",
           "showlegend": true,
           "type": "scatter",
           "x": [
            7,
            332,
            453,
            767,
            1461,
            1480,
            1481,
            2551,
            2552,
            2553,
            2554,
            2555,
            2556,
            2557,
            2558,
            2560,
            2562,
            2564
           ],
           "xaxis": "x",
           "y": [
            1160,
            47,
            26,
            10,
            2,
            2,
            2,
            1,
            1,
            1,
            1,
            1,
            1,
            1,
            1,
            1,
            1,
            1
           ],
           "yaxis": "y"
          },
          {
           "hovertemplate": "<b>%{hovertext}</b><br><br>shape=unknown<br>year=2019<br>index=%{x}<br>count=%{marker.size}<extra></extra>",
           "hovertext": [
            "united states",
            "canada",
            "unknown",
            "india",
            "australia",
            "mexico",
            "spain",
            "puerto rico",
            "philippines",
            "panama",
            "turkey",
            "portugal",
            "poland",
            "pakistan",
            "norway",
            "niger",
            "jordan",
            "jersey",
            "france",
            "costa rica",
            "colombia",
            "bermuda",
            "belgium",
            "angola"
           ],
           "ids": [
            "united states",
            "canada",
            "unknown",
            "india",
            "australia",
            "mexico",
            "spain",
            "puerto rico",
            "philippines",
            "panama",
            "turkey",
            "portugal",
            "poland",
            "pakistan",
            "norway",
            "niger",
            "jordan",
            "jersey",
            "france",
            "costa rica",
            "colombia",
            "bermuda",
            "belgium",
            "angola"
           ],
           "legendgroup": "unknown",
           "marker": {
            "color": "#EF553B",
            "size": [
             1407,
             29,
             28,
             12,
             2,
             2,
             2,
             2,
             2,
             2,
             1,
             1,
             1,
             1,
             1,
             1,
             1,
             1,
             1,
             1,
             1,
             1,
             1,
             1
            ],
            "sizemode": "area",
            "sizeref": 0.6504,
            "symbol": "circle"
           },
           "mode": "markers",
           "name": "unknown",
           "orientation": "v",
           "showlegend": true,
           "type": "scatter",
           "x": [
            3,
            433,
            439,
            721,
            1551,
            1597,
            1611,
            1613,
            1615,
            1616,
            2268,
            2269,
            2270,
            2273,
            2274,
            2275,
            2277,
            2278,
            2280,
            2281,
            2282,
            2283,
            2284,
            2426
           ],
           "xaxis": "x",
           "y": [
            1407,
            29,
            28,
            12,
            2,
            2,
            2,
            2,
            2,
            2,
            1,
            1,
            1,
            1,
            1,
            1,
            1,
            1,
            1,
            1,
            1,
            1,
            1,
            1
           ],
           "yaxis": "y"
          },
          {
           "hovertemplate": "<b>%{hovertext}</b><br><br>shape=circle<br>year=2019<br>index=%{x}<br>count=%{marker.size}<extra></extra>",
           "hovertext": [
            "united states",
            "canada",
            "unknown",
            "india",
            "mexico",
            "estonia",
            "brazil",
            "puerto rico",
            "slovakia",
            "new zealand",
            "jamaica",
            "ireland",
            "iceland",
            "germany",
            "denmark",
            "croatia"
           ],
           "ids": [
            "united states",
            "canada",
            "unknown",
            "india",
            "mexico",
            "estonia",
            "brazil",
            "puerto rico",
            "slovakia",
            "new zealand",
            "jamaica",
            "ireland",
            "iceland",
            "germany",
            "denmark",
            "croatia"
           ],
           "legendgroup": "circle",
           "marker": {
            "color": "#00cc96",
            "size": [
             702,
             19,
             14,
             3,
             2,
             2,
             2,
             1,
             1,
             1,
             1,
             1,
             1,
             1,
             1,
             1
            ],
            "sizemode": "area",
            "sizeref": 0.6504,
            "symbol": "circle"
           },
           "mode": "markers",
           "name": "circle",
           "orientation": "v",
           "showlegend": true,
           "type": "scatter",
           "x": [
            26,
            550,
            672,
            1283,
            1528,
            1531,
            1533,
            2600,
            2611,
            2614,
            2616,
            2617,
            2618,
            2619,
            2621,
            2622
           ],
           "xaxis": "x",
           "y": [
            702,
            19,
            14,
            3,
            2,
            2,
            2,
            1,
            1,
            1,
            1,
            1,
            1,
            1,
            1,
            1
           ],
           "yaxis": "y"
          },
          {
           "hovertemplate": "<b>%{hovertext}</b><br><br>shape=fireball<br>year=2019<br>index=%{x}<br>count=%{marker.size}<extra></extra>",
           "hovertext": [
            "colombia",
            "jersey",
            "bulgaria"
           ],
           "ids": [
            "colombia",
            "jersey",
            "bulgaria"
           ],
           "legendgroup": "fireball",
           "marker": {
            "color": "#ab63fa",
            "size": [
             2,
             1,
             1
            ],
            "sizemode": "area",
            "sizeref": 0.6504,
            "symbol": "circle"
           },
           "mode": "markers",
           "name": "fireball",
           "orientation": "v",
           "showlegend": true,
           "type": "scatter",
           "x": [
            1468,
            2642,
            2645
           ],
           "xaxis": "x",
           "y": [
            2,
            1,
            1
           ],
           "yaxis": "y"
          },
          {
           "hovertemplate": "<b>%{hovertext}</b><br><br>shape=triangle<br>year=2019<br>index=%{x}<br>count=%{marker.size}<extra></extra>",
           "hovertext": [
            "united states",
            "canada",
            "unknown",
            "india",
            "australia",
            "spain",
            "south africa",
            "puerto rico",
            "portugal",
            "panama",
            "new zealand",
            "netherlands",
            "mexico",
            "germany",
            "albania"
           ],
           "ids": [
            "united states",
            "canada",
            "unknown",
            "india",
            "australia",
            "spain",
            "south africa",
            "puerto rico",
            "portugal",
            "panama",
            "new zealand",
            "netherlands",
            "mexico",
            "germany",
            "albania"
           ],
           "legendgroup": "triangle",
           "marker": {
            "color": "#FFA15A",
            "size": [
             475,
             12,
             6,
             2,
             2,
             2,
             1,
             1,
             1,
             1,
             1,
             1,
             1,
             1,
             1
            ],
            "sizemode": "area",
            "sizeref": 0.6504,
            "symbol": "circle"
           },
           "mode": "markers",
           "name": "triangle",
           "orientation": "v",
           "showlegend": true,
           "type": "scatter",
           "x": [
            47,
            704,
            988,
            1484,
            1488,
            1549,
            2485,
            2573,
            2574,
            2575,
            2576,
            2577,
            2578,
            2580,
            2583
           ],
           "xaxis": "x",
           "y": [
            475,
            12,
            6,
            2,
            2,
            2,
            1,
            1,
            1,
            1,
            1,
            1,
            1,
            1,
            1
           ],
           "yaxis": "y"
          },
          {
           "hovertemplate": "<b>%{hovertext}</b><br><br>shape=sphere<br>year=2019<br>index=%{x}<br>count=%{marker.size}<extra></extra>",
           "hovertext": [
            "united states",
            "canada",
            "angola",
            "panama",
            "lebanon",
            "kuwait",
            "dominica",
            "australia"
           ],
           "ids": [
            "united states",
            "canada",
            "angola",
            "panama",
            "lebanon",
            "kuwait",
            "dominica",
            "australia"
           ],
           "legendgroup": "sphere",
           "marker": {
            "color": "#19d3f3",
            "size": [
             309,
             13,
             2,
             1,
             1,
             1,
             1,
             1
            ],
            "sizemode": "area",
            "sizeref": 0.6504,
            "symbol": "circle"
           },
           "mode": "markers",
           "name": "sphere",
           "orientation": "v",
           "showlegend": true,
           "type": "scatter",
           "x": [
            73,
            674,
            1494,
            2586,
            2588,
            2589,
            2591,
            2593
           ],
           "xaxis": "x",
           "y": [
            309,
            13,
            2,
            1,
            1,
            1,
            1,
            1
           ],
           "yaxis": "y"
          },
          {
           "hovertemplate": "<b>%{hovertext}</b><br><br>shape=disk<br>year=2019<br>index=%{x}<br>count=%{marker.size}<extra></extra>",
           "hovertext": [
            "australia",
            "hungary",
            "turkey",
            "peru",
            "ireland"
           ],
           "ids": [
            "australia",
            "hungary",
            "turkey",
            "peru",
            "ireland"
           ],
           "legendgroup": "disk",
           "marker": {
            "color": "#FF6692",
            "size": [
             1,
             1,
             1,
             1,
             1
            ],
            "sizemode": "area",
            "sizeref": 0.6504,
            "symbol": "circle"
           },
           "mode": "markers",
           "name": "disk",
           "orientation": "v",
           "showlegend": true,
           "type": "scatter",
           "x": [
            2626,
            2641,
            2649,
            2650,
            2651
           ],
           "xaxis": "x",
           "y": [
            1,
            1,
            1,
            1,
            1
           ],
           "yaxis": "y"
          },
          {
           "hovertemplate": "<b>%{hovertext}</b><br><br>shape=formation<br>year=2019<br>index=%{x}<br>count=%{marker.size}<extra></extra>",
           "hovertext": [
            "unknown",
            "sri lanka",
            "oman",
            "lebanon",
            "jordan",
            "germany",
            "ecuador",
            "brazil",
            "belgium",
            "barbados"
           ],
           "ids": [
            "unknown",
            "sri lanka",
            "oman",
            "lebanon",
            "jordan",
            "germany",
            "ecuador",
            "brazil",
            "belgium",
            "barbados"
           ],
           "legendgroup": "formation",
           "marker": {
            "color": "#B6E880",
            "size": [
             7,
             1,
             1,
             1,
             1,
             1,
             1,
             1,
             1,
             1
            ],
            "sizemode": "area",
            "sizeref": 0.6504,
            "symbol": "circle"
           },
           "mode": "markers",
           "name": "formation",
           "orientation": "v",
           "showlegend": true,
           "type": "scatter",
           "x": [
            875,
            2567,
            2568,
            2597,
            2598,
            2627,
            2629,
            2631,
            2632,
            2633
           ],
           "xaxis": "x",
           "y": [
            7,
            1,
            1,
            1,
            1,
            1,
            1,
            1,
            1,
            1
           ],
           "yaxis": "y"
          },
          {
           "hovertemplate": "<b>%{hovertext}</b><br><br>shape=oval<br>year=2019<br>index=%{x}<br>count=%{marker.size}<extra></extra>",
           "hovertext": [
            "germany",
            "new zealand",
            "france"
           ],
           "ids": [
            "germany",
            "new zealand",
            "france"
           ],
           "legendgroup": "oval",
           "marker": {
            "color": "#FF97FF",
            "size": [
             2,
             1,
             1
            ],
            "sizemode": "area",
            "sizeref": 0.6504,
            "symbol": "circle"
           },
           "mode": "markers",
           "name": "oval",
           "orientation": "v",
           "showlegend": true,
           "type": "scatter",
           "x": [
            1501,
            2544,
            2547
           ],
           "xaxis": "x",
           "y": [
            2,
            1,
            1
           ],
           "yaxis": "y"
          },
          {
           "hovertemplate": "<b>%{hovertext}</b><br><br>shape=cigar<br>year=2019<br>index=%{x}<br>count=%{marker.size}<extra></extra>",
           "hovertext": [
            "france",
            "georgia",
            "lebanon",
            "portugal"
           ],
           "ids": [
            "france",
            "georgia",
            "lebanon",
            "portugal"
           ],
           "legendgroup": "cigar",
           "marker": {
            "color": "#FECB52",
            "size": [
             1,
             1,
             1,
             1
            ],
            "sizemode": "area",
            "sizeref": 0.6504,
            "symbol": "circle"
           },
           "mode": "markers",
           "name": "cigar",
           "orientation": "v",
           "showlegend": true,
           "type": "scatter",
           "x": [
            2459,
            2540,
            2541,
            2542
           ],
           "xaxis": "x",
           "y": [
            1,
            1,
            1,
            1
           ],
           "yaxis": "y"
          },
          {
           "hovertemplate": "<b>%{hovertext}</b><br><br>shape=flash<br>year=2019<br>index=%{x}<br>count=%{marker.size}<extra></extra>",
           "hovertext": [
            "india",
            "jordan",
            "ethiopia"
           ],
           "ids": [
            "india",
            "jordan",
            "ethiopia"
           ],
           "legendgroup": "flash",
           "marker": {
            "color": "#636efa",
            "size": [
             3,
             2,
             1
            ],
            "sizemode": "area",
            "sizeref": 0.6504,
            "symbol": "circle"
           },
           "mode": "markers",
           "name": "flash",
           "orientation": "v",
           "showlegend": true,
           "type": "scatter",
           "x": [
            1303,
            1465,
            2638
           ],
           "xaxis": "x",
           "y": [
            3,
            2,
            1
           ],
           "yaxis": "y"
          },
          {
           "hovertemplate": "<b>%{hovertext}</b><br><br>shape=rectangle<br>year=2019<br>index=%{x}<br>count=%{marker.size}<extra></extra>",
           "hovertext": [
            "australia",
            "brazil",
            "new zealand",
            "jersey"
           ],
           "ids": [
            "australia",
            "brazil",
            "new zealand",
            "jersey"
           ],
           "legendgroup": "rectangle",
           "marker": {
            "color": "#EF553B",
            "size": [
             1,
             1,
             1,
             1
            ],
            "sizemode": "area",
            "sizeref": 0.6504,
            "symbol": "circle"
           },
           "mode": "markers",
           "name": "rectangle",
           "orientation": "v",
           "showlegend": true,
           "type": "scatter",
           "x": [
            2571,
            2585,
            2595,
            2596
           ],
           "xaxis": "x",
           "y": [
            1,
            1,
            1,
            1
           ],
           "yaxis": "y"
          },
          {
           "hovertemplate": "<b>%{hovertext}</b><br><br>shape=changed<br>year=2019<br>index=%{x}<br>count=%{marker.size}<extra></extra>",
           "hovertext": [
            "puerto rico",
            "panama",
            "mexico"
           ],
           "ids": [
            "puerto rico",
            "panama",
            "mexico"
           ],
           "legendgroup": "changed",
           "marker": {
            "color": "#00cc96",
            "size": [
             1,
             1,
             1
            ],
            "sizemode": "area",
            "sizeref": 0.6504,
            "symbol": "circle"
           },
           "mode": "markers",
           "name": "changed",
           "orientation": "v",
           "showlegend": true,
           "type": "scatter",
           "x": [
            2463,
            2464,
            2465
           ],
           "xaxis": "x",
           "y": [
            1,
            1,
            1
           ],
           "yaxis": "y"
          },
          {
           "hovertemplate": "<b>%{hovertext}</b><br><br>shape=cylinder<br>year=2019<br>index=%{x}<br>count=%{marker.size}<extra></extra>",
           "hovertext": [
            "south africa",
            "lebanon",
            "kuwait",
            "jordan",
            "china"
           ],
           "ids": [
            "south africa",
            "lebanon",
            "kuwait",
            "jordan",
            "china"
           ],
           "legendgroup": "cylinder",
           "marker": {
            "color": "#ab63fa",
            "size": [
             1,
             1,
             1,
             1,
             1
            ],
            "sizemode": "area",
            "sizeref": 0.6504,
            "symbol": "circle"
           },
           "mode": "markers",
           "name": "cylinder",
           "orientation": "v",
           "showlegend": true,
           "type": "scatter",
           "x": [
            2602,
            2603,
            2604,
            2605,
            2606
           ],
           "xaxis": "x",
           "y": [
            1,
            1,
            1,
            1,
            1
           ],
           "yaxis": "y"
          },
          {
           "hovertemplate": "<b>%{hovertext}</b><br><br>shape=cone<br>year=2019<br>index=%{x}<br>count=%{marker.size}<extra></extra>",
           "hovertext": [
            "nicaragua"
           ],
           "ids": [
            "nicaragua"
           ],
           "legendgroup": "cone",
           "marker": {
            "color": "#B6E880",
            "size": [
             1
            ],
            "sizemode": "area",
            "sizeref": 0.6504,
            "symbol": "circle"
           },
           "mode": "markers",
           "name": "cone",
           "orientation": "v",
           "showlegend": true,
           "type": "scatter",
           "x": [
            2607
           ],
           "xaxis": "x",
           "y": [
            1
           ],
           "yaxis": "y"
          }
         ],
         "name": "2019"
        },
        {
         "data": [
          {
           "hovertemplate": "<b>%{hovertext}</b><br><br>shape=light<br>year=2015<br>index=%{x}<br>count=%{marker.size}<extra></extra>",
           "hovertext": [
            "united states",
            "canada",
            "unknown",
            "india",
            "panama",
            "australia",
            "china",
            "portugal",
            "lebanon",
            "indonesia",
            "greece",
            "italy",
            "mexico",
            "south africa",
            "estonia",
            "france",
            "guam",
            "ireland",
            "israel",
            "spain",
            "denmark",
            "brazil",
            "angola"
           ],
           "ids": [
            "united states",
            "canada",
            "unknown",
            "india",
            "panama",
            "australia",
            "china",
            "portugal",
            "lebanon",
            "indonesia",
            "greece",
            "italy",
            "mexico",
            "south africa",
            "estonia",
            "france",
            "guam",
            "ireland",
            "israel",
            "spain",
            "denmark",
            "brazil",
            "angola"
           ],
           "legendgroup": "light",
           "marker": {
            "color": "#636efa",
            "size": [
             1281,
             48,
             22,
             7,
             3,
             2,
             2,
             2,
             2,
             2,
             2,
             1,
             1,
             1,
             1,
             1,
             1,
             1,
             1,
             1,
             1,
             1,
             1
            ],
            "sizemode": "area",
            "sizeref": 0.6504,
            "symbol": "circle"
           },
           "mode": "markers",
           "name": "light",
           "orientation": "v",
           "showlegend": true,
           "type": "scatter",
           "x": [
            4,
            328,
            511,
            889,
            1332,
            1508,
            1529,
            1541,
            1545,
            1546,
            1547,
            1902,
            1903,
            1922,
            1934,
            1937,
            1940,
            1944,
            1947,
            1978,
            2653,
            3127,
            3278
           ],
           "xaxis": "x",
           "y": [
            1281,
            48,
            22,
            7,
            3,
            2,
            2,
            2,
            2,
            2,
            2,
            1,
            1,
            1,
            1,
            1,
            1,
            1,
            1,
            1,
            1,
            1,
            1
           ],
           "yaxis": "y"
          },
          {
           "hovertemplate": "<b>%{hovertext}</b><br><br>shape=unknown<br>year=2015<br>index=%{x}<br>count=%{marker.size}<extra></extra>",
           "hovertext": [
            "united states",
            "canada",
            "unknown",
            "india",
            "australia",
            "south africa",
            "ireland",
            "new zealand",
            "peru",
            "portugal",
            "turkey",
            "lebanon",
            "jersey",
            "denmark",
            "finland",
            "guernsey",
            "italy",
            "argentina",
            "cambodia"
           ],
           "ids": [
            "united states",
            "canada",
            "unknown",
            "india",
            "australia",
            "south africa",
            "ireland",
            "new zealand",
            "peru",
            "portugal",
            "turkey",
            "lebanon",
            "jersey",
            "denmark",
            "finland",
            "guernsey",
            "italy",
            "argentina",
            "cambodia"
           ],
           "legendgroup": "unknown",
           "marker": {
            "color": "#EF553B",
            "size": [
             901,
             29,
             23,
             7,
             3,
             2,
             2,
             1,
             1,
             1,
             1,
             1,
             1,
             1,
             1,
             1,
             1,
             1,
             1
            ],
            "sizemode": "area",
            "sizeref": 0.6504,
            "symbol": "circle"
           },
           "mode": "markers",
           "name": "unknown",
           "orientation": "v",
           "showlegend": true,
           "type": "scatter",
           "x": [
            12,
            424,
            503,
            904,
            1344,
            1500,
            1502,
            2028,
            2029,
            2030,
            2034,
            2099,
            2100,
            2159,
            2164,
            2167,
            2173,
            2187,
            2192
           ],
           "xaxis": "x",
           "y": [
            901,
            29,
            23,
            7,
            3,
            2,
            2,
            1,
            1,
            1,
            1,
            1,
            1,
            1,
            1,
            1,
            1,
            1,
            1
           ],
           "yaxis": "y"
          },
          {
           "hovertemplate": "<b>%{hovertext}</b><br><br>shape=circle<br>year=2015<br>index=%{x}<br>count=%{marker.size}<extra></extra>",
           "hovertext": [
            "united states",
            "canada",
            "unknown",
            "india",
            "mexico",
            "united arab emirates",
            "saudi arabia",
            "pakistan",
            "malaysia",
            "lebanon",
            "jordan",
            "ireland",
            "grenada",
            "cuba",
            "colombia",
            "bangladesh"
           ],
           "ids": [
            "united states",
            "canada",
            "unknown",
            "india",
            "mexico",
            "united arab emirates",
            "saudi arabia",
            "pakistan",
            "malaysia",
            "lebanon",
            "jordan",
            "ireland",
            "grenada",
            "cuba",
            "colombia",
            "bangladesh"
           ],
           "legendgroup": "circle",
           "marker": {
            "color": "#00cc96",
            "size": [
             715,
             18,
             13,
             13,
             3,
             1,
             1,
             1,
             1,
             1,
             1,
             1,
             1,
             1,
             1,
             1
            ],
            "sizemode": "area",
            "sizeref": 0.6504,
            "symbol": "circle"
           },
           "mode": "markers",
           "name": "circle",
           "orientation": "v",
           "showlegend": true,
           "type": "scatter",
           "x": [
            25,
            559,
            678,
            679,
            1324,
            3337,
            3338,
            3339,
            3341,
            3342,
            3343,
            3344,
            3346,
            3347,
            3348,
            3350
           ],
           "xaxis": "x",
           "y": [
            715,
            18,
            13,
            13,
            3,
            1,
            1,
            1,
            1,
            1,
            1,
            1,
            1,
            1,
            1,
            1
           ],
           "yaxis": "y"
          },
          {
           "hovertemplate": "<b>%{hovertext}</b><br><br>shape=fireball<br>year=2015<br>index=%{x}<br>count=%{marker.size}<extra></extra>",
           "hovertext": [
            "united states",
            "cambodia",
            "germany",
            "botswana",
            "peru",
            "pakistan",
            "kazakhstan",
            "dominica",
            "costa rica"
           ],
           "ids": [
            "united states",
            "cambodia",
            "germany",
            "botswana",
            "peru",
            "pakistan",
            "kazakhstan",
            "dominica",
            "costa rica"
           ],
           "legendgroup": "fireball",
           "marker": {
            "color": "#ab63fa",
            "size": [
             537,
             3,
             2,
             1,
             1,
             1,
             1,
             1,
             1
            ],
            "sizemode": "area",
            "sizeref": 0.6504,
            "symbol": "circle"
           },
           "mode": "markers",
           "name": "fireball",
           "orientation": "v",
           "showlegend": true,
           "type": "scatter",
           "x": [
            37,
            1390,
            1517,
            3274,
            3293,
            3295,
            3297,
            3300,
            3301
           ],
           "xaxis": "x",
           "y": [
            537,
            3,
            2,
            1,
            1,
            1,
            1,
            1,
            1
           ],
           "yaxis": "y"
          },
          {
           "hovertemplate": "<b>%{hovertext}</b><br><br>shape=triangle<br>year=2015<br>index=%{x}<br>count=%{marker.size}<extra></extra>",
           "hovertext": [
            "united states",
            "canada",
            "unknown",
            "jersey",
            "ireland",
            "mexico",
            "panama",
            "philippines"
           ],
           "ids": [
            "united states",
            "canada",
            "unknown",
            "jersey",
            "ireland",
            "mexico",
            "panama",
            "philippines"
           ],
           "legendgroup": "triangle",
           "marker": {
            "color": "#FFA15A",
            "size": [
             510,
             20,
             8,
             2,
             1,
             1,
             1,
             1
            ],
            "sizemode": "area",
            "sizeref": 0.6504,
            "symbol": "circle"
           },
           "mode": "markers",
           "name": "triangle",
           "orientation": "v",
           "showlegend": true,
           "type": "scatter",
           "x": [
            42,
            539,
            866,
            1467,
            2114,
            2116,
            2120,
            2121
           ],
           "xaxis": "x",
           "y": [
            510,
            20,
            8,
            2,
            1,
            1,
            1,
            1
           ],
           "yaxis": "y"
          },
          {
           "hovertemplate": "<b>%{hovertext}</b><br><br>shape=sphere<br>year=2015<br>index=%{x}<br>count=%{marker.size}<extra></extra>",
           "hovertext": [
            "canada",
            "india",
            "panama",
            "sweden",
            "south africa",
            "turkey",
            "australia",
            "italy",
            "mexico",
            "bahamas"
           ],
           "ids": [
            "canada",
            "india",
            "panama",
            "sweden",
            "south africa",
            "turkey",
            "australia",
            "italy",
            "mexico",
            "bahamas"
           ],
           "legendgroup": "sphere",
           "marker": {
            "color": "#19d3f3",
            "size": [
             17,
             11,
             3,
             2,
             2,
             1,
             1,
             1,
             1,
             1
            ],
            "sizemode": "area",
            "sizeref": 0.6504,
            "symbol": "circle"
           },
           "mode": "markers",
           "name": "sphere",
           "orientation": "v",
           "showlegend": true,
           "type": "scatter",
           "x": [
            584,
            726,
            1275,
            1476,
            1478,
            1835,
            1857,
            1866,
            1867,
            1891
           ],
           "xaxis": "x",
           "y": [
            17,
            11,
            3,
            2,
            2,
            1,
            1,
            1,
            1,
            1
           ],
           "yaxis": "y"
          },
          {
           "hovertemplate": "<b>%{hovertext}</b><br><br>shape=disk<br>year=2015<br>index=%{x}<br>count=%{marker.size}<extra></extra>",
           "hovertext": [
            "kuwait",
            "lebanon",
            "south africa",
            "netherlands",
            "colombia",
            "brazil",
            "australia"
           ],
           "ids": [
            "kuwait",
            "lebanon",
            "south africa",
            "netherlands",
            "colombia",
            "brazil",
            "australia"
           ],
           "legendgroup": "disk",
           "marker": {
            "color": "#FF6692",
            "size": [
             2,
             2,
             1,
             1,
             1,
             1,
             1
            ],
            "sizemode": "area",
            "sizeref": 0.6504,
            "symbol": "circle"
           },
           "mode": "markers",
           "name": "disk",
           "orientation": "v",
           "showlegend": true,
           "type": "scatter",
           "x": [
            1520,
            1521,
            3254,
            3255,
            3259,
            3261,
            3262
           ],
           "xaxis": "x",
           "y": [
            2,
            2,
            1,
            1,
            1,
            1,
            1
           ],
           "yaxis": "y"
          },
          {
           "hovertemplate": "<b>%{hovertext}</b><br><br>shape=formation<br>year=2015<br>index=%{x}<br>count=%{marker.size}<extra></extra>",
           "hovertext": [
            "portugal",
            "israel"
           ],
           "ids": [
            "portugal",
            "israel"
           ],
           "legendgroup": "formation",
           "marker": {
            "color": "#B6E880",
            "size": [
             1,
             1
            ],
            "sizemode": "area",
            "sizeref": 0.6504,
            "symbol": "circle"
           },
           "mode": "markers",
           "name": "formation",
           "orientation": "v",
           "showlegend": true,
           "type": "scatter",
           "x": [
            3281,
            3282
           ],
           "xaxis": "x",
           "y": [
            1,
            1
           ],
           "yaxis": "y"
          },
          {
           "hovertemplate": "<b>%{hovertext}</b><br><br>shape=oval<br>year=2015<br>index=%{x}<br>count=%{marker.size}<extra></extra>",
           "hovertext": [
            "unknown",
            "finland",
            "uruguay",
            "mexico",
            "new zealand",
            "norway",
            "philippines",
            "germany"
           ],
           "ids": [
            "unknown",
            "finland",
            "uruguay",
            "mexico",
            "new zealand",
            "norway",
            "philippines",
            "germany"
           ],
           "legendgroup": "oval",
           "marker": {
            "color": "#FF97FF",
            "size": [
             6,
             2,
             1,
             1,
             1,
             1,
             1,
             1
            ],
            "sizemode": "area",
            "sizeref": 0.6504,
            "symbol": "circle"
           },
           "mode": "markers",
           "name": "oval",
           "orientation": "v",
           "showlegend": true,
           "type": "scatter",
           "x": [
            936,
            1538,
            1852,
            1956,
            1958,
            1962,
            1964,
            1998
           ],
           "xaxis": "x",
           "y": [
            6,
            2,
            1,
            1,
            1,
            1,
            1,
            1
           ],
           "yaxis": "y"
          },
          {
           "hovertemplate": "<b>%{hovertext}</b><br><br>shape=cigar<br>year=2015<br>index=%{x}<br>count=%{marker.size}<extra></extra>",
           "hovertext": [
            "angola",
            "netherlands",
            "france"
           ],
           "ids": [
            "angola",
            "netherlands",
            "france"
           ],
           "legendgroup": "cigar",
           "marker": {
            "color": "#FECB52",
            "size": [
             2,
             1,
             1
            ],
            "sizemode": "area",
            "sizeref": 0.6504,
            "symbol": "circle"
           },
           "mode": "markers",
           "name": "cigar",
           "orientation": "v",
           "showlegend": true,
           "type": "scatter",
           "x": [
            1527,
            3354,
            3357
           ],
           "xaxis": "x",
           "y": [
            2,
            1,
            1
           ],
           "yaxis": "y"
          },
          {
           "hovertemplate": "<b>%{hovertext}</b><br><br>shape=flash<br>year=2015<br>index=%{x}<br>count=%{marker.size}<extra></extra>",
           "hovertext": [
            "india",
            "panama",
            "pakistan",
            "lebanon"
           ],
           "ids": [
            "india",
            "panama",
            "pakistan",
            "lebanon"
           ],
           "legendgroup": "flash",
           "marker": {
            "color": "#636efa",
            "size": [
             6,
             2,
             1,
             1
            ],
            "sizemode": "area",
            "sizeref": 0.6504,
            "symbol": "circle"
           },
           "mode": "markers",
           "name": "flash",
           "orientation": "v",
           "showlegend": true,
           "type": "scatter",
           "x": [
            959,
            1510,
            3288,
            3289
           ],
           "xaxis": "x",
           "y": [
            6,
            2,
            1,
            1
           ],
           "yaxis": "y"
          },
          {
           "hovertemplate": "<b>%{hovertext}</b><br><br>shape=rectangle<br>year=2015<br>index=%{x}<br>count=%{marker.size}<extra></extra>",
           "hovertext": [
            "france",
            "thailand",
            "brazil"
           ],
           "ids": [
            "france",
            "thailand",
            "brazil"
           ],
           "legendgroup": "rectangle",
           "marker": {
            "color": "#EF553B",
            "size": [
             1,
             1,
             1
            ],
            "sizemode": "area",
            "sizeref": 0.6504,
            "symbol": "circle"
           },
           "mode": "markers",
           "name": "rectangle",
           "orientation": "v",
           "showlegend": true,
           "type": "scatter",
           "x": [
            1831,
            1834,
            1848
           ],
           "xaxis": "x",
           "y": [
            1,
            1,
            1
           ],
           "yaxis": "y"
          },
          {
           "hovertemplate": "<b>%{hovertext}</b><br><br>shape=changed<br>year=2015<br>index=%{x}<br>count=%{marker.size}<extra></extra>",
           "hovertext": [
            "puerto rico",
            "new zealand"
           ],
           "ids": [
            "puerto rico",
            "new zealand"
           ],
           "legendgroup": "changed",
           "marker": {
            "color": "#00cc96",
            "size": [
             1,
             1
            ],
            "sizemode": "area",
            "sizeref": 0.6504,
            "symbol": "circle"
           },
           "mode": "markers",
           "name": "changed",
           "orientation": "v",
           "showlegend": true,
           "type": "scatter",
           "x": [
            3306,
            3308
           ],
           "xaxis": "x",
           "y": [
            1,
            1
           ],
           "yaxis": "y"
          },
          {
           "hovertemplate": "<b>%{hovertext}</b><br><br>shape=cylinder<br>year=2015<br>index=%{x}<br>count=%{marker.size}<extra></extra>",
           "hovertext": [
            "brazil"
           ],
           "ids": [
            "brazil"
           ],
           "legendgroup": "cylinder",
           "marker": {
            "color": "#ab63fa",
            "size": [
             1
            ],
            "sizemode": "area",
            "sizeref": 0.6504,
            "symbol": "circle"
           },
           "mode": "markers",
           "name": "cylinder",
           "orientation": "v",
           "showlegend": true,
           "type": "scatter",
           "x": [
            3272
           ],
           "xaxis": "x",
           "y": [
            1
           ],
           "yaxis": "y"
          },
          {
           "hovertemplate": "<b>%{hovertext}</b><br><br>shape=egg<br>year=2015<br>index=%{x}<br>count=%{marker.size}<extra></extra>",
           "hovertext": [
            "guatemala",
            "australia"
           ],
           "ids": [
            "guatemala",
            "australia"
           ],
           "legendgroup": "egg",
           "marker": {
            "color": "#FFA15A",
            "size": [
             1,
             1
            ],
            "sizemode": "area",
            "sizeref": 0.6504,
            "symbol": "circle"
           },
           "mode": "markers",
           "name": "egg",
           "orientation": "v",
           "showlegend": true,
           "type": "scatter",
           "x": [
            3250,
            3252
           ],
           "xaxis": "x",
           "y": [
            1,
            1
           ],
           "yaxis": "y"
          },
          {
           "hovertemplate": "<b>%{hovertext}</b><br><br>shape=diamond<br>year=2015<br>index=%{x}<br>count=%{marker.size}<extra></extra>",
           "hovertext": [
            "south africa",
            "panama"
           ],
           "ids": [
            "south africa",
            "panama"
           ],
           "legendgroup": "diamond",
           "marker": {
            "color": "#19d3f3",
            "size": [
             2,
             1
            ],
            "sizemode": "area",
            "sizeref": 0.6504,
            "symbol": "circle"
           },
           "mode": "markers",
           "name": "diamond",
           "orientation": "v",
           "showlegend": true,
           "type": "scatter",
           "x": [
            1515,
            3266
           ],
           "xaxis": "x",
           "y": [
            2,
            1
           ],
           "yaxis": "y"
          },
          {
           "hovertemplate": "<b>%{hovertext}</b><br><br>shape=teardrop<br>year=2015<br>index=%{x}<br>count=%{marker.size}<extra></extra>",
           "hovertext": [
            "brazil"
           ],
           "ids": [
            "brazil"
           ],
           "legendgroup": "teardrop",
           "marker": {
            "color": "#FF97FF",
            "size": [
             1
            ],
            "sizemode": "area",
            "sizeref": 0.6504,
            "symbol": "circle"
           },
           "mode": "markers",
           "name": "teardrop",
           "orientation": "v",
           "showlegend": true,
           "type": "scatter",
           "x": [
            2142
           ],
           "xaxis": "x",
           "y": [
            1
           ],
           "yaxis": "y"
          }
         ],
         "name": "2015"
        },
        {
         "data": [
          {
           "hovertemplate": "<b>%{hovertext}</b><br><br>shape=light<br>year=2012<br>index=%{x}<br>count=%{marker.size}<extra></extra>",
           "hovertext": [
            "united states",
            "canada",
            "unknown",
            "south africa",
            "australia",
            "india",
            "mexico",
            "romania",
            "poland",
            "japan",
            "jamaica",
            "puerto rico",
            "new zealand",
            "netherlands",
            "israel",
            "philippines",
            "peru",
            "malta",
            "malaysia",
            "lebanon",
            "jordan",
            "italy",
            "isle of man",
            "argentina",
            "hungary",
            "el salvador",
            "denmark",
            "cyprus",
            "china",
            "bulgaria",
            "brazil",
            "barbados",
            "bangladesh",
            "bahamas",
            "portugal",
            "sweden",
            "thailand",
            "switzerland",
            "austria",
            "algeria",
            "afghanistan"
           ],
           "ids": [
            "united states",
            "canada",
            "unknown",
            "south africa",
            "australia",
            "india",
            "mexico",
            "romania",
            "poland",
            "japan",
            "jamaica",
            "puerto rico",
            "new zealand",
            "netherlands",
            "israel",
            "philippines",
            "peru",
            "malta",
            "malaysia",
            "lebanon",
            "jordan",
            "italy",
            "isle of man",
            "argentina",
            "hungary",
            "el salvador",
            "denmark",
            "cyprus",
            "china",
            "bulgaria",
            "brazil",
            "barbados",
            "bangladesh",
            "bahamas",
            "portugal",
            "sweden",
            "thailand",
            "switzerland",
            "austria",
            "algeria",
            "afghanistan"
           ],
           "legendgroup": "light",
           "marker": {
            "color": "#636efa",
            "size": [
             1262,
             55,
             25,
             6,
             6,
             5,
             4,
             3,
             2,
             2,
             2,
             2,
             2,
             2,
             1,
             1,
             1,
             1,
             1,
             1,
             1,
             1,
             1,
             1,
             1,
             1,
             1,
             1,
             1,
             1,
             1,
             1,
             1,
             1,
             1,
             1,
             1,
             1,
             1,
             1,
             1
            ],
            "sizemode": "area",
            "sizeref": 0.6504,
            "symbol": "circle"
           },
           "mode": "markers",
           "name": "light",
           "orientation": "v",
           "showlegend": true,
           "type": "scatter",
           "x": [
            5,
            303,
            467,
            925,
            947,
            1016,
            1136,
            1252,
            1417,
            1420,
            1421,
            1442,
            1445,
            1449,
            2656,
            2658,
            2659,
            2662,
            2663,
            2664,
            2665,
            2668,
            2669,
            2670,
            2672,
            2673,
            2674,
            2675,
            2676,
            2678,
            2679,
            2680,
            2681,
            2682,
            2683,
            2686,
            2710,
            2711,
            2712,
            2713,
            2729
           ],
           "xaxis": "x",
           "y": [
            1262,
            55,
            25,
            6,
            6,
            5,
            4,
            3,
            2,
            2,
            2,
            2,
            2,
            2,
            1,
            1,
            1,
            1,
            1,
            1,
            1,
            1,
            1,
            1,
            1,
            1,
            1,
            1,
            1,
            1,
            1,
            1,
            1,
            1,
            1,
            1,
            1,
            1,
            1,
            1,
            1
           ],
           "yaxis": "y"
          },
          {
           "hovertemplate": "<b>%{hovertext}</b><br><br>shape=unknown<br>year=2012<br>index=%{x}<br>count=%{marker.size}<extra></extra>",
           "hovertext": [
            "united states",
            "canada",
            "unknown",
            "lebanon",
            "australia",
            "south africa",
            "portugal",
            "poland",
            "costa rica",
            "ireland",
            "jordan",
            "mexico",
            "philippines",
            "zambia",
            "sweden",
            "afghanistan",
            "armenia",
            "puerto rico",
            "pakistan",
            "new zealand",
            "netherlands",
            "indonesia",
            "greece",
            "germany",
            "finland",
            "fiji",
            "czech republic",
            "china",
            "bangladesh",
            "bahrain",
            "austria"
           ],
           "ids": [
            "united states",
            "canada",
            "unknown",
            "lebanon",
            "australia",
            "south africa",
            "portugal",
            "poland",
            "costa rica",
            "ireland",
            "jordan",
            "mexico",
            "philippines",
            "zambia",
            "sweden",
            "afghanistan",
            "armenia",
            "puerto rico",
            "pakistan",
            "new zealand",
            "netherlands",
            "indonesia",
            "greece",
            "germany",
            "finland",
            "fiji",
            "czech republic",
            "china",
            "bangladesh",
            "bahrain",
            "austria"
           ],
           "legendgroup": "unknown",
           "marker": {
            "color": "#EF553B",
            "size": [
             807,
             40,
             40,
             5,
             5,
             4,
             2,
             2,
             2,
             2,
             2,
             2,
             2,
             1,
             1,
             1,
             1,
             1,
             1,
             1,
             1,
             1,
             1,
             1,
             1,
             1,
             1,
             1,
             1,
             1,
             1
            ],
            "sizemode": "area",
            "sizeref": 0.6504,
            "symbol": "circle"
           },
           "mode": "markers",
           "name": "unknown",
           "orientation": "v",
           "showlegend": true,
           "type": "scatter",
           "x": [
            16,
            361,
            366,
            1024,
            1080,
            1134,
            1552,
            1573,
            1588,
            1591,
            1592,
            1593,
            1594,
            2830,
            2847,
            2862,
            2863,
            2865,
            2868,
            2869,
            2870,
            2875,
            2877,
            2878,
            2879,
            2880,
            2881,
            2883,
            2885,
            2886,
            2887
           ],
           "xaxis": "x",
           "y": [
            807,
            40,
            40,
            5,
            5,
            4,
            2,
            2,
            2,
            2,
            2,
            2,
            2,
            1,
            1,
            1,
            1,
            1,
            1,
            1,
            1,
            1,
            1,
            1,
            1,
            1,
            1,
            1,
            1,
            1,
            1
           ],
           "yaxis": "y"
          },
          {
           "hovertemplate": "<b>%{hovertext}</b><br><br>shape=circle<br>year=2012<br>index=%{x}<br>count=%{marker.size}<extra></extra>",
           "hovertext": [
            "united states",
            "canada",
            "unknown",
            "india",
            "south africa",
            "jordan",
            "israel",
            "spain",
            "ireland",
            "germany",
            "croatia",
            "china",
            "brazil",
            "armenia",
            "afghanistan",
            "ethiopia",
            "switzerland",
            "portugal",
            "palau",
            "netherlands",
            "jamaica"
           ],
           "ids": [
            "united states",
            "canada",
            "unknown",
            "india",
            "south africa",
            "jordan",
            "israel",
            "spain",
            "ireland",
            "germany",
            "croatia",
            "china",
            "brazil",
            "armenia",
            "afghanistan",
            "ethiopia",
            "switzerland",
            "portugal",
            "palau",
            "netherlands",
            "jamaica"
           ],
           "legendgroup": "circle",
           "marker": {
            "color": "#00cc96",
            "size": [
             723,
             39,
             23,
             8,
             5,
             4,
             2,
             2,
             2,
             2,
             1,
             1,
             1,
             1,
             1,
             1,
             1,
             1,
             1,
             1,
             1
            ],
            "sizemode": "area",
            "sizeref": 0.6504,
            "symbol": "circle"
           },
           "mode": "markers",
           "name": "circle",
           "orientation": "v",
           "showlegend": true,
           "type": "scatter",
           "x": [
            23,
            369,
            505,
            814,
            1037,
            1114,
            1400,
            1416,
            1440,
            1446,
            3011,
            3012,
            3014,
            3016,
            3017,
            3037,
            3058,
            3061,
            3062,
            3063,
            3065
           ],
           "xaxis": "x",
           "y": [
            723,
            39,
            23,
            8,
            5,
            4,
            2,
            2,
            2,
            2,
            1,
            1,
            1,
            1,
            1,
            1,
            1,
            1,
            1,
            1,
            1
           ],
           "yaxis": "y"
          },
          {
           "hovertemplate": "<b>%{hovertext}</b><br><br>shape=fireball<br>year=2012<br>index=%{x}<br>count=%{marker.size}<extra></extra>",
           "hovertext": [
            "united states",
            "canada",
            "unknown",
            "india",
            "puerto rico",
            "germany",
            "australia",
            "ireland",
            "iceland",
            "guinea",
            "france",
            "costa rica",
            "isle of man",
            "japan",
            "jersey",
            "jordan",
            "zambia",
            "spain",
            "philippines",
            "new zealand",
            "malta"
           ],
           "ids": [
            "united states",
            "canada",
            "unknown",
            "india",
            "puerto rico",
            "germany",
            "australia",
            "ireland",
            "iceland",
            "guinea",
            "france",
            "costa rica",
            "isle of man",
            "japan",
            "jersey",
            "jordan",
            "zambia",
            "spain",
            "philippines",
            "new zealand",
            "malta"
           ],
           "legendgroup": "fireball",
           "marker": {
            "color": "#ab63fa",
            "size": [
             787,
             50,
             16,
             6,
             4,
             2,
             2,
             1,
             1,
             1,
             1,
             1,
             1,
             1,
             1,
             1,
             1,
             1,
             1,
             1,
             1
            ],
            "sizemode": "area",
            "sizeref": 0.6504,
            "symbol": "circle"
           },
           "mode": "markers",
           "name": "fireball",
           "orientation": "v",
           "showlegend": true,
           "type": "scatter",
           "x": [
            18,
            314,
            615,
            940,
            1125,
            1405,
            1414,
            2716,
            2718,
            2719,
            2721,
            2722,
            2742,
            2743,
            2744,
            2745,
            2761,
            2764,
            2767,
            2768,
            2769
           ],
           "xaxis": "x",
           "y": [
            787,
            50,
            16,
            6,
            4,
            2,
            2,
            1,
            1,
            1,
            1,
            1,
            1,
            1,
            1,
            1,
            1,
            1,
            1,
            1,
            1
           ],
           "yaxis": "y"
          },
          {
           "hovertemplate": "<b>%{hovertext}</b><br><br>shape=triangle<br>year=2012<br>index=%{x}<br>count=%{marker.size}<extra></extra>",
           "hovertext": [
            "united states",
            "unknown",
            "india",
            "australia",
            "luxembourg",
            "serbia",
            "argentina",
            "puerto rico",
            "peru",
            "jordan",
            "germany",
            "france",
            "bermuda"
           ],
           "ids": [
            "united states",
            "unknown",
            "india",
            "australia",
            "luxembourg",
            "serbia",
            "argentina",
            "puerto rico",
            "peru",
            "jordan",
            "germany",
            "france",
            "bermuda"
           ],
           "legendgroup": "triangle",
           "marker": {
            "color": "#FFA15A",
            "size": [
             518,
             11,
             4,
             3,
             2,
             2,
             1,
             1,
             1,
             1,
             1,
             1,
             1
            ],
            "sizemode": "area",
            "sizeref": 0.6504,
            "symbol": "circle"
           },
           "mode": "markers",
           "name": "triangle",
           "orientation": "v",
           "showlegend": true,
           "type": "scatter",
           "x": [
            39,
            732,
            1150,
            1212,
            1585,
            1586,
            2833,
            2835,
            2836,
            2839,
            2841,
            2842,
            2844
           ],
           "xaxis": "x",
           "y": [
            518,
            11,
            4,
            3,
            2,
            2,
            1,
            1,
            1,
            1,
            1,
            1,
            1
           ],
           "yaxis": "y"
          },
          {
           "hovertemplate": "<b>%{hovertext}</b><br><br>shape=sphere<br>year=2012<br>index=%{x}<br>count=%{marker.size}<extra></extra>",
           "hovertext": [
            "canada",
            "india",
            "guam",
            "mexico",
            "spain",
            "thailand",
            "greece",
            "france",
            "barbados",
            "italy",
            "japan",
            "romania",
            "puerto rico",
            "luxembourg"
           ],
           "ids": [
            "canada",
            "india",
            "guam",
            "mexico",
            "spain",
            "thailand",
            "greece",
            "france",
            "barbados",
            "italy",
            "japan",
            "romania",
            "puerto rico",
            "luxembourg"
           ],
           "legendgroup": "sphere",
           "marker": {
            "color": "#19d3f3",
            "size": [
             25,
             5,
             2,
             2,
             2,
             2,
             1,
             1,
             1,
             1,
             1,
             1,
             1,
             1
            ],
            "sizemode": "area",
            "sizeref": 0.6504,
            "symbol": "circle"
           },
           "mode": "markers",
           "name": "sphere",
           "orientation": "v",
           "showlegend": true,
           "type": "scatter",
           "x": [
            463,
            1049,
            1577,
            1578,
            1580,
            1581,
            2687,
            2688,
            2690,
            2714,
            2772,
            2856,
            2857,
            2859
           ],
           "xaxis": "x",
           "y": [
            25,
            5,
            2,
            2,
            2,
            2,
            1,
            1,
            1,
            1,
            1,
            1,
            1,
            1
           ],
           "yaxis": "y"
          },
          {
           "hovertemplate": "<b>%{hovertext}</b><br><br>shape=disk<br>year=2012<br>index=%{x}<br>count=%{marker.size}<extra></extra>",
           "hovertext": [
            "south africa",
            "australia",
            "sweden",
            "romania",
            "philippines",
            "new zealand",
            "mexico",
            "malaysia",
            "jersey",
            "jamaica",
            "ireland",
            "congo",
            "guyana",
            "bermuda"
           ],
           "ids": [
            "south africa",
            "australia",
            "sweden",
            "romania",
            "philippines",
            "new zealand",
            "mexico",
            "malaysia",
            "jersey",
            "jamaica",
            "ireland",
            "congo",
            "guyana",
            "bermuda"
           ],
           "legendgroup": "disk",
           "marker": {
            "color": "#FF6692",
            "size": [
             5,
             3,
             1,
             1,
             1,
             1,
             1,
             1,
             1,
             1,
             1,
             1,
             1,
             1
            ],
            "sizemode": "area",
            "sizeref": 0.6504,
            "symbol": "circle"
           },
           "mode": "markers",
           "name": "disk",
           "orientation": "v",
           "showlegend": true,
           "type": "scatter",
           "x": [
            1056,
            1384,
            2731,
            2733,
            2734,
            2735,
            2736,
            2737,
            2738,
            2739,
            2740,
            2773,
            2889,
            2890
           ],
           "xaxis": "x",
           "y": [
            5,
            3,
            1,
            1,
            1,
            1,
            1,
            1,
            1,
            1,
            1,
            1,
            1,
            1
           ],
           "yaxis": "y"
          },
          {
           "hovertemplate": "<b>%{hovertext}</b><br><br>shape=formation<br>year=2012<br>index=%{x}<br>count=%{marker.size}<extra></extra>",
           "hovertext": [
            "netherlands",
            "mexico",
            "lebanon",
            "ireland",
            "hungary",
            "china"
           ],
           "ids": [
            "netherlands",
            "mexico",
            "lebanon",
            "ireland",
            "hungary",
            "china"
           ],
           "legendgroup": "formation",
           "marker": {
            "color": "#B6E880",
            "size": [
             1,
             1,
             1,
             1,
             1,
             1
            ],
            "sizemode": "area",
            "sizeref": 0.6504,
            "symbol": "circle"
           },
           "mode": "markers",
           "name": "formation",
           "orientation": "v",
           "showlegend": true,
           "type": "scatter",
           "x": [
            2747,
            2748,
            2749,
            2750,
            2751,
            2752
           ],
           "xaxis": "x",
           "y": [
            1,
            1,
            1,
            1,
            1,
            1
           ],
           "yaxis": "y"
          },
          {
           "hovertemplate": "<b>%{hovertext}</b><br><br>shape=oval<br>year=2012<br>index=%{x}<br>count=%{marker.size}<extra></extra>",
           "hovertext": [
            "south africa",
            "sweden",
            "pakistan",
            "netherlands",
            "malaysia",
            "lebanon",
            "israel",
            "cape verde",
            "bulgaria"
           ],
           "ids": [
            "south africa",
            "sweden",
            "pakistan",
            "netherlands",
            "malaysia",
            "lebanon",
            "israel",
            "cape verde",
            "bulgaria"
           ],
           "legendgroup": "oval",
           "marker": {
            "color": "#FF97FF",
            "size": [
             3,
             1,
             1,
             1,
             1,
             1,
             1,
             1,
             1
            ],
            "sizemode": "area",
            "sizeref": 0.6504,
            "symbol": "circle"
           },
           "mode": "markers",
           "name": "oval",
           "orientation": "v",
           "showlegend": true,
           "type": "scatter",
           "x": [
            1209,
            2698,
            2700,
            2701,
            2702,
            2703,
            2704,
            2705,
            2707
           ],
           "xaxis": "x",
           "y": [
            3,
            1,
            1,
            1,
            1,
            1,
            1,
            1,
            1
           ],
           "yaxis": "y"
          },
          {
           "hovertemplate": "<b>%{hovertext}</b><br><br>shape=cigar<br>year=2012<br>index=%{x}<br>count=%{marker.size}<extra></extra>",
           "hovertext": [
            "sweden",
            "spain",
            "angola"
           ],
           "ids": [
            "sweden",
            "spain",
            "angola"
           ],
           "legendgroup": "cigar",
           "marker": {
            "color": "#FECB52",
            "size": [
             2,
             1,
             1
            ],
            "sizemode": "area",
            "sizeref": 0.6504,
            "symbol": "circle"
           },
           "mode": "markers",
           "name": "cigar",
           "orientation": "v",
           "showlegend": true,
           "type": "scatter",
           "x": [
            1452,
            3021,
            3023
           ],
           "xaxis": "x",
           "y": [
            2,
            1,
            1
           ],
           "yaxis": "y"
          },
          {
           "hovertemplate": "<b>%{hovertext}</b><br><br>shape=flash<br>year=2012<br>index=%{x}<br>count=%{marker.size}<extra></extra>",
           "hovertext": [
            "lebanon",
            "greenland",
            "dominica"
           ],
           "ids": [
            "lebanon",
            "greenland",
            "dominica"
           ],
           "legendgroup": "flash",
           "marker": {
            "color": "#636efa",
            "size": [
             1,
             1,
             1
            ],
            "sizemode": "area",
            "sizeref": 0.6504,
            "symbol": "circle"
           },
           "mode": "markers",
           "name": "flash",
           "orientation": "v",
           "showlegend": true,
           "type": "scatter",
           "x": [
            2756,
            2758,
            2759
           ],
           "xaxis": "x",
           "y": [
            1,
            1,
            1
           ],
           "yaxis": "y"
          },
          {
           "hovertemplate": "<b>%{hovertext}</b><br><br>shape=rectangle<br>year=2012<br>index=%{x}<br>count=%{marker.size}<extra></extra>",
           "hovertext": [
            "peru"
           ],
           "ids": [
            "peru"
           ],
           "legendgroup": "rectangle",
           "marker": {
            "color": "#EF553B",
            "size": [
             1
            ],
            "sizemode": "area",
            "sizeref": 0.6504,
            "symbol": "circle"
           },
           "mode": "markers",
           "name": "rectangle",
           "orientation": "v",
           "showlegend": true,
           "type": "scatter",
           "x": [
            2694
           ],
           "xaxis": "x",
           "y": [
            1
           ],
           "yaxis": "y"
          },
          {
           "hovertemplate": "<b>%{hovertext}</b><br><br>shape=changed<br>year=2012<br>index=%{x}<br>count=%{marker.size}<extra></extra>",
           "hovertext": [
            "spain",
            "zimbabwe",
            "switzerland",
            "sri lanka"
           ],
           "ids": [
            "spain",
            "zimbabwe",
            "switzerland",
            "sri lanka"
           ],
           "legendgroup": "changed",
           "marker": {
            "color": "#00cc96",
            "size": [
             3,
             1,
             1,
             1
            ],
            "sizemode": "area",
            "sizeref": 0.6504,
            "symbol": "circle"
           },
           "mode": "markers",
           "name": "changed",
           "orientation": "v",
           "showlegend": true,
           "type": "scatter",
           "x": [
            1386,
            3028,
            3031,
            3032
           ],
           "xaxis": "x",
           "y": [
            3,
            1,
            1,
            1
           ],
           "yaxis": "y"
          },
          {
           "hovertemplate": "<b>%{hovertext}</b><br><br>shape=cylinder<br>year=2012<br>index=%{x}<br>count=%{marker.size}<extra></extra>",
           "hovertext": [
            "france"
           ],
           "ids": [
            "france"
           ],
           "legendgroup": "cylinder",
           "marker": {
            "color": "#ab63fa",
            "size": [
             1
            ],
            "sizemode": "area",
            "sizeref": 0.6504,
            "symbol": "circle"
           },
           "mode": "markers",
           "name": "cylinder",
           "orientation": "v",
           "showlegend": true,
           "type": "scatter",
           "x": [
            3048
           ],
           "xaxis": "x",
           "y": [
            1
           ],
           "yaxis": "y"
          },
          {
           "hovertemplate": "<b>%{hovertext}</b><br><br>shape=diamond<br>year=2012<br>index=%{x}<br>count=%{marker.size}<extra></extra>",
           "hovertext": [
            "france"
           ],
           "ids": [
            "france"
           ],
           "legendgroup": "diamond",
           "marker": {
            "color": "#19d3f3",
            "size": [
             1
            ],
            "sizemode": "area",
            "sizeref": 0.6504,
            "symbol": "circle"
           },
           "mode": "markers",
           "name": "diamond",
           "orientation": "v",
           "showlegend": true,
           "type": "scatter",
           "x": [
            3043
           ],
           "xaxis": "x",
           "y": [
            1
           ],
           "yaxis": "y"
          },
          {
           "hovertemplate": "<b>%{hovertext}</b><br><br>shape=cone<br>year=2012<br>index=%{x}<br>count=%{marker.size}<extra></extra>",
           "hovertext": [
            "sri lanka",
            "costa rica"
           ],
           "ids": [
            "sri lanka",
            "costa rica"
           ],
           "legendgroup": "cone",
           "marker": {
            "color": "#B6E880",
            "size": [
             1,
             1
            ],
            "sizemode": "area",
            "sizeref": 0.6504,
            "symbol": "circle"
           },
           "mode": "markers",
           "name": "cone",
           "orientation": "v",
           "showlegend": true,
           "type": "scatter",
           "x": [
            3053,
            3055
           ],
           "xaxis": "x",
           "y": [
            1,
            1
           ],
           "yaxis": "y"
          },
          {
           "hovertemplate": "<b>%{hovertext}</b><br><br>shape=teardrop<br>year=2012<br>index=%{x}<br>count=%{marker.size}<extra></extra>",
           "hovertext": [
            "cyprus"
           ],
           "ids": [
            "cyprus"
           ],
           "legendgroup": "teardrop",
           "marker": {
            "color": "#FF97FF",
            "size": [
             1
            ],
            "sizemode": "area",
            "sizeref": 0.6504,
            "symbol": "circle"
           },
           "mode": "markers",
           "name": "teardrop",
           "orientation": "v",
           "showlegend": true,
           "type": "scatter",
           "x": [
            2849
           ],
           "xaxis": "x",
           "y": [
            1
           ],
           "yaxis": "y"
          }
         ],
         "name": "2012"
        },
        {
         "data": [
          {
           "hovertemplate": "<b>%{hovertext}</b><br><br>shape=light<br>year=2013<br>index=%{x}<br>count=%{marker.size}<extra></extra>",
           "hovertext": [
            "united states",
            "canada",
            "unknown",
            "australia",
            "india",
            "south africa",
            "mexico",
            "lebanon",
            "peru",
            "puerto rico",
            "jordan",
            "argentina",
            "denmark",
            "germany",
            "greece",
            "grenada",
            "indonesia",
            "israel",
            "portugal",
            "poland",
            "norway",
            "nicaragua",
            "new zealand",
            "netherlands",
            "mauritius",
            "kenya",
            "ireland",
            "guam",
            "croatia",
            "costa rica",
            "china",
            "austria",
            "romania",
            "spain",
            "tunisia"
           ],
           "ids": [
            "united states",
            "canada",
            "unknown",
            "australia",
            "india",
            "south africa",
            "mexico",
            "lebanon",
            "peru",
            "puerto rico",
            "jordan",
            "argentina",
            "denmark",
            "germany",
            "greece",
            "grenada",
            "indonesia",
            "israel",
            "portugal",
            "poland",
            "norway",
            "nicaragua",
            "new zealand",
            "netherlands",
            "mauritius",
            "kenya",
            "ireland",
            "guam",
            "croatia",
            "costa rica",
            "china",
            "austria",
            "romania",
            "spain",
            "tunisia"
           ],
           "legendgroup": "light",
           "marker": {
            "color": "#636efa",
            "size": [
             1228,
             82,
             21,
             14,
             11,
             5,
             5,
             3,
             2,
             2,
             2,
             2,
             2,
             2,
             2,
             2,
             2,
             2,
             1,
             1,
             1,
             1,
             1,
             1,
             1,
             1,
             1,
             1,
             1,
             1,
             1,
             1,
             1,
             1,
             1
            ],
            "sizemode": "area",
            "sizeref": 0.6504,
            "symbol": "circle"
           },
           "mode": "markers",
           "name": "light",
           "orientation": "v",
           "showlegend": true,
           "type": "scatter",
           "x": [
            6,
            237,
            528,
            643,
            741,
            1029,
            1042,
            1375,
            1598,
            1618,
            1619,
            1631,
            1633,
            1634,
            1635,
            1636,
            1637,
            1638,
            3365,
            3366,
            3368,
            3369,
            3370,
            3371,
            3373,
            3375,
            3377,
            3380,
            3384,
            3385,
            3386,
            3387,
            3392,
            3394,
            3419
           ],
           "xaxis": "x",
           "y": [
            1228,
            82,
            21,
            14,
            11,
            5,
            5,
            3,
            2,
            2,
            2,
            2,
            2,
            2,
            2,
            2,
            2,
            2,
            1,
            1,
            1,
            1,
            1,
            1,
            1,
            1,
            1,
            1,
            1,
            1,
            1,
            1,
            1,
            1,
            1
           ],
           "yaxis": "y"
          },
          {
           "hovertemplate": "<b>%{hovertext}</b><br><br>shape=unknown<br>year=2013<br>index=%{x}<br>count=%{marker.size}<extra></extra>",
           "hovertext": [
            "united states",
            "canada",
            "unknown",
            "india",
            "australia",
            "mexico",
            "belgium",
            "lebanon",
            "cyprus",
            "ecuador",
            "france",
            "sweden",
            "poland",
            "norway",
            "kenya",
            "isle of man"
           ],
           "ids": [
            "united states",
            "canada",
            "unknown",
            "india",
            "australia",
            "mexico",
            "belgium",
            "lebanon",
            "cyprus",
            "ecuador",
            "france",
            "sweden",
            "poland",
            "norway",
            "kenya",
            "isle of man"
           ],
           "legendgroup": "unknown",
           "marker": {
            "color": "#EF553B",
            "size": [
             771,
             50,
             24,
             11,
             8,
             4,
             2,
             2,
             1,
             1,
             1,
             1,
             1,
             1,
             1,
             1
            ],
            "sizemode": "area",
            "sizeref": 0.6504,
            "symbol": "circle"
           },
           "mode": "markers",
           "name": "unknown",
           "orientation": "v",
           "showlegend": true,
           "type": "scatter",
           "x": [
            20,
            317,
            478,
            739,
            827,
            1127,
            1612,
            1614,
            3569,
            3570,
            3571,
            3586,
            3588,
            3589,
            3591,
            3593
           ],
           "xaxis": "x",
           "y": [
            771,
            50,
            24,
            11,
            8,
            4,
            2,
            2,
            1,
            1,
            1,
            1,
            1,
            1,
            1,
            1
           ],
           "yaxis": "y"
          },
          {
           "hovertemplate": "<b>%{hovertext}</b><br><br>shape=circle<br>year=2013<br>index=%{x}<br>count=%{marker.size}<extra></extra>",
           "hovertext": [
            "united states",
            "canada",
            "unknown",
            "india",
            "lebanon",
            "mauritius",
            "new zealand",
            "thailand",
            "cyprus",
            "costa rica",
            "china",
            "brazil",
            "belgium",
            "ethiopia",
            "germany",
            "ireland",
            "south africa",
            "romania",
            "philippines",
            "norway",
            "mexico",
            "lithuania",
            "lesotho",
            "israel"
           ],
           "ids": [
            "united states",
            "canada",
            "unknown",
            "india",
            "lebanon",
            "mauritius",
            "new zealand",
            "thailand",
            "cyprus",
            "costa rica",
            "china",
            "brazil",
            "belgium",
            "ethiopia",
            "germany",
            "ireland",
            "south africa",
            "romania",
            "philippines",
            "norway",
            "mexico",
            "lithuania",
            "lesotho",
            "israel"
           ],
           "legendgroup": "circle",
           "marker": {
            "color": "#00cc96",
            "size": [
             773,
             48,
             11,
             10,
             2,
             2,
             2,
             2,
             1,
             1,
             1,
             1,
             1,
             1,
             1,
             1,
             1,
             1,
             1,
             1,
             1,
             1,
             1,
             1
            ],
            "sizemode": "area",
            "sizeref": 0.6504,
            "symbol": "circle"
           },
           "mode": "markers",
           "name": "circle",
           "orientation": "v",
           "showlegend": true,
           "type": "scatter",
           "x": [
            19,
            329,
            756,
            778,
            1560,
            1561,
            1562,
            1563,
            2775,
            2776,
            2777,
            2778,
            2779,
            2801,
            2802,
            2804,
            2820,
            2821,
            2822,
            2823,
            2825,
            2827,
            2828,
            2829
           ],
           "xaxis": "x",
           "y": [
            773,
            48,
            11,
            10,
            2,
            2,
            2,
            2,
            1,
            1,
            1,
            1,
            1,
            1,
            1,
            1,
            1,
            1,
            1,
            1,
            1,
            1,
            1,
            1
           ],
           "yaxis": "y"
          },
          {
           "hovertemplate": "<b>%{hovertext}</b><br><br>shape=fireball<br>year=2013<br>index=%{x}<br>count=%{marker.size}<extra></extra>",
           "hovertext": [
            "united states",
            "canada",
            "australia",
            "philippines",
            "honduras",
            "guatemala",
            "egypt",
            "dominica",
            "czech republic",
            "italy",
            "jamaica",
            "latvia",
            "poland",
            "peru",
            "pakistan",
            "new zealand"
           ],
           "ids": [
            "united states",
            "canada",
            "australia",
            "philippines",
            "honduras",
            "guatemala",
            "egypt",
            "dominica",
            "czech republic",
            "italy",
            "jamaica",
            "latvia",
            "poland",
            "peru",
            "pakistan",
            "new zealand"
           ],
           "legendgroup": "fireball",
           "marker": {
            "color": "#ab63fa",
            "size": [
             759,
             41,
             5,
             2,
             1,
             1,
             1,
             1,
             1,
             1,
             1,
             1,
             1,
             1,
             1,
             1
            ],
            "sizemode": "area",
            "sizeref": 0.6504,
            "symbol": "circle"
           },
           "mode": "markers",
           "name": "fireball",
           "orientation": "v",
           "showlegend": true,
           "type": "scatter",
           "x": [
            21,
            357,
            1065,
            1622,
            3425,
            3426,
            3427,
            3428,
            3429,
            3450,
            3451,
            3452,
            3473,
            3475,
            3476,
            3477
           ],
           "xaxis": "x",
           "y": [
            759,
            41,
            5,
            2,
            1,
            1,
            1,
            1,
            1,
            1,
            1,
            1,
            1,
            1,
            1,
            1
           ],
           "yaxis": "y"
          },
          {
           "hovertemplate": "<b>%{hovertext}</b><br><br>shape=triangle<br>year=2013<br>index=%{x}<br>count=%{marker.size}<extra></extra>",
           "hovertext": [
            "united states",
            "unknown",
            "india",
            "china",
            "sweden",
            "malaysia",
            "jordan",
            "germany",
            "france",
            "egypt",
            "costa rica"
           ],
           "ids": [
            "united states",
            "unknown",
            "india",
            "china",
            "sweden",
            "malaysia",
            "jordan",
            "germany",
            "france",
            "egypt",
            "costa rica"
           ],
           "legendgroup": "triangle",
           "marker": {
            "color": "#FFA15A",
            "size": [
             487,
             8,
             5,
             1,
             1,
             1,
             1,
             1,
             1,
             1,
             1
            ],
            "sizemode": "area",
            "sizeref": 0.6504,
            "symbol": "circle"
           },
           "mode": "markers",
           "name": "triangle",
           "orientation": "v",
           "showlegend": true,
           "type": "scatter",
           "x": [
            44,
            826,
            1067,
            3541,
            3544,
            3547,
            3548,
            3550,
            3551,
            3552,
            3553
           ],
           "xaxis": "x",
           "y": [
            487,
            8,
            5,
            1,
            1,
            1,
            1,
            1,
            1,
            1,
            1
           ],
           "yaxis": "y"
          },
          {
           "hovertemplate": "<b>%{hovertext}</b><br><br>shape=sphere<br>year=2013<br>index=%{x}<br>count=%{marker.size}<extra></extra>",
           "hovertext": [
            "canada",
            "unknown",
            "australia",
            "peru",
            "cyprus",
            "georgia",
            "finland",
            "guyana",
            "israel",
            "south africa",
            "slovakia",
            "poland",
            "panama",
            "malta",
            "malaysia",
            "jamaica"
           ],
           "ids": [
            "canada",
            "unknown",
            "australia",
            "peru",
            "cyprus",
            "georgia",
            "finland",
            "guyana",
            "israel",
            "south africa",
            "slovakia",
            "poland",
            "panama",
            "malta",
            "malaysia",
            "jamaica"
           ],
           "legendgroup": "sphere",
           "marker": {
            "color": "#19d3f3",
            "size": [
             37,
             11,
             2,
             2,
             1,
             1,
             1,
             1,
             1,
             1,
             1,
             1,
             1,
             1,
             1,
             1
            ],
            "sizemode": "area",
            "sizeref": 0.6504,
            "symbol": "circle"
           },
           "mode": "markers",
           "name": "sphere",
           "orientation": "v",
           "showlegend": true,
           "type": "scatter",
           "x": [
            377,
            737,
            1604,
            1606,
            3395,
            3422,
            3479,
            3480,
            3540,
            3560,
            3561,
            3562,
            3564,
            3565,
            3566,
            3567
           ],
           "xaxis": "x",
           "y": [
            37,
            11,
            2,
            2,
            1,
            1,
            1,
            1,
            1,
            1,
            1,
            1,
            1,
            1,
            1,
            1
           ],
           "yaxis": "y"
          },
          {
           "hovertemplate": "<b>%{hovertext}</b><br><br>shape=disk<br>year=2013<br>index=%{x}<br>count=%{marker.size}<extra></extra>",
           "hovertext": [
            "india",
            "australia",
            "cuba",
            "lebanon",
            "south africa",
            "philippines",
            "malta",
            "jersey",
            "indonesia",
            "albania"
           ],
           "ids": [
            "india",
            "australia",
            "cuba",
            "lebanon",
            "south africa",
            "philippines",
            "malta",
            "jersey",
            "indonesia",
            "albania"
           ],
           "legendgroup": "disk",
           "marker": {
            "color": "#FF6692",
            "size": [
             7,
             6,
             2,
             2,
             1,
             1,
             1,
             1,
             1,
             1
            ],
            "sizemode": "area",
            "sizeref": 0.6504,
            "symbol": "circle"
           },
           "mode": "markers",
           "name": "disk",
           "orientation": "v",
           "showlegend": true,
           "type": "scatter",
           "x": [
            916,
            978,
            1569,
            1571,
            3436,
            3438,
            3439,
            3441,
            3442,
            3446
           ],
           "xaxis": "x",
           "y": [
            7,
            6,
            2,
            2,
            1,
            1,
            1,
            1,
            1,
            1
           ],
           "yaxis": "y"
          },
          {
           "hovertemplate": "<b>%{hovertext}</b><br><br>shape=formation<br>year=2013<br>index=%{x}<br>count=%{marker.size}<extra></extra>",
           "hovertext": [
            "puerto rico",
            "philippines",
            "peru",
            "israel",
            "belarus",
            "afghanistan"
           ],
           "ids": [
            "puerto rico",
            "philippines",
            "peru",
            "israel",
            "belarus",
            "afghanistan"
           ],
           "legendgroup": "formation",
           "marker": {
            "color": "#B6E880",
            "size": [
             2,
             1,
             1,
             1,
             1,
             1
            ],
            "sizemode": "area",
            "sizeref": 0.6504,
            "symbol": "circle"
           },
           "mode": "markers",
           "name": "formation",
           "orientation": "v",
           "showlegend": true,
           "type": "scatter",
           "x": [
            1630,
            3378,
            3421,
            3455,
            3458,
            3460
           ],
           "xaxis": "x",
           "y": [
            2,
            1,
            1,
            1,
            1,
            1
           ],
           "yaxis": "y"
          },
          {
           "hovertemplate": "<b>%{hovertext}</b><br><br>shape=oval<br>year=2013<br>index=%{x}<br>count=%{marker.size}<extra></extra>",
           "hovertext": [
            "lebanon",
            "south africa",
            "pakistan",
            "new zealand",
            "indonesia",
            "germany",
            "bulgaria"
           ],
           "ids": [
            "lebanon",
            "south africa",
            "pakistan",
            "new zealand",
            "indonesia",
            "germany",
            "bulgaria"
           ],
           "legendgroup": "oval",
           "marker": {
            "color": "#FF97FF",
            "size": [
             2,
             1,
             1,
             1,
             1,
             1,
             1
            ],
            "sizemode": "area",
            "sizeref": 0.6504,
            "symbol": "circle"
           },
           "mode": "markers",
           "name": "oval",
           "orientation": "v",
           "showlegend": true,
           "type": "scatter",
           "x": [
            1602,
            3406,
            3407,
            3408,
            3411,
            3413,
            3415
           ],
           "xaxis": "x",
           "y": [
            2,
            1,
            1,
            1,
            1,
            1,
            1
           ],
           "yaxis": "y"
          },
          {
           "hovertemplate": "<b>%{hovertext}</b><br><br>shape=cigar<br>year=2013<br>index=%{x}<br>count=%{marker.size}<extra></extra>",
           "hovertext": [
            "puerto rico",
            "myanmar"
           ],
           "ids": [
            "puerto rico",
            "myanmar"
           ],
           "legendgroup": "cigar",
           "marker": {
            "color": "#FECB52",
            "size": [
             1,
             1
            ],
            "sizemode": "area",
            "sizeref": 0.6504,
            "symbol": "circle"
           },
           "mode": "markers",
           "name": "cigar",
           "orientation": "v",
           "showlegend": true,
           "type": "scatter",
           "x": [
            2783,
            2784
           ],
           "xaxis": "x",
           "y": [
            1,
            1
           ],
           "yaxis": "y"
          },
          {
           "hovertemplate": "<b>%{hovertext}</b><br><br>shape=flash<br>year=2013<br>index=%{x}<br>count=%{marker.size}<extra></extra>",
           "hovertext": [
            "romania",
            "puerto rico",
            "malaysia",
            "jordan",
            "ireland",
            "honduras"
           ],
           "ids": [
            "romania",
            "puerto rico",
            "malaysia",
            "jordan",
            "ireland",
            "honduras"
           ],
           "legendgroup": "flash",
           "marker": {
            "color": "#636efa",
            "size": [
             1,
             1,
             1,
             1,
             1,
             1
            ],
            "sizemode": "area",
            "sizeref": 0.6504,
            "symbol": "circle"
           },
           "mode": "markers",
           "name": "flash",
           "orientation": "v",
           "showlegend": true,
           "type": "scatter",
           "x": [
            3463,
            3464,
            3465,
            3466,
            3467,
            3468
           ],
           "xaxis": "x",
           "y": [
            1,
            1,
            1,
            1,
            1,
            1
           ],
           "yaxis": "y"
          },
          {
           "hovertemplate": "<b>%{hovertext}</b><br><br>shape=rectangle<br>year=2013<br>index=%{x}<br>count=%{marker.size}<extra></extra>",
           "hovertext": [
            "sri lanka",
            "jersey",
            "brazil"
           ],
           "ids": [
            "sri lanka",
            "jersey",
            "brazil"
           ],
           "legendgroup": "rectangle",
           "marker": {
            "color": "#EF553B",
            "size": [
             1,
             1,
             1
            ],
            "sizemode": "area",
            "sizeref": 0.6504,
            "symbol": "circle"
           },
           "mode": "markers",
           "name": "rectangle",
           "orientation": "v",
           "showlegend": true,
           "type": "scatter",
           "x": [
            3400,
            3401,
            3404
           ],
           "xaxis": "x",
           "y": [
            1,
            1,
            1
           ],
           "yaxis": "y"
          },
          {
           "hovertemplate": "<b>%{hovertext}</b><br><br>shape=changed<br>year=2013<br>index=%{x}<br>count=%{marker.size}<extra></extra>",
           "hovertext": [
            "puerto rico",
            "philippines",
            "malaysia",
            "italy",
            "ireland",
            "argentina"
           ],
           "ids": [
            "puerto rico",
            "philippines",
            "malaysia",
            "italy",
            "ireland",
            "argentina"
           ],
           "legendgroup": "changed",
           "marker": {
            "color": "#00cc96",
            "size": [
             1,
             1,
             1,
             1,
             1,
             1
            ],
            "sizemode": "area",
            "sizeref": 0.6504,
            "symbol": "circle"
           },
           "mode": "markers",
           "name": "changed",
           "orientation": "v",
           "showlegend": true,
           "type": "scatter",
           "x": [
            2793,
            2794,
            2795,
            2796,
            2797,
            2800
           ],
           "xaxis": "x",
           "y": [
            1,
            1,
            1,
            1,
            1,
            1
           ],
           "yaxis": "y"
          },
          {
           "hovertemplate": "<b>%{hovertext}</b><br><br>shape=cylinder<br>year=2013<br>index=%{x}<br>count=%{marker.size}<extra></extra>",
           "hovertext": [
            "indonesia",
            "germany"
           ],
           "ids": [
            "indonesia",
            "germany"
           ],
           "legendgroup": "cylinder",
           "marker": {
            "color": "#ab63fa",
            "size": [
             3,
             1
            ],
            "sizemode": "area",
            "sizeref": 0.6504,
            "symbol": "circle"
           },
           "mode": "markers",
           "name": "cylinder",
           "orientation": "v",
           "showlegend": true,
           "type": "scatter",
           "x": [
            1227,
            2808
           ],
           "xaxis": "x",
           "y": [
            3,
            1
           ],
           "yaxis": "y"
          },
          {
           "hovertemplate": "<b>%{hovertext}</b><br><br>shape=egg<br>year=2013<br>index=%{x}<br>count=%{marker.size}<extra></extra>",
           "hovertext": [
            "france"
           ],
           "ids": [
            "france"
           ],
           "legendgroup": "egg",
           "marker": {
            "color": "#FFA15A",
            "size": [
             1
            ],
            "sizemode": "area",
            "sizeref": 0.6504,
            "symbol": "circle"
           },
           "mode": "markers",
           "name": "egg",
           "orientation": "v",
           "showlegend": true,
           "type": "scatter",
           "x": [
            3433
           ],
           "xaxis": "x",
           "y": [
            1
           ],
           "yaxis": "y"
          },
          {
           "hovertemplate": "<b>%{hovertext}</b><br><br>shape=diamond<br>year=2013<br>index=%{x}<br>count=%{marker.size}<extra></extra>",
           "hovertext": [
            "israel",
            "mexico",
            "spain"
           ],
           "ids": [
            "israel",
            "mexico",
            "spain"
           ],
           "legendgroup": "diamond",
           "marker": {
            "color": "#19d3f3",
            "size": [
             1,
             1,
             1
            ],
            "sizemode": "area",
            "sizeref": 0.6504,
            "symbol": "circle"
           },
           "mode": "markers",
           "name": "diamond",
           "orientation": "v",
           "showlegend": true,
           "type": "scatter",
           "x": [
            3126,
            3363,
            3449
           ],
           "xaxis": "x",
           "y": [
            1,
            1,
            1
           ],
           "yaxis": "y"
          },
          {
           "hovertemplate": "<b>%{hovertext}</b><br><br>shape=chevron<br>year=2013<br>index=%{x}<br>count=%{marker.size}<extra></extra>",
           "hovertext": [
            "japan"
           ],
           "ids": [
            "japan"
           ],
           "legendgroup": "chevron",
           "marker": {
            "color": "#FF6692",
            "size": [
             1
            ],
            "sizemode": "area",
            "sizeref": 0.6504,
            "symbol": "circle"
           },
           "mode": "markers",
           "name": "chevron",
           "orientation": "v",
           "showlegend": true,
           "type": "scatter",
           "x": [
            2787
           ],
           "xaxis": "x",
           "y": [
            1
           ],
           "yaxis": "y"
          },
          {
           "hovertemplate": "<b>%{hovertext}</b><br><br>shape=cone<br>year=2013<br>index=%{x}<br>count=%{marker.size}<extra></extra>",
           "hovertext": [
            "maldives",
            "ireland"
           ],
           "ids": [
            "maldives",
            "ireland"
           ],
           "legendgroup": "cone",
           "marker": {
            "color": "#B6E880",
            "size": [
             1,
             1
            ],
            "sizemode": "area",
            "sizeref": 0.6504,
            "symbol": "circle"
           },
           "mode": "markers",
           "name": "cone",
           "orientation": "v",
           "showlegend": true,
           "type": "scatter",
           "x": [
            2814,
            2815
           ],
           "xaxis": "x",
           "y": [
            1,
            1
           ],
           "yaxis": "y"
          },
          {
           "hovertemplate": "<b>%{hovertext}</b><br><br>shape=cross<br>year=2013<br>index=%{x}<br>count=%{marker.size}<extra></extra>",
           "hovertext": [
            "mexico"
           ],
           "ids": [
            "mexico"
           ],
           "legendgroup": "cross",
           "marker": {
            "color": "#FECB52",
            "size": [
             1
            ],
            "sizemode": "area",
            "sizeref": 0.6504,
            "symbol": "circle"
           },
           "mode": "markers",
           "name": "cross",
           "orientation": "v",
           "showlegend": true,
           "type": "scatter",
           "x": [
            2811
           ],
           "xaxis": "x",
           "y": [
            1
           ],
           "yaxis": "y"
          }
         ],
         "name": "2013"
        },
        {
         "data": [
          {
           "hovertemplate": "<b>%{hovertext}</b><br><br>shape=light<br>year=2016<br>index=%{x}<br>count=%{marker.size}<extra></extra>",
           "hovertext": [
            "united states",
            "canada",
            "unknown",
            "india",
            "australia",
            "south africa",
            "portugal",
            "new zealand",
            "netherlands",
            "lebanon",
            "pakistan",
            "mexico",
            "jordan",
            "japan",
            "jamaica",
            "ireland",
            "indonesia",
            "botswana",
            "spain",
            "switzerland",
            "thailand"
           ],
           "ids": [
            "united states",
            "canada",
            "unknown",
            "india",
            "australia",
            "south africa",
            "portugal",
            "new zealand",
            "netherlands",
            "lebanon",
            "pakistan",
            "mexico",
            "jordan",
            "japan",
            "jamaica",
            "ireland",
            "indonesia",
            "botswana",
            "spain",
            "switzerland",
            "thailand"
           ],
           "legendgroup": "light",
           "marker": {
            "color": "#636efa",
            "size": [
             1120,
             50,
             13,
             7,
             5,
             2,
             2,
             2,
             2,
             2,
             1,
             1,
             1,
             1,
             1,
             1,
             1,
             1,
             1,
             1,
             1
            ],
            "sizemode": "area",
            "sizeref": 0.6504,
            "symbol": "circle"
           },
           "mode": "markers",
           "name": "light",
           "orientation": "v",
           "showlegend": true,
           "type": "scatter",
           "x": [
            8,
            319,
            696,
            900,
            1021,
            1554,
            1556,
            1559,
            1564,
            1565,
            2032,
            2036,
            2039,
            2040,
            2042,
            2043,
            2044,
            2047,
            2051,
            2151,
            2171
           ],
           "xaxis": "x",
           "y": [
            1120,
            50,
            13,
            7,
            5,
            2,
            2,
            2,
            2,
            2,
            1,
            1,
            1,
            1,
            1,
            1,
            1,
            1,
            1,
            1,
            1
           ],
           "yaxis": "y"
          },
          {
           "hovertemplate": "<b>%{hovertext}</b><br><br>shape=unknown<br>year=2016<br>index=%{x}<br>count=%{marker.size}<extra></extra>",
           "hovertext": [
            "united states",
            "canada",
            "unknown",
            "india",
            "australia",
            "jordan",
            "mexico",
            "puerto rico",
            "philippines",
            "peru",
            "norway",
            "lithuania",
            "indonesia",
            "colombia"
           ],
           "ids": [
            "united states",
            "canada",
            "unknown",
            "india",
            "australia",
            "jordan",
            "mexico",
            "puerto rico",
            "philippines",
            "peru",
            "norway",
            "lithuania",
            "indonesia",
            "colombia"
           ],
           "legendgroup": "unknown",
           "marker": {
            "color": "#EF553B",
            "size": [
             793,
             33,
             15,
             5,
             5,
             2,
             2,
             2,
             1,
             1,
             1,
             1,
             1,
             1
            ],
            "sizemode": "area",
            "sizeref": 0.6504,
            "symbol": "circle"
           },
           "mode": "markers",
           "name": "unknown",
           "orientation": "v",
           "showlegend": true,
           "type": "scatter",
           "x": [
            17,
            401,
            636,
            1004,
            1019,
            1433,
            1437,
            1448,
            2107,
            2108,
            2109,
            2111,
            2113,
            2117
           ],
           "xaxis": "x",
           "y": [
            793,
            33,
            15,
            5,
            5,
            2,
            2,
            2,
            1,
            1,
            1,
            1,
            1,
            1
           ],
           "yaxis": "y"
          },
          {
           "hovertemplate": "<b>%{hovertext}</b><br><br>shape=circle<br>year=2016<br>index=%{x}<br>count=%{marker.size}<extra></extra>",
           "hovertext": [
            "united states",
            "canada",
            "unknown",
            "panama",
            "india",
            "malaysia",
            "spain",
            "south africa",
            "poland",
            "italy",
            "japan",
            "philippines",
            "lebanon",
            "oman",
            "hong kong",
            "angola",
            "australia",
            "mauritius"
           ],
           "ids": [
            "united states",
            "canada",
            "unknown",
            "panama",
            "india",
            "malaysia",
            "spain",
            "south africa",
            "poland",
            "italy",
            "japan",
            "philippines",
            "lebanon",
            "oman",
            "hong kong",
            "angola",
            "australia",
            "mauritius"
           ],
           "legendgroup": "circle",
           "marker": {
            "color": "#00cc96",
            "size": [
             700,
             18,
             7,
             4,
             3,
             1,
             1,
             1,
             1,
             1,
             1,
             1,
             1,
             1,
             1,
             1,
             1,
             1
            ],
            "sizemode": "area",
            "sizeref": 0.6504,
            "symbol": "circle"
           },
           "mode": "markers",
           "name": "circle",
           "orientation": "v",
           "showlegend": true,
           "type": "scatter",
           "x": [
            27,
            569,
            887,
            1122,
            1360,
            2000,
            2065,
            2066,
            2067,
            2068,
            2069,
            2070,
            2072,
            2073,
            2075,
            2083,
            2087,
            2137
           ],
           "xaxis": "x",
           "y": [
            700,
            18,
            7,
            4,
            3,
            1,
            1,
            1,
            1,
            1,
            1,
            1,
            1,
            1,
            1,
            1,
            1,
            1
           ],
           "yaxis": "y"
          },
          {
           "hovertemplate": "<b>%{hovertext}</b><br><br>shape=fireball<br>year=2016<br>index=%{x}<br>count=%{marker.size}<extra></extra>",
           "hovertext": [
            "united states",
            "sri lanka",
            "lebanon",
            "jordan",
            "chad"
           ],
           "ids": [
            "united states",
            "sri lanka",
            "lebanon",
            "jordan",
            "chad"
           ],
           "legendgroup": "fireball",
           "marker": {
            "color": "#ab63fa",
            "size": [
             440,
             1,
             1,
             1,
             1
            ],
            "sizemode": "area",
            "sizeref": 0.6504,
            "symbol": "circle"
           },
           "mode": "markers",
           "name": "fireball",
           "orientation": "v",
           "showlegend": true,
           "type": "scatter",
           "x": [
            49,
            2020,
            2022,
            2049,
            2078
           ],
           "xaxis": "x",
           "y": [
            440,
            1,
            1,
            1,
            1
           ],
           "yaxis": "y"
          },
          {
           "hovertemplate": "<b>%{hovertext}</b><br><br>shape=triangle<br>year=2016<br>index=%{x}<br>count=%{marker.size}<extra></extra>",
           "hovertext": [
            "united states",
            "unknown",
            "australia",
            "india",
            "poland",
            "spain",
            "new zealand",
            "jersey",
            "ireland",
            "france",
            "finland",
            "china",
            "argentina"
           ],
           "ids": [
            "united states",
            "unknown",
            "australia",
            "india",
            "poland",
            "spain",
            "new zealand",
            "jersey",
            "ireland",
            "france",
            "finland",
            "china",
            "argentina"
           ],
           "legendgroup": "triangle",
           "marker": {
            "color": "#FFA15A",
            "size": [
             517,
             6,
             4,
             2,
             1,
             1,
             1,
             1,
             1,
             1,
             1,
             1,
             1
            ],
            "sizemode": "area",
            "sizeref": 0.6504,
            "symbol": "circle"
           },
           "mode": "markers",
           "name": "triangle",
           "orientation": "v",
           "showlegend": true,
           "type": "scatter",
           "x": [
            40,
            985,
            1142,
            1406,
            2126,
            2149,
            2176,
            2178,
            2179,
            2180,
            2182,
            2183,
            2186
           ],
           "xaxis": "x",
           "y": [
            517,
            6,
            4,
            2,
            1,
            1,
            1,
            1,
            1,
            1,
            1,
            1,
            1
           ],
           "yaxis": "y"
          },
          {
           "hovertemplate": "<b>%{hovertext}</b><br><br>shape=sphere<br>year=2016<br>index=%{x}<br>count=%{marker.size}<extra></extra>",
           "hovertext": [
            "canada",
            "mexico",
            "india",
            "hong kong",
            "cambodia",
            "spain",
            "poland",
            "panama",
            "pakistan"
           ],
           "ids": [
            "canada",
            "mexico",
            "india",
            "hong kong",
            "cambodia",
            "spain",
            "poland",
            "panama",
            "pakistan"
           ],
           "legendgroup": "sphere",
           "marker": {
            "color": "#19d3f3",
            "size": [
             14,
             2,
             2,
             1,
             1,
             1,
             1,
             1,
             1
            ],
            "sizemode": "area",
            "sizeref": 0.6504,
            "symbol": "circle"
           },
           "mode": "markers",
           "name": "sphere",
           "orientation": "v",
           "showlegend": true,
           "type": "scatter",
           "x": [
            668,
            1589,
            1590,
            2152,
            2153,
            2193,
            2194,
            2195,
            2196
           ],
           "xaxis": "x",
           "y": [
            14,
            2,
            2,
            1,
            1,
            1,
            1,
            1,
            1
           ],
           "yaxis": "y"
          },
          {
           "hovertemplate": "<b>%{hovertext}</b><br><br>shape=disk<br>year=2016<br>index=%{x}<br>count=%{marker.size}<extra></extra>",
           "hovertext": [
            "canada",
            "unknown",
            "sri lanka",
            "puerto rico",
            "philippines",
            "new zealand",
            "mexico",
            "kenya",
            "japan",
            "israel",
            "greece",
            "colombia",
            "australia"
           ],
           "ids": [
            "canada",
            "unknown",
            "sri lanka",
            "puerto rico",
            "philippines",
            "new zealand",
            "mexico",
            "kenya",
            "japan",
            "israel",
            "greece",
            "colombia",
            "australia"
           ],
           "legendgroup": "disk",
           "marker": {
            "color": "#FF6692",
            "size": [
             11,
             4,
             1,
             1,
             1,
             1,
             1,
             1,
             1,
             1,
             1,
             1,
             1
            ],
            "sizemode": "area",
            "sizeref": 0.6504,
            "symbol": "circle"
           },
           "mode": "markers",
           "name": "disk",
           "orientation": "v",
           "showlegend": true,
           "type": "scatter",
           "x": [
            742,
            1115,
            2084,
            2085,
            2086,
            2088,
            2089,
            2090,
            2091,
            2092,
            2095,
            2096,
            2098
           ],
           "xaxis": "x",
           "y": [
            11,
            4,
            1,
            1,
            1,
            1,
            1,
            1,
            1,
            1,
            1,
            1,
            1
           ],
           "yaxis": "y"
          },
          {
           "hovertemplate": "<b>%{hovertext}</b><br><br>shape=formation<br>year=2016<br>index=%{x}<br>count=%{marker.size}<extra></extra>",
           "hovertext": [
            "south africa",
            "panama"
           ],
           "ids": [
            "south africa",
            "panama"
           ],
           "legendgroup": "formation",
           "marker": {
            "color": "#B6E880",
            "size": [
             2,
             1
            ],
            "sizemode": "area",
            "sizeref": 0.6504,
            "symbol": "circle"
           },
           "mode": "markers",
           "name": "formation",
           "orientation": "v",
           "showlegend": true,
           "type": "scatter",
           "x": [
            1624,
            2004
           ],
           "xaxis": "x",
           "y": [
            2,
            1
           ],
           "yaxis": "y"
          },
          {
           "hovertemplate": "<b>%{hovertext}</b><br><br>shape=oval<br>year=2016<br>index=%{x}<br>count=%{marker.size}<extra></extra>",
           "hovertext": [
            "serbia",
            "croatia"
           ],
           "ids": [
            "serbia",
            "croatia"
           ],
           "legendgroup": "oval",
           "marker": {
            "color": "#FF97FF",
            "size": [
             1,
             1
            ],
            "sizemode": "area",
            "sizeref": 0.6504,
            "symbol": "circle"
           },
           "mode": "markers",
           "name": "oval",
           "orientation": "v",
           "showlegend": true,
           "type": "scatter",
           "x": [
            2162,
            2166
           ],
           "xaxis": "x",
           "y": [
            1,
            1
           ],
           "yaxis": "y"
          },
          {
           "hovertemplate": "<b>%{hovertext}</b><br><br>shape=cigar<br>year=2016<br>index=%{x}<br>count=%{marker.size}<extra></extra>",
           "hovertext": [
            "mexico"
           ],
           "ids": [
            "mexico"
           ],
           "legendgroup": "cigar",
           "marker": {
            "color": "#FECB52",
            "size": [
             1
            ],
            "sizemode": "area",
            "sizeref": 0.6504,
            "symbol": "circle"
           },
           "mode": "markers",
           "name": "cigar",
           "orientation": "v",
           "showlegend": true,
           "type": "scatter",
           "x": [
            2026
           ],
           "xaxis": "x",
           "y": [
            1
           ],
           "yaxis": "y"
          },
          {
           "hovertemplate": "<b>%{hovertext}</b><br><br>shape=flash<br>year=2016<br>index=%{x}<br>count=%{marker.size}<extra></extra>",
           "hovertext": [
            "sri lanka",
            "puerto rico",
            "new zealand",
            "nepal",
            "hungary",
            "cyprus"
           ],
           "ids": [
            "sri lanka",
            "puerto rico",
            "new zealand",
            "nepal",
            "hungary",
            "cyprus"
           ],
           "legendgroup": "flash",
           "marker": {
            "color": "#636efa",
            "size": [
             1,
             1,
             1,
             1,
             1,
             1
            ],
            "sizemode": "area",
            "sizeref": 0.6504,
            "symbol": "circle"
           },
           "mode": "markers",
           "name": "flash",
           "orientation": "v",
           "showlegend": true,
           "type": "scatter",
           "x": [
            2009,
            2010,
            2011,
            2012,
            2014,
            2015
           ],
           "xaxis": "x",
           "y": [
            1,
            1,
            1,
            1,
            1,
            1
           ],
           "yaxis": "y"
          },
          {
           "hovertemplate": "<b>%{hovertext}</b><br><br>shape=rectangle<br>year=2016<br>index=%{x}<br>count=%{marker.size}<extra></extra>",
           "hovertext": [
            "jordan",
            "jersey",
            "hungary",
            "egypt"
           ],
           "ids": [
            "jordan",
            "jersey",
            "hungary",
            "egypt"
           ],
           "legendgroup": "rectangle",
           "marker": {
            "color": "#EF553B",
            "size": [
             1,
             1,
             1,
             1
            ],
            "sizemode": "area",
            "sizeref": 0.6504,
            "symbol": "circle"
           },
           "mode": "markers",
           "name": "rectangle",
           "orientation": "v",
           "showlegend": true,
           "type": "scatter",
           "x": [
            2155,
            2156,
            2157,
            2158
           ],
           "xaxis": "x",
           "y": [
            1,
            1,
            1,
            1
           ],
           "yaxis": "y"
          },
          {
           "hovertemplate": "<b>%{hovertext}</b><br><br>shape=cylinder<br>year=2016<br>index=%{x}<br>count=%{marker.size}<extra></extra>",
           "hovertext": [
            "spain",
            "malaysia",
            "bulgaria"
           ],
           "ids": [
            "spain",
            "malaysia",
            "bulgaria"
           ],
           "legendgroup": "cylinder",
           "marker": {
            "color": "#ab63fa",
            "size": [
             1,
             1,
             1
            ],
            "sizemode": "area",
            "sizeref": 0.6504,
            "symbol": "circle"
           },
           "mode": "markers",
           "name": "cylinder",
           "orientation": "v",
           "showlegend": true,
           "type": "scatter",
           "x": [
            2054,
            2055,
            2057
           ],
           "xaxis": "x",
           "y": [
            1,
            1,
            1
           ],
           "yaxis": "y"
          },
          {
           "hovertemplate": "<b>%{hovertext}</b><br><br>shape=chevron<br>year=2016<br>index=%{x}<br>count=%{marker.size}<extra></extra>",
           "hovertext": [
            "jordan"
           ],
           "ids": [
            "jordan"
           ],
           "legendgroup": "chevron",
           "marker": {
            "color": "#FF6692",
            "size": [
             1
            ],
            "sizemode": "area",
            "sizeref": 0.6504,
            "symbol": "circle"
           },
           "mode": "markers",
           "name": "chevron",
           "orientation": "v",
           "showlegend": true,
           "type": "scatter",
           "x": [
            2017
           ],
           "xaxis": "x",
           "y": [
            1
           ],
           "yaxis": "y"
          },
          {
           "hovertemplate": "<b>%{hovertext}</b><br><br>shape=cone<br>year=2016<br>index=%{x}<br>count=%{marker.size}<extra></extra>",
           "hovertext": [
            "south africa",
            "new zealand",
            "albania"
           ],
           "ids": [
            "south africa",
            "new zealand",
            "albania"
           ],
           "legendgroup": "cone",
           "marker": {
            "color": "#B6E880",
            "size": [
             1,
             1,
             1
            ],
            "sizemode": "area",
            "sizeref": 0.6504,
            "symbol": "circle"
           },
           "mode": "markers",
           "name": "cone",
           "orientation": "v",
           "showlegend": true,
           "type": "scatter",
           "x": [
            2062,
            2063,
            2064
           ],
           "xaxis": "x",
           "y": [
            1,
            1,
            1
           ],
           "yaxis": "y"
          },
          {
           "hovertemplate": "<b>%{hovertext}</b><br><br>shape=teardrop<br>year=2016<br>index=%{x}<br>count=%{marker.size}<extra></extra>",
           "hovertext": [
            "thailand"
           ],
           "ids": [
            "thailand"
           ],
           "legendgroup": "teardrop",
           "marker": {
            "color": "#FF97FF",
            "size": [
             1
            ],
            "sizemode": "area",
            "sizeref": 0.6504,
            "symbol": "circle"
           },
           "mode": "markers",
           "name": "teardrop",
           "orientation": "v",
           "showlegend": true,
           "type": "scatter",
           "x": [
            2188
           ],
           "xaxis": "x",
           "y": [
            1
           ],
           "yaxis": "y"
          }
         ],
         "name": "2016"
        },
        {
         "data": [
          {
           "hovertemplate": "<b>%{hovertext}</b><br><br>shape=light<br>year=2017<br>index=%{x}<br>count=%{marker.size}<extra></extra>",
           "hovertext": [
            "united states",
            "canada",
            "unknown",
            "india",
            "new zealand",
            "egypt",
            "oman",
            "netherlands",
            "mexico",
            "lebanon",
            "cuba",
            "brazil",
            "angola",
            "poland",
            "serbia",
            "spain",
            "turkey"
           ],
           "ids": [
            "united states",
            "canada",
            "unknown",
            "india",
            "new zealand",
            "egypt",
            "oman",
            "netherlands",
            "mexico",
            "lebanon",
            "cuba",
            "brazil",
            "angola",
            "poland",
            "serbia",
            "spain",
            "turkey"
           ],
           "legendgroup": "light",
           "marker": {
            "color": "#636efa",
            "size": [
             1033,
             32,
             13,
             7,
             3,
             1,
             1,
             1,
             1,
             1,
             1,
             1,
             1,
             1,
             1,
             1,
             1
            ],
            "sizemode": "area",
            "sizeref": 0.6504,
            "symbol": "circle"
           },
           "mode": "markers",
           "name": "light",
           "orientation": "v",
           "showlegend": true,
           "type": "scatter",
           "x": [
            9,
            404,
            677,
            872,
            1367,
            1838,
            1839,
            1843,
            1844,
            1845,
            1849,
            1851,
            1853,
            1896,
            1901,
            1951,
            1973
           ],
           "xaxis": "x",
           "y": [
            1033,
            32,
            13,
            7,
            3,
            1,
            1,
            1,
            1,
            1,
            1,
            1,
            1,
            1,
            1,
            1,
            1
           ],
           "yaxis": "y"
          },
          {
           "hovertemplate": "<b>%{hovertext}</b><br><br>shape=unknown<br>year=2017<br>index=%{x}<br>count=%{marker.size}<extra></extra>",
           "hovertext": [
            "united states",
            "canada",
            "unknown",
            "india",
            "japan",
            "lithuania",
            "hungary",
            "georgia",
            "chad",
            "brazil",
            "australia",
            "iraq",
            "thailand",
            "spain",
            "poland",
            "pakistan",
            "netherlands"
           ],
           "ids": [
            "united states",
            "canada",
            "unknown",
            "india",
            "japan",
            "lithuania",
            "hungary",
            "georgia",
            "chad",
            "brazil",
            "australia",
            "iraq",
            "thailand",
            "spain",
            "poland",
            "pakistan",
            "netherlands"
           ],
           "legendgroup": "unknown",
           "marker": {
            "color": "#EF553B",
            "size": [
             718,
             29,
             18,
             3,
             2,
             2,
             1,
             1,
             1,
             1,
             1,
             1,
             1,
             1,
             1,
             1,
             1
            ],
            "sizemode": "area",
            "sizeref": 0.6504,
            "symbol": "circle"
           },
           "mode": "markers",
           "name": "unknown",
           "orientation": "v",
           "showlegend": true,
           "type": "scatter",
           "x": [
            24,
            428,
            563,
            1278,
            1503,
            1505,
            1904,
            1905,
            1906,
            1908,
            1909,
            1925,
            1936,
            1938,
            1942,
            1945,
            1946
           ],
           "xaxis": "x",
           "y": [
            718,
            29,
            18,
            3,
            2,
            2,
            1,
            1,
            1,
            1,
            1,
            1,
            1,
            1,
            1,
            1,
            1
           ],
           "yaxis": "y"
          },
          {
           "hovertemplate": "<b>%{hovertext}</b><br><br>shape=circle<br>year=2017<br>index=%{x}<br>count=%{marker.size}<extra></extra>",
           "hovertext": [
            "united states",
            "canada",
            "unknown",
            "india",
            "mexico",
            "south africa",
            "serbia",
            "philippines",
            "peru",
            "haiti",
            "angola"
           ],
           "ids": [
            "united states",
            "canada",
            "unknown",
            "india",
            "mexico",
            "south africa",
            "serbia",
            "philippines",
            "peru",
            "haiti",
            "angola"
           ],
           "legendgroup": "circle",
           "marker": {
            "color": "#00cc96",
            "size": [
             651,
             16,
             6,
             3,
             2,
             1,
             1,
             1,
             1,
             1,
             1
            ],
            "sizemode": "area",
            "sizeref": 0.6504,
            "symbol": "circle"
           },
           "mode": "markers",
           "name": "circle",
           "orientation": "v",
           "showlegend": true,
           "type": "scatter",
           "x": [
            31,
            606,
            974,
            1329,
            1413,
            1999,
            2001,
            2101,
            2128,
            2131,
            2134
           ],
           "xaxis": "x",
           "y": [
            651,
            16,
            6,
            3,
            2,
            1,
            1,
            1,
            1,
            1,
            1
           ],
           "yaxis": "y"
          },
          {
           "hovertemplate": "<b>%{hovertext}</b><br><br>shape=fireball<br>year=2017<br>index=%{x}<br>count=%{marker.size}<extra></extra>",
           "hovertext": [
            "canada",
            "australia",
            "panama",
            "puerto rico",
            "mexico",
            "estonia",
            "bahamas"
           ],
           "ids": [
            "canada",
            "australia",
            "panama",
            "puerto rico",
            "mexico",
            "estonia",
            "bahamas"
           ],
           "legendgroup": "fireball",
           "marker": {
            "color": "#ab63fa",
            "size": [
             10,
             2,
             2,
             1,
             1,
             1,
             1
            ],
            "sizemode": "area",
            "sizeref": 0.6504,
            "symbol": "circle"
           },
           "mode": "markers",
           "name": "fireball",
           "orientation": "v",
           "showlegend": true,
           "type": "scatter",
           "x": [
            772,
            1458,
            1582,
            1890,
            1892,
            1895,
            1898
           ],
           "xaxis": "x",
           "y": [
            10,
            2,
            2,
            1,
            1,
            1,
            1
           ],
           "yaxis": "y"
          },
          {
           "hovertemplate": "<b>%{hovertext}</b><br><br>shape=triangle<br>year=2017<br>index=%{x}<br>count=%{marker.size}<extra></extra>",
           "hovertext": [
            "united states",
            "unknown",
            "australia",
            "zambia",
            "south africa",
            "poland",
            "jordan",
            "italy",
            "ireland",
            "brazil"
           ],
           "ids": [
            "united states",
            "unknown",
            "australia",
            "zambia",
            "south africa",
            "poland",
            "jordan",
            "italy",
            "ireland",
            "brazil"
           ],
           "legendgroup": "triangle",
           "marker": {
            "color": "#FFA15A",
            "size": [
             356,
             5,
             2,
             1,
             1,
             1,
             1,
             1,
             1,
             1
            ],
            "sizemode": "area",
            "sizeref": 0.6504,
            "symbol": "circle"
           },
           "mode": "markers",
           "name": "triangle",
           "orientation": "v",
           "showlegend": true,
           "type": "scatter",
           "x": [
            64,
            1006,
            1474,
            1910,
            1914,
            1915,
            1916,
            1917,
            1918,
            1920
           ],
           "xaxis": "x",
           "y": [
            356,
            5,
            2,
            1,
            1,
            1,
            1,
            1,
            1,
            1
           ],
           "yaxis": "y"
          },
          {
           "hovertemplate": "<b>%{hovertext}</b><br><br>shape=sphere<br>year=2017<br>index=%{x}<br>count=%{marker.size}<extra></extra>",
           "hovertext": [
            "united states",
            "unknown",
            "brazil",
            "lebanon",
            "ukraine",
            "turkey",
            "sri lanka",
            "philippines",
            "new zealand",
            "montenegro",
            "mali",
            "jordan",
            "jersey"
           ],
           "ids": [
            "united states",
            "unknown",
            "brazil",
            "lebanon",
            "ukraine",
            "turkey",
            "sri lanka",
            "philippines",
            "new zealand",
            "montenegro",
            "mali",
            "jordan",
            "jersey"
           ],
           "legendgroup": "sphere",
           "marker": {
            "color": "#19d3f3",
            "size": [
             352,
             6,
             2,
             2,
             1,
             1,
             1,
             1,
             1,
             1,
             1,
             1,
             1
            ],
            "sizemode": "area",
            "sizeref": 0.6504,
            "symbol": "circle"
           },
           "mode": "markers",
           "name": "sphere",
           "orientation": "v",
           "showlegend": true,
           "type": "scatter",
           "x": [
            65,
            952,
            1492,
            1496,
            1980,
            1981,
            1982,
            1983,
            1984,
            1985,
            1986,
            1988,
            1989
           ],
           "xaxis": "x",
           "y": [
            352,
            6,
            2,
            2,
            1,
            1,
            1,
            1,
            1,
            1,
            1,
            1,
            1
           ],
           "yaxis": "y"
          },
          {
           "hovertemplate": "<b>%{hovertext}</b><br><br>shape=disk<br>year=2017<br>index=%{x}<br>count=%{marker.size}<extra></extra>",
           "hovertext": [
            "canada",
            "india",
            "australia",
            "greece",
            "chile"
           ],
           "ids": [
            "canada",
            "india",
            "australia",
            "greece",
            "chile"
           ],
           "legendgroup": "disk",
           "marker": {
            "color": "#FF6692",
            "size": [
             8,
             2,
             2,
             1,
             1
            ],
            "sizemode": "area",
            "sizeref": 0.6504,
            "symbol": "circle"
           },
           "mode": "markers",
           "name": "disk",
           "orientation": "v",
           "showlegend": true,
           "type": "scatter",
           "x": [
            853,
            1404,
            1499,
            1872,
            1873
           ],
           "xaxis": "x",
           "y": [
            8,
            2,
            2,
            1,
            1
           ],
           "yaxis": "y"
          },
          {
           "hovertemplate": "<b>%{hovertext}</b><br><br>shape=formation<br>year=2017<br>index=%{x}<br>count=%{marker.size}<extra></extra>",
           "hovertext": [
            "portugal",
            "lebanon",
            "germany"
           ],
           "ids": [
            "portugal",
            "lebanon",
            "germany"
           ],
           "legendgroup": "formation",
           "marker": {
            "color": "#B6E880",
            "size": [
             1,
             1,
             1
            ],
            "sizemode": "area",
            "sizeref": 0.6504,
            "symbol": "circle"
           },
           "mode": "markers",
           "name": "formation",
           "orientation": "v",
           "showlegend": true,
           "type": "scatter",
           "x": [
            1823,
            1825,
            1826
           ],
           "xaxis": "x",
           "y": [
            1,
            1,
            1
           ],
           "yaxis": "y"
          },
          {
           "hovertemplate": "<b>%{hovertext}</b><br><br>shape=oval<br>year=2017<br>index=%{x}<br>count=%{marker.size}<extra></extra>",
           "hovertext": [
            "spain",
            "dominica",
            "panama",
            "mexico",
            "jersey",
            "ireland",
            "indonesia",
            "greece",
            "germany"
           ],
           "ids": [
            "spain",
            "dominica",
            "panama",
            "mexico",
            "jersey",
            "ireland",
            "indonesia",
            "greece",
            "germany"
           ],
           "legendgroup": "oval",
           "marker": {
            "color": "#FF97FF",
            "size": [
             2,
             1,
             1,
             1,
             1,
             1,
             1,
             1,
             1
            ],
            "sizemode": "area",
            "sizeref": 0.6504,
            "symbol": "circle"
           },
           "mode": "markers",
           "name": "oval",
           "orientation": "v",
           "showlegend": true,
           "type": "scatter",
           "x": [
            1608,
            1900,
            1959,
            1960,
            1961,
            1963,
            1965,
            1966,
            1967
           ],
           "xaxis": "x",
           "y": [
            2,
            1,
            1,
            1,
            1,
            1,
            1,
            1,
            1
           ],
           "yaxis": "y"
          },
          {
           "hovertemplate": "<b>%{hovertext}</b><br><br>shape=cigar<br>year=2017<br>index=%{x}<br>count=%{marker.size}<extra></extra>",
           "hovertext": [
            "panama"
           ],
           "ids": [
            "panama"
           ],
           "legendgroup": "cigar",
           "marker": {
            "color": "#FECB52",
            "size": [
             1
            ],
            "sizemode": "area",
            "sizeref": 0.6504,
            "symbol": "circle"
           },
           "mode": "markers",
           "name": "cigar",
           "orientation": "v",
           "showlegend": true,
           "type": "scatter",
           "x": [
            2138
           ],
           "xaxis": "x",
           "y": [
            1
           ],
           "yaxis": "y"
          },
          {
           "hovertemplate": "<b>%{hovertext}</b><br><br>shape=flash<br>year=2017<br>index=%{x}<br>count=%{marker.size}<extra></extra>",
           "hovertext": [
            "mexico",
            "spain",
            "malta",
            "lebanon",
            "france",
            "australia"
           ],
           "ids": [
            "mexico",
            "spain",
            "malta",
            "lebanon",
            "france",
            "australia"
           ],
           "legendgroup": "flash",
           "marker": {
            "color": "#636efa",
            "size": [
             1,
             1,
             1,
             1,
             1,
             1
            ],
            "sizemode": "area",
            "sizeref": 0.6504,
            "symbol": "circle"
           },
           "mode": "markers",
           "name": "flash",
           "orientation": "v",
           "showlegend": true,
           "type": "scatter",
           "x": [
            1824,
            1833,
            1856,
            1859,
            1882,
            1884
           ],
           "xaxis": "x",
           "y": [
            1,
            1,
            1,
            1,
            1,
            1
           ],
           "yaxis": "y"
          },
          {
           "hovertemplate": "<b>%{hovertext}</b><br><br>shape=rectangle<br>year=2017<br>index=%{x}<br>count=%{marker.size}<extra></extra>",
           "hovertext": [
            "colombia",
            "brazil",
            "philippines"
           ],
           "ids": [
            "colombia",
            "brazil",
            "philippines"
           ],
           "legendgroup": "rectangle",
           "marker": {
            "color": "#EF553B",
            "size": [
             1,
             1,
             1
            ],
            "sizemode": "area",
            "sizeref": 0.6504,
            "symbol": "circle"
           },
           "mode": "markers",
           "name": "rectangle",
           "orientation": "v",
           "showlegend": true,
           "type": "scatter",
           "x": [
            1952,
            1953,
            1997
           ],
           "xaxis": "x",
           "y": [
            1,
            1,
            1
           ],
           "yaxis": "y"
          },
          {
           "hovertemplate": "<b>%{hovertext}</b><br><br>shape=changed<br>year=2017<br>index=%{x}<br>count=%{marker.size}<extra></extra>",
           "hovertext": [
            "mali"
           ],
           "ids": [
            "mali"
           ],
           "legendgroup": "changed",
           "marker": {
            "color": "#00cc96",
            "size": [
             1
            ],
            "sizemode": "area",
            "sizeref": 0.6504,
            "symbol": "circle"
           },
           "mode": "markers",
           "name": "changed",
           "orientation": "v",
           "showlegend": true,
           "type": "scatter",
           "x": [
            2127
           ],
           "xaxis": "x",
           "y": [
            1
           ],
           "yaxis": "y"
          },
          {
           "hovertemplate": "<b>%{hovertext}</b><br><br>shape=cylinder<br>year=2017<br>index=%{x}<br>count=%{marker.size}<extra></extra>",
           "hovertext": [
            "new zealand"
           ],
           "ids": [
            "new zealand"
           ],
           "legendgroup": "cylinder",
           "marker": {
            "color": "#ab63fa",
            "size": [
             1
            ],
            "sizemode": "area",
            "sizeref": 0.6504,
            "symbol": "circle"
           },
           "mode": "markers",
           "name": "cylinder",
           "orientation": "v",
           "showlegend": true,
           "type": "scatter",
           "x": [
            1881
           ],
           "xaxis": "x",
           "y": [
            1
           ],
           "yaxis": "y"
          },
          {
           "hovertemplate": "<b>%{hovertext}</b><br><br>shape=egg<br>year=2017<br>index=%{x}<br>count=%{marker.size}<extra></extra>",
           "hovertext": [
            "belgium",
            "jamaica"
           ],
           "ids": [
            "belgium",
            "jamaica"
           ],
           "legendgroup": "egg",
           "marker": {
            "color": "#FFA15A",
            "size": [
             2,
             1
            ],
            "sizemode": "area",
            "sizeref": 0.6504,
            "symbol": "circle"
           },
           "mode": "markers",
           "name": "egg",
           "orientation": "v",
           "showlegend": true,
           "type": "scatter",
           "x": [
            1435,
            1862
           ],
           "xaxis": "x",
           "y": [
            2,
            1
           ],
           "yaxis": "y"
          },
          {
           "hovertemplate": "<b>%{hovertext}</b><br><br>shape=diamond<br>year=2017<br>index=%{x}<br>count=%{marker.size}<extra></extra>",
           "hovertext": [
            "ireland",
            "denmark",
            "india",
            "philippines"
           ],
           "ids": [
            "ireland",
            "denmark",
            "india",
            "philippines"
           ],
           "legendgroup": "diamond",
           "marker": {
            "color": "#19d3f3",
            "size": [
             1,
             1,
             1,
             1
            ],
            "sizemode": "area",
            "sizeref": 0.6504,
            "symbol": "circle"
           },
           "mode": "markers",
           "name": "diamond",
           "orientation": "v",
           "showlegend": true,
           "type": "scatter",
           "x": [
            1858,
            1869,
            1870,
            1883
           ],
           "xaxis": "x",
           "y": [
            1,
            1,
            1,
            1
           ],
           "yaxis": "y"
          },
          {
           "hovertemplate": "<b>%{hovertext}</b><br><br>shape=chevron<br>year=2017<br>index=%{x}<br>count=%{marker.size}<extra></extra>",
           "hovertext": [
            "philippines",
            "germany"
           ],
           "ids": [
            "philippines",
            "germany"
           ],
           "legendgroup": "chevron",
           "marker": {
            "color": "#FF6692",
            "size": [
             1,
             1
            ],
            "sizemode": "area",
            "sizeref": 0.6504,
            "symbol": "circle"
           },
           "mode": "markers",
           "name": "chevron",
           "orientation": "v",
           "showlegend": true,
           "type": "scatter",
           "x": [
            2144,
            2145
           ],
           "xaxis": "x",
           "y": [
            1,
            1
           ],
           "yaxis": "y"
          },
          {
           "hovertemplate": "<b>%{hovertext}</b><br><br>shape=cone<br>year=2017<br>index=%{x}<br>count=%{marker.size}<extra></extra>",
           "hovertext": [
            "greece",
            "ireland",
            "bermuda",
            "pakistan"
           ],
           "ids": [
            "greece",
            "ireland",
            "bermuda",
            "pakistan"
           ],
           "legendgroup": "cone",
           "marker": {
            "color": "#B6E880",
            "size": [
             1,
             1,
             1,
             1
            ],
            "sizemode": "area",
            "sizeref": 0.6504,
            "symbol": "circle"
           },
           "mode": "markers",
           "name": "cone",
           "orientation": "v",
           "showlegend": true,
           "type": "scatter",
           "x": [
            1827,
            1832,
            1847,
            1880
           ],
           "xaxis": "x",
           "y": [
            1,
            1,
            1,
            1
           ],
           "yaxis": "y"
          },
          {
           "hovertemplate": "<b>%{hovertext}</b><br><br>shape=teardrop<br>year=2017<br>index=%{x}<br>count=%{marker.size}<extra></extra>",
           "hovertext": [
            "iraq",
            "ireland"
           ],
           "ids": [
            "iraq",
            "ireland"
           ],
           "legendgroup": "teardrop",
           "marker": {
            "color": "#FF97FF",
            "size": [
             1,
             1
            ],
            "sizemode": "area",
            "sizeref": 0.6504,
            "symbol": "circle"
           },
           "mode": "markers",
           "name": "teardrop",
           "orientation": "v",
           "showlegend": true,
           "type": "scatter",
           "x": [
            1926,
            1949
           ],
           "xaxis": "x",
           "y": [
            1,
            1
           ],
           "yaxis": "y"
          }
         ],
         "name": "2017"
        },
        {
         "data": [
          {
           "hovertemplate": "<b>%{hovertext}</b><br><br>shape=light<br>year=2011<br>index=%{x}<br>count=%{marker.size}<extra></extra>",
           "hovertext": [
            "united states",
            "canada",
            "unknown",
            "south africa",
            "singapore",
            "india",
            "australia",
            "mexico",
            "belgium",
            "slovenia",
            "denmark",
            "colombia",
            "chile",
            "brazil",
            "argentina",
            "france",
            "germany",
            "indonesia",
            "switzerland",
            "sweden",
            "puerto rico",
            "portugal",
            "norway",
            "jordan",
            "japan",
            "ireland"
           ],
           "ids": [
            "united states",
            "canada",
            "unknown",
            "south africa",
            "singapore",
            "india",
            "australia",
            "mexico",
            "belgium",
            "slovenia",
            "denmark",
            "colombia",
            "chile",
            "brazil",
            "argentina",
            "france",
            "germany",
            "indonesia",
            "switzerland",
            "sweden",
            "puerto rico",
            "portugal",
            "norway",
            "jordan",
            "japan",
            "ireland"
           ],
           "legendgroup": "light",
           "marker": {
            "color": "#636efa",
            "size": [
             869,
             36,
             22,
             5,
             3,
             3,
             3,
             2,
             2,
             2,
             1,
             1,
             1,
             1,
             1,
             1,
             1,
             1,
             1,
             1,
             1,
             1,
             1,
             1,
             1,
             1
            ],
            "sizemode": "area",
            "sizeref": 0.6504,
            "symbol": "circle"
           },
           "mode": "markers",
           "name": "light",
           "orientation": "v",
           "showlegend": true,
           "type": "scatter",
           "x": [
            13,
            382,
            509,
            1069,
            1284,
            1285,
            1306,
            1439,
            1443,
            1450,
            2893,
            2894,
            2895,
            2896,
            2899,
            2919,
            2920,
            2922,
            2937,
            2938,
            2942,
            2943,
            2944,
            2945,
            2946,
            2947
           ],
           "xaxis": "x",
           "y": [
            869,
            36,
            22,
            5,
            3,
            3,
            3,
            2,
            2,
            2,
            1,
            1,
            1,
            1,
            1,
            1,
            1,
            1,
            1,
            1,
            1,
            1,
            1,
            1,
            1,
            1
           ],
           "yaxis": "y"
          },
          {
           "hovertemplate": "<b>%{hovertext}</b><br><br>shape=unknown<br>year=2011<br>index=%{x}<br>count=%{marker.size}<extra></extra>",
           "hovertext": [
            "united states",
            "canada",
            "unknown",
            "australia",
            "mexico",
            "lebanon",
            "india",
            "south africa",
            "singapore",
            "poland",
            "niger",
            "new zealand",
            "ireland",
            "hungary",
            "honduras",
            "greece",
            "france",
            "egypt",
            "dominica",
            "croatia"
           ],
           "ids": [
            "united states",
            "canada",
            "unknown",
            "australia",
            "mexico",
            "lebanon",
            "india",
            "south africa",
            "singapore",
            "poland",
            "niger",
            "new zealand",
            "ireland",
            "hungary",
            "honduras",
            "greece",
            "france",
            "egypt",
            "dominica",
            "croatia"
           ],
           "legendgroup": "unknown",
           "marker": {
            "color": "#EF553B",
            "size": [
             590,
             30,
             20,
             5,
             5,
             3,
             2,
             1,
             1,
             1,
             1,
             1,
             1,
             1,
             1,
             1,
             1,
             1,
             1,
             1
            ],
            "sizemode": "area",
            "sizeref": 0.6504,
            "symbol": "circle"
           },
           "mode": "markers",
           "name": "unknown",
           "orientation": "v",
           "showlegend": true,
           "type": "scatter",
           "x": [
            34,
            421,
            543,
            1002,
            1073,
            1343,
            1434,
            3024,
            3067,
            3100,
            3101,
            3102,
            3106,
            3108,
            3109,
            3110,
            3111,
            3112,
            3113,
            3114
           ],
           "xaxis": "x",
           "y": [
            590,
            30,
            20,
            5,
            5,
            3,
            2,
            1,
            1,
            1,
            1,
            1,
            1,
            1,
            1,
            1,
            1,
            1,
            1,
            1
           ],
           "yaxis": "y"
          },
          {
           "hovertemplate": "<b>%{hovertext}</b><br><br>shape=circle<br>year=2011<br>index=%{x}<br>count=%{marker.size}<extra></extra>",
           "hovertext": [
            "united states",
            "canada",
            "unknown",
            "australia",
            "puerto rico",
            "france",
            "india",
            "colombia",
            "brazil",
            "bulgaria",
            "denmark",
            "turkey",
            "spain",
            "south africa",
            "hong kong",
            "poland",
            "netherlands",
            "malta",
            "lebanon",
            "kuwait",
            "italy",
            "israel"
           ],
           "ids": [
            "united states",
            "canada",
            "unknown",
            "australia",
            "puerto rico",
            "france",
            "india",
            "colombia",
            "brazil",
            "bulgaria",
            "denmark",
            "turkey",
            "spain",
            "south africa",
            "hong kong",
            "poland",
            "netherlands",
            "malta",
            "lebanon",
            "kuwait",
            "italy",
            "israel"
           ],
           "legendgroup": "circle",
           "marker": {
            "color": "#00cc96",
            "size": [
             439,
             19,
             15,
             3,
             2,
             2,
             1,
             1,
             1,
             1,
             1,
             1,
             1,
             1,
             1,
             1,
             1,
             1,
             1,
             1,
             1,
             1
            ],
            "sizemode": "area",
            "sizeref": 0.6504,
            "symbol": "circle"
           },
           "mode": "markers",
           "name": "circle",
           "orientation": "v",
           "showlegend": true,
           "type": "scatter",
           "x": [
            50,
            557,
            622,
            1320,
            1526,
            1782,
            2654,
            2951,
            2960,
            2961,
            2964,
            2966,
            2967,
            2968,
            2969,
            2970,
            2971,
            2973,
            2974,
            2975,
            2976,
            2977
           ],
           "xaxis": "x",
           "y": [
            439,
            19,
            15,
            3,
            2,
            2,
            1,
            1,
            1,
            1,
            1,
            1,
            1,
            1,
            1,
            1,
            1,
            1,
            1,
            1,
            1,
            1
           ],
           "yaxis": "y"
          },
          {
           "hovertemplate": "<b>%{hovertext}</b><br><br>shape=fireball<br>year=2011<br>index=%{x}<br>count=%{marker.size}<extra></extra>",
           "hovertext": [
            "united states",
            "canada",
            "india",
            "jordan",
            "cyprus",
            "jersey",
            "spain",
            "norway",
            "mauritius",
            "mali",
            "lebanon",
            "czech republic"
           ],
           "ids": [
            "united states",
            "canada",
            "india",
            "jordan",
            "cyprus",
            "jersey",
            "spain",
            "norway",
            "mauritius",
            "mali",
            "lebanon",
            "czech republic"
           ],
           "legendgroup": "fireball",
           "marker": {
            "color": "#ab63fa",
            "size": [
             424,
             14,
             3,
             2,
             2,
             2,
             1,
             1,
             1,
             1,
             1,
             1
            ],
            "sizemode": "area",
            "sizeref": 0.6504,
            "symbol": "circle"
           },
           "mode": "markers",
           "name": "fireball",
           "orientation": "v",
           "showlegend": true,
           "type": "scatter",
           "x": [
            52,
            647,
            1342,
            1402,
            1407,
            1411,
            2983,
            2984,
            2985,
            2986,
            2987,
            2990
           ],
           "xaxis": "x",
           "y": [
            424,
            14,
            3,
            2,
            2,
            2,
            1,
            1,
            1,
            1,
            1,
            1
           ],
           "yaxis": "y"
          },
          {
           "hovertemplate": "<b>%{hovertext}</b><br><br>shape=triangle<br>year=2011<br>index=%{x}<br>count=%{marker.size}<extra></extra>",
           "hovertext": [
            "united states",
            "france",
            "sweden",
            "india",
            "germany",
            "finland",
            "bangladesh",
            "italy",
            "malaysia",
            "norway",
            "philippines",
            "south africa",
            "slovakia",
            "singapore"
           ],
           "ids": [
            "united states",
            "france",
            "sweden",
            "india",
            "germany",
            "finland",
            "bangladesh",
            "italy",
            "malaysia",
            "norway",
            "philippines",
            "south africa",
            "slovakia",
            "singapore"
           ],
           "legendgroup": "triangle",
           "marker": {
            "color": "#FFA15A",
            "size": [
             394,
             2,
             2,
             2,
             1,
             1,
             1,
             1,
             1,
             1,
             1,
             1,
             1,
             1
            ],
            "sizemode": "area",
            "sizeref": 0.6504,
            "symbol": "circle"
           },
           "mode": "markers",
           "name": "triangle",
           "orientation": "v",
           "showlegend": true,
           "type": "scatter",
           "x": [
            59,
            1429,
            1430,
            1642,
            3071,
            3073,
            3075,
            3096,
            3097,
            3098,
            3099,
            3121,
            3122,
            3123
           ],
           "xaxis": "x",
           "y": [
            394,
            2,
            2,
            2,
            1,
            1,
            1,
            1,
            1,
            1,
            1,
            1,
            1,
            1
           ],
           "yaxis": "y"
          },
          {
           "hovertemplate": "<b>%{hovertext}</b><br><br>shape=sphere<br>year=2011<br>index=%{x}<br>count=%{marker.size}<extra></extra>",
           "hovertext": [
            "unknown",
            "canada",
            "germany",
            "brazil",
            "turkey",
            "sweden",
            "spain",
            "qatar",
            "poland",
            "netherlands",
            "israel",
            "ireland",
            "cuba"
           ],
           "ids": [
            "unknown",
            "canada",
            "germany",
            "brazil",
            "turkey",
            "sweden",
            "spain",
            "qatar",
            "poland",
            "netherlands",
            "israel",
            "ireland",
            "cuba"
           ],
           "legendgroup": "sphere",
           "marker": {
            "color": "#19d3f3",
            "size": [
             24,
             15,
             2,
             1,
             1,
             1,
             1,
             1,
             1,
             1,
             1,
             1,
             1
            ],
            "sizemode": "area",
            "sizeref": 0.6504,
            "symbol": "circle"
           },
           "mode": "markers",
           "name": "sphere",
           "orientation": "v",
           "showlegend": true,
           "type": "scatter",
           "x": [
            482,
            628,
            1426,
            3068,
            3085,
            3086,
            3087,
            3088,
            3089,
            3090,
            3092,
            3093,
            3094
           ],
           "xaxis": "x",
           "y": [
            24,
            15,
            2,
            1,
            1,
            1,
            1,
            1,
            1,
            1,
            1,
            1,
            1
           ],
           "yaxis": "y"
          },
          {
           "hovertemplate": "<b>%{hovertext}</b><br><br>shape=disk<br>year=2011<br>index=%{x}<br>count=%{marker.size}<extra></extra>",
           "hovertext": [
            "unknown",
            "norway",
            "cyprus",
            "slovenia",
            "saudi arabia",
            "puerto rico",
            "portugal",
            "netherlands",
            "nepal",
            "italy",
            "greece"
           ],
           "ids": [
            "unknown",
            "norway",
            "cyprus",
            "slovenia",
            "saudi arabia",
            "puerto rico",
            "portugal",
            "netherlands",
            "nepal",
            "italy",
            "greece"
           ],
           "legendgroup": "disk",
           "marker": {
            "color": "#FF6692",
            "size": [
             7,
             2,
             1,
             1,
             1,
             1,
             1,
             1,
             1,
             1,
             1
            ],
            "sizemode": "area",
            "sizeref": 0.6504,
            "symbol": "circle"
           },
           "mode": "markers",
           "name": "disk",
           "orientation": "v",
           "showlegend": true,
           "type": "scatter",
           "x": [
            870,
            1399,
            2981,
            2997,
            2998,
            2999,
            3000,
            3002,
            3003,
            3005,
            3006
           ],
           "xaxis": "x",
           "y": [
            7,
            2,
            1,
            1,
            1,
            1,
            1,
            1,
            1,
            1,
            1
           ],
           "yaxis": "y"
          },
          {
           "hovertemplate": "<b>%{hovertext}</b><br><br>shape=formation<br>year=2011<br>index=%{x}<br>count=%{marker.size}<extra></extra>",
           "hovertext": [
            "mexico",
            "tunisia",
            "puerto rico",
            "poland",
            "norway",
            "netherlands",
            "estonia",
            "bermuda",
            "bangladesh",
            "australia"
           ],
           "ids": [
            "mexico",
            "tunisia",
            "puerto rico",
            "poland",
            "norway",
            "netherlands",
            "estonia",
            "bermuda",
            "bangladesh",
            "australia"
           ],
           "legendgroup": "formation",
           "marker": {
            "color": "#B6E880",
            "size": [
             1,
             1,
             1,
             1,
             1,
             1,
             1,
             1,
             1,
             1
            ],
            "sizemode": "area",
            "sizeref": 0.6504,
            "symbol": "circle"
           },
           "mode": "markers",
           "name": "formation",
           "orientation": "v",
           "showlegend": true,
           "type": "scatter",
           "x": [
            2892,
            2900,
            2901,
            2902,
            2903,
            2904,
            2907,
            2909,
            2910,
            2911
           ],
           "xaxis": "x",
           "y": [
            1,
            1,
            1,
            1,
            1,
            1,
            1,
            1,
            1,
            1
           ],
           "yaxis": "y"
          },
          {
           "hovertemplate": "<b>%{hovertext}</b><br><br>shape=oval<br>year=2011<br>index=%{x}<br>count=%{marker.size}<extra></extra>",
           "hovertext": [
            "brazil",
            "ukraine",
            "spain",
            "netherlands",
            "mexico",
            "ireland",
            "finland",
            "dominica",
            "angola"
           ],
           "ids": [
            "brazil",
            "ukraine",
            "spain",
            "netherlands",
            "mexico",
            "ireland",
            "finland",
            "dominica",
            "angola"
           ],
           "legendgroup": "oval",
           "marker": {
            "color": "#FF97FF",
            "size": [
             2,
             1,
             1,
             1,
             1,
             1,
             1,
             1,
             1
            ],
            "sizemode": "area",
            "sizeref": 0.6504,
            "symbol": "circle"
           },
           "mode": "markers",
           "name": "oval",
           "orientation": "v",
           "showlegend": true,
           "type": "scatter",
           "x": [
            1455,
            2924,
            2925,
            2926,
            2927,
            2928,
            2930,
            2931,
            2934
           ],
           "xaxis": "x",
           "y": [
            2,
            1,
            1,
            1,
            1,
            1,
            1,
            1,
            1
           ],
           "yaxis": "y"
          },
          {
           "hovertemplate": "<b>%{hovertext}</b><br><br>shape=cigar<br>year=2011<br>index=%{x}<br>count=%{marker.size}<extra></extra>",
           "hovertext": [
            "lebanon",
            "ireland",
            "azerbaijan",
            "france"
           ],
           "ids": [
            "lebanon",
            "ireland",
            "azerbaijan",
            "france"
           ],
           "legendgroup": "cigar",
           "marker": {
            "color": "#FECB52",
            "size": [
             1,
             1,
             1,
             1
            ],
            "sizemode": "area",
            "sizeref": 0.6504,
            "symbol": "circle"
           },
           "mode": "markers",
           "name": "cigar",
           "orientation": "v",
           "showlegend": true,
           "type": "scatter",
           "x": [
            2956,
            2978,
            2996,
            3001
           ],
           "xaxis": "x",
           "y": [
            1,
            1,
            1,
            1
           ],
           "yaxis": "y"
          },
          {
           "hovertemplate": "<b>%{hovertext}</b><br><br>shape=flash<br>year=2011<br>index=%{x}<br>count=%{marker.size}<extra></extra>",
           "hovertext": [
            "ukraine",
            "spain",
            "poland",
            "jamaica",
            "guatemala",
            "brazil"
           ],
           "ids": [
            "ukraine",
            "spain",
            "poland",
            "jamaica",
            "guatemala",
            "brazil"
           ],
           "legendgroup": "flash",
           "marker": {
            "color": "#636efa",
            "size": [
             2,
             1,
             1,
             1,
             1,
             1
            ],
            "sizemode": "area",
            "sizeref": 0.6504,
            "symbol": "circle"
           },
           "mode": "markers",
           "name": "flash",
           "orientation": "v",
           "showlegend": true,
           "type": "scatter",
           "x": [
            1438,
            2915,
            2916,
            2917,
            2948,
            2949
           ],
           "xaxis": "x",
           "y": [
            2,
            1,
            1,
            1,
            1,
            1
           ],
           "yaxis": "y"
          },
          {
           "hovertemplate": "<b>%{hovertext}</b><br><br>shape=changed<br>year=2011<br>index=%{x}<br>count=%{marker.size}<extra></extra>",
           "hovertext": [
            "australia",
            "italy",
            "malaysia"
           ],
           "ids": [
            "australia",
            "italy",
            "malaysia"
           ],
           "legendgroup": "changed",
           "marker": {
            "color": "#00cc96",
            "size": [
             2,
             1,
             1
            ],
            "sizemode": "area",
            "sizeref": 0.6504,
            "symbol": "circle"
           },
           "mode": "markers",
           "name": "changed",
           "orientation": "v",
           "showlegend": true,
           "type": "scatter",
           "x": [
            1816,
            2988,
            2989
           ],
           "xaxis": "x",
           "y": [
            2,
            1,
            1
           ],
           "yaxis": "y"
          },
          {
           "hovertemplate": "<b>%{hovertext}</b><br><br>shape=cylinder<br>year=2011<br>index=%{x}<br>count=%{marker.size}<extra></extra>",
           "hovertext": [
            "mexico"
           ],
           "ids": [
            "mexico"
           ],
           "legendgroup": "cylinder",
           "marker": {
            "color": "#ab63fa",
            "size": [
             2
            ],
            "sizemode": "area",
            "sizeref": 0.6504,
            "symbol": "circle"
           },
           "mode": "markers",
           "name": "cylinder",
           "orientation": "v",
           "showlegend": true,
           "type": "scatter",
           "x": [
            1410
           ],
           "xaxis": "x",
           "y": [
            2
           ],
           "yaxis": "y"
          },
          {
           "hovertemplate": "<b>%{hovertext}</b><br><br>shape=diamond<br>year=2011<br>index=%{x}<br>count=%{marker.size}<extra></extra>",
           "hovertext": [
            "puerto rico"
           ],
           "ids": [
            "puerto rico"
           ],
           "legendgroup": "diamond",
           "marker": {
            "color": "#19d3f3",
            "size": [
             1
            ],
            "sizemode": "area",
            "sizeref": 0.6504,
            "symbol": "circle"
           },
           "mode": "markers",
           "name": "diamond",
           "orientation": "v",
           "showlegend": true,
           "type": "scatter",
           "x": [
            2952
           ],
           "xaxis": "x",
           "y": [
            1
           ],
           "yaxis": "y"
          },
          {
           "hovertemplate": "<b>%{hovertext}</b><br><br>shape=cone<br>year=2011<br>index=%{x}<br>count=%{marker.size}<extra></extra>",
           "hovertext": [
            "greece",
            "cyprus"
           ],
           "ids": [
            "greece",
            "cyprus"
           ],
           "legendgroup": "cone",
           "marker": {
            "color": "#B6E880",
            "size": [
             1,
             1
            ],
            "sizemode": "area",
            "sizeref": 0.6504,
            "symbol": "circle"
           },
           "mode": "markers",
           "name": "cone",
           "orientation": "v",
           "showlegend": true,
           "type": "scatter",
           "x": [
            2962,
            2963
           ],
           "xaxis": "x",
           "y": [
            1,
            1
           ],
           "yaxis": "y"
          },
          {
           "hovertemplate": "<b>%{hovertext}</b><br><br>shape=teardrop<br>year=2011<br>index=%{x}<br>count=%{marker.size}<extra></extra>",
           "hovertext": [
            "japan",
            "sweden",
            "new zealand",
            "malta"
           ],
           "ids": [
            "japan",
            "sweden",
            "new zealand",
            "malta"
           ],
           "legendgroup": "teardrop",
           "marker": {
            "color": "#FF97FF",
            "size": [
             1,
             1,
             1,
             1
            ],
            "sizemode": "area",
            "sizeref": 0.6504,
            "symbol": "circle"
           },
           "mode": "markers",
           "name": "teardrop",
           "orientation": "v",
           "showlegend": true,
           "type": "scatter",
           "x": [
            3069,
            3078,
            3079,
            3081
           ],
           "xaxis": "x",
           "y": [
            1,
            1,
            1,
            1
           ],
           "yaxis": "y"
          }
         ],
         "name": "2011"
        },
        {
         "data": [
          {
           "hovertemplate": "<b>%{hovertext}</b><br><br>shape=light<br>year=2009<br>index=%{x}<br>count=%{marker.size}<extra></extra>",
           "hovertext": [
            "united states",
            "canada",
            "lebanon",
            "brazil",
            "jordan",
            "mexico",
            "peru"
           ],
           "ids": [
            "united states",
            "canada",
            "lebanon",
            "brazil",
            "jordan",
            "mexico",
            "peru"
           ],
           "legendgroup": "light",
           "marker": {
            "color": "#636efa",
            "size": [
             750,
             44,
             3,
             1,
             1,
             1,
             1
            ],
            "sizemode": "area",
            "sizeref": 0.6504,
            "symbol": "circle"
           },
           "mode": "markers",
           "name": "light",
           "orientation": "v",
           "showlegend": true,
           "type": "scatter",
           "x": [
            22,
            339,
            1256,
            2872,
            2873,
            2874,
            2876
           ],
           "xaxis": "x",
           "y": [
            750,
            44,
            3,
            1,
            1,
            1,
            1
           ],
           "yaxis": "y"
          },
          {
           "hovertemplate": "<b>%{hovertext}</b><br><br>shape=unknown<br>year=2009<br>index=%{x}<br>count=%{marker.size}<extra></extra>",
           "hovertext": [
            "united states",
            "canada",
            "germany",
            "grenada",
            "india",
            "jamaica",
            "lebanon",
            "mexico"
           ],
           "ids": [
            "united states",
            "canada",
            "germany",
            "grenada",
            "india",
            "jamaica",
            "lebanon",
            "mexico"
           ],
           "legendgroup": "unknown",
           "marker": {
            "color": "#EF553B",
            "size": [
             539,
             27,
             1,
             1,
             1,
             1,
             1,
             1
            ],
            "sizemode": "area",
            "sizeref": 0.6504,
            "symbol": "circle"
           },
           "mode": "markers",
           "name": "unknown",
           "orientation": "v",
           "showlegend": true,
           "type": "scatter",
           "x": [
            36,
            444,
            2843,
            2845,
            2848,
            2850,
            2851,
            2852
           ],
           "xaxis": "x",
           "y": [
            539,
            27,
            1,
            1,
            1,
            1,
            1,
            1
           ],
           "yaxis": "y"
          },
          {
           "hovertemplate": "<b>%{hovertext}</b><br><br>shape=circle<br>year=2009<br>index=%{x}<br>count=%{marker.size}<extra></extra>",
           "hovertext": [
            "united states",
            "canada",
            "france",
            "greece"
           ],
           "ids": [
            "united states",
            "canada",
            "france",
            "greece"
           ],
           "legendgroup": "circle",
           "marker": {
            "color": "#00cc96",
            "size": [
             299,
             16,
             1,
             1
            ],
            "sizemode": "area",
            "sizeref": 0.6504,
            "symbol": "circle"
           },
           "mode": "markers",
           "name": "circle",
           "orientation": "v",
           "showlegend": true,
           "type": "scatter",
           "x": [
            77,
            603,
            2791,
            2792
           ],
           "xaxis": "x",
           "y": [
            299,
            16,
            1,
            1
           ],
           "yaxis": "y"
          },
          {
           "hovertemplate": "<b>%{hovertext}</b><br><br>shape=fireball<br>year=2009<br>index=%{x}<br>count=%{marker.size}<extra></extra>",
           "hovertext": [
            "india"
           ],
           "ids": [
            "india"
           ],
           "legendgroup": "fireball",
           "marker": {
            "color": "#ab63fa",
            "size": [
             1
            ],
            "sizemode": "area",
            "sizeref": 0.6504,
            "symbol": "circle"
           },
           "mode": "markers",
           "name": "fireball",
           "orientation": "v",
           "showlegend": true,
           "type": "scatter",
           "x": [
            2866
           ],
           "xaxis": "x",
           "y": [
            1
           ],
           "yaxis": "y"
          },
          {
           "hovertemplate": "<b>%{hovertext}</b><br><br>shape=triangle<br>year=2009<br>index=%{x}<br>count=%{marker.size}<extra></extra>",
           "hovertext": [
            "united states",
            "canada",
            "india",
            "chad",
            "jordan",
            "panama"
           ],
           "ids": [
            "united states",
            "canada",
            "india",
            "chad",
            "jordan",
            "panama"
           ],
           "legendgroup": "triangle",
           "marker": {
            "color": "#FFA15A",
            "size": [
             285,
             17,
             3,
             1,
             1,
             1
            ],
            "sizemode": "area",
            "sizeref": 0.6504,
            "symbol": "circle"
           },
           "mode": "markers",
           "name": "triangle",
           "orientation": "v",
           "showlegend": true,
           "type": "scatter",
           "x": [
            81,
            589,
            1228,
            2834,
            2837,
            2840
           ],
           "xaxis": "x",
           "y": [
            285,
            17,
            3,
            1,
            1,
            1
           ],
           "yaxis": "y"
          },
          {
           "hovertemplate": "<b>%{hovertext}</b><br><br>shape=sphere<br>year=2009<br>index=%{x}<br>count=%{marker.size}<extra></extra>",
           "hovertext": [
            "united states",
            "lebanon",
            "jersey"
           ],
           "ids": [
            "united states",
            "lebanon",
            "jersey"
           ],
           "legendgroup": "sphere",
           "marker": {
            "color": "#19d3f3",
            "size": [
             203,
             1,
             1
            ],
            "sizemode": "area",
            "sizeref": 0.6504,
            "symbol": "circle"
           },
           "mode": "markers",
           "name": "sphere",
           "orientation": "v",
           "showlegend": true,
           "type": "scatter",
           "x": [
            114,
            2861,
            2888
           ],
           "xaxis": "x",
           "y": [
            203,
            1,
            1
           ],
           "yaxis": "y"
          },
          {
           "hovertemplate": "<b>%{hovertext}</b><br><br>shape=disk<br>year=2009<br>index=%{x}<br>count=%{marker.size}<extra></extra>",
           "hovertext": [
            "canada",
            "jordan",
            "india"
           ],
           "ids": [
            "canada",
            "jordan",
            "india"
           ],
           "legendgroup": "disk",
           "marker": {
            "color": "#FF6692",
            "size": [
             14,
             2,
             1
            ],
            "sizemode": "area",
            "sizeref": 0.6504,
            "symbol": "circle"
           },
           "mode": "markers",
           "name": "disk",
           "orientation": "v",
           "showlegend": true,
           "type": "scatter",
           "x": [
            664,
            1762,
            2864
           ],
           "xaxis": "x",
           "y": [
            14,
            2,
            1
           ],
           "yaxis": "y"
          },
          {
           "hovertemplate": "<b>%{hovertext}</b><br><br>shape=formation<br>year=2009<br>index=%{x}<br>count=%{marker.size}<extra></extra>",
           "hovertext": [
            "angola"
           ],
           "ids": [
            "angola"
           ],
           "legendgroup": "formation",
           "marker": {
            "color": "#B6E880",
            "size": [
             1
            ],
            "sizemode": "area",
            "sizeref": 0.6504,
            "symbol": "circle"
           },
           "mode": "markers",
           "name": "formation",
           "orientation": "v",
           "showlegend": true,
           "type": "scatter",
           "x": [
            2867
           ],
           "xaxis": "x",
           "y": [
            1
           ],
           "yaxis": "y"
          },
          {
           "hovertemplate": "<b>%{hovertext}</b><br><br>shape=cylinder<br>year=2009<br>index=%{x}<br>count=%{marker.size}<extra></extra>",
           "hovertext": [
            "india"
           ],
           "ids": [
            "india"
           ],
           "legendgroup": "cylinder",
           "marker": {
            "color": "#ab63fa",
            "size": [
             1
            ],
            "sizemode": "area",
            "sizeref": 0.6504,
            "symbol": "circle"
           },
           "mode": "markers",
           "name": "cylinder",
           "orientation": "v",
           "showlegend": true,
           "type": "scatter",
           "x": [
            2831
           ],
           "xaxis": "x",
           "y": [
            1
           ],
           "yaxis": "y"
          },
          {
           "hovertemplate": "<b>%{hovertext}</b><br><br>shape=cone<br>year=2009<br>index=%{x}<br>count=%{marker.size}<extra></extra>",
           "hovertext": [
            "mexico"
           ],
           "ids": [
            "mexico"
           ],
           "legendgroup": "cone",
           "marker": {
            "color": "#B6E880",
            "size": [
             1
            ],
            "sizemode": "area",
            "sizeref": 0.6504,
            "symbol": "circle"
           },
           "mode": "markers",
           "name": "cone",
           "orientation": "v",
           "showlegend": true,
           "type": "scatter",
           "x": [
            2788
           ],
           "xaxis": "x",
           "y": [
            1
           ],
           "yaxis": "y"
          }
         ],
         "name": "2009"
        },
        {
         "data": [
          {
           "hovertemplate": "<b>%{hovertext}</b><br><br>shape=light<br>year=2010<br>index=%{x}<br>count=%{marker.size}<extra></extra>",
           "hovertext": [
            "united states",
            "canada",
            "unknown",
            "mexico",
            "japan",
            "bulgaria",
            "brazil",
            "ireland",
            "new zealand",
            "jersey",
            "afghanistan",
            "belize",
            "switzerland",
            "thailand",
            "turkey",
            "united arab emirates",
            "south africa",
            "slovakia",
            "philippines",
            "france",
            "georgia",
            "germany",
            "greece",
            "honduras",
            "italy",
            "lebanon",
            "maldives",
            "netherlands"
           ],
           "ids": [
            "united states",
            "canada",
            "unknown",
            "mexico",
            "japan",
            "bulgaria",
            "brazil",
            "ireland",
            "new zealand",
            "jersey",
            "afghanistan",
            "belize",
            "switzerland",
            "thailand",
            "turkey",
            "united arab emirates",
            "south africa",
            "slovakia",
            "philippines",
            "france",
            "georgia",
            "germany",
            "greece",
            "honduras",
            "italy",
            "lebanon",
            "maldives",
            "netherlands"
           ],
           "legendgroup": "light",
           "marker": {
            "color": "#636efa",
            "size": [
             688,
             58,
             22,
             4,
             3,
             2,
             2,
             2,
             2,
             2,
             1,
             1,
             1,
             1,
             1,
             1,
             1,
             1,
             1,
             1,
             1,
             1,
             1,
             1,
             1,
             1,
             1,
             1
            ],
            "sizemode": "area",
            "sizeref": 0.6504,
            "symbol": "circle"
           },
           "mode": "markers",
           "name": "light",
           "orientation": "v",
           "showlegend": true,
           "type": "scatter",
           "x": [
            28,
            293,
            519,
            1100,
            1350,
            1651,
            1652,
            1694,
            1704,
            1707,
            2732,
            2741,
            3013,
            3018,
            3019,
            3020,
            3038,
            3039,
            3040,
            3041,
            3044,
            3045,
            3049,
            3050,
            3057,
            3059,
            3060,
            3064
           ],
           "xaxis": "x",
           "y": [
            688,
            58,
            22,
            4,
            3,
            2,
            2,
            2,
            2,
            2,
            1,
            1,
            1,
            1,
            1,
            1,
            1,
            1,
            1,
            1,
            1,
            1,
            1,
            1,
            1,
            1,
            1,
            1
           ],
           "yaxis": "y"
          },
          {
           "hovertemplate": "<b>%{hovertext}</b><br><br>shape=unknown<br>year=2010<br>index=%{x}<br>count=%{marker.size}<extra></extra>",
           "hovertext": [
            "united states",
            "canada",
            "unknown",
            "mexico",
            "italy",
            "ethiopia",
            "india",
            "ireland",
            "israel",
            "portugal",
            "netherlands",
            "new zealand",
            "oman",
            "france",
            "czech republic",
            "south africa",
            "sweden"
           ],
           "ids": [
            "united states",
            "canada",
            "unknown",
            "mexico",
            "italy",
            "ethiopia",
            "india",
            "ireland",
            "israel",
            "portugal",
            "netherlands",
            "new zealand",
            "oman",
            "france",
            "czech republic",
            "south africa",
            "sweden"
           ],
           "legendgroup": "unknown",
           "marker": {
            "color": "#EF553B",
            "size": [
             515,
             32,
             17,
             2,
             2,
             2,
             2,
             1,
             1,
             1,
             1,
             1,
             1,
             1,
             1,
             1,
             1
            ],
            "sizemode": "area",
            "sizeref": 0.6504,
            "symbol": "circle"
           },
           "mode": "markers",
           "name": "unknown",
           "orientation": "v",
           "showlegend": true,
           "type": "scatter",
           "x": [
            41,
            406,
            595,
            1800,
            1801,
            1803,
            1810,
            2897,
            2898,
            2906,
            2908,
            2913,
            2914,
            2921,
            2941,
            2965,
            2982
           ],
           "xaxis": "x",
           "y": [
            515,
            32,
            17,
            2,
            2,
            2,
            2,
            1,
            1,
            1,
            1,
            1,
            1,
            1,
            1,
            1,
            1
           ],
           "yaxis": "y"
          },
          {
           "hovertemplate": "<b>%{hovertext}</b><br><br>shape=circle<br>year=2010<br>index=%{x}<br>count=%{marker.size}<extra></extra>",
           "hovertext": [
            "united states",
            "canada",
            "unknown",
            "australia",
            "spain",
            "india",
            "malaysia",
            "bulgaria",
            "jordan",
            "malta",
            "puerto rico"
           ],
           "ids": [
            "united states",
            "canada",
            "unknown",
            "australia",
            "spain",
            "india",
            "malaysia",
            "bulgaria",
            "jordan",
            "malta",
            "puerto rico"
           ],
           "legendgroup": "circle",
           "marker": {
            "color": "#00cc96",
            "size": [
             304,
             18,
             13,
             4,
             3,
             3,
             2,
             1,
             1,
             1,
             1
            ],
            "sizemode": "area",
            "sizeref": 0.6504,
            "symbol": "circle"
           },
           "mode": "markers",
           "name": "circle",
           "orientation": "v",
           "showlegend": true,
           "type": "scatter",
           "x": [
            76,
            561,
            697,
            1186,
            1220,
            1268,
            1754,
            2695,
            2696,
            2697,
            2699
           ],
           "xaxis": "x",
           "y": [
            304,
            18,
            13,
            4,
            3,
            3,
            2,
            1,
            1,
            1,
            1
           ],
           "yaxis": "y"
          },
          {
           "hovertemplate": "<b>%{hovertext}</b><br><br>shape=fireball<br>year=2010<br>index=%{x}<br>count=%{marker.size}<extra></extra>",
           "hovertext": [
            "united states",
            "canada",
            "unknown",
            "india",
            "italy",
            "new zealand",
            "romania",
            "serbia",
            "spain"
           ],
           "ids": [
            "united states",
            "canada",
            "unknown",
            "india",
            "italy",
            "new zealand",
            "romania",
            "serbia",
            "spain"
           ],
           "legendgroup": "fireball",
           "marker": {
            "color": "#ab63fa",
            "size": [
             255,
             18,
             12,
             3,
             1,
             1,
             1,
             1,
             1
            ],
            "sizemode": "area",
            "sizeref": 0.6504,
            "symbol": "circle"
           },
           "mode": "markers",
           "name": "fireball",
           "orientation": "v",
           "showlegend": true,
           "type": "scatter",
           "x": [
            90,
            562,
            710,
            1242,
            2755,
            2757,
            2760,
            2762,
            2763
           ],
           "xaxis": "x",
           "y": [
            255,
            18,
            12,
            3,
            1,
            1,
            1,
            1,
            1
           ],
           "yaxis": "y"
          },
          {
           "hovertemplate": "<b>%{hovertext}</b><br><br>shape=triangle<br>year=2010<br>index=%{x}<br>count=%{marker.size}<extra></extra>",
           "hovertext": [
            "united states",
            "canada",
            "afghanistan",
            "australia",
            "colombia",
            "ireland",
            "lebanon",
            "south africa",
            "spain",
            "sri lanka",
            "croatia",
            "egypt",
            "bulgaria",
            "angola",
            "brazil"
           ],
           "ids": [
            "united states",
            "canada",
            "afghanistan",
            "australia",
            "colombia",
            "ireland",
            "lebanon",
            "south africa",
            "spain",
            "sri lanka",
            "croatia",
            "egypt",
            "bulgaria",
            "angola",
            "brazil"
           ],
           "legendgroup": "triangle",
           "marker": {
            "color": "#FFA15A",
            "size": [
             306,
             11,
             2,
             2,
             2,
             1,
             1,
             1,
             1,
             1,
             1,
             1,
             1,
             1,
             1
            ],
            "sizemode": "area",
            "sizeref": 0.6504,
            "symbol": "circle"
           },
           "mode": "markers",
           "name": "triangle",
           "orientation": "v",
           "showlegend": true,
           "type": "scatter",
           "x": [
            75,
            729,
            1679,
            1811,
            1818,
            2932,
            2933,
            2935,
            2936,
            2939,
            2950,
            3007,
            3008,
            3084,
            3095
           ],
           "xaxis": "x",
           "y": [
            306,
            11,
            2,
            2,
            2,
            1,
            1,
            1,
            1,
            1,
            1,
            1,
            1,
            1,
            1
           ],
           "yaxis": "y"
          },
          {
           "hovertemplate": "<b>%{hovertext}</b><br><br>shape=sphere<br>year=2010<br>index=%{x}<br>count=%{marker.size}<extra></extra>",
           "hovertext": [
            "unknown",
            "puerto rico",
            "viet nam",
            "egypt",
            "germany",
            "israel",
            "japan",
            "jordan",
            "lebanon"
           ],
           "ids": [
            "unknown",
            "puerto rico",
            "viet nam",
            "egypt",
            "germany",
            "israel",
            "japan",
            "jordan",
            "lebanon"
           ],
           "legendgroup": "sphere",
           "marker": {
            "color": "#19d3f3",
            "size": [
             6,
             1,
             1,
             1,
             1,
             1,
             1,
             1,
             1
            ],
            "sizemode": "area",
            "sizeref": 0.6504,
            "symbol": "circle"
           },
           "mode": "markers",
           "name": "sphere",
           "orientation": "v",
           "showlegend": true,
           "type": "scatter",
           "x": [
            991,
            3070,
            3074,
            3107,
            3115,
            3117,
            3118,
            3119,
            3120
           ],
           "xaxis": "x",
           "y": [
            6,
            1,
            1,
            1,
            1,
            1,
            1,
            1,
            1
           ],
           "yaxis": "y"
          },
          {
           "hovertemplate": "<b>%{hovertext}</b><br><br>shape=disk<br>year=2010<br>index=%{x}<br>count=%{marker.size}<extra></extra>",
           "hovertext": [
            "india",
            "mexico",
            "ireland",
            "japan",
            "netherlands",
            "new zealand",
            "singapore",
            "turkey",
            "ukraine",
            "china"
           ],
           "ids": [
            "india",
            "mexico",
            "ireland",
            "japan",
            "netherlands",
            "new zealand",
            "singapore",
            "turkey",
            "ukraine",
            "china"
           ],
           "legendgroup": "disk",
           "marker": {
            "color": "#FF6692",
            "size": [
             4,
             2,
             1,
             1,
             1,
             1,
             1,
             1,
             1,
             1
            ],
            "sizemode": "area",
            "sizeref": 0.6504,
            "symbol": "circle"
           },
           "mode": "markers",
           "name": "disk",
           "orientation": "v",
           "showlegend": true,
           "type": "scatter",
           "x": [
            1170,
            1747,
            2657,
            2660,
            2661,
            2666,
            2667,
            2671,
            2677,
            2684
           ],
           "xaxis": "x",
           "y": [
            4,
            2,
            1,
            1,
            1,
            1,
            1,
            1,
            1,
            1
           ],
           "yaxis": "y"
          },
          {
           "hovertemplate": "<b>%{hovertext}</b><br><br>shape=formation<br>year=2010<br>index=%{x}<br>count=%{marker.size}<extra></extra>",
           "hovertext": [
            "iraq",
            "ireland",
            "italy",
            "pakistan",
            "philippines",
            "south africa",
            "switzerland"
           ],
           "ids": [
            "iraq",
            "ireland",
            "italy",
            "pakistan",
            "philippines",
            "south africa",
            "switzerland"
           ],
           "legendgroup": "formation",
           "marker": {
            "color": "#B6E880",
            "size": [
             1,
             1,
             1,
             1,
             1,
             1,
             1
            ],
            "sizemode": "area",
            "sizeref": 0.6504,
            "symbol": "circle"
           },
           "mode": "markers",
           "name": "formation",
           "orientation": "v",
           "showlegend": true,
           "type": "scatter",
           "x": [
            2720,
            2723,
            2724,
            2725,
            2726,
            2728,
            2730
           ],
           "xaxis": "x",
           "y": [
            1,
            1,
            1,
            1,
            1,
            1,
            1
           ],
           "yaxis": "y"
          },
          {
           "hovertemplate": "<b>%{hovertext}</b><br><br>shape=oval<br>year=2010<br>index=%{x}<br>count=%{marker.size}<extra></extra>",
           "hovertext": [
            "south africa",
            "afghanistan",
            "denmark",
            "france",
            "hong kong",
            "iceland",
            "panama",
            "philippines"
           ],
           "ids": [
            "south africa",
            "afghanistan",
            "denmark",
            "france",
            "hong kong",
            "iceland",
            "panama",
            "philippines"
           ],
           "legendgroup": "oval",
           "marker": {
            "color": "#FF97FF",
            "size": [
             2,
             1,
             1,
             1,
             1,
             1,
             1,
             1
            ],
            "sizemode": "area",
            "sizeref": 0.6504,
            "symbol": "circle"
           },
           "mode": "markers",
           "name": "oval",
           "orientation": "v",
           "showlegend": true,
           "type": "scatter",
           "x": [
            1678,
            3022,
            3025,
            3026,
            3027,
            3029,
            3033,
            3035
           ],
           "xaxis": "x",
           "y": [
            2,
            1,
            1,
            1,
            1,
            1,
            1,
            1
           ],
           "yaxis": "y"
          },
          {
           "hovertemplate": "<b>%{hovertext}</b><br><br>shape=cigar<br>year=2010<br>index=%{x}<br>count=%{marker.size}<extra></extra>",
           "hovertext": [
            "india",
            "spain",
            "denmark"
           ],
           "ids": [
            "india",
            "spain",
            "denmark"
           ],
           "legendgroup": "cigar",
           "marker": {
            "color": "#FECB52",
            "size": [
             1,
             1,
             1
            ],
            "sizemode": "area",
            "sizeref": 0.6504,
            "symbol": "circle"
           },
           "mode": "markers",
           "name": "cigar",
           "orientation": "v",
           "showlegend": true,
           "type": "scatter",
           "x": [
            2689,
            2692,
            2771
           ],
           "xaxis": "x",
           "y": [
            1,
            1,
            1
           ],
           "yaxis": "y"
          },
          {
           "hovertemplate": "<b>%{hovertext}</b><br><br>shape=flash<br>year=2010<br>index=%{x}<br>count=%{marker.size}<extra></extra>",
           "hovertext": [
            "china",
            "germany"
           ],
           "ids": [
            "china",
            "germany"
           ],
           "legendgroup": "flash",
           "marker": {
            "color": "#636efa",
            "size": [
             1,
             1
            ],
            "sizemode": "area",
            "sizeref": 0.6504,
            "symbol": "circle"
           },
           "mode": "markers",
           "name": "flash",
           "orientation": "v",
           "showlegend": true,
           "type": "scatter",
           "x": [
            2765,
            2766
           ],
           "xaxis": "x",
           "y": [
            1,
            1
           ],
           "yaxis": "y"
          },
          {
           "hovertemplate": "<b>%{hovertext}</b><br><br>shape=rectangle<br>year=2010<br>index=%{x}<br>count=%{marker.size}<extra></extra>",
           "hovertext": [
            "china",
            "hungary",
            "netherlands"
           ],
           "ids": [
            "china",
            "hungary",
            "netherlands"
           ],
           "legendgroup": "rectangle",
           "marker": {
            "color": "#EF553B",
            "size": [
             1,
             1,
             1
            ],
            "sizemode": "area",
            "sizeref": 0.6504,
            "symbol": "circle"
           },
           "mode": "markers",
           "name": "rectangle",
           "orientation": "v",
           "showlegend": true,
           "type": "scatter",
           "x": [
            3036,
            3066,
            3105
           ],
           "xaxis": "x",
           "y": [
            1,
            1,
            1
           ],
           "yaxis": "y"
          },
          {
           "hovertemplate": "<b>%{hovertext}</b><br><br>shape=changed<br>year=2010<br>index=%{x}<br>count=%{marker.size}<extra></extra>",
           "hovertext": [
            "australia",
            "japan"
           ],
           "ids": [
            "australia",
            "japan"
           ],
           "legendgroup": "changed",
           "marker": {
            "color": "#00cc96",
            "size": [
             3,
             1
            ],
            "sizemode": "area",
            "sizeref": 0.6504,
            "symbol": "circle"
           },
           "mode": "markers",
           "name": "changed",
           "orientation": "v",
           "showlegend": true,
           "type": "scatter",
           "x": [
            1225,
            2853
           ],
           "xaxis": "x",
           "y": [
            3,
            1
           ],
           "yaxis": "y"
          },
          {
           "hovertemplate": "<b>%{hovertext}</b><br><br>shape=cylinder<br>year=2010<br>index=%{x}<br>count=%{marker.size}<extra></extra>",
           "hovertext": [
            "germany"
           ],
           "ids": [
            "germany"
           ],
           "legendgroup": "cylinder",
           "marker": {
            "color": "#ab63fa",
            "size": [
             1
            ],
            "sizemode": "area",
            "sizeref": 0.6504,
            "symbol": "circle"
           },
           "mode": "markers",
           "name": "cylinder",
           "orientation": "v",
           "showlegend": true,
           "type": "scatter",
           "x": [
            2708
           ],
           "xaxis": "x",
           "y": [
            1
           ],
           "yaxis": "y"
          },
          {
           "hovertemplate": "<b>%{hovertext}</b><br><br>shape=egg<br>year=2010<br>index=%{x}<br>count=%{marker.size}<extra></extra>",
           "hovertext": [
            "australia"
           ],
           "ids": [
            "australia"
           ],
           "legendgroup": "egg",
           "marker": {
            "color": "#FFA15A",
            "size": [
             1
            ],
            "sizemode": "area",
            "sizeref": 0.6504,
            "symbol": "circle"
           },
           "mode": "markers",
           "name": "egg",
           "orientation": "v",
           "showlegend": true,
           "type": "scatter",
           "x": [
            2746
           ],
           "xaxis": "x",
           "y": [
            1
           ],
           "yaxis": "y"
          },
          {
           "hovertemplate": "<b>%{hovertext}</b><br><br>shape=diamond<br>year=2010<br>index=%{x}<br>count=%{marker.size}<extra></extra>",
           "hovertext": [
            "australia"
           ],
           "ids": [
            "australia"
           ],
           "legendgroup": "diamond",
           "marker": {
            "color": "#19d3f3",
            "size": [
             1
            ],
            "sizemode": "area",
            "sizeref": 0.6504,
            "symbol": "circle"
           },
           "mode": "markers",
           "name": "diamond",
           "orientation": "v",
           "showlegend": true,
           "type": "scatter",
           "x": [
            2685
           ],
           "xaxis": "x",
           "y": [
            1
           ],
           "yaxis": "y"
          },
          {
           "hovertemplate": "<b>%{hovertext}</b><br><br>shape=chevron<br>year=2010<br>index=%{x}<br>count=%{marker.size}<extra></extra>",
           "hovertext": [
            "mexico",
            "netherlands"
           ],
           "ids": [
            "mexico",
            "netherlands"
           ],
           "legendgroup": "chevron",
           "marker": {
            "color": "#FF6692",
            "size": [
             1,
             1
            ],
            "sizemode": "area",
            "sizeref": 0.6504,
            "symbol": "circle"
           },
           "mode": "markers",
           "name": "chevron",
           "orientation": "v",
           "showlegend": true,
           "type": "scatter",
           "x": [
            2855,
            2858
           ],
           "xaxis": "x",
           "y": [
            1,
            1
           ],
           "yaxis": "y"
          },
          {
           "hovertemplate": "<b>%{hovertext}</b><br><br>shape=teardrop<br>year=2010<br>index=%{x}<br>count=%{marker.size}<extra></extra>",
           "hovertext": [
            "singapore"
           ],
           "ids": [
            "singapore"
           ],
           "legendgroup": "teardrop",
           "marker": {
            "color": "#FF97FF",
            "size": [
             1
            ],
            "sizemode": "area",
            "sizeref": 0.6504,
            "symbol": "circle"
           },
           "mode": "markers",
           "name": "teardrop",
           "orientation": "v",
           "showlegend": true,
           "type": "scatter",
           "x": [
            3077
           ],
           "xaxis": "x",
           "y": [
            1
           ],
           "yaxis": "y"
          },
          {
           "hovertemplate": "<b>%{hovertext}</b><br><br>shape=cross<br>year=2010<br>index=%{x}<br>count=%{marker.size}<extra></extra>",
           "hovertext": [
            "italy"
           ],
           "ids": [
            "italy"
           ],
           "legendgroup": "cross",
           "marker": {
            "color": "#FECB52",
            "size": [
             1
            ],
            "sizemode": "area",
            "sizeref": 0.6504,
            "symbol": "circle"
           },
           "mode": "markers",
           "name": "cross",
           "orientation": "v",
           "showlegend": true,
           "type": "scatter",
           "x": [
            2706
           ],
           "xaxis": "x",
           "y": [
            1
           ],
           "yaxis": "y"
          }
         ],
         "name": "2010"
        },
        {
         "data": [
          {
           "hovertemplate": "<b>%{hovertext}</b><br><br>shape=light<br>year=2018<br>index=%{x}<br>count=%{marker.size}<extra></extra>",
           "hovertext": [
            "united states",
            "canada",
            "unknown",
            "lebanon",
            "india",
            "panama",
            "mexico",
            "puerto rico",
            "south africa",
            "peru",
            "norway",
            "japan",
            "ireland",
            "greece",
            "france",
            "brazil"
           ],
           "ids": [
            "united states",
            "canada",
            "unknown",
            "lebanon",
            "india",
            "panama",
            "mexico",
            "puerto rico",
            "south africa",
            "peru",
            "norway",
            "japan",
            "ireland",
            "greece",
            "france",
            "brazil"
           ],
           "legendgroup": "light",
           "marker": {
            "color": "#636efa",
            "size": [
             669,
             16,
             8,
             4,
             3,
             2,
             2,
             1,
             1,
             1,
             1,
             1,
             1,
             1,
             1,
             1
            ],
            "sizemode": "area",
            "sizeref": 0.6504,
            "symbol": "circle"
           },
           "mode": "markers",
           "name": "light",
           "orientation": "v",
           "showlegend": true,
           "type": "scatter",
           "x": [
            29,
            618,
            816,
            1141,
            1314,
            1511,
            1512,
            2429,
            2483,
            2484,
            2516,
            2518,
            2519,
            2521,
            2522,
            2523
           ],
           "xaxis": "x",
           "y": [
            669,
            16,
            8,
            4,
            3,
            2,
            2,
            1,
            1,
            1,
            1,
            1,
            1,
            1,
            1,
            1
           ],
           "yaxis": "y"
          },
          {
           "hovertemplate": "<b>%{hovertext}</b><br><br>shape=unknown<br>year=2018<br>index=%{x}<br>count=%{marker.size}<extra></extra>",
           "hovertext": [
            "united states",
            "canada",
            "india",
            "unknown",
            "australia",
            "switzerland",
            "tunisia",
            "new zealand",
            "brazil",
            "mexico",
            "japan",
            "italy",
            "germany",
            "cyprus",
            "cuba",
            "costa rica",
            "china",
            "bulgaria"
           ],
           "ids": [
            "united states",
            "canada",
            "india",
            "unknown",
            "australia",
            "switzerland",
            "tunisia",
            "new zealand",
            "brazil",
            "mexico",
            "japan",
            "italy",
            "germany",
            "cyprus",
            "cuba",
            "costa rica",
            "china",
            "bulgaria"
           ],
           "legendgroup": "unknown",
           "marker": {
            "color": "#EF553B",
            "size": [
             667,
             17,
             16,
             12,
             1,
             1,
             1,
             1,
             1,
             1,
             1,
             1,
             1,
             1,
             1,
             1,
             1,
             1
            ],
            "sizemode": "area",
            "sizeref": 0.6504,
            "symbol": "circle"
           },
           "mode": "markers",
           "name": "unknown",
           "orientation": "v",
           "showlegend": true,
           "type": "scatter",
           "x": [
            30,
            588,
            616,
            711,
            2457,
            2458,
            2469,
            2470,
            2471,
            2472,
            2473,
            2474,
            2476,
            2477,
            2478,
            2479,
            2480,
            2482
           ],
           "xaxis": "x",
           "y": [
            667,
            17,
            16,
            12,
            1,
            1,
            1,
            1,
            1,
            1,
            1,
            1,
            1,
            1,
            1,
            1,
            1,
            1
           ],
           "yaxis": "y"
          },
          {
           "hovertemplate": "<b>%{hovertext}</b><br><br>shape=circle<br>year=2018<br>index=%{x}<br>count=%{marker.size}<extra></extra>",
           "hovertext": [
            "united states",
            "canada",
            "unknown",
            "india",
            "germany",
            "spain",
            "serbia",
            "ireland",
            "greece",
            "gibraltar",
            "croatia",
            "australia"
           ],
           "ids": [
            "united states",
            "canada",
            "unknown",
            "india",
            "germany",
            "spain",
            "serbia",
            "ireland",
            "greece",
            "gibraltar",
            "croatia",
            "australia"
           ],
           "legendgroup": "circle",
           "marker": {
            "color": "#00cc96",
            "size": [
             376,
             13,
             8,
             2,
             2,
             1,
             1,
             1,
             1,
             1,
             1,
             1
            ],
            "sizemode": "area",
            "sizeref": 0.6504,
            "symbol": "circle"
           },
           "mode": "markers",
           "name": "circle",
           "orientation": "v",
           "showlegend": true,
           "type": "scatter",
           "x": [
            60,
            676,
            860,
            1506,
            1548,
            2501,
            2502,
            2503,
            2505,
            2506,
            2508,
            2510
           ],
           "xaxis": "x",
           "y": [
            376,
            13,
            8,
            2,
            2,
            1,
            1,
            1,
            1,
            1,
            1,
            1
           ],
           "yaxis": "y"
          },
          {
           "hovertemplate": "<b>%{hovertext}</b><br><br>shape=fireball<br>year=2018<br>index=%{x}<br>count=%{marker.size}<extra></extra>",
           "hovertext": [
            "france",
            "finland"
           ],
           "ids": [
            "france",
            "finland"
           ],
           "legendgroup": "fireball",
           "marker": {
            "color": "#ab63fa",
            "size": [
             1,
             1
            ],
            "sizemode": "area",
            "sizeref": 0.6504,
            "symbol": "circle"
           },
           "mode": "markers",
           "name": "fireball",
           "orientation": "v",
           "showlegend": true,
           "type": "scatter",
           "x": [
            2536,
            2537
           ],
           "xaxis": "x",
           "y": [
            1,
            1
           ],
           "yaxis": "y"
          },
          {
           "hovertemplate": "<b>%{hovertext}</b><br><br>shape=triangle<br>year=2018<br>index=%{x}<br>count=%{marker.size}<extra></extra>",
           "hovertext": [
            "united states",
            "canada",
            "unknown",
            "tonga",
            "thailand",
            "singapore",
            "poland",
            "latvia",
            "japan",
            "france",
            "australia"
           ],
           "ids": [
            "united states",
            "canada",
            "unknown",
            "tonga",
            "thailand",
            "singapore",
            "poland",
            "latvia",
            "japan",
            "france",
            "australia"
           ],
           "legendgroup": "triangle",
           "marker": {
            "color": "#FFA15A",
            "size": [
             246,
             11,
             10,
             1,
             1,
             1,
             1,
             1,
             1,
             1,
             1
            ],
            "sizemode": "area",
            "sizeref": 0.6504,
            "symbol": "circle"
           },
           "mode": "markers",
           "name": "triangle",
           "orientation": "v",
           "showlegend": true,
           "type": "scatter",
           "x": [
            92,
            747,
            769,
            2430,
            2431,
            2432,
            2433,
            2434,
            2435,
            2436,
            2437
           ],
           "xaxis": "x",
           "y": [
            246,
            11,
            10,
            1,
            1,
            1,
            1,
            1,
            1,
            1,
            1
           ],
           "yaxis": "y"
          },
          {
           "hovertemplate": "<b>%{hovertext}</b><br><br>shape=sphere<br>year=2018<br>index=%{x}<br>count=%{marker.size}<extra></extra>",
           "hovertext": [
            "united states",
            "mexico",
            "ecuador"
           ],
           "ids": [
            "united states",
            "mexico",
            "ecuador"
           ],
           "legendgroup": "sphere",
           "marker": {
            "color": "#19d3f3",
            "size": [
             218,
             1,
             1
            ],
            "sizemode": "area",
            "sizeref": 0.6504,
            "symbol": "circle"
           },
           "mode": "markers",
           "name": "sphere",
           "orientation": "v",
           "showlegend": true,
           "type": "scatter",
           "x": [
            108,
            2440,
            2442
           ],
           "xaxis": "x",
           "y": [
            218,
            1,
            1
           ],
           "yaxis": "y"
          },
          {
           "hovertemplate": "<b>%{hovertext}</b><br><br>shape=disk<br>year=2018<br>index=%{x}<br>count=%{marker.size}<extra></extra>",
           "hovertext": [
            "canada",
            "unknown",
            "india",
            "israel",
            "chile",
            "italy",
            "jersey"
           ],
           "ids": [
            "canada",
            "unknown",
            "india",
            "israel",
            "chile",
            "italy",
            "jersey"
           ],
           "legendgroup": "disk",
           "marker": {
            "color": "#FF6692",
            "size": [
             6,
             5,
             3,
             1,
             1,
             1,
             1
            ],
            "sizemode": "area",
            "sizeref": 0.6504,
            "symbol": "circle"
           },
           "mode": "markers",
           "name": "disk",
           "orientation": "v",
           "showlegend": true,
           "type": "scatter",
           "x": [
            964,
            1057,
            1315,
            2487,
            2489,
            2512,
            2513
           ],
           "xaxis": "x",
           "y": [
            6,
            5,
            3,
            1,
            1,
            1,
            1
           ],
           "yaxis": "y"
          },
          {
           "hovertemplate": "<b>%{hovertext}</b><br><br>shape=formation<br>year=2018<br>index=%{x}<br>count=%{marker.size}<extra></extra>",
           "hovertext": [
            "japan"
           ],
           "ids": [
            "japan"
           ],
           "legendgroup": "formation",
           "marker": {
            "color": "#B6E880",
            "size": [
             1
            ],
            "sizemode": "area",
            "sizeref": 0.6504,
            "symbol": "circle"
           },
           "mode": "markers",
           "name": "formation",
           "orientation": "v",
           "showlegend": true,
           "type": "scatter",
           "x": [
            2526
           ],
           "xaxis": "x",
           "y": [
            1
           ],
           "yaxis": "y"
          },
          {
           "hovertemplate": "<b>%{hovertext}</b><br><br>shape=oval<br>year=2018<br>index=%{x}<br>count=%{marker.size}<extra></extra>",
           "hovertext": [
            "switzerland",
            "ireland",
            "hong kong",
            "australia"
           ],
           "ids": [
            "switzerland",
            "ireland",
            "hong kong",
            "australia"
           ],
           "legendgroup": "oval",
           "marker": {
            "color": "#FF97FF",
            "size": [
             1,
             1,
             1,
             1
            ],
            "sizemode": "area",
            "sizeref": 0.6504,
            "symbol": "circle"
           },
           "mode": "markers",
           "name": "oval",
           "orientation": "v",
           "showlegend": true,
           "type": "scatter",
           "x": [
            2448,
            2449,
            2451,
            2452
           ],
           "xaxis": "x",
           "y": [
            1,
            1,
            1,
            1
           ],
           "yaxis": "y"
          },
          {
           "hovertemplate": "<b>%{hovertext}</b><br><br>shape=cigar<br>year=2018<br>index=%{x}<br>count=%{marker.size}<extra></extra>",
           "hovertext": [
            "poland",
            "ukraine"
           ],
           "ids": [
            "poland",
            "ukraine"
           ],
           "legendgroup": "cigar",
           "marker": {
            "color": "#FECB52",
            "size": [
             1,
             1
            ],
            "sizemode": "area",
            "sizeref": 0.6504,
            "symbol": "circle"
           },
           "mode": "markers",
           "name": "cigar",
           "orientation": "v",
           "showlegend": true,
           "type": "scatter",
           "x": [
            2197,
            2201
           ],
           "xaxis": "x",
           "y": [
            1,
            1
           ],
           "yaxis": "y"
          },
          {
           "hovertemplate": "<b>%{hovertext}</b><br><br>shape=flash<br>year=2018<br>index=%{x}<br>count=%{marker.size}<extra></extra>",
           "hovertext": [
            "south africa",
            "pakistan",
            "brazil"
           ],
           "ids": [
            "south africa",
            "pakistan",
            "brazil"
           ],
           "legendgroup": "flash",
           "marker": {
            "color": "#636efa",
            "size": [
             1,
             1,
             1
            ],
            "sizemode": "area",
            "sizeref": 0.6504,
            "symbol": "circle"
           },
           "mode": "markers",
           "name": "flash",
           "orientation": "v",
           "showlegend": true,
           "type": "scatter",
           "x": [
            2529,
            2530,
            2532
           ],
           "xaxis": "x",
           "y": [
            1,
            1,
            1
           ],
           "yaxis": "y"
          },
          {
           "hovertemplate": "<b>%{hovertext}</b><br><br>shape=rectangle<br>year=2018<br>index=%{x}<br>count=%{marker.size}<extra></extra>",
           "hovertext": [
            "spain"
           ],
           "ids": [
            "spain"
           ],
           "legendgroup": "rectangle",
           "marker": {
            "color": "#EF553B",
            "size": [
             1
            ],
            "sizemode": "area",
            "sizeref": 0.6504,
            "symbol": "circle"
           },
           "mode": "markers",
           "name": "rectangle",
           "orientation": "v",
           "showlegend": true,
           "type": "scatter",
           "x": [
            2445
           ],
           "xaxis": "x",
           "y": [
            1
           ],
           "yaxis": "y"
          },
          {
           "hovertemplate": "<b>%{hovertext}</b><br><br>shape=changed<br>year=2018<br>index=%{x}<br>count=%{marker.size}<extra></extra>",
           "hovertext": [
            "mexico",
            "italy",
            "australia"
           ],
           "ids": [
            "mexico",
            "italy",
            "australia"
           ],
           "legendgroup": "changed",
           "marker": {
            "color": "#00cc96",
            "size": [
             1,
             1,
             1
            ],
            "sizemode": "area",
            "sizeref": 0.6504,
            "symbol": "circle"
           },
           "mode": "markers",
           "name": "changed",
           "orientation": "v",
           "showlegend": true,
           "type": "scatter",
           "x": [
            1930,
            1931,
            1933
           ],
           "xaxis": "x",
           "y": [
            1,
            1,
            1
           ],
           "yaxis": "y"
          },
          {
           "hovertemplate": "<b>%{hovertext}</b><br><br>shape=cylinder<br>year=2018<br>index=%{x}<br>count=%{marker.size}<extra></extra>",
           "hovertext": [
            "iraq",
            "greece"
           ],
           "ids": [
            "iraq",
            "greece"
           ],
           "legendgroup": "cylinder",
           "marker": {
            "color": "#ab63fa",
            "size": [
             1,
             1
            ],
            "sizemode": "area",
            "sizeref": 0.6504,
            "symbol": "circle"
           },
           "mode": "markers",
           "name": "cylinder",
           "orientation": "v",
           "showlegend": true,
           "type": "scatter",
           "x": [
            2497,
            2498
           ],
           "xaxis": "x",
           "y": [
            1,
            1
           ],
           "yaxis": "y"
          },
          {
           "hovertemplate": "<b>%{hovertext}</b><br><br>shape=diamond<br>year=2018<br>index=%{x}<br>count=%{marker.size}<extra></extra>",
           "hovertext": [
            "india",
            "new zealand",
            "mexico",
            "cyprus"
           ],
           "ids": [
            "india",
            "new zealand",
            "mexico",
            "cyprus"
           ],
           "legendgroup": "diamond",
           "marker": {
            "color": "#19d3f3",
            "size": [
             2,
             1,
             1,
             1
            ],
            "sizemode": "area",
            "sizeref": 0.6504,
            "symbol": "circle"
           },
           "mode": "markers",
           "name": "diamond",
           "orientation": "v",
           "showlegend": true,
           "type": "scatter",
           "x": [
            1509,
            2492,
            2493,
            2494
           ],
           "xaxis": "x",
           "y": [
            2,
            1,
            1,
            1
           ],
           "yaxis": "y"
          },
          {
           "hovertemplate": "<b>%{hovertext}</b><br><br>shape=cone<br>year=2018<br>index=%{x}<br>count=%{marker.size}<extra></extra>",
           "hovertext": [
            "germany"
           ],
           "ids": [
            "germany"
           ],
           "legendgroup": "cone",
           "marker": {
            "color": "#B6E880",
            "size": [
             1
            ],
            "sizemode": "area",
            "sizeref": 0.6504,
            "symbol": "circle"
           },
           "mode": "markers",
           "name": "cone",
           "orientation": "v",
           "showlegend": true,
           "type": "scatter",
           "x": [
            2500
           ],
           "xaxis": "x",
           "y": [
            1
           ],
           "yaxis": "y"
          }
         ],
         "name": "2018"
        },
        {
         "data": [
          {
           "hovertemplate": "<b>%{hovertext}</b><br><br>shape=light<br>year=2008<br>index=%{x}<br>count=%{marker.size}<extra></extra>",
           "hovertext": [
            "united states",
            "canada",
            "india",
            "australia",
            "cuba",
            "mexico"
           ],
           "ids": [
            "united states",
            "canada",
            "india",
            "australia",
            "cuba",
            "mexico"
           ],
           "legendgroup": "light",
           "marker": {
            "color": "#636efa",
            "size": [
             624,
             43,
             3,
             1,
             1,
             1
            ],
            "sizemode": "area",
            "sizeref": 0.6504,
            "symbol": "circle"
           },
           "mode": "markers",
           "name": "light",
           "orientation": "v",
           "showlegend": true,
           "type": "scatter",
           "x": [
            32,
            348,
            1243,
            2813,
            2818,
            2819
           ],
           "xaxis": "x",
           "y": [
            624,
            43,
            3,
            1,
            1,
            1
           ],
           "yaxis": "y"
          },
          {
           "hovertemplate": "<b>%{hovertext}</b><br><br>shape=unknown<br>year=2008<br>index=%{x}<br>count=%{marker.size}<extra></extra>",
           "hovertext": [
            "united states",
            "canada",
            "india",
            "lebanon",
            "unknown",
            "mexico",
            "oman",
            "puerto rico"
           ],
           "ids": [
            "united states",
            "canada",
            "india",
            "lebanon",
            "unknown",
            "mexico",
            "oman",
            "puerto rico"
           ],
           "legendgroup": "unknown",
           "marker": {
            "color": "#EF553B",
            "size": [
             507,
             21,
             4,
             2,
             1,
             1,
             1,
             1
            ],
            "sizemode": "area",
            "sizeref": 0.6504,
            "symbol": "circle"
           },
           "mode": "markers",
           "name": "unknown",
           "orientation": "v",
           "showlegend": true,
           "type": "scatter",
           "x": [
            43,
            529,
            1202,
            1715,
            2774,
            2781,
            2782,
            2786
           ],
           "xaxis": "x",
           "y": [
            507,
            21,
            4,
            2,
            1,
            1,
            1,
            1
           ],
           "yaxis": "y"
          },
          {
           "hovertemplate": "<b>%{hovertext}</b><br><br>shape=circle<br>year=2008<br>index=%{x}<br>count=%{marker.size}<extra></extra>",
           "hovertext": [
            "united states",
            "canada",
            "lebanon"
           ],
           "ids": [
            "united states",
            "canada",
            "lebanon"
           ],
           "legendgroup": "circle",
           "marker": {
            "color": "#00cc96",
            "size": [
             230,
             16,
             1
            ],
            "sizemode": "area",
            "sizeref": 0.6504,
            "symbol": "circle"
           },
           "mode": "markers",
           "name": "circle",
           "orientation": "v",
           "showlegend": true,
           "type": "scatter",
           "x": [
            101,
            611,
            3440
           ],
           "xaxis": "x",
           "y": [
            230,
            16,
            1
           ],
           "yaxis": "y"
          },
          {
           "hovertemplate": "<b>%{hovertext}</b><br><br>shape=fireball<br>year=2008<br>index=%{x}<br>count=%{marker.size}<extra></extra>",
           "hovertext": [
            "peru",
            "poland"
           ],
           "ids": [
            "peru",
            "poland"
           ],
           "legendgroup": "fireball",
           "marker": {
            "color": "#ab63fa",
            "size": [
             1,
             1
            ],
            "sizemode": "area",
            "sizeref": 0.6504,
            "symbol": "circle"
           },
           "mode": "markers",
           "name": "fireball",
           "orientation": "v",
           "showlegend": true,
           "type": "scatter",
           "x": [
            2806,
            2807
           ],
           "xaxis": "x",
           "y": [
            1,
            1
           ],
           "yaxis": "y"
          },
          {
           "hovertemplate": "<b>%{hovertext}</b><br><br>shape=triangle<br>year=2008<br>index=%{x}<br>count=%{marker.size}<extra></extra>",
           "hovertext": [
            "united states",
            "india",
            "lebanon"
           ],
           "ids": [
            "united states",
            "india",
            "lebanon"
           ],
           "legendgroup": "triangle",
           "marker": {
            "color": "#FFA15A",
            "size": [
             313,
             3,
             1
            ],
            "sizemode": "area",
            "sizeref": 0.6504,
            "symbol": "circle"
           },
           "mode": "markers",
           "name": "triangle",
           "orientation": "v",
           "showlegend": true,
           "type": "scatter",
           "x": [
            71,
            1236,
            2803
           ],
           "xaxis": "x",
           "y": [
            313,
            3,
            1
           ],
           "yaxis": "y"
          },
          {
           "hovertemplate": "<b>%{hovertext}</b><br><br>shape=sphere<br>year=2008<br>index=%{x}<br>count=%{marker.size}<extra></extra>",
           "hovertext": [
            "united states",
            "canada",
            "lebanon"
           ],
           "ids": [
            "united states",
            "canada",
            "lebanon"
           ],
           "legendgroup": "sphere",
           "marker": {
            "color": "#19d3f3",
            "size": [
             175,
             15,
             1
            ],
            "sizemode": "area",
            "sizeref": 0.6504,
            "symbol": "circle"
           },
           "mode": "markers",
           "name": "sphere",
           "orientation": "v",
           "showlegend": true,
           "type": "scatter",
           "x": [
            128,
            626,
            2826
           ],
           "xaxis": "x",
           "y": [
            175,
            15,
            1
           ],
           "yaxis": "y"
          },
          {
           "hovertemplate": "<b>%{hovertext}</b><br><br>shape=disk<br>year=2008<br>index=%{x}<br>count=%{marker.size}<extra></extra>",
           "hovertext": [
            "canada",
            "india",
            "jersey",
            "malta",
            "mexico"
           ],
           "ids": [
            "canada",
            "india",
            "jersey",
            "malta",
            "mexico"
           ],
           "legendgroup": "disk",
           "marker": {
            "color": "#FF6692",
            "size": [
             8,
             4,
             1,
             1,
             1
            ],
            "sizemode": "area",
            "sizeref": 0.6504,
            "symbol": "circle"
           },
           "mode": "markers",
           "name": "disk",
           "orientation": "v",
           "showlegend": true,
           "type": "scatter",
           "x": [
            835,
            1098,
            3444,
            3445,
            3447
           ],
           "xaxis": "x",
           "y": [
            8,
            4,
            1,
            1,
            1
           ],
           "yaxis": "y"
          },
          {
           "hovertemplate": "<b>%{hovertext}</b><br><br>shape=formation<br>year=2008<br>index=%{x}<br>count=%{marker.size}<extra></extra>",
           "hovertext": [
            "oman",
            "peru"
           ],
           "ids": [
            "oman",
            "peru"
           ],
           "legendgroup": "formation",
           "marker": {
            "color": "#B6E880",
            "size": [
             1,
             1
            ],
            "sizemode": "area",
            "sizeref": 0.6504,
            "symbol": "circle"
           },
           "mode": "markers",
           "name": "formation",
           "orientation": "v",
           "showlegend": true,
           "type": "scatter",
           "x": [
            2809,
            2810
           ],
           "xaxis": "x",
           "y": [
            1,
            1
           ],
           "yaxis": "y"
          },
          {
           "hovertemplate": "<b>%{hovertext}</b><br><br>shape=rectangle<br>year=2008<br>index=%{x}<br>count=%{marker.size}<extra></extra>",
           "hovertext": [
            "india"
           ],
           "ids": [
            "india"
           ],
           "legendgroup": "rectangle",
           "marker": {
            "color": "#EF553B",
            "size": [
             1
            ],
            "sizemode": "area",
            "sizeref": 0.6504,
            "symbol": "circle"
           },
           "mode": "markers",
           "name": "rectangle",
           "orientation": "v",
           "showlegend": true,
           "type": "scatter",
           "x": [
            2824
           ],
           "xaxis": "x",
           "y": [
            1
           ],
           "yaxis": "y"
          },
          {
           "hovertemplate": "<b>%{hovertext}</b><br><br>shape=changed<br>year=2008<br>index=%{x}<br>count=%{marker.size}<extra></extra>",
           "hovertext": [
            "jersey"
           ],
           "ids": [
            "jersey"
           ],
           "legendgroup": "changed",
           "marker": {
            "color": "#00cc96",
            "size": [
             1
            ],
            "sizemode": "area",
            "sizeref": 0.6504,
            "symbol": "circle"
           },
           "mode": "markers",
           "name": "changed",
           "orientation": "v",
           "showlegend": true,
           "type": "scatter",
           "x": [
            3431
           ],
           "xaxis": "x",
           "y": [
            1
           ],
           "yaxis": "y"
          }
         ],
         "name": "2008"
        },
        {
         "data": [
          {
           "hovertemplate": "<b>%{hovertext}</b><br><br>shape=light<br>year=2007<br>index=%{x}<br>count=%{marker.size}<extra></extra>",
           "hovertext": [
            "united states",
            "canada",
            "lebanon",
            "india",
            "australia",
            "jersey",
            "mexico"
           ],
           "ids": [
            "united states",
            "canada",
            "lebanon",
            "india",
            "australia",
            "jersey",
            "mexico"
           ],
           "legendgroup": "light",
           "marker": {
            "color": "#636efa",
            "size": [
             562,
             43,
             3,
             3,
             1,
             1,
             1
            ],
            "sizemode": "area",
            "sizeref": 0.6504,
            "symbol": "circle"
           },
           "mode": "markers",
           "name": "light",
           "orientation": "v",
           "showlegend": true,
           "type": "scatter",
           "x": [
            35,
            346,
            1221,
            1223,
            3420,
            3456,
            3457
           ],
           "xaxis": "x",
           "y": [
            562,
            43,
            3,
            3,
            1,
            1,
            1
           ],
           "yaxis": "y"
          },
          {
           "hovertemplate": "<b>%{hovertext}</b><br><br>shape=unknown<br>year=2007<br>index=%{x}<br>count=%{marker.size}<extra></extra>",
           "hovertext": [
            "united states",
            "canada",
            "jersey",
            "peru"
           ],
           "ids": [
            "united states",
            "canada",
            "jersey",
            "peru"
           ],
           "legendgroup": "unknown",
           "marker": {
            "color": "#EF553B",
            "size": [
             417,
             51,
             1,
             1
            ],
            "sizemode": "area",
            "sizeref": 0.6504,
            "symbol": "circle"
           },
           "mode": "markers",
           "name": "unknown",
           "orientation": "v",
           "showlegend": true,
           "type": "scatter",
           "x": [
            53,
            311,
            3424,
            3430
           ],
           "xaxis": "x",
           "y": [
            417,
            51,
            1,
            1
           ],
           "yaxis": "y"
          },
          {
           "hovertemplate": "<b>%{hovertext}</b><br><br>shape=circle<br>year=2007<br>index=%{x}<br>count=%{marker.size}<extra></extra>",
           "hovertext": [
            "united states",
            "canada"
           ],
           "ids": [
            "united states",
            "canada"
           ],
           "legendgroup": "circle",
           "marker": {
            "color": "#00cc96",
            "size": [
             236,
             25
            ],
            "sizemode": "area",
            "sizeref": 0.6504,
            "symbol": "circle"
           },
           "mode": "markers",
           "name": "circle",
           "orientation": "v",
           "showlegend": true,
           "type": "scatter",
           "x": [
            97,
            475
           ],
           "xaxis": "x",
           "y": [
            236,
            25
           ],
           "yaxis": "y"
          },
          {
           "hovertemplate": "<b>%{hovertext}</b><br><br>shape=fireball<br>year=2007<br>index=%{x}<br>count=%{marker.size}<extra></extra>",
           "hovertext": [
            "india",
            "jamaica",
            "lebanon"
           ],
           "ids": [
            "india",
            "jamaica",
            "lebanon"
           ],
           "legendgroup": "fireball",
           "marker": {
            "color": "#ab63fa",
            "size": [
             2,
             1,
             1
            ],
            "sizemode": "area",
            "sizeref": 0.6504,
            "symbol": "circle"
           },
           "mode": "markers",
           "name": "fireball",
           "orientation": "v",
           "showlegend": true,
           "type": "scatter",
           "x": [
            1741,
            3388,
            3389
           ],
           "xaxis": "x",
           "y": [
            2,
            1,
            1
           ],
           "yaxis": "y"
          },
          {
           "hovertemplate": "<b>%{hovertext}</b><br><br>shape=triangle<br>year=2007<br>index=%{x}<br>count=%{marker.size}<extra></extra>",
           "hovertext": [
            "united states",
            "canada",
            "jordan",
            "india"
           ],
           "ids": [
            "united states",
            "canada",
            "jordan",
            "india"
           ],
           "legendgroup": "triangle",
           "marker": {
            "color": "#FFA15A",
            "size": [
             283,
             17,
             1,
             1
            ],
            "sizemode": "area",
            "sizeref": 0.6504,
            "symbol": "circle"
           },
           "mode": "markers",
           "name": "triangle",
           "orientation": "v",
           "showlegend": true,
           "type": "scatter",
           "x": [
            82,
            583,
            3453,
            3474
           ],
           "xaxis": "x",
           "y": [
            283,
            17,
            1,
            1
           ],
           "yaxis": "y"
          },
          {
           "hovertemplate": "<b>%{hovertext}</b><br><br>shape=sphere<br>year=2007<br>index=%{x}<br>count=%{marker.size}<extra></extra>",
           "hovertext": [
            "canada",
            "jordan"
           ],
           "ids": [
            "canada",
            "jordan"
           ],
           "legendgroup": "sphere",
           "marker": {
            "color": "#19d3f3",
            "size": [
             12,
             1
            ],
            "sizemode": "area",
            "sizeref": 0.6504,
            "symbol": "circle"
           },
           "mode": "markers",
           "name": "sphere",
           "orientation": "v",
           "showlegend": true,
           "type": "scatter",
           "x": [
            703,
            3469
           ],
           "xaxis": "x",
           "y": [
            12,
            1
           ],
           "yaxis": "y"
          },
          {
           "hovertemplate": "<b>%{hovertext}</b><br><br>shape=disk<br>year=2007<br>index=%{x}<br>count=%{marker.size}<extra></extra>",
           "hovertext": [
            "united states",
            "mexico",
            "india",
            "jersey"
           ],
           "ids": [
            "united states",
            "mexico",
            "india",
            "jersey"
           ],
           "legendgroup": "disk",
           "marker": {
            "color": "#FF6692",
            "size": [
             146,
             2,
             1,
             1
            ],
            "sizemode": "area",
            "sizeref": 0.6504,
            "symbol": "circle"
           },
           "mode": "markers",
           "name": "disk",
           "orientation": "v",
           "showlegend": true,
           "type": "scatter",
           "x": [
            145,
            1735,
            3382,
            3383
           ],
           "xaxis": "x",
           "y": [
            146,
            2,
            1,
            1
           ],
           "yaxis": "y"
          },
          {
           "hovertemplate": "<b>%{hovertext}</b><br><br>shape=formation<br>year=2007<br>index=%{x}<br>count=%{marker.size}<extra></extra>",
           "hovertext": [
            "india"
           ],
           "ids": [
            "india"
           ],
           "legendgroup": "formation",
           "marker": {
            "color": "#B6E880",
            "size": [
             1
            ],
            "sizemode": "area",
            "sizeref": 0.6504,
            "symbol": "circle"
           },
           "mode": "markers",
           "name": "formation",
           "orientation": "v",
           "showlegend": true,
           "type": "scatter",
           "x": [
            3390
           ],
           "xaxis": "x",
           "y": [
            1
           ],
           "yaxis": "y"
          },
          {
           "hovertemplate": "<b>%{hovertext}</b><br><br>shape=oval<br>year=2007<br>index=%{x}<br>count=%{marker.size}<extra></extra>",
           "hovertext": [
            "mexico",
            "poland"
           ],
           "ids": [
            "mexico",
            "poland"
           ],
           "legendgroup": "oval",
           "marker": {
            "color": "#FF97FF",
            "size": [
             1,
             1
            ],
            "sizemode": "area",
            "sizeref": 0.6504,
            "symbol": "circle"
           },
           "mode": "markers",
           "name": "oval",
           "orientation": "v",
           "showlegend": true,
           "type": "scatter",
           "x": [
            3459,
            3461
           ],
           "xaxis": "x",
           "y": [
            1,
            1
           ],
           "yaxis": "y"
          },
          {
           "hovertemplate": "<b>%{hovertext}</b><br><br>shape=rectangle<br>year=2007<br>index=%{x}<br>count=%{marker.size}<extra></extra>",
           "hovertext": [
            "turkey"
           ],
           "ids": [
            "turkey"
           ],
           "legendgroup": "rectangle",
           "marker": {
            "color": "#EF553B",
            "size": [
             1
            ],
            "sizemode": "area",
            "sizeref": 0.6504,
            "symbol": "circle"
           },
           "mode": "markers",
           "name": "rectangle",
           "orientation": "v",
           "showlegend": true,
           "type": "scatter",
           "x": [
            3462
           ],
           "xaxis": "x",
           "y": [
            1
           ],
           "yaxis": "y"
          },
          {
           "hovertemplate": "<b>%{hovertext}</b><br><br>shape=cylinder<br>year=2007<br>index=%{x}<br>count=%{marker.size}<extra></extra>",
           "hovertext": [
            "ireland"
           ],
           "ids": [
            "ireland"
           ],
           "legendgroup": "cylinder",
           "marker": {
            "color": "#ab63fa",
            "size": [
             1
            ],
            "sizemode": "area",
            "sizeref": 0.6504,
            "symbol": "circle"
           },
           "mode": "markers",
           "name": "cylinder",
           "orientation": "v",
           "showlegend": true,
           "type": "scatter",
           "x": [
            3379
           ],
           "xaxis": "x",
           "y": [
            1
           ],
           "yaxis": "y"
          },
          {
           "hovertemplate": "<b>%{hovertext}</b><br><br>shape=diamond<br>year=2007<br>index=%{x}<br>count=%{marker.size}<extra></extra>",
           "hovertext": [
            "jersey"
           ],
           "ids": [
            "jersey"
           ],
           "legendgroup": "diamond",
           "marker": {
            "color": "#19d3f3",
            "size": [
             1
            ],
            "sizemode": "area",
            "sizeref": 0.6504,
            "symbol": "circle"
           },
           "mode": "markers",
           "name": "diamond",
           "orientation": "v",
           "showlegend": true,
           "type": "scatter",
           "x": [
            3381
           ],
           "xaxis": "x",
           "y": [
            1
           ],
           "yaxis": "y"
          },
          {
           "hovertemplate": "<b>%{hovertext}</b><br><br>shape=teardrop<br>year=2007<br>index=%{x}<br>count=%{marker.size}<extra></extra>",
           "hovertext": [
            "lebanon",
            "mexico"
           ],
           "ids": [
            "lebanon",
            "mexico"
           ],
           "legendgroup": "teardrop",
           "marker": {
            "color": "#FF97FF",
            "size": [
             1,
             1
            ],
            "sizemode": "area",
            "sizeref": 0.6504,
            "symbol": "circle"
           },
           "mode": "markers",
           "name": "teardrop",
           "orientation": "v",
           "showlegend": true,
           "type": "scatter",
           "x": [
            3470,
            3471
           ],
           "xaxis": "x",
           "y": [
            1,
            1
           ],
           "yaxis": "y"
          }
         ],
         "name": "2007"
        },
        {
         "data": [
          {
           "hovertemplate": "<b>%{hovertext}</b><br><br>shape=light<br>year=2021<br>index=%{x}<br>count=%{marker.size}<extra></extra>",
           "hovertext": [
            "united states",
            "canada",
            "india",
            "unknown",
            "ireland",
            "panama",
            "jersey",
            "peru",
            "south africa"
           ],
           "ids": [
            "united states",
            "canada",
            "india",
            "unknown",
            "ireland",
            "panama",
            "jersey",
            "peru",
            "south africa"
           ],
           "legendgroup": "light",
           "marker": {
            "color": "#636efa",
            "size": [
             343,
             14,
             4,
             3,
             2,
             1,
             1,
             1,
             1
            ],
            "sizemode": "area",
            "sizeref": 0.6504,
            "symbol": "circle"
           },
           "mode": "markers",
           "name": "light",
           "orientation": "v",
           "showlegend": true,
           "type": "scatter",
           "x": [
            67,
            666,
            1185,
            1304,
            1432,
            2317,
            2318,
            2342,
            2343
           ],
           "xaxis": "x",
           "y": [
            343,
            14,
            4,
            3,
            2,
            1,
            1,
            1,
            1
           ],
           "yaxis": "y"
          },
          {
           "hovertemplate": "<b>%{hovertext}</b><br><br>shape=unknown<br>year=2021<br>index=%{x}<br>count=%{marker.size}<extra></extra>",
           "hovertext": [
            "united states",
            "canada",
            "unknown",
            "india",
            "mexico",
            "puerto rico",
            "iceland",
            "egypt",
            "china"
           ],
           "ids": [
            "united states",
            "canada",
            "unknown",
            "india",
            "mexico",
            "puerto rico",
            "iceland",
            "egypt",
            "china"
           ],
           "legendgroup": "unknown",
           "marker": {
            "color": "#EF553B",
            "size": [
             485,
             18,
             8,
             3,
             2,
             1,
             1,
             1,
             1
            ],
            "sizemode": "area",
            "sizeref": 0.6504,
            "symbol": "circle"
           },
           "mode": "markers",
           "name": "unknown",
           "orientation": "v",
           "showlegend": true,
           "type": "scatter",
           "x": [
            45,
            578,
            854,
            1317,
            1397,
            2347,
            2350,
            2351,
            2352
           ],
           "xaxis": "x",
           "y": [
            485,
            18,
            8,
            3,
            2,
            1,
            1,
            1,
            1
           ],
           "yaxis": "y"
          },
          {
           "hovertemplate": "<b>%{hovertext}</b><br><br>shape=circle<br>year=2021<br>index=%{x}<br>count=%{marker.size}<extra></extra>",
           "hovertext": [
            "united states",
            "canada",
            "unknown",
            "australia",
            "puerto rico",
            "oman",
            "new zealand",
            "mali",
            "ireland"
           ],
           "ids": [
            "united states",
            "canada",
            "unknown",
            "australia",
            "puerto rico",
            "oman",
            "new zealand",
            "mali",
            "ireland"
           ],
           "legendgroup": "circle",
           "marker": {
            "color": "#00cc96",
            "size": [
             244,
             14,
             3,
             2,
             1,
             1,
             1,
             1,
             1
            ],
            "sizemode": "area",
            "sizeref": 0.6504,
            "symbol": "circle"
           },
           "mode": "markers",
           "name": "circle",
           "orientation": "v",
           "showlegend": true,
           "type": "scatter",
           "x": [
            93,
            652,
            1231,
            1423,
            2372,
            2400,
            2402,
            2403,
            2404
           ],
           "xaxis": "x",
           "y": [
            244,
            14,
            3,
            2,
            1,
            1,
            1,
            1,
            1
           ],
           "yaxis": "y"
          },
          {
           "hovertemplate": "<b>%{hovertext}</b><br><br>shape=sphere<br>year=2021<br>index=%{x}<br>count=%{marker.size}<extra></extra>",
           "hovertext": [
            "united states",
            "canada",
            "mexico",
            "guernsey",
            "grenada"
           ],
           "ids": [
            "united states",
            "canada",
            "mexico",
            "guernsey",
            "grenada"
           ],
           "legendgroup": "sphere",
           "marker": {
            "color": "#19d3f3",
            "size": [
             147,
             8,
             2,
             1,
             1
            ],
            "sizemode": "area",
            "sizeref": 0.6504,
            "symbol": "circle"
           },
           "mode": "markers",
           "name": "sphere",
           "orientation": "v",
           "showlegend": true,
           "type": "scatter",
           "x": [
            143,
            818,
            1401,
            2360,
            2361
           ],
           "xaxis": "x",
           "y": [
            147,
            8,
            2,
            1,
            1
           ],
           "yaxis": "y"
          },
          {
           "hovertemplate": "<b>%{hovertext}</b><br><br>shape=disk<br>year=2021<br>index=%{x}<br>count=%{marker.size}<extra></extra>",
           "hovertext": [
            "united states",
            "canada",
            "india",
            "puerto rico",
            "mexico",
            "lebanon",
            "australia"
           ],
           "ids": [
            "united states",
            "canada",
            "india",
            "puerto rico",
            "mexico",
            "lebanon",
            "australia"
           ],
           "legendgroup": "disk",
           "marker": {
            "color": "#FF6692",
            "size": [
             308,
             26,
             2,
             1,
             1,
             1,
             1
            ],
            "sizemode": "area",
            "sizeref": 0.6504,
            "symbol": "circle"
           },
           "mode": "markers",
           "name": "disk",
           "orientation": "v",
           "showlegend": true,
           "type": "scatter",
           "x": [
            74,
            452,
            1408,
            2335,
            2336,
            2337,
            2338
           ],
           "xaxis": "x",
           "y": [
            308,
            26,
            2,
            1,
            1,
            1,
            1
           ],
           "yaxis": "y"
          },
          {
           "hovertemplate": "<b>%{hovertext}</b><br><br>shape=formation<br>year=2021<br>index=%{x}<br>count=%{marker.size}<extra></extra>",
           "hovertext": [
            "unknown",
            "lebanon",
            "germany"
           ],
           "ids": [
            "unknown",
            "lebanon",
            "germany"
           ],
           "legendgroup": "formation",
           "marker": {
            "color": "#B6E880",
            "size": [
             3,
             1,
             1
            ],
            "sizemode": "area",
            "sizeref": 0.6504,
            "symbol": "circle"
           },
           "mode": "markers",
           "name": "formation",
           "orientation": "v",
           "showlegend": true,
           "type": "scatter",
           "x": [
            1391,
            2324,
            2325
           ],
           "xaxis": "x",
           "y": [
            3,
            1,
            1
           ],
           "yaxis": "y"
          },
          {
           "hovertemplate": "<b>%{hovertext}</b><br><br>shape=oval<br>year=2021<br>index=%{x}<br>count=%{marker.size}<extra></extra>",
           "hovertext": [
            "unknown",
            "india",
            "mexico"
           ],
           "ids": [
            "unknown",
            "india",
            "mexico"
           ],
           "legendgroup": "oval",
           "marker": {
            "color": "#FF97FF",
            "size": [
             3,
             2,
             1
            ],
            "sizemode": "area",
            "sizeref": 0.6504,
            "symbol": "circle"
           },
           "mode": "markers",
           "name": "oval",
           "orientation": "v",
           "showlegend": true,
           "type": "scatter",
           "x": [
            1279,
            1422,
            2369
           ],
           "xaxis": "x",
           "y": [
            3,
            2,
            1
           ],
           "yaxis": "y"
          },
          {
           "hovertemplate": "<b>%{hovertext}</b><br><br>shape=cigar<br>year=2021<br>index=%{x}<br>count=%{marker.size}<extra></extra>",
           "hovertext": [
            "jersey"
           ],
           "ids": [
            "jersey"
           ],
           "legendgroup": "cigar",
           "marker": {
            "color": "#FECB52",
            "size": [
             1
            ],
            "sizemode": "area",
            "sizeref": 0.6504,
            "symbol": "circle"
           },
           "mode": "markers",
           "name": "cigar",
           "orientation": "v",
           "showlegend": true,
           "type": "scatter",
           "x": [
            2408
           ],
           "xaxis": "x",
           "y": [
            1
           ],
           "yaxis": "y"
          },
          {
           "hovertemplate": "<b>%{hovertext}</b><br><br>shape=flash<br>year=2021<br>index=%{x}<br>count=%{marker.size}<extra></extra>",
           "hovertext": [
            "mauritius"
           ],
           "ids": [
            "mauritius"
           ],
           "legendgroup": "flash",
           "marker": {
            "color": "#636efa",
            "size": [
             1
            ],
            "sizemode": "area",
            "sizeref": 0.6504,
            "symbol": "circle"
           },
           "mode": "markers",
           "name": "flash",
           "orientation": "v",
           "showlegend": true,
           "type": "scatter",
           "x": [
            2329
           ],
           "xaxis": "x",
           "y": [
            1
           ],
           "yaxis": "y"
          },
          {
           "hovertemplate": "<b>%{hovertext}</b><br><br>shape=rectangle<br>year=2021<br>index=%{x}<br>count=%{marker.size}<extra></extra>",
           "hovertext": [
            "oman"
           ],
           "ids": [
            "oman"
           ],
           "legendgroup": "rectangle",
           "marker": {
            "color": "#EF553B",
            "size": [
             1
            ],
            "sizemode": "area",
            "sizeref": 0.6504,
            "symbol": "circle"
           },
           "mode": "markers",
           "name": "rectangle",
           "orientation": "v",
           "showlegend": true,
           "type": "scatter",
           "x": [
            2365
           ],
           "xaxis": "x",
           "y": [
            1
           ],
           "yaxis": "y"
          },
          {
           "hovertemplate": "<b>%{hovertext}</b><br><br>shape=changed<br>year=2021<br>index=%{x}<br>count=%{marker.size}<extra></extra>",
           "hovertext": [
            "mexico"
           ],
           "ids": [
            "mexico"
           ],
           "legendgroup": "changed",
           "marker": {
            "color": "#00cc96",
            "size": [
             1
            ],
            "sizemode": "area",
            "sizeref": 0.6504,
            "symbol": "circle"
           },
           "mode": "markers",
           "name": "changed",
           "orientation": "v",
           "showlegend": true,
           "type": "scatter",
           "x": [
            2412
           ],
           "xaxis": "x",
           "y": [
            1
           ],
           "yaxis": "y"
          },
          {
           "hovertemplate": "<b>%{hovertext}</b><br><br>shape=egg<br>year=2021<br>index=%{x}<br>count=%{marker.size}<extra></extra>",
           "hovertext": [
            "india"
           ],
           "ids": [
            "india"
           ],
           "legendgroup": "egg",
           "marker": {
            "color": "#FFA15A",
            "size": [
             1
            ],
            "sizemode": "area",
            "sizeref": 0.6504,
            "symbol": "circle"
           },
           "mode": "markers",
           "name": "egg",
           "orientation": "v",
           "showlegend": true,
           "type": "scatter",
           "x": [
            2332
           ],
           "xaxis": "x",
           "y": [
            1
           ],
           "yaxis": "y"
          }
         ],
         "name": "2021"
        },
        {
         "data": [
          {
           "hovertemplate": "<b>%{hovertext}</b><br><br>shape=light<br>year=2005<br>index=%{x}<br>count=%{marker.size}<extra></extra>",
           "hovertext": [
            "united states",
            "canada",
            "angola",
            "oman",
            "peru"
           ],
           "ids": [
            "united states",
            "canada",
            "angola",
            "oman",
            "peru"
           ],
           "legendgroup": "light",
           "marker": {
            "color": "#636efa",
            "size": [
             460,
             43,
             1,
             1,
             1
            ],
            "sizemode": "area",
            "sizeref": 0.6504,
            "symbol": "circle"
           },
           "mode": "markers",
           "name": "light",
           "orientation": "v",
           "showlegend": true,
           "type": "scatter",
           "x": [
            48,
            345,
            3493,
            3494,
            3498
           ],
           "xaxis": "x",
           "y": [
            460,
            43,
            1,
            1,
            1
           ],
           "yaxis": "y"
          },
          {
           "hovertemplate": "<b>%{hovertext}</b><br><br>shape=unknown<br>year=2005<br>index=%{x}<br>count=%{marker.size}<extra></extra>",
           "hovertext": [
            "united states",
            "canada",
            "peru",
            "mexico",
            "suriname",
            "puerto rico",
            "georgia",
            "india",
            "jordan",
            "oman"
           ],
           "ids": [
            "united states",
            "canada",
            "peru",
            "mexico",
            "suriname",
            "puerto rico",
            "georgia",
            "india",
            "jordan",
            "oman"
           ],
           "legendgroup": "unknown",
           "marker": {
            "color": "#EF553B",
            "size": [
             406,
             42,
             2,
             2,
             1,
             1,
             1,
             1,
             1,
             1
            ],
            "sizemode": "area",
            "sizeref": 0.6504,
            "symbol": "circle"
           },
           "mode": "markers",
           "name": "unknown",
           "orientation": "v",
           "showlegend": true,
           "type": "scatter",
           "x": [
            55,
            352,
            1744,
            1771,
            3542,
            3568,
            3584,
            3585,
            3590,
            3595
           ],
           "xaxis": "x",
           "y": [
            406,
            42,
            2,
            2,
            1,
            1,
            1,
            1,
            1,
            1
           ],
           "yaxis": "y"
          },
          {
           "hovertemplate": "<b>%{hovertext}</b><br><br>shape=circle<br>year=2005<br>index=%{x}<br>count=%{marker.size}<extra></extra>",
           "hovertext": [
            "united states",
            "brazil",
            "palau"
           ],
           "ids": [
            "united states",
            "brazil",
            "palau"
           ],
           "legendgroup": "circle",
           "marker": {
            "color": "#00cc96",
            "size": [
             182,
             1,
             1
            ],
            "sizemode": "area",
            "sizeref": 0.6504,
            "symbol": "circle"
           },
           "mode": "markers",
           "name": "circle",
           "orientation": "v",
           "showlegend": true,
           "type": "scatter",
           "x": [
            123,
            3534,
            3536
           ],
           "xaxis": "x",
           "y": [
            182,
            1,
            1
           ],
           "yaxis": "y"
          },
          {
           "hovertemplate": "<b>%{hovertext}</b><br><br>shape=fireball<br>year=2005<br>index=%{x}<br>count=%{marker.size}<extra></extra>",
           "hovertext": [
            "canada",
            "mexico"
           ],
           "ids": [
            "canada",
            "mexico"
           ],
           "legendgroup": "fireball",
           "marker": {
            "color": "#ab63fa",
            "size": [
             18,
             1
            ],
            "sizemode": "area",
            "sizeref": 0.6504,
            "symbol": "circle"
           },
           "mode": "markers",
           "name": "fireball",
           "orientation": "v",
           "showlegend": true,
           "type": "scatter",
           "x": [
            577,
            3488
           ],
           "xaxis": "x",
           "y": [
            18,
            1
           ],
           "yaxis": "y"
          },
          {
           "hovertemplate": "<b>%{hovertext}</b><br><br>shape=triangle<br>year=2005<br>index=%{x}<br>count=%{marker.size}<extra></extra>",
           "hovertext": [
            "united states",
            "canada",
            "india",
            "lebanon"
           ],
           "ids": [
            "united states",
            "canada",
            "india",
            "lebanon"
           ],
           "legendgroup": "triangle",
           "marker": {
            "color": "#FFA15A",
            "size": [
             239,
             24,
             1,
             1
            ],
            "sizemode": "area",
            "sizeref": 0.6504,
            "symbol": "circle"
           },
           "mode": "markers",
           "name": "triangle",
           "orientation": "v",
           "showlegend": true,
           "type": "scatter",
           "x": [
            95,
            477,
            3578,
            3580
           ],
           "xaxis": "x",
           "y": [
            239,
            24,
            1,
            1
           ],
           "yaxis": "y"
          },
          {
           "hovertemplate": "<b>%{hovertext}</b><br><br>shape=sphere<br>year=2005<br>index=%{x}<br>count=%{marker.size}<extra></extra>",
           "hovertext": [
            "jordan",
            "peru"
           ],
           "ids": [
            "jordan",
            "peru"
           ],
           "legendgroup": "sphere",
           "marker": {
            "color": "#19d3f3",
            "size": [
             1,
             1
            ],
            "sizemode": "area",
            "sizeref": 0.6504,
            "symbol": "circle"
           },
           "mode": "markers",
           "name": "sphere",
           "orientation": "v",
           "showlegend": true,
           "type": "scatter",
           "x": [
            3539,
            3572
           ],
           "xaxis": "x",
           "y": [
            1,
            1
           ],
           "yaxis": "y"
          },
          {
           "hovertemplate": "<b>%{hovertext}</b><br><br>shape=disk<br>year=2005<br>index=%{x}<br>count=%{marker.size}<extra></extra>",
           "hovertext": [
            "united states",
            "canada",
            "australia",
            "india"
           ],
           "ids": [
            "united states",
            "canada",
            "australia",
            "india"
           ],
           "legendgroup": "disk",
           "marker": {
            "color": "#FF6692",
            "size": [
             133,
             19,
             1,
             1
            ],
            "sizemode": "area",
            "sizeref": 0.6504,
            "symbol": "circle"
           },
           "mode": "markers",
           "name": "disk",
           "orientation": "v",
           "showlegend": true,
           "type": "scatter",
           "x": [
            156,
            549,
            3484,
            3485
           ],
           "xaxis": "x",
           "y": [
            133,
            19,
            1,
            1
           ],
           "yaxis": "y"
          },
          {
           "hovertemplate": "<b>%{hovertext}</b><br><br>shape=oval<br>year=2005<br>index=%{x}<br>count=%{marker.size}<extra></extra>",
           "hovertext": [
            "brazil",
            "lebanon"
           ],
           "ids": [
            "brazil",
            "lebanon"
           ],
           "legendgroup": "oval",
           "marker": {
            "color": "#FF97FF",
            "size": [
             1,
             1
            ],
            "sizemode": "area",
            "sizeref": 0.6504,
            "symbol": "circle"
           },
           "mode": "markers",
           "name": "oval",
           "orientation": "v",
           "showlegend": true,
           "type": "scatter",
           "x": [
            3499,
            3505
           ],
           "xaxis": "x",
           "y": [
            1,
            1
           ],
           "yaxis": "y"
          },
          {
           "hovertemplate": "<b>%{hovertext}</b><br><br>shape=rectangle<br>year=2005<br>index=%{x}<br>count=%{marker.size}<extra></extra>",
           "hovertext": [
            "india"
           ],
           "ids": [
            "india"
           ],
           "legendgroup": "rectangle",
           "marker": {
            "color": "#EF553B",
            "size": [
             1
            ],
            "sizemode": "area",
            "sizeref": 0.6504,
            "symbol": "circle"
           },
           "mode": "markers",
           "name": "rectangle",
           "orientation": "v",
           "showlegend": true,
           "type": "scatter",
           "x": [
            3506
           ],
           "xaxis": "x",
           "y": [
            1
           ],
           "yaxis": "y"
          },
          {
           "hovertemplate": "<b>%{hovertext}</b><br><br>shape=cylinder<br>year=2005<br>index=%{x}<br>count=%{marker.size}<extra></extra>",
           "hovertext": [
            "india"
           ],
           "ids": [
            "india"
           ],
           "legendgroup": "cylinder",
           "marker": {
            "color": "#ab63fa",
            "size": [
             1
            ],
            "sizemode": "area",
            "sizeref": 0.6504,
            "symbol": "circle"
           },
           "mode": "markers",
           "name": "cylinder",
           "orientation": "v",
           "showlegend": true,
           "type": "scatter",
           "x": [
            3483
           ],
           "xaxis": "x",
           "y": [
            1
           ],
           "yaxis": "y"
          }
         ],
         "name": "2005"
        },
        {
         "data": [
          {
           "hovertemplate": "<b>%{hovertext}</b><br><br>shape=light<br>year=2006<br>index=%{x}<br>count=%{marker.size}<extra></extra>",
           "hovertext": [
            "united states",
            "canada",
            "india",
            "mali",
            "oman"
           ],
           "ids": [
            "united states",
            "canada",
            "india",
            "mali",
            "oman"
           ],
           "legendgroup": "light",
           "marker": {
            "color": "#636efa",
            "size": [
             402,
             38,
             1,
             1,
             1
            ],
            "sizemode": "area",
            "sizeref": 0.6504,
            "symbol": "circle"
           },
           "mode": "markers",
           "name": "light",
           "orientation": "v",
           "showlegend": true,
           "type": "scatter",
           "x": [
            56,
            373,
            3397,
            3399,
            3403
           ],
           "xaxis": "x",
           "y": [
            402,
            38,
            1,
            1,
            1
           ],
           "yaxis": "y"
          },
          {
           "hovertemplate": "<b>%{hovertext}</b><br><br>shape=unknown<br>year=2006<br>index=%{x}<br>count=%{marker.size}<extra></extra>",
           "hovertext": [
            "united states",
            "canada",
            "lebanon",
            "peru",
            "south africa",
            "iraq",
            "india"
           ],
           "ids": [
            "united states",
            "canada",
            "lebanon",
            "peru",
            "south africa",
            "iraq",
            "india"
           ],
           "legendgroup": "unknown",
           "marker": {
            "color": "#EF553B",
            "size": [
             324,
             33,
             1,
             1,
             1,
             1,
             1
            ],
            "sizemode": "area",
            "sizeref": 0.6504,
            "symbol": "circle"
           },
           "mode": "markers",
           "name": "unknown",
           "orientation": "v",
           "showlegend": true,
           "type": "scatter",
           "x": [
            69,
            402,
            3367,
            3372,
            3374,
            3391,
            3393
           ],
           "xaxis": "x",
           "y": [
            324,
            33,
            1,
            1,
            1,
            1,
            1
           ],
           "yaxis": "y"
          },
          {
           "hovertemplate": "<b>%{hovertext}</b><br><br>shape=circle<br>year=2006<br>index=%{x}<br>count=%{marker.size}<extra></extra>",
           "hovertext": [
            "united states",
            "canada",
            "australia",
            "india",
            "south africa"
           ],
           "ids": [
            "united states",
            "canada",
            "australia",
            "india",
            "south africa"
           ],
           "legendgroup": "circle",
           "marker": {
            "color": "#00cc96",
            "size": [
             153,
             20,
             1,
             1,
             1
            ],
            "sizemode": "area",
            "sizeref": 0.6504,
            "symbol": "circle"
           },
           "mode": "markers",
           "name": "circle",
           "orientation": "v",
           "showlegend": true,
           "type": "scatter",
           "x": [
            136,
            536,
            3543,
            3549,
            3554
           ],
           "xaxis": "x",
           "y": [
            153,
            20,
            1,
            1,
            1
           ],
           "yaxis": "y"
          },
          {
           "hovertemplate": "<b>%{hovertext}</b><br><br>shape=fireball<br>year=2006<br>index=%{x}<br>count=%{marker.size}<extra></extra>",
           "hovertext": [
            "jordan",
            "india"
           ],
           "ids": [
            "jordan",
            "india"
           ],
           "legendgroup": "fireball",
           "marker": {
            "color": "#ab63fa",
            "size": [
             2,
             1
            ],
            "sizemode": "area",
            "sizeref": 0.6504,
            "symbol": "circle"
           },
           "mode": "markers",
           "name": "fireball",
           "orientation": "v",
           "showlegend": true,
           "type": "scatter",
           "x": [
            1718,
            3563
           ],
           "xaxis": "x",
           "y": [
            2,
            1
           ],
           "yaxis": "y"
          },
          {
           "hovertemplate": "<b>%{hovertext}</b><br><br>shape=triangle<br>year=2006<br>index=%{x}<br>count=%{marker.size}<extra></extra>",
           "hovertext": [
            "united states",
            "canada",
            "lebanon"
           ],
           "ids": [
            "united states",
            "canada",
            "lebanon"
           ],
           "legendgroup": "triangle",
           "marker": {
            "color": "#FFA15A",
            "size": [
             199,
             14,
             1
            ],
            "sizemode": "area",
            "sizeref": 0.6504,
            "symbol": "circle"
           },
           "mode": "markers",
           "name": "triangle",
           "orientation": "v",
           "showlegend": true,
           "type": "scatter",
           "x": [
            118,
            654,
            3418
           ],
           "xaxis": "x",
           "y": [
            199,
            14,
            1
           ],
           "yaxis": "y"
          },
          {
           "hovertemplate": "<b>%{hovertext}</b><br><br>shape=sphere<br>year=2006<br>index=%{x}<br>count=%{marker.size}<extra></extra>",
           "hovertext": [
            "georgia"
           ],
           "ids": [
            "georgia"
           ],
           "legendgroup": "sphere",
           "marker": {
            "color": "#19d3f3",
            "size": [
             1
            ],
            "sizemode": "area",
            "sizeref": 0.6504,
            "symbol": "circle"
           },
           "mode": "markers",
           "name": "sphere",
           "orientation": "v",
           "showlegend": true,
           "type": "scatter",
           "x": [
            3410
           ],
           "xaxis": "x",
           "y": [
            1
           ],
           "yaxis": "y"
          },
          {
           "hovertemplate": "<b>%{hovertext}</b><br><br>shape=disk<br>year=2006<br>index=%{x}<br>count=%{marker.size}<extra></extra>",
           "hovertext": [
            "united states",
            "canada",
            "jersey",
            "lebanon",
            "mexico"
           ],
           "ids": [
            "united states",
            "canada",
            "jersey",
            "lebanon",
            "mexico"
           ],
           "legendgroup": "disk",
           "marker": {
            "color": "#FF6692",
            "size": [
             123,
             20,
             1,
             1,
             1
            ],
            "sizemode": "area",
            "sizeref": 0.6504,
            "symbol": "circle"
           },
           "mode": "markers",
           "name": "disk",
           "orientation": "v",
           "showlegend": true,
           "type": "scatter",
           "x": [
            166,
            537,
            3557,
            3558,
            3559
           ],
           "xaxis": "x",
           "y": [
            123,
            20,
            1,
            1,
            1
           ],
           "yaxis": "y"
          },
          {
           "hovertemplate": "<b>%{hovertext}</b><br><br>shape=oval<br>year=2006<br>index=%{x}<br>count=%{marker.size}<extra></extra>",
           "hovertext": [
            "lebanon"
           ],
           "ids": [
            "lebanon"
           ],
           "legendgroup": "oval",
           "marker": {
            "color": "#FF97FF",
            "size": [
             1
            ],
            "sizemode": "area",
            "sizeref": 0.6504,
            "symbol": "circle"
           },
           "mode": "markers",
           "name": "oval",
           "orientation": "v",
           "showlegend": true,
           "type": "scatter",
           "x": [
            3405
           ],
           "xaxis": "x",
           "y": [
            1
           ],
           "yaxis": "y"
          },
          {
           "hovertemplate": "<b>%{hovertext}</b><br><br>shape=flash<br>year=2006<br>index=%{x}<br>count=%{marker.size}<extra></extra>",
           "hovertext": [
            "india"
           ],
           "ids": [
            "india"
           ],
           "legendgroup": "flash",
           "marker": {
            "color": "#636efa",
            "size": [
             1
            ],
            "sizemode": "area",
            "sizeref": 0.6504,
            "symbol": "circle"
           },
           "mode": "markers",
           "name": "flash",
           "orientation": "v",
           "showlegend": true,
           "type": "scatter",
           "x": [
            3396
           ],
           "xaxis": "x",
           "y": [
            1
           ],
           "yaxis": "y"
          },
          {
           "hovertemplate": "<b>%{hovertext}</b><br><br>shape=teardrop<br>year=2006<br>index=%{x}<br>count=%{marker.size}<extra></extra>",
           "hovertext": [
            "jordan"
           ],
           "ids": [
            "jordan"
           ],
           "legendgroup": "teardrop",
           "marker": {
            "color": "#FF97FF",
            "size": [
             1
            ],
            "sizemode": "area",
            "sizeref": 0.6504,
            "symbol": "circle"
           },
           "mode": "markers",
           "name": "teardrop",
           "orientation": "v",
           "showlegend": true,
           "type": "scatter",
           "x": [
            3417
           ],
           "xaxis": "x",
           "y": [
            1
           ],
           "yaxis": "y"
          }
         ],
         "name": "2006"
        },
        {
         "data": [
          {
           "hovertemplate": "<b>%{hovertext}</b><br><br>shape=light<br>year=2004<br>index=%{x}<br>count=%{marker.size}<extra></extra>",
           "hovertext": [
            "united states",
            "canada",
            "india",
            "lebanon",
            "mexico",
            "chad",
            "georgia",
            "jersey"
           ],
           "ids": [
            "united states",
            "canada",
            "india",
            "lebanon",
            "mexico",
            "chad",
            "georgia",
            "jersey"
           ],
           "legendgroup": "light",
           "marker": {
            "color": "#636efa",
            "size": [
             400,
             79,
             3,
             2,
             2,
             1,
             1,
             1
            ],
            "sizemode": "area",
            "sizeref": 0.6504,
            "symbol": "circle"
           },
           "mode": "markers",
           "name": "light",
           "orientation": "v",
           "showlegend": true,
           "type": "scatter",
           "x": [
            58,
            249,
            1293,
            1671,
            1673,
            3209,
            3210,
            3212
           ],
           "xaxis": "x",
           "y": [
            400,
            79,
            3,
            2,
            2,
            1,
            1,
            1
           ],
           "yaxis": "y"
          },
          {
           "hovertemplate": "<b>%{hovertext}</b><br><br>shape=unknown<br>year=2004<br>index=%{x}<br>count=%{marker.size}<extra></extra>",
           "hovertext": [
            "united states",
            "canada",
            "india",
            "mexico",
            "unknown"
           ],
           "ids": [
            "united states",
            "canada",
            "india",
            "mexico",
            "unknown"
           ],
           "legendgroup": "unknown",
           "marker": {
            "color": "#EF553B",
            "size": [
             350,
             63,
             2,
             1,
             1
            ],
            "sizemode": "area",
            "sizeref": 0.6504,
            "symbol": "circle"
           },
           "mode": "markers",
           "name": "unknown",
           "orientation": "v",
           "showlegend": true,
           "type": "scatter",
           "x": [
            66,
            281,
            1745,
            3528,
            3530
           ],
           "xaxis": "x",
           "y": [
            350,
            63,
            2,
            1,
            1
           ],
           "yaxis": "y"
          },
          {
           "hovertemplate": "<b>%{hovertext}</b><br><br>shape=circle<br>year=2004<br>index=%{x}<br>count=%{marker.size}<extra></extra>",
           "hovertext": [
            "united states",
            "canada",
            "jordan"
           ],
           "ids": [
            "united states",
            "canada",
            "jordan"
           ],
           "legendgroup": "circle",
           "marker": {
            "color": "#00cc96",
            "size": [
             151,
             21,
             1
            ],
            "sizemode": "area",
            "sizeref": 0.6504,
            "symbol": "circle"
           },
           "mode": "markers",
           "name": "circle",
           "orientation": "v",
           "showlegend": true,
           "type": "scatter",
           "x": [
            139,
            530,
            3241
           ],
           "xaxis": "x",
           "y": [
            151,
            21,
            1
           ],
           "yaxis": "y"
          },
          {
           "hovertemplate": "<b>%{hovertext}</b><br><br>shape=fireball<br>year=2004<br>index=%{x}<br>count=%{marker.size}<extra></extra>",
           "hovertext": [
            "lebanon"
           ],
           "ids": [
            "lebanon"
           ],
           "legendgroup": "fireball",
           "marker": {
            "color": "#ab63fa",
            "size": [
             1
            ],
            "sizemode": "area",
            "sizeref": 0.6504,
            "symbol": "circle"
           },
           "mode": "markers",
           "name": "fireball",
           "orientation": "v",
           "showlegend": true,
           "type": "scatter",
           "x": [
            3195
           ],
           "xaxis": "x",
           "y": [
            1
           ],
           "yaxis": "y"
          },
          {
           "hovertemplate": "<b>%{hovertext}</b><br><br>shape=triangle<br>year=2004<br>index=%{x}<br>count=%{marker.size}<extra></extra>",
           "hovertext": [
            "united states",
            "canada",
            "cuba",
            "jordan",
            "lebanon"
           ],
           "ids": [
            "united states",
            "canada",
            "cuba",
            "jordan",
            "lebanon"
           ],
           "legendgroup": "triangle",
           "marker": {
            "color": "#FFA15A",
            "size": [
             202,
             29,
             1,
             1,
             1
            ],
            "sizemode": "area",
            "sizeref": 0.6504,
            "symbol": "circle"
           },
           "mode": "markers",
           "name": "triangle",
           "orientation": "v",
           "showlegend": true,
           "type": "scatter",
           "x": [
            115,
            429,
            3523,
            3525,
            3526
           ],
           "xaxis": "x",
           "y": [
            202,
            29,
            1,
            1,
            1
           ],
           "yaxis": "y"
          },
          {
           "hovertemplate": "<b>%{hovertext}</b><br><br>shape=sphere<br>year=2004<br>index=%{x}<br>count=%{marker.size}<extra></extra>",
           "hovertext": [
            "united states",
            "portugal"
           ],
           "ids": [
            "united states",
            "portugal"
           ],
           "legendgroup": "sphere",
           "marker": {
            "color": "#19d3f3",
            "size": [
             132,
             1
            ],
            "sizemode": "area",
            "sizeref": 0.6504,
            "symbol": "circle"
           },
           "mode": "markers",
           "name": "sphere",
           "orientation": "v",
           "showlegend": true,
           "type": "scatter",
           "x": [
            157,
            3519
           ],
           "xaxis": "x",
           "y": [
            132,
            1
           ],
           "yaxis": "y"
          },
          {
           "hovertemplate": "<b>%{hovertext}</b><br><br>shape=disk<br>year=2004<br>index=%{x}<br>count=%{marker.size}<extra></extra>",
           "hovertext": [
            "canada",
            "india",
            "angola",
            "peru"
           ],
           "ids": [
            "canada",
            "india",
            "angola",
            "peru"
           ],
           "legendgroup": "disk",
           "marker": {
            "color": "#FF6692",
            "size": [
             17,
             2,
             1,
             1
            ],
            "sizemode": "area",
            "sizeref": 0.6504,
            "symbol": "circle"
           },
           "mode": "markers",
           "name": "disk",
           "orientation": "v",
           "showlegend": true,
           "type": "scatter",
           "x": [
            586,
            1662,
            3191,
            3194
           ],
           "xaxis": "x",
           "y": [
            17,
            2,
            1,
            1
           ],
           "yaxis": "y"
          },
          {
           "hovertemplate": "<b>%{hovertext}</b><br><br>shape=formation<br>year=2004<br>index=%{x}<br>count=%{marker.size}<extra></extra>",
           "hovertext": [
            "india"
           ],
           "ids": [
            "india"
           ],
           "legendgroup": "formation",
           "marker": {
            "color": "#B6E880",
            "size": [
             1
            ],
            "sizemode": "area",
            "sizeref": 0.6504,
            "symbol": "circle"
           },
           "mode": "markers",
           "name": "formation",
           "orientation": "v",
           "showlegend": true,
           "type": "scatter",
           "x": [
            3205
           ],
           "xaxis": "x",
           "y": [
            1
           ],
           "yaxis": "y"
          },
          {
           "hovertemplate": "<b>%{hovertext}</b><br><br>shape=flash<br>year=2004<br>index=%{x}<br>count=%{marker.size}<extra></extra>",
           "hovertext": [
            "india"
           ],
           "ids": [
            "india"
           ],
           "legendgroup": "flash",
           "marker": {
            "color": "#636efa",
            "size": [
             1
            ],
            "sizemode": "area",
            "sizeref": 0.6504,
            "symbol": "circle"
           },
           "mode": "markers",
           "name": "flash",
           "orientation": "v",
           "showlegend": true,
           "type": "scatter",
           "x": [
            3202
           ],
           "xaxis": "x",
           "y": [
            1
           ],
           "yaxis": "y"
          },
          {
           "hovertemplate": "<b>%{hovertext}</b><br><br>shape=diamond<br>year=2004<br>index=%{x}<br>count=%{marker.size}<extra></extra>",
           "hovertext": [
            "puerto rico"
           ],
           "ids": [
            "puerto rico"
           ],
           "legendgroup": "diamond",
           "marker": {
            "color": "#19d3f3",
            "size": [
             1
            ],
            "sizemode": "area",
            "sizeref": 0.6504,
            "symbol": "circle"
           },
           "mode": "markers",
           "name": "diamond",
           "orientation": "v",
           "showlegend": true,
           "type": "scatter",
           "x": [
            3189
           ],
           "xaxis": "x",
           "y": [
            1
           ],
           "yaxis": "y"
          }
         ],
         "name": "2004"
        },
        {
         "data": [
          {
           "hovertemplate": "<b>%{hovertext}</b><br><br>shape=light<br>year=2003<br>index=%{x}<br>count=%{marker.size}<extra></extra>",
           "hovertext": [
            "united states",
            "canada",
            "chad",
            "jersey",
            "peru"
           ],
           "ids": [
            "united states",
            "canada",
            "chad",
            "jersey",
            "peru"
           ],
           "legendgroup": "light",
           "marker": {
            "color": "#636efa",
            "size": [
             365,
             121,
             1,
             1,
             1
            ],
            "sizemode": "area",
            "sizeref": 0.6504,
            "symbol": "circle"
           },
           "mode": "markers",
           "name": "light",
           "orientation": "v",
           "showlegend": true,
           "type": "scatter",
           "x": [
            63,
            171,
            3153,
            3185,
            3218
           ],
           "xaxis": "x",
           "y": [
            365,
            121,
            1,
            1,
            1
           ],
           "yaxis": "y"
          },
          {
           "hovertemplate": "<b>%{hovertext}</b><br><br>shape=unknown<br>year=2003<br>index=%{x}<br>count=%{marker.size}<extra></extra>",
           "hovertext": [
            "united states",
            "canada",
            "india",
            "mexico",
            "cuba",
            "georgia",
            "jordan"
           ],
           "ids": [
            "united states",
            "canada",
            "india",
            "mexico",
            "cuba",
            "georgia",
            "jordan"
           ],
           "legendgroup": "unknown",
           "marker": {
            "color": "#EF553B",
            "size": [
             309,
             71,
             7,
             2,
             1,
             1,
             1
            ],
            "sizemode": "area",
            "sizeref": 0.6504,
            "symbol": "circle"
           },
           "mode": "markers",
           "name": "unknown",
           "orientation": "v",
           "showlegend": true,
           "type": "scatter",
           "x": [
            72,
            270,
            886,
            1657,
            3227,
            3231,
            3233
           ],
           "xaxis": "x",
           "y": [
            309,
            71,
            7,
            2,
            1,
            1,
            1
           ],
           "yaxis": "y"
          },
          {
           "hovertemplate": "<b>%{hovertext}</b><br><br>shape=circle<br>year=2003<br>index=%{x}<br>count=%{marker.size}<extra></extra>",
           "hovertext": [
            "united states",
            "canada",
            "brazil",
            "india",
            "peru"
           ],
           "ids": [
            "united states",
            "canada",
            "brazil",
            "india",
            "peru"
           ],
           "legendgroup": "circle",
           "marker": {
            "color": "#00cc96",
            "size": [
             135,
             26,
             1,
             1,
             1
            ],
            "sizemode": "area",
            "sizeref": 0.6504,
            "symbol": "circle"
           },
           "mode": "markers",
           "name": "circle",
           "orientation": "v",
           "showlegend": true,
           "type": "scatter",
           "x": [
            152,
            450,
            3133,
            3135,
            3137
           ],
           "xaxis": "x",
           "y": [
            135,
            26,
            1,
            1,
            1
           ],
           "yaxis": "y"
          },
          {
           "hovertemplate": "<b>%{hovertext}</b><br><br>shape=triangle<br>year=2003<br>index=%{x}<br>count=%{marker.size}<extra></extra>",
           "hovertext": [
            "united states",
            "canada"
           ],
           "ids": [
            "united states",
            "canada"
           ],
           "legendgroup": "triangle",
           "marker": {
            "color": "#FFA15A",
            "size": [
             157,
             35
            ],
            "sizemode": "area",
            "sizeref": 0.6504,
            "symbol": "circle"
           },
           "mode": "markers",
           "name": "triangle",
           "orientation": "v",
           "showlegend": true,
           "type": "scatter",
           "x": [
            134,
            389
           ],
           "xaxis": "x",
           "y": [
            157,
            35
           ],
           "yaxis": "y"
          },
          {
           "hovertemplate": "<b>%{hovertext}</b><br><br>shape=sphere<br>year=2003<br>index=%{x}<br>count=%{marker.size}<extra></extra>",
           "hovertext": [
            "india"
           ],
           "ids": [
            "india"
           ],
           "legendgroup": "sphere",
           "marker": {
            "color": "#19d3f3",
            "size": [
             2
            ],
            "sizemode": "area",
            "sizeref": 0.6504,
            "symbol": "circle"
           },
           "mode": "markers",
           "name": "sphere",
           "orientation": "v",
           "showlegend": true,
           "type": "scatter",
           "x": [
            1649
           ],
           "xaxis": "x",
           "y": [
            2
           ],
           "yaxis": "y"
          },
          {
           "hovertemplate": "<b>%{hovertext}</b><br><br>shape=disk<br>year=2003<br>index=%{x}<br>count=%{marker.size}<extra></extra>",
           "hovertext": [
            "united states",
            "canada",
            "jordan"
           ],
           "ids": [
            "united states",
            "canada",
            "jordan"
           ],
           "legendgroup": "disk",
           "marker": {
            "color": "#FF6692",
            "size": [
             120,
             24,
             1
            ],
            "sizemode": "area",
            "sizeref": 0.6504,
            "symbol": "circle"
           },
           "mode": "markers",
           "name": "disk",
           "orientation": "v",
           "showlegend": true,
           "type": "scatter",
           "x": [
            174,
            485,
            3152
           ],
           "xaxis": "x",
           "y": [
            120,
            24,
            1
           ],
           "yaxis": "y"
          },
          {
           "hovertemplate": "<b>%{hovertext}</b><br><br>shape=oval<br>year=2003<br>index=%{x}<br>count=%{marker.size}<extra></extra>",
           "hovertext": [
            "jersey",
            "india"
           ],
           "ids": [
            "jersey",
            "india"
           ],
           "legendgroup": "oval",
           "marker": {
            "color": "#FF97FF",
            "size": [
             2,
             2
            ],
            "sizemode": "area",
            "sizeref": 0.6504,
            "symbol": "circle"
           },
           "mode": "markers",
           "name": "oval",
           "orientation": "v",
           "showlegend": true,
           "type": "scatter",
           "x": [
            1647,
            1675
           ],
           "xaxis": "x",
           "y": [
            2,
            2
           ],
           "yaxis": "y"
          },
          {
           "hovertemplate": "<b>%{hovertext}</b><br><br>shape=cigar<br>year=2003<br>index=%{x}<br>count=%{marker.size}<extra></extra>",
           "hovertext": [
            "lebanon",
            "peru"
           ],
           "ids": [
            "lebanon",
            "peru"
           ],
           "legendgroup": "cigar",
           "marker": {
            "color": "#FECB52",
            "size": [
             1,
             1
            ],
            "sizemode": "area",
            "sizeref": 0.6504,
            "symbol": "circle"
           },
           "mode": "markers",
           "name": "cigar",
           "orientation": "v",
           "showlegend": true,
           "type": "scatter",
           "x": [
            3130,
            3131
           ],
           "xaxis": "x",
           "y": [
            1,
            1
           ],
           "yaxis": "y"
          },
          {
           "hovertemplate": "<b>%{hovertext}</b><br><br>shape=changed<br>year=2003<br>index=%{x}<br>count=%{marker.size}<extra></extra>",
           "hovertext": [
            "india"
           ],
           "ids": [
            "india"
           ],
           "legendgroup": "changed",
           "marker": {
            "color": "#00cc96",
            "size": [
             2
            ],
            "sizemode": "area",
            "sizeref": 0.6504,
            "symbol": "circle"
           },
           "mode": "markers",
           "name": "changed",
           "orientation": "v",
           "showlegend": true,
           "type": "scatter",
           "x": [
            1698
           ],
           "xaxis": "x",
           "y": [
            2
           ],
           "yaxis": "y"
          },
          {
           "hovertemplate": "<b>%{hovertext}</b><br><br>shape=cylinder<br>year=2003<br>index=%{x}<br>count=%{marker.size}<extra></extra>",
           "hovertext": [
            "jersey"
           ],
           "ids": [
            "jersey"
           ],
           "legendgroup": "cylinder",
           "marker": {
            "color": "#ab63fa",
            "size": [
             1
            ],
            "sizemode": "area",
            "sizeref": 0.6504,
            "symbol": "circle"
           },
           "mode": "markers",
           "name": "cylinder",
           "orientation": "v",
           "showlegend": true,
           "type": "scatter",
           "x": [
            3149
           ],
           "xaxis": "x",
           "y": [
            1
           ],
           "yaxis": "y"
          }
         ],
         "name": "2003"
        },
        {
         "data": [
          {
           "hovertemplate": "<b>%{hovertext}</b><br><br>shape=light<br>year=2001<br>index=%{x}<br>count=%{marker.size}<extra></extra>",
           "hovertext": [
            "united states",
            "canada",
            "jersey",
            "malta"
           ],
           "ids": [
            "united states",
            "canada",
            "jersey",
            "malta"
           ],
           "legendgroup": "light",
           "marker": {
            "color": "#636efa",
            "size": [
             316,
             37,
             1,
             1
            ],
            "sizemode": "area",
            "sizeref": 0.6504,
            "symbol": "circle"
           },
           "mode": "markers",
           "name": "light",
           "orientation": "v",
           "showlegend": true,
           "type": "scatter",
           "x": [
            70,
            378,
            3345,
            3349
           ],
           "xaxis": "x",
           "y": [
            316,
            37,
            1,
            1
           ],
           "yaxis": "y"
          },
          {
           "hovertemplate": "<b>%{hovertext}</b><br><br>shape=unknown<br>year=2001<br>index=%{x}<br>count=%{marker.size}<extra></extra>",
           "hovertext": [
            "united states",
            "canada",
            "china"
           ],
           "ids": [
            "united states",
            "canada",
            "china"
           ],
           "legendgroup": "unknown",
           "marker": {
            "color": "#EF553B",
            "size": [
             261,
             26,
             1
            ],
            "sizemode": "area",
            "sizeref": 0.6504,
            "symbol": "circle"
           },
           "mode": "markers",
           "name": "unknown",
           "orientation": "v",
           "showlegend": true,
           "type": "scatter",
           "x": [
            88,
            456,
            3335
           ],
           "xaxis": "x",
           "y": [
            261,
            26,
            1
           ],
           "yaxis": "y"
          },
          {
           "hovertemplate": "<b>%{hovertext}</b><br><br>shape=circle<br>year=2001<br>index=%{x}<br>count=%{marker.size}<extra></extra>",
           "hovertext": [
            "united states",
            "canada"
           ],
           "ids": [
            "united states",
            "canada"
           ],
           "legendgroup": "circle",
           "marker": {
            "color": "#00cc96",
            "size": [
             108,
             16
            ],
            "sizemode": "area",
            "sizeref": 0.6504,
            "symbol": "circle"
           },
           "mode": "markers",
           "name": "circle",
           "orientation": "v",
           "showlegend": true,
           "type": "scatter",
           "x": [
            195,
            612
           ],
           "xaxis": "x",
           "y": [
            108,
            16
           ],
           "yaxis": "y"
          },
          {
           "hovertemplate": "<b>%{hovertext}</b><br><br>shape=fireball<br>year=2001<br>index=%{x}<br>count=%{marker.size}<extra></extra>",
           "hovertext": [
            "canada"
           ],
           "ids": [
            "canada"
           ],
           "legendgroup": "fireball",
           "marker": {
            "color": "#ab63fa",
            "size": [
             14
            ],
            "sizemode": "area",
            "sizeref": 0.6504,
            "symbol": "circle"
           },
           "mode": "markers",
           "name": "fireball",
           "orientation": "v",
           "showlegend": true,
           "type": "scatter",
           "x": [
            662
           ],
           "xaxis": "x",
           "y": [
            14
           ],
           "yaxis": "y"
          },
          {
           "hovertemplate": "<b>%{hovertext}</b><br><br>shape=triangle<br>year=2001<br>index=%{x}<br>count=%{marker.size}<extra></extra>",
           "hovertext": [
            "united states",
            "canada"
           ],
           "ids": [
            "united states",
            "canada"
           ],
           "legendgroup": "triangle",
           "marker": {
            "color": "#FFA15A",
            "size": [
             181,
             23
            ],
            "sizemode": "area",
            "sizeref": 0.6504,
            "symbol": "circle"
           },
           "mode": "markers",
           "name": "triangle",
           "orientation": "v",
           "showlegend": true,
           "type": "scatter",
           "x": [
            124,
            498
           ],
           "xaxis": "x",
           "y": [
            181,
            23
           ],
           "yaxis": "y"
          },
          {
           "hovertemplate": "<b>%{hovertext}</b><br><br>shape=sphere<br>year=2001<br>index=%{x}<br>count=%{marker.size}<extra></extra>",
           "hovertext": [
            "india"
           ],
           "ids": [
            "india"
           ],
           "legendgroup": "sphere",
           "marker": {
            "color": "#19d3f3",
            "size": [
             1
            ],
            "sizemode": "area",
            "sizeref": 0.6504,
            "symbol": "circle"
           },
           "mode": "markers",
           "name": "sphere",
           "orientation": "v",
           "showlegend": true,
           "type": "scatter",
           "x": [
            3360
           ],
           "xaxis": "x",
           "y": [
            1
           ],
           "yaxis": "y"
          },
          {
           "hovertemplate": "<b>%{hovertext}</b><br><br>shape=disk<br>year=2001<br>index=%{x}<br>count=%{marker.size}<extra></extra>",
           "hovertext": [
            "united states",
            "georgia",
            "puerto rico"
           ],
           "ids": [
            "united states",
            "georgia",
            "puerto rico"
           ],
           "legendgroup": "disk",
           "marker": {
            "color": "#FF6692",
            "size": [
             94,
             1,
             1
            ],
            "sizemode": "area",
            "sizeref": 0.6504,
            "symbol": "circle"
           },
           "mode": "markers",
           "name": "disk",
           "orientation": "v",
           "showlegend": true,
           "type": "scatter",
           "x": [
            215,
            3319,
            3336
           ],
           "xaxis": "x",
           "y": [
            94,
            1,
            1
           ],
           "yaxis": "y"
          },
          {
           "hovertemplate": "<b>%{hovertext}</b><br><br>shape=oval<br>year=2001<br>index=%{x}<br>count=%{marker.size}<extra></extra>",
           "hovertext": [
            "india",
            "puerto rico"
           ],
           "ids": [
            "india",
            "puerto rico"
           ],
           "legendgroup": "oval",
           "marker": {
            "color": "#FF97FF",
            "size": [
             1,
             1
            ],
            "sizemode": "area",
            "sizeref": 0.6504,
            "symbol": "circle"
           },
           "mode": "markers",
           "name": "oval",
           "orientation": "v",
           "showlegend": true,
           "type": "scatter",
           "x": [
            3353,
            3359
           ],
           "xaxis": "x",
           "y": [
            1,
            1
           ],
           "yaxis": "y"
          }
         ],
         "name": "2001"
        },
        {
         "data": [
          {
           "hovertemplate": "<b>%{hovertext}</b><br><br>shape=light<br>year=1995<br>index=%{x}<br>count=%{marker.size}<extra></extra>",
           "hovertext": [
            "united states",
            "canada"
           ],
           "ids": [
            "united states",
            "canada"
           ],
           "legendgroup": "light",
           "marker": {
            "color": "#636efa",
            "size": [
             34,
             8
            ],
            "sizemode": "area",
            "sizeref": 0.6504,
            "symbol": "circle"
           },
           "mode": "markers",
           "name": "light",
           "orientation": "v",
           "showlegend": true,
           "type": "scatter",
           "x": [
            391,
            863
           ],
           "xaxis": "x",
           "y": [
            34,
            8
           ],
           "yaxis": "y"
          },
          {
           "hovertemplate": "<b>%{hovertext}</b><br><br>shape=unknown<br>year=1995<br>index=%{x}<br>count=%{marker.size}<extra></extra>",
           "hovertext": [
            "united states",
            "canada",
            "puerto rico",
            "india",
            "lebanon",
            "oman"
           ],
           "ids": [
            "united states",
            "canada",
            "puerto rico",
            "india",
            "lebanon",
            "oman"
           ],
           "legendgroup": "unknown",
           "marker": {
            "color": "#EF553B",
            "size": [
             293,
             7,
             3,
             1,
             1,
             1
            ],
            "sizemode": "area",
            "sizeref": 0.6504,
            "symbol": "circle"
           },
           "mode": "markers",
           "name": "unknown",
           "orientation": "v",
           "showlegend": true,
           "type": "scatter",
           "x": [
            79,
            903,
            1244,
            2033,
            2038,
            2045
           ],
           "xaxis": "x",
           "y": [
            293,
            7,
            3,
            1,
            1,
            1
           ],
           "yaxis": "y"
          },
          {
           "hovertemplate": "<b>%{hovertext}</b><br><br>shape=fireball<br>year=1995<br>index=%{x}<br>count=%{marker.size}<extra></extra>",
           "hovertext": [
            "canada"
           ],
           "ids": [
            "canada"
           ],
           "legendgroup": "fireball",
           "marker": {
            "color": "#ab63fa",
            "size": [
             2
            ],
            "sizemode": "area",
            "sizeref": 0.6504,
            "symbol": "circle"
           },
           "mode": "markers",
           "name": "fireball",
           "orientation": "v",
           "showlegend": true,
           "type": "scatter",
           "x": [
            1654
           ],
           "xaxis": "x",
           "y": [
            2
           ],
           "yaxis": "y"
          },
          {
           "hovertemplate": "<b>%{hovertext}</b><br><br>shape=triangle<br>year=1995<br>index=%{x}<br>count=%{marker.size}<extra></extra>",
           "hovertext": [
            "united states",
            "canada"
           ],
           "ids": [
            "united states",
            "canada"
           ],
           "legendgroup": "triangle",
           "marker": {
            "color": "#FFA15A",
            "size": [
             38,
             2
            ],
            "sizemode": "area",
            "sizeref": 0.6504,
            "symbol": "circle"
           },
           "mode": "markers",
           "name": "triangle",
           "orientation": "v",
           "showlegend": true,
           "type": "scatter",
           "x": [
            376,
            1660
           ],
           "xaxis": "x",
           "y": [
            38,
            2
           ],
           "yaxis": "y"
          },
          {
           "hovertemplate": "<b>%{hovertext}</b><br><br>shape=sphere<br>year=1995<br>index=%{x}<br>count=%{marker.size}<extra></extra>",
           "hovertext": [
            "canada"
           ],
           "ids": [
            "canada"
           ],
           "legendgroup": "sphere",
           "marker": {
            "color": "#19d3f3",
            "size": [
             2
            ],
            "sizemode": "area",
            "sizeref": 0.6504,
            "symbol": "circle"
           },
           "mode": "markers",
           "name": "sphere",
           "orientation": "v",
           "showlegend": true,
           "type": "scatter",
           "x": [
            1646
           ],
           "xaxis": "x",
           "y": [
            2
           ],
           "yaxis": "y"
          },
          {
           "hovertemplate": "<b>%{hovertext}</b><br><br>shape=disk<br>year=1995<br>index=%{x}<br>count=%{marker.size}<extra></extra>",
           "hovertext": [
            "united states"
           ],
           "ids": [
            "united states"
           ],
           "legendgroup": "disk",
           "marker": {
            "color": "#FF6692",
            "size": [
             20
            ],
            "sizemode": "area",
            "sizeref": 0.6504,
            "symbol": "circle"
           },
           "mode": "markers",
           "name": "disk",
           "orientation": "v",
           "showlegend": true,
           "type": "scatter",
           "x": [
            544
           ],
           "xaxis": "x",
           "y": [
            20
           ],
           "yaxis": "y"
          },
          {
           "hovertemplate": "<b>%{hovertext}</b><br><br>shape=oval<br>year=1995<br>index=%{x}<br>count=%{marker.size}<extra></extra>",
           "hovertext": [
            "united states"
           ],
           "ids": [
            "united states"
           ],
           "legendgroup": "oval",
           "marker": {
            "color": "#FF97FF",
            "size": [
             15
            ],
            "sizemode": "area",
            "sizeref": 0.6504,
            "symbol": "circle"
           },
           "mode": "markers",
           "name": "oval",
           "orientation": "v",
           "showlegend": true,
           "type": "scatter",
           "x": [
            634
           ],
           "xaxis": "x",
           "y": [
            15
           ],
           "yaxis": "y"
          },
          {
           "hovertemplate": "<b>%{hovertext}</b><br><br>shape=cone<br>year=1995<br>index=%{x}<br>count=%{marker.size}<extra></extra>",
           "hovertext": [
            "denmark"
           ],
           "ids": [
            "denmark"
           ],
           "legendgroup": "cone",
           "marker": {
            "color": "#B6E880",
            "size": [
             1
            ],
            "sizemode": "area",
            "sizeref": 0.6504,
            "symbol": "circle"
           },
           "mode": "markers",
           "name": "cone",
           "orientation": "v",
           "showlegend": true,
           "type": "scatter",
           "x": [
            2191
           ],
           "xaxis": "x",
           "y": [
            1
           ],
           "yaxis": "y"
          }
         ],
         "name": "1995"
        },
        {
         "data": [
          {
           "hovertemplate": "<b>%{hovertext}</b><br><br>shape=light<br>year=2002<br>index=%{x}<br>count=%{marker.size}<extra></extra>",
           "hovertext": [
            "united states",
            "canada",
            "india",
            "puerto rico"
           ],
           "ids": [
            "united states",
            "canada",
            "india",
            "puerto rico"
           ],
           "legendgroup": "light",
           "marker": {
            "color": "#636efa",
            "size": [
             286,
             48,
             3,
             2
            ],
            "sizemode": "area",
            "sizeref": 0.6504,
            "symbol": "circle"
           },
           "mode": "markers",
           "name": "light",
           "orientation": "v",
           "showlegend": true,
           "type": "scatter",
           "x": [
            80,
            330,
            1305,
            1684
           ],
           "xaxis": "x",
           "y": [
            286,
            48,
            3,
            2
           ],
           "yaxis": "y"
          },
          {
           "hovertemplate": "<b>%{hovertext}</b><br><br>shape=unknown<br>year=2002<br>index=%{x}<br>count=%{marker.size}<extra></extra>",
           "hovertext": [
            "united states",
            "canada",
            "mexico",
            "lebanon",
            "jersey"
           ],
           "ids": [
            "united states",
            "canada",
            "mexico",
            "lebanon",
            "jersey"
           ],
           "legendgroup": "unknown",
           "marker": {
            "color": "#EF553B",
            "size": [
             265,
             41,
             1,
             1,
             1
            ],
            "sizemode": "area",
            "sizeref": 0.6504,
            "symbol": "circle"
           },
           "mode": "markers",
           "name": "unknown",
           "orientation": "v",
           "showlegend": true,
           "type": "scatter",
           "x": [
            87,
            359,
            3157,
            3158,
            3176
           ],
           "xaxis": "x",
           "y": [
            265,
            41,
            1,
            1,
            1
           ],
           "yaxis": "y"
          },
          {
           "hovertemplate": "<b>%{hovertext}</b><br><br>shape=circle<br>year=2002<br>index=%{x}<br>count=%{marker.size}<extra></extra>",
           "hovertext": [
            "united states",
            "canada",
            "india",
            "australia"
           ],
           "ids": [
            "united states",
            "canada",
            "india",
            "australia"
           ],
           "legendgroup": "circle",
           "marker": {
            "color": "#00cc96",
            "size": [
             114,
             17,
             2,
             1
            ],
            "sizemode": "area",
            "sizeref": 0.6504,
            "symbol": "circle"
           },
           "mode": "markers",
           "name": "circle",
           "orientation": "v",
           "showlegend": true,
           "type": "scatter",
           "x": [
            183,
            580,
            1820,
            3310
           ],
           "xaxis": "x",
           "y": [
            114,
            17,
            2,
            1
           ],
           "yaxis": "y"
          },
          {
           "hovertemplate": "<b>%{hovertext}</b><br><br>shape=fireball<br>year=2002<br>index=%{x}<br>count=%{marker.size}<extra></extra>",
           "hovertext": [
            "poland",
            "malta"
           ],
           "ids": [
            "poland",
            "malta"
           ],
           "legendgroup": "fireball",
           "marker": {
            "color": "#ab63fa",
            "size": [
             1,
             1
            ],
            "sizemode": "area",
            "sizeref": 0.6504,
            "symbol": "circle"
           },
           "mode": "markers",
           "name": "fireball",
           "orientation": "v",
           "showlegend": true,
           "type": "scatter",
           "x": [
            3244,
            3304
           ],
           "xaxis": "x",
           "y": [
            1,
            1
           ],
           "yaxis": "y"
          },
          {
           "hovertemplate": "<b>%{hovertext}</b><br><br>shape=triangle<br>year=2002<br>index=%{x}<br>count=%{marker.size}<extra></extra>",
           "hovertext": [
            "united states",
            "canada",
            "lebanon",
            "india",
            "puerto rico"
           ],
           "ids": [
            "united states",
            "canada",
            "lebanon",
            "india",
            "puerto rico"
           ],
           "legendgroup": "triangle",
           "marker": {
            "color": "#FFA15A",
            "size": [
             146,
             34,
             2,
             1,
             1
            ],
            "sizemode": "area",
            "sizeref": 0.6504,
            "symbol": "circle"
           },
           "mode": "markers",
           "name": "triangle",
           "orientation": "v",
           "showlegend": true,
           "type": "scatter",
           "x": [
            144,
            395,
            1690,
            3173,
            3175
           ],
           "xaxis": "x",
           "y": [
            146,
            34,
            2,
            1,
            1
           ],
           "yaxis": "y"
          },
          {
           "hovertemplate": "<b>%{hovertext}</b><br><br>shape=sphere<br>year=2002<br>index=%{x}<br>count=%{marker.size}<extra></extra>",
           "hovertext": [
            "jersey"
           ],
           "ids": [
            "jersey"
           ],
           "legendgroup": "sphere",
           "marker": {
            "color": "#19d3f3",
            "size": [
             2
            ],
            "sizemode": "area",
            "sizeref": 0.6504,
            "symbol": "circle"
           },
           "mode": "markers",
           "name": "sphere",
           "orientation": "v",
           "showlegend": true,
           "type": "scatter",
           "x": [
            1688
           ],
           "xaxis": "x",
           "y": [
            2
           ],
           "yaxis": "y"
          },
          {
           "hovertemplate": "<b>%{hovertext}</b><br><br>shape=disk<br>year=2002<br>index=%{x}<br>count=%{marker.size}<extra></extra>",
           "hovertext": [
            "united states",
            "canada",
            "france"
           ],
           "ids": [
            "united states",
            "canada",
            "france"
           ],
           "legendgroup": "disk",
           "marker": {
            "color": "#FF6692",
            "size": [
             104,
             13,
             1
            ],
            "sizemode": "area",
            "sizeref": 0.6504,
            "symbol": "circle"
           },
           "mode": "markers",
           "name": "disk",
           "orientation": "v",
           "showlegend": true,
           "type": "scatter",
           "x": [
            199,
            682,
            3323
           ],
           "xaxis": "x",
           "y": [
            104,
            13,
            1
           ],
           "yaxis": "y"
          },
          {
           "hovertemplate": "<b>%{hovertext}</b><br><br>shape=oval<br>year=2002<br>index=%{x}<br>count=%{marker.size}<extra></extra>",
           "hovertext": [
            "india"
           ],
           "ids": [
            "india"
           ],
           "legendgroup": "oval",
           "marker": {
            "color": "#FF97FF",
            "size": [
             1
            ],
            "sizemode": "area",
            "sizeref": 0.6504,
            "symbol": "circle"
           },
           "mode": "markers",
           "name": "oval",
           "orientation": "v",
           "showlegend": true,
           "type": "scatter",
           "x": [
            3168
           ],
           "xaxis": "x",
           "y": [
            1
           ],
           "yaxis": "y"
          },
          {
           "hovertemplate": "<b>%{hovertext}</b><br><br>shape=flash<br>year=2002<br>index=%{x}<br>count=%{marker.size}<extra></extra>",
           "hovertext": [
            "india"
           ],
           "ids": [
            "india"
           ],
           "legendgroup": "flash",
           "marker": {
            "color": "#636efa",
            "size": [
             1
            ],
            "sizemode": "area",
            "sizeref": 0.6504,
            "symbol": "circle"
           },
           "mode": "markers",
           "name": "flash",
           "orientation": "v",
           "showlegend": true,
           "type": "scatter",
           "x": [
            3243
           ],
           "xaxis": "x",
           "y": [
            1
           ],
           "yaxis": "y"
          },
          {
           "hovertemplate": "<b>%{hovertext}</b><br><br>shape=changed<br>year=2002<br>index=%{x}<br>count=%{marker.size}<extra></extra>",
           "hovertext": [
            "jordan"
           ],
           "ids": [
            "jordan"
           ],
           "legendgroup": "changed",
           "marker": {
            "color": "#00cc96",
            "size": [
             1
            ],
            "sizemode": "area",
            "sizeref": 0.6504,
            "symbol": "circle"
           },
           "mode": "markers",
           "name": "changed",
           "orientation": "v",
           "showlegend": true,
           "type": "scatter",
           "x": [
            3333
           ],
           "xaxis": "x",
           "y": [
            1
           ],
           "yaxis": "y"
          },
          {
           "hovertemplate": "<b>%{hovertext}</b><br><br>shape=egg<br>year=2002<br>index=%{x}<br>count=%{marker.size}<extra></extra>",
           "hovertext": [
            "lebanon"
           ],
           "ids": [
            "lebanon"
           ],
           "legendgroup": "egg",
           "marker": {
            "color": "#FFA15A",
            "size": [
             1
            ],
            "sizemode": "area",
            "sizeref": 0.6504,
            "symbol": "circle"
           },
           "mode": "markers",
           "name": "egg",
           "orientation": "v",
           "showlegend": true,
           "type": "scatter",
           "x": [
            3330
           ],
           "xaxis": "x",
           "y": [
            1
           ],
           "yaxis": "y"
          },
          {
           "hovertemplate": "<b>%{hovertext}</b><br><br>shape=diamond<br>year=2002<br>index=%{x}<br>count=%{marker.size}<extra></extra>",
           "hovertext": [
            "puerto rico"
           ],
           "ids": [
            "puerto rico"
           ],
           "legendgroup": "diamond",
           "marker": {
            "color": "#19d3f3",
            "size": [
             1
            ],
            "sizemode": "area",
            "sizeref": 0.6504,
            "symbol": "circle"
           },
           "mode": "markers",
           "name": "diamond",
           "orientation": "v",
           "showlegend": true,
           "type": "scatter",
           "x": [
            3321
           ],
           "xaxis": "x",
           "y": [
            1
           ],
           "yaxis": "y"
          },
          {
           "hovertemplate": "<b>%{hovertext}</b><br><br>shape=chevron<br>year=2002<br>index=%{x}<br>count=%{marker.size}<extra></extra>",
           "hovertext": [
            "australia"
           ],
           "ids": [
            "australia"
           ],
           "legendgroup": "chevron",
           "marker": {
            "color": "#FF6692",
            "size": [
             1
            ],
            "sizemode": "area",
            "sizeref": 0.6504,
            "symbol": "circle"
           },
           "mode": "markers",
           "name": "chevron",
           "orientation": "v",
           "showlegend": true,
           "type": "scatter",
           "x": [
            3332
           ],
           "xaxis": "x",
           "y": [
            1
           ],
           "yaxis": "y"
          }
         ],
         "name": "2002"
        },
        {
         "data": [
          {
           "hovertemplate": "<b>%{hovertext}</b><br><br>shape=light<br>year=1999<br>index=%{x}<br>count=%{marker.size}<extra></extra>",
           "hovertext": [
            "united states",
            "canada",
            "india"
           ],
           "ids": [
            "united states",
            "canada",
            "india"
           ],
           "legendgroup": "light",
           "marker": {
            "color": "#636efa",
            "size": [
             258,
             20,
             3
            ],
            "sizemode": "area",
            "sizeref": 0.6504,
            "symbol": "circle"
           },
           "mode": "markers",
           "name": "light",
           "orientation": "v",
           "showlegend": true,
           "type": "scatter",
           "x": [
            89,
            546,
            1327
           ],
           "xaxis": "x",
           "y": [
            258,
            20,
            3
           ],
           "yaxis": "y"
          },
          {
           "hovertemplate": "<b>%{hovertext}</b><br><br>shape=unknown<br>year=1999<br>index=%{x}<br>count=%{marker.size}<extra></extra>",
           "hovertext": [
            "united states",
            "canada",
            "mexico",
            "china",
            "lebanon"
           ],
           "ids": [
            "united states",
            "canada",
            "mexico",
            "china",
            "lebanon"
           ],
           "legendgroup": "unknown",
           "marker": {
            "color": "#EF553B",
            "size": [
             234,
             31,
             2,
             1,
             1
            ],
            "sizemode": "area",
            "sizeref": 0.6504,
            "symbol": "circle"
           },
           "mode": "markers",
           "name": "unknown",
           "orientation": "v",
           "showlegend": true,
           "type": "scatter",
           "x": [
            99,
            412,
            1793,
            3290,
            3291
           ],
           "xaxis": "x",
           "y": [
            234,
            31,
            2,
            1,
            1
           ],
           "yaxis": "y"
          },
          {
           "hovertemplate": "<b>%{hovertext}</b><br><br>shape=circle<br>year=1999<br>index=%{x}<br>count=%{marker.size}<extra></extra>",
           "hovertext": [
            "united states",
            "canada",
            "jordan",
            "puerto rico"
           ],
           "ids": [
            "united states",
            "canada",
            "jordan",
            "puerto rico"
           ],
           "legendgroup": "circle",
           "marker": {
            "color": "#00cc96",
            "size": [
             101,
             14,
             1,
             1
            ],
            "sizemode": "area",
            "sizeref": 0.6504,
            "symbol": "circle"
           },
           "mode": "markers",
           "name": "circle",
           "orientation": "v",
           "showlegend": true,
           "type": "scatter",
           "x": [
            208,
            659,
            1969,
            1996
           ],
           "xaxis": "x",
           "y": [
            101,
            14,
            1,
            1
           ],
           "yaxis": "y"
          },
          {
           "hovertemplate": "<b>%{hovertext}</b><br><br>shape=fireball<br>year=1999<br>index=%{x}<br>count=%{marker.size}<extra></extra>",
           "hovertext": [
            "united states",
            "india",
            "grenada"
           ],
           "ids": [
            "united states",
            "india",
            "grenada"
           ],
           "legendgroup": "fireball",
           "marker": {
            "color": "#ab63fa",
            "size": [
             137,
             1,
             1
            ],
            "sizemode": "area",
            "sizeref": 0.6504,
            "symbol": "circle"
           },
           "mode": "markers",
           "name": "fireball",
           "orientation": "v",
           "showlegend": true,
           "type": "scatter",
           "x": [
            150,
            1939,
            1941
           ],
           "xaxis": "x",
           "y": [
            137,
            1,
            1
           ],
           "yaxis": "y"
          },
          {
           "hovertemplate": "<b>%{hovertext}</b><br><br>shape=triangle<br>year=1999<br>index=%{x}<br>count=%{marker.size}<extra></extra>",
           "hovertext": [
            "united states",
            "canada",
            "cuba"
           ],
           "ids": [
            "united states",
            "canada",
            "cuba"
           ],
           "legendgroup": "triangle",
           "marker": {
            "color": "#FFA15A",
            "size": [
             128,
             11,
             1
            ],
            "sizemode": "area",
            "sizeref": 0.6504,
            "symbol": "circle"
           },
           "mode": "markers",
           "name": "triangle",
           "orientation": "v",
           "showlegend": true,
           "type": "scatter",
           "x": [
            161,
            733,
            3287
           ],
           "xaxis": "x",
           "y": [
            128,
            11,
            1
           ],
           "yaxis": "y"
          },
          {
           "hovertemplate": "<b>%{hovertext}</b><br><br>shape=sphere<br>year=1999<br>index=%{x}<br>count=%{marker.size}<extra></extra>",
           "hovertext": [
            "canada",
            "india"
           ],
           "ids": [
            "canada",
            "india"
           ],
           "legendgroup": "sphere",
           "marker": {
            "color": "#19d3f3",
            "size": [
             12,
             1
            ],
            "sizemode": "area",
            "sizeref": 0.6504,
            "symbol": "circle"
           },
           "mode": "markers",
           "name": "sphere",
           "orientation": "v",
           "showlegend": true,
           "type": "scatter",
           "x": [
            716,
            3280
           ],
           "xaxis": "x",
           "y": [
            12,
            1
           ],
           "yaxis": "y"
          },
          {
           "hovertemplate": "<b>%{hovertext}</b><br><br>shape=disk<br>year=1999<br>index=%{x}<br>count=%{marker.size}<extra></extra>",
           "hovertext": [
            "jersey",
            "puerto rico"
           ],
           "ids": [
            "jersey",
            "puerto rico"
           ],
           "legendgroup": "disk",
           "marker": {
            "color": "#FF6692",
            "size": [
             1,
             1
            ],
            "sizemode": "area",
            "sizeref": 0.6504,
            "symbol": "circle"
           },
           "mode": "markers",
           "name": "disk",
           "orientation": "v",
           "showlegend": true,
           "type": "scatter",
           "x": [
            1924,
            1943
           ],
           "xaxis": "x",
           "y": [
            1,
            1
           ],
           "yaxis": "y"
          },
          {
           "hovertemplate": "<b>%{hovertext}</b><br><br>shape=formation<br>year=1999<br>index=%{x}<br>count=%{marker.size}<extra></extra>",
           "hovertext": [
            "puerto rico"
           ],
           "ids": [
            "puerto rico"
           ],
           "legendgroup": "formation",
           "marker": {
            "color": "#B6E880",
            "size": [
             1
            ],
            "sizemode": "area",
            "sizeref": 0.6504,
            "symbol": "circle"
           },
           "mode": "markers",
           "name": "formation",
           "orientation": "v",
           "showlegend": true,
           "type": "scatter",
           "x": [
            2655
           ],
           "xaxis": "x",
           "y": [
            1
           ],
           "yaxis": "y"
          },
          {
           "hovertemplate": "<b>%{hovertext}</b><br><br>shape=rectangle<br>year=1999<br>index=%{x}<br>count=%{marker.size}<extra></extra>",
           "hovertext": [
            "colombia"
           ],
           "ids": [
            "colombia"
           ],
           "legendgroup": "rectangle",
           "marker": {
            "color": "#EF553B",
            "size": [
             1
            ],
            "sizemode": "area",
            "sizeref": 0.6504,
            "symbol": "circle"
           },
           "mode": "markers",
           "name": "rectangle",
           "orientation": "v",
           "showlegend": true,
           "type": "scatter",
           "x": [
            3277
           ],
           "xaxis": "x",
           "y": [
            1
           ],
           "yaxis": "y"
          },
          {
           "hovertemplate": "<b>%{hovertext}</b><br><br>shape=cylinder<br>year=1999<br>index=%{x}<br>count=%{marker.size}<extra></extra>",
           "hovertext": [
            "lebanon",
            "india"
           ],
           "ids": [
            "lebanon",
            "india"
           ],
           "legendgroup": "cylinder",
           "marker": {
            "color": "#ab63fa",
            "size": [
             2,
             1
            ],
            "sizemode": "area",
            "sizeref": 0.6504,
            "symbol": "circle"
           },
           "mode": "markers",
           "name": "cylinder",
           "orientation": "v",
           "showlegend": true,
           "type": "scatter",
           "x": [
            1808,
            1913
           ],
           "xaxis": "x",
           "y": [
            2,
            1
           ],
           "yaxis": "y"
          },
          {
           "hovertemplate": "<b>%{hovertext}</b><br><br>shape=chevron<br>year=1999<br>index=%{x}<br>count=%{marker.size}<extra></extra>",
           "hovertext": [
            "india"
           ],
           "ids": [
            "india"
           ],
           "legendgroup": "chevron",
           "marker": {
            "color": "#FF6692",
            "size": [
             1
            ],
            "sizemode": "area",
            "sizeref": 0.6504,
            "symbol": "circle"
           },
           "mode": "markers",
           "name": "chevron",
           "orientation": "v",
           "showlegend": true,
           "type": "scatter",
           "x": [
            1837
           ],
           "xaxis": "x",
           "y": [
            1
           ],
           "yaxis": "y"
          },
          {
           "hovertemplate": "<b>%{hovertext}</b><br><br>shape=teardrop<br>year=1999<br>index=%{x}<br>count=%{marker.size}<extra></extra>",
           "hovertext": [
            "mexico"
           ],
           "ids": [
            "mexico"
           ],
           "legendgroup": "teardrop",
           "marker": {
            "color": "#FF97FF",
            "size": [
             1
            ],
            "sizemode": "area",
            "sizeref": 0.6504,
            "symbol": "circle"
           },
           "mode": "markers",
           "name": "teardrop",
           "orientation": "v",
           "showlegend": true,
           "type": "scatter",
           "x": [
            3286
           ],
           "xaxis": "x",
           "y": [
            1
           ],
           "yaxis": "y"
          }
         ],
         "name": "1999"
        },
        {
         "data": [
          {
           "hovertemplate": "<b>%{hovertext}</b><br><br>shape=light<br>year=2000<br>index=%{x}<br>count=%{marker.size}<extra></extra>",
           "hovertext": [
            "united states",
            "canada",
            "jersey"
           ],
           "ids": [
            "united states",
            "canada",
            "jersey"
           ],
           "legendgroup": "light",
           "marker": {
            "color": "#636efa",
            "size": [
             220,
             21,
             1
            ],
            "sizemode": "area",
            "sizeref": 0.6504,
            "symbol": "circle"
           },
           "mode": "markers",
           "name": "light",
           "orientation": "v",
           "showlegend": true,
           "type": "scatter",
           "x": [
            107,
            522,
            3263
           ],
           "xaxis": "x",
           "y": [
            220,
            21,
            1
           ],
           "yaxis": "y"
          },
          {
           "hovertemplate": "<b>%{hovertext}</b><br><br>shape=unknown<br>year=2000<br>index=%{x}<br>count=%{marker.size}<extra></extra>",
           "hovertext": [
            "united states",
            "canada",
            "india",
            "australia"
           ],
           "ids": [
            "united states",
            "canada",
            "india",
            "australia"
           ],
           "legendgroup": "unknown",
           "marker": {
            "color": "#EF553B",
            "size": [
             197,
             22,
             3,
             1
            ],
            "sizemode": "area",
            "sizeref": 0.6504,
            "symbol": "circle"
           },
           "mode": "markers",
           "name": "unknown",
           "orientation": "v",
           "showlegend": true,
           "type": "scatter",
           "x": [
            119,
            512,
            1313,
            3302
           ],
           "xaxis": "x",
           "y": [
            197,
            22,
            3,
            1
           ],
           "yaxis": "y"
          },
          {
           "hovertemplate": "<b>%{hovertext}</b><br><br>shape=circle<br>year=2000<br>index=%{x}<br>count=%{marker.size}<extra></extra>",
           "hovertext": [
            "united states",
            "canada"
           ],
           "ids": [
            "united states",
            "canada"
           ],
           "legendgroup": "circle",
           "marker": {
            "color": "#00cc96",
            "size": [
             102,
             19
            ],
            "sizemode": "area",
            "sizeref": 0.6504,
            "symbol": "circle"
           },
           "mode": "markers",
           "name": "circle",
           "orientation": "v",
           "showlegend": true,
           "type": "scatter",
           "x": [
            203,
            556
           ],
           "xaxis": "x",
           "y": [
            102,
            19
           ],
           "yaxis": "y"
          },
          {
           "hovertemplate": "<b>%{hovertext}</b><br><br>shape=fireball<br>year=2000<br>index=%{x}<br>count=%{marker.size}<extra></extra>",
           "hovertext": [
            "united states",
            "australia",
            "lebanon"
           ],
           "ids": [
            "united states",
            "australia",
            "lebanon"
           ],
           "legendgroup": "fireball",
           "marker": {
            "color": "#ab63fa",
            "size": [
             91,
             1,
             1
            ],
            "sizemode": "area",
            "sizeref": 0.6504,
            "symbol": "circle"
           },
           "mode": "markers",
           "name": "fireball",
           "orientation": "v",
           "showlegend": true,
           "type": "scatter",
           "x": [
            219,
            3257,
            3258
           ],
           "xaxis": "x",
           "y": [
            91,
            1,
            1
           ],
           "yaxis": "y"
          },
          {
           "hovertemplate": "<b>%{hovertext}</b><br><br>shape=triangle<br>year=2000<br>index=%{x}<br>count=%{marker.size}<extra></extra>",
           "hovertext": [
            "united states",
            "canada",
            "india",
            "cuba"
           ],
           "ids": [
            "united states",
            "canada",
            "india",
            "cuba"
           ],
           "legendgroup": "triangle",
           "marker": {
            "color": "#FFA15A",
            "size": [
             138,
             15,
             2,
             1
            ],
            "sizemode": "area",
            "sizeref": 0.6504,
            "symbol": "circle"
           },
           "mode": "markers",
           "name": "triangle",
           "orientation": "v",
           "showlegend": true,
           "type": "scatter",
           "x": [
            149,
            629,
            1788,
            3271
           ],
           "xaxis": "x",
           "y": [
            138,
            15,
            2,
            1
           ],
           "yaxis": "y"
          },
          {
           "hovertemplate": "<b>%{hovertext}</b><br><br>shape=sphere<br>year=2000<br>index=%{x}<br>count=%{marker.size}<extra></extra>",
           "hovertext": [
            "jersey",
            "india"
           ],
           "ids": [
            "jersey",
            "india"
           ],
           "legendgroup": "sphere",
           "marker": {
            "color": "#19d3f3",
            "size": [
             2,
             1
            ],
            "sizemode": "area",
            "sizeref": 0.6504,
            "symbol": "circle"
           },
           "mode": "markers",
           "name": "sphere",
           "orientation": "v",
           "showlegend": true,
           "type": "scatter",
           "x": [
            1785,
            3265
           ],
           "xaxis": "x",
           "y": [
            2,
            1
           ],
           "yaxis": "y"
          },
          {
           "hovertemplate": "<b>%{hovertext}</b><br><br>shape=disk<br>year=2000<br>index=%{x}<br>count=%{marker.size}<extra></extra>",
           "hovertext": [
            "georgia"
           ],
           "ids": [
            "georgia"
           ],
           "legendgroup": "disk",
           "marker": {
            "color": "#FF6692",
            "size": [
             1
            ],
            "sizemode": "area",
            "sizeref": 0.6504,
            "symbol": "circle"
           },
           "mode": "markers",
           "name": "disk",
           "orientation": "v",
           "showlegend": true,
           "type": "scatter",
           "x": [
            3251
           ],
           "xaxis": "x",
           "y": [
            1
           ],
           "yaxis": "y"
          },
          {
           "hovertemplate": "<b>%{hovertext}</b><br><br>shape=oval<br>year=2000<br>index=%{x}<br>count=%{marker.size}<extra></extra>",
           "hovertext": [
            "canada"
           ],
           "ids": [
            "canada"
           ],
           "legendgroup": "oval",
           "marker": {
            "color": "#FF97FF",
            "size": [
             8
            ],
            "sizemode": "area",
            "sizeref": 0.6504,
            "symbol": "circle"
           },
           "mode": "markers",
           "name": "oval",
           "orientation": "v",
           "showlegend": true,
           "type": "scatter",
           "x": [
            815
           ],
           "xaxis": "x",
           "y": [
            8
           ],
           "yaxis": "y"
          },
          {
           "hovertemplate": "<b>%{hovertext}</b><br><br>shape=cigar<br>year=2000<br>index=%{x}<br>count=%{marker.size}<extra></extra>",
           "hovertext": [
            "puerto rico",
            "jordan"
           ],
           "ids": [
            "puerto rico",
            "jordan"
           ],
           "legendgroup": "cigar",
           "marker": {
            "color": "#FECB52",
            "size": [
             1,
             1
            ],
            "sizemode": "area",
            "sizeref": 0.6504,
            "symbol": "circle"
           },
           "mode": "markers",
           "name": "cigar",
           "orientation": "v",
           "showlegend": true,
           "type": "scatter",
           "x": [
            3276,
            3299
           ],
           "xaxis": "x",
           "y": [
            1,
            1
           ],
           "yaxis": "y"
          },
          {
           "hovertemplate": "<b>%{hovertext}</b><br><br>shape=flash<br>year=2000<br>index=%{x}<br>count=%{marker.size}<extra></extra>",
           "hovertext": [
            "india"
           ],
           "ids": [
            "india"
           ],
           "legendgroup": "flash",
           "marker": {
            "color": "#636efa",
            "size": [
             1
            ],
            "sizemode": "area",
            "sizeref": 0.6504,
            "symbol": "circle"
           },
           "mode": "markers",
           "name": "flash",
           "orientation": "v",
           "showlegend": true,
           "type": "scatter",
           "x": [
            3246
           ],
           "xaxis": "x",
           "y": [
            1
           ],
           "yaxis": "y"
          },
          {
           "hovertemplate": "<b>%{hovertext}</b><br><br>shape=rectangle<br>year=2000<br>index=%{x}<br>count=%{marker.size}<extra></extra>",
           "hovertext": [
            "australia"
           ],
           "ids": [
            "australia"
           ],
           "legendgroup": "rectangle",
           "marker": {
            "color": "#EF553B",
            "size": [
             1
            ],
            "sizemode": "area",
            "sizeref": 0.6504,
            "symbol": "circle"
           },
           "mode": "markers",
           "name": "rectangle",
           "orientation": "v",
           "showlegend": true,
           "type": "scatter",
           "x": [
            3264
           ],
           "xaxis": "x",
           "y": [
            1
           ],
           "yaxis": "y"
          },
          {
           "hovertemplate": "<b>%{hovertext}</b><br><br>shape=changed<br>year=2000<br>index=%{x}<br>count=%{marker.size}<extra></extra>",
           "hovertext": [
            "puerto rico"
           ],
           "ids": [
            "puerto rico"
           ],
           "legendgroup": "changed",
           "marker": {
            "color": "#00cc96",
            "size": [
             1
            ],
            "sizemode": "area",
            "sizeref": 0.6504,
            "symbol": "circle"
           },
           "mode": "markers",
           "name": "changed",
           "orientation": "v",
           "showlegend": true,
           "type": "scatter",
           "x": [
            3298
           ],
           "xaxis": "x",
           "y": [
            1
           ],
           "yaxis": "y"
          },
          {
           "hovertemplate": "<b>%{hovertext}</b><br><br>shape=cylinder<br>year=2000<br>index=%{x}<br>count=%{marker.size}<extra></extra>",
           "hovertext": [
            "india"
           ],
           "ids": [
            "india"
           ],
           "legendgroup": "cylinder",
           "marker": {
            "color": "#ab63fa",
            "size": [
             1
            ],
            "sizemode": "area",
            "sizeref": 0.6504,
            "symbol": "circle"
           },
           "mode": "markers",
           "name": "cylinder",
           "orientation": "v",
           "showlegend": true,
           "type": "scatter",
           "x": [
            3275
           ],
           "xaxis": "x",
           "y": [
            1
           ],
           "yaxis": "y"
          },
          {
           "hovertemplate": "<b>%{hovertext}</b><br><br>shape=egg<br>year=2000<br>index=%{x}<br>count=%{marker.size}<extra></extra>",
           "hovertext": [
            "peru"
           ],
           "ids": [
            "peru"
           ],
           "legendgroup": "egg",
           "marker": {
            "color": "#FFA15A",
            "size": [
             1
            ],
            "sizemode": "area",
            "sizeref": 0.6504,
            "symbol": "circle"
           },
           "mode": "markers",
           "name": "egg",
           "orientation": "v",
           "showlegend": true,
           "type": "scatter",
           "x": [
            3253
           ],
           "xaxis": "x",
           "y": [
            1
           ],
           "yaxis": "y"
          }
         ],
         "name": "2000"
        },
        {
         "data": [
          {
           "hovertemplate": "<b>%{hovertext}</b><br><br>shape=light<br>year=1998<br>index=%{x}<br>count=%{marker.size}<extra></extra>",
           "hovertext": [
            "united states",
            "canada"
           ],
           "ids": [
            "united states",
            "canada"
           ],
           "legendgroup": "light",
           "marker": {
            "color": "#636efa",
            "size": [
             142,
             16
            ],
            "sizemode": "area",
            "sizeref": 0.6504,
            "symbol": "circle"
           },
           "mode": "markers",
           "name": "light",
           "orientation": "v",
           "showlegend": true,
           "type": "scatter",
           "x": [
            146,
            598
           ],
           "xaxis": "x",
           "y": [
            142,
            16
           ],
           "yaxis": "y"
          },
          {
           "hovertemplate": "<b>%{hovertext}</b><br><br>shape=unknown<br>year=1998<br>index=%{x}<br>count=%{marker.size}<extra></extra>",
           "hovertext": [
            "united states",
            "canada"
           ],
           "ids": [
            "united states",
            "canada"
           ],
           "legendgroup": "unknown",
           "marker": {
            "color": "#EF553B",
            "size": [
             110,
             9
            ],
            "sizemode": "area",
            "sizeref": 0.6504,
            "symbol": "circle"
           },
           "mode": "markers",
           "name": "unknown",
           "orientation": "v",
           "showlegend": true,
           "type": "scatter",
           "x": [
            189,
            801
           ],
           "xaxis": "x",
           "y": [
            110,
            9
           ],
           "yaxis": "y"
          },
          {
           "hovertemplate": "<b>%{hovertext}</b><br><br>shape=circle<br>year=1998<br>index=%{x}<br>count=%{marker.size}<extra></extra>",
           "hovertext": [
            "canada",
            "india"
           ],
           "ids": [
            "canada",
            "india"
           ],
           "legendgroup": "circle",
           "marker": {
            "color": "#00cc96",
            "size": [
             9,
             1
            ],
            "sizemode": "area",
            "sizeref": 0.6504,
            "symbol": "circle"
           },
           "mode": "markers",
           "name": "circle",
           "orientation": "v",
           "showlegend": true,
           "type": "scatter",
           "x": [
            804,
            2031
           ],
           "xaxis": "x",
           "y": [
            9,
            1
           ],
           "yaxis": "y"
          },
          {
           "hovertemplate": "<b>%{hovertext}</b><br><br>shape=fireball<br>year=1998<br>index=%{x}<br>count=%{marker.size}<extra></extra>",
           "hovertext": [
            "united states",
            "canada",
            "puerto rico",
            "india"
           ],
           "ids": [
            "united states",
            "canada",
            "puerto rico",
            "india"
           ],
           "legendgroup": "fireball",
           "marker": {
            "color": "#ab63fa",
            "size": [
             89,
             8,
             1,
             1
            ],
            "sizemode": "area",
            "sizeref": 0.6504,
            "symbol": "circle"
           },
           "mode": "markers",
           "name": "fireball",
           "orientation": "v",
           "showlegend": true,
           "type": "scatter",
           "x": [
            224,
            855,
            2103,
            2115
           ],
           "xaxis": "x",
           "y": [
            89,
            8,
            1,
            1
           ],
           "yaxis": "y"
          },
          {
           "hovertemplate": "<b>%{hovertext}</b><br><br>shape=triangle<br>year=1998<br>index=%{x}<br>count=%{marker.size}<extra></extra>",
           "hovertext": [
            "united states",
            "denmark",
            "georgia"
           ],
           "ids": [
            "united states",
            "denmark",
            "georgia"
           ],
           "legendgroup": "triangle",
           "marker": {
            "color": "#FFA15A",
            "size": [
             88,
             1,
             1
            ],
            "sizemode": "area",
            "sizeref": 0.6504,
            "symbol": "circle"
           },
           "mode": "markers",
           "name": "triangle",
           "orientation": "v",
           "showlegend": true,
           "type": "scatter",
           "x": [
            227,
            1879,
            1893
           ],
           "xaxis": "x",
           "y": [
            88,
            1,
            1
           ],
           "yaxis": "y"
          },
          {
           "hovertemplate": "<b>%{hovertext}</b><br><br>shape=sphere<br>year=1998<br>index=%{x}<br>count=%{marker.size}<extra></extra>",
           "hovertext": [
            "united states",
            "puerto rico",
            "india",
            "greenland"
           ],
           "ids": [
            "united states",
            "puerto rico",
            "india",
            "greenland"
           ],
           "legendgroup": "sphere",
           "marker": {
            "color": "#19d3f3",
            "size": [
             65,
             2,
             1,
             1
            ],
            "sizemode": "area",
            "sizeref": 0.6504,
            "symbol": "circle"
           },
           "mode": "markers",
           "name": "sphere",
           "orientation": "v",
           "showlegend": true,
           "type": "scatter",
           "x": [
            279,
            1781,
            1876,
            1877
           ],
           "xaxis": "x",
           "y": [
            65,
            2,
            1,
            1
           ],
           "yaxis": "y"
          },
          {
           "hovertemplate": "<b>%{hovertext}</b><br><br>shape=disk<br>year=1998<br>index=%{x}<br>count=%{marker.size}<extra></extra>",
           "hovertext": [
            "canada"
           ],
           "ids": [
            "canada"
           ],
           "legendgroup": "disk",
           "marker": {
            "color": "#FF6692",
            "size": [
             10
            ],
            "sizemode": "area",
            "sizeref": 0.6504,
            "symbol": "circle"
           },
           "mode": "markers",
           "name": "disk",
           "orientation": "v",
           "showlegend": true,
           "type": "scatter",
           "x": [
            775
           ],
           "xaxis": "x",
           "y": [
            10
           ],
           "yaxis": "y"
          },
          {
           "hovertemplate": "<b>%{hovertext}</b><br><br>shape=cigar<br>year=1998<br>index=%{x}<br>count=%{marker.size}<extra></extra>",
           "hovertext": [
            "puerto rico"
           ],
           "ids": [
            "puerto rico"
           ],
           "legendgroup": "cigar",
           "marker": {
            "color": "#FECB52",
            "size": [
             1
            ],
            "sizemode": "area",
            "sizeref": 0.6504,
            "symbol": "circle"
           },
           "mode": "markers",
           "name": "cigar",
           "orientation": "v",
           "showlegend": true,
           "type": "scatter",
           "x": [
            2035
           ],
           "xaxis": "x",
           "y": [
            1
           ],
           "yaxis": "y"
          },
          {
           "hovertemplate": "<b>%{hovertext}</b><br><br>shape=rectangle<br>year=1998<br>index=%{x}<br>count=%{marker.size}<extra></extra>",
           "hovertext": [
            "france"
           ],
           "ids": [
            "france"
           ],
           "legendgroup": "rectangle",
           "marker": {
            "color": "#EF553B",
            "size": [
             1
            ],
            "sizemode": "area",
            "sizeref": 0.6504,
            "symbol": "circle"
           },
           "mode": "markers",
           "name": "rectangle",
           "orientation": "v",
           "showlegend": true,
           "type": "scatter",
           "x": [
            1854
           ],
           "xaxis": "x",
           "y": [
            1
           ],
           "yaxis": "y"
          },
          {
           "hovertemplate": "<b>%{hovertext}</b><br><br>shape=changed<br>year=1998<br>index=%{x}<br>count=%{marker.size}<extra></extra>",
           "hovertext": [
            "india"
           ],
           "ids": [
            "india"
           ],
           "legendgroup": "changed",
           "marker": {
            "color": "#00cc96",
            "size": [
             1
            ],
            "sizemode": "area",
            "sizeref": 0.6504,
            "symbol": "circle"
           },
           "mode": "markers",
           "name": "changed",
           "orientation": "v",
           "showlegend": true,
           "type": "scatter",
           "x": [
            2037
           ],
           "xaxis": "x",
           "y": [
            1
           ],
           "yaxis": "y"
          },
          {
           "hovertemplate": "<b>%{hovertext}</b><br><br>shape=diamond<br>year=1998<br>index=%{x}<br>count=%{marker.size}<extra></extra>",
           "hovertext": [
            "india"
           ],
           "ids": [
            "india"
           ],
           "legendgroup": "diamond",
           "marker": {
            "color": "#19d3f3",
            "size": [
             1
            ],
            "sizemode": "area",
            "sizeref": 0.6504,
            "symbol": "circle"
           },
           "mode": "markers",
           "name": "diamond",
           "orientation": "v",
           "showlegend": true,
           "type": "scatter",
           "x": [
            2181
           ],
           "xaxis": "x",
           "y": [
            1
           ],
           "yaxis": "y"
          }
         ],
         "name": "1998"
        },
        {
         "data": [
          {
           "hovertemplate": "<b>%{hovertext}</b><br><br>shape=light<br>year=1996<br>index=%{x}<br>count=%{marker.size}<extra></extra>",
           "hovertext": [
            "united states",
            "canada",
            "australia",
            "oman"
           ],
           "ids": [
            "united states",
            "canada",
            "australia",
            "oman"
           ],
           "legendgroup": "light",
           "marker": {
            "color": "#636efa",
            "size": [
             44,
             7,
             1,
             1
            ],
            "sizemode": "area",
            "sizeref": 0.6504,
            "symbol": "circle"
           },
           "mode": "markers",
           "name": "light",
           "orientation": "v",
           "showlegend": true,
           "type": "scatter",
           "x": [
            342,
            884,
            2016,
            2019
           ],
           "xaxis": "x",
           "y": [
            44,
            7,
            1,
            1
           ],
           "yaxis": "y"
          },
          {
           "hovertemplate": "<b>%{hovertext}</b><br><br>shape=unknown<br>year=1996<br>index=%{x}<br>count=%{marker.size}<extra></extra>",
           "hovertext": [
            "united states",
            "canada"
           ],
           "ids": [
            "united states",
            "canada"
           ],
           "legendgroup": "unknown",
           "marker": {
            "color": "#EF553B",
            "size": [
             118,
             12
            ],
            "sizemode": "area",
            "sizeref": 0.6504,
            "symbol": "circle"
           },
           "mode": "markers",
           "name": "unknown",
           "orientation": "v",
           "showlegend": true,
           "type": "scatter",
           "x": [
            177,
            720
           ],
           "xaxis": "x",
           "y": [
            118,
            12
           ],
           "yaxis": "y"
          },
          {
           "hovertemplate": "<b>%{hovertext}</b><br><br>shape=circle<br>year=1996<br>index=%{x}<br>count=%{marker.size}<extra></extra>",
           "hovertext": [
            "united states"
           ],
           "ids": [
            "united states"
           ],
           "legendgroup": "circle",
           "marker": {
            "color": "#00cc96",
            "size": [
             20
            ],
            "sizemode": "area",
            "sizeref": 0.6504,
            "symbol": "circle"
           },
           "mode": "markers",
           "name": "circle",
           "orientation": "v",
           "showlegend": true,
           "type": "scatter",
           "x": [
            545
           ],
           "xaxis": "x",
           "y": [
            20
           ],
           "yaxis": "y"
          },
          {
           "hovertemplate": "<b>%{hovertext}</b><br><br>shape=fireball<br>year=1996<br>index=%{x}<br>count=%{marker.size}<extra></extra>",
           "hovertext": [
            "canada",
            "india"
           ],
           "ids": [
            "canada",
            "india"
           ],
           "legendgroup": "fireball",
           "marker": {
            "color": "#ab63fa",
            "size": [
             4,
             1
            ],
            "sizemode": "area",
            "sizeref": 0.6504,
            "symbol": "circle"
           },
           "mode": "markers",
           "name": "fireball",
           "orientation": "v",
           "showlegend": true,
           "type": "scatter",
           "x": [
            1105,
            2006
           ],
           "xaxis": "x",
           "y": [
            4,
            1
           ],
           "yaxis": "y"
          },
          {
           "hovertemplate": "<b>%{hovertext}</b><br><br>shape=triangle<br>year=1996<br>index=%{x}<br>count=%{marker.size}<extra></extra>",
           "hovertext": [
            "united states"
           ],
           "ids": [
            "united states"
           ],
           "legendgroup": "triangle",
           "marker": {
            "color": "#FFA15A",
            "size": [
             46
            ],
            "sizemode": "area",
            "sizeref": 0.6504,
            "symbol": "circle"
           },
           "mode": "markers",
           "name": "triangle",
           "orientation": "v",
           "showlegend": true,
           "type": "scatter",
           "x": [
            335
           ],
           "xaxis": "x",
           "y": [
            46
           ],
           "yaxis": "y"
          },
          {
           "hovertemplate": "<b>%{hovertext}</b><br><br>shape=sphere<br>year=1996<br>index=%{x}<br>count=%{marker.size}<extra></extra>",
           "hovertext": [
            "canada"
           ],
           "ids": [
            "canada"
           ],
           "legendgroup": "sphere",
           "marker": {
            "color": "#19d3f3",
            "size": [
             4
            ],
            "sizemode": "area",
            "sizeref": 0.6504,
            "symbol": "circle"
           },
           "mode": "markers",
           "name": "sphere",
           "orientation": "v",
           "showlegend": true,
           "type": "scatter",
           "x": [
            1109
           ],
           "xaxis": "x",
           "y": [
            4
           ],
           "yaxis": "y"
          },
          {
           "hovertemplate": "<b>%{hovertext}</b><br><br>shape=disk<br>year=1996<br>index=%{x}<br>count=%{marker.size}<extra></extra>",
           "hovertext": [
            "united states",
            "france"
           ],
           "ids": [
            "united states",
            "france"
           ],
           "legendgroup": "disk",
           "marker": {
            "color": "#FF6692",
            "size": [
             29,
             1
            ],
            "sizemode": "area",
            "sizeref": 0.6504,
            "symbol": "circle"
           },
           "mode": "markers",
           "name": "disk",
           "orientation": "v",
           "showlegend": true,
           "type": "scatter",
           "x": [
            427,
            2002
           ],
           "xaxis": "x",
           "y": [
            29,
            1
           ],
           "yaxis": "y"
          },
          {
           "hovertemplate": "<b>%{hovertext}</b><br><br>shape=oval<br>year=1996<br>index=%{x}<br>count=%{marker.size}<extra></extra>",
           "hovertext": [
            "canada"
           ],
           "ids": [
            "canada"
           ],
           "legendgroup": "oval",
           "marker": {
            "color": "#FF97FF",
            "size": [
             4
            ],
            "sizemode": "area",
            "sizeref": 0.6504,
            "symbol": "circle"
           },
           "mode": "markers",
           "name": "oval",
           "orientation": "v",
           "showlegend": true,
           "type": "scatter",
           "x": [
            1112
           ],
           "xaxis": "x",
           "y": [
            4
           ],
           "yaxis": "y"
          }
         ],
         "name": "1996"
        },
        {
         "data": [
          {
           "hovertemplate": "<b>%{hovertext}</b><br><br>shape=light<br>year=1997<br>index=%{x}<br>count=%{marker.size}<extra></extra>",
           "hovertext": [
            "united states",
            "canada",
            "cuba",
            "australia"
           ],
           "ids": [
            "united states",
            "canada",
            "cuba",
            "australia"
           ],
           "legendgroup": "light",
           "marker": {
            "color": "#636efa",
            "size": [
             115,
             11,
             1,
             1
            ],
            "sizemode": "area",
            "sizeref": 0.6504,
            "symbol": "circle"
           },
           "mode": "markers",
           "name": "light",
           "orientation": "v",
           "showlegend": true,
           "type": "scatter",
           "x": [
            181,
            730,
            2053,
            2071
           ],
           "xaxis": "x",
           "y": [
            115,
            11,
            1,
            1
           ],
           "yaxis": "y"
          },
          {
           "hovertemplate": "<b>%{hovertext}</b><br><br>shape=unknown<br>year=1997<br>index=%{x}<br>count=%{marker.size}<extra></extra>",
           "hovertext": [
            "united states",
            "canada",
            "puerto rico",
            "oman",
            "unknown"
           ],
           "ids": [
            "united states",
            "canada",
            "puerto rico",
            "oman",
            "unknown"
           ],
           "legendgroup": "unknown",
           "marker": {
            "color": "#EF553B",
            "size": [
             101,
             11,
             1,
             1,
             1
            ],
            "sizemode": "area",
            "sizeref": 0.6504,
            "symbol": "circle"
           },
           "mode": "markers",
           "name": "unknown",
           "orientation": "v",
           "showlegend": true,
           "type": "scatter",
           "x": [
            204,
            751,
            2008,
            2021,
            2027
           ],
           "xaxis": "x",
           "y": [
            101,
            11,
            1,
            1,
            1
           ],
           "yaxis": "y"
          },
          {
           "hovertemplate": "<b>%{hovertext}</b><br><br>shape=circle<br>year=1997<br>index=%{x}<br>count=%{marker.size}<extra></extra>",
           "hovertext": [
            "angola"
           ],
           "ids": [
            "angola"
           ],
           "legendgroup": "circle",
           "marker": {
            "color": "#00cc96",
            "size": [
             1
            ],
            "sizemode": "area",
            "sizeref": 0.6504,
            "symbol": "circle"
           },
           "mode": "markers",
           "name": "circle",
           "orientation": "v",
           "showlegend": true,
           "type": "scatter",
           "x": [
            2080
           ],
           "xaxis": "x",
           "y": [
            1
           ],
           "yaxis": "y"
          },
          {
           "hovertemplate": "<b>%{hovertext}</b><br><br>shape=fireball<br>year=1997<br>index=%{x}<br>count=%{marker.size}<extra></extra>",
           "hovertext": [
            "jersey"
           ],
           "ids": [
            "jersey"
           ],
           "legendgroup": "fireball",
           "marker": {
            "color": "#ab63fa",
            "size": [
             1
            ],
            "sizemode": "area",
            "sizeref": 0.6504,
            "symbol": "circle"
           },
           "mode": "markers",
           "name": "fireball",
           "orientation": "v",
           "showlegend": true,
           "type": "scatter",
           "x": [
            2061
           ],
           "xaxis": "x",
           "y": [
            1
           ],
           "yaxis": "y"
          },
          {
           "hovertemplate": "<b>%{hovertext}</b><br><br>shape=triangle<br>year=1997<br>index=%{x}<br>count=%{marker.size}<extra></extra>",
           "hovertext": [
            "united states",
            "canada"
           ],
           "ids": [
            "united states",
            "canada"
           ],
           "legendgroup": "triangle",
           "marker": {
            "color": "#FFA15A",
            "size": [
             79,
             6
            ],
            "sizemode": "area",
            "sizeref": 0.6504,
            "symbol": "circle"
           },
           "mode": "markers",
           "name": "triangle",
           "orientation": "v",
           "showlegend": true,
           "type": "scatter",
           "x": [
            248,
            975
           ],
           "xaxis": "x",
           "y": [
            79,
            6
           ],
           "yaxis": "y"
          },
          {
           "hovertemplate": "<b>%{hovertext}</b><br><br>shape=sphere<br>year=1997<br>index=%{x}<br>count=%{marker.size}<extra></extra>",
           "hovertext": [
            "united states",
            "lebanon"
           ],
           "ids": [
            "united states",
            "lebanon"
           ],
           "legendgroup": "sphere",
           "marker": {
            "color": "#19d3f3",
            "size": [
             33,
             1
            ],
            "sizemode": "area",
            "sizeref": 0.6504,
            "symbol": "circle"
           },
           "mode": "markers",
           "name": "sphere",
           "orientation": "v",
           "showlegend": true,
           "type": "scatter",
           "x": [
            398,
            2050
           ],
           "xaxis": "x",
           "y": [
            33,
            1
           ],
           "yaxis": "y"
          },
          {
           "hovertemplate": "<b>%{hovertext}</b><br><br>shape=disk<br>year=1997<br>index=%{x}<br>count=%{marker.size}<extra></extra>",
           "hovertext": [
            "united states",
            "canada",
            "denmark",
            "mexico"
           ],
           "ids": [
            "united states",
            "canada",
            "denmark",
            "mexico"
           ],
           "legendgroup": "disk",
           "marker": {
            "color": "#FF6692",
            "size": [
             44,
             5,
             1,
             1
            ],
            "sizemode": "area",
            "sizeref": 0.6504,
            "symbol": "circle"
           },
           "mode": "markers",
           "name": "disk",
           "orientation": "v",
           "showlegend": true,
           "type": "scatter",
           "x": [
            340,
            1063,
            2056,
            2058
           ],
           "xaxis": "x",
           "y": [
            44,
            5,
            1,
            1
           ],
           "yaxis": "y"
          },
          {
           "hovertemplate": "<b>%{hovertext}</b><br><br>shape=formation<br>year=1997<br>index=%{x}<br>count=%{marker.size}<extra></extra>",
           "hovertext": [
            "canada"
           ],
           "ids": [
            "canada"
           ],
           "legendgroup": "formation",
           "marker": {
            "color": "#B6E880",
            "size": [
             5
            ],
            "sizemode": "area",
            "sizeref": 0.6504,
            "symbol": "circle"
           },
           "mode": "markers",
           "name": "formation",
           "orientation": "v",
           "showlegend": true,
           "type": "scatter",
           "x": [
            1005
           ],
           "xaxis": "x",
           "y": [
            5
           ],
           "yaxis": "y"
          },
          {
           "hovertemplate": "<b>%{hovertext}</b><br><br>shape=cigar<br>year=1997<br>index=%{x}<br>count=%{marker.size}<extra></extra>",
           "hovertext": [
            "mexico"
           ],
           "ids": [
            "mexico"
           ],
           "legendgroup": "cigar",
           "marker": {
            "color": "#FECB52",
            "size": [
             1
            ],
            "sizemode": "area",
            "sizeref": 0.6504,
            "symbol": "circle"
           },
           "mode": "markers",
           "name": "cigar",
           "orientation": "v",
           "showlegend": true,
           "type": "scatter",
           "x": [
            2079
           ],
           "xaxis": "x",
           "y": [
            1
           ],
           "yaxis": "y"
          },
          {
           "hovertemplate": "<b>%{hovertext}</b><br><br>shape=rectangle<br>year=1997<br>index=%{x}<br>count=%{marker.size}<extra></extra>",
           "hovertext": [
            "malta"
           ],
           "ids": [
            "malta"
           ],
           "legendgroup": "rectangle",
           "marker": {
            "color": "#EF553B",
            "size": [
             1
            ],
            "sizemode": "area",
            "sizeref": 0.6504,
            "symbol": "circle"
           },
           "mode": "markers",
           "name": "rectangle",
           "orientation": "v",
           "showlegend": true,
           "type": "scatter",
           "x": [
            2076
           ],
           "xaxis": "x",
           "y": [
            1
           ],
           "yaxis": "y"
          },
          {
           "hovertemplate": "<b>%{hovertext}</b><br><br>shape=cross<br>year=1997<br>index=%{x}<br>count=%{marker.size}<extra></extra>",
           "hovertext": [
            "puerto rico"
           ],
           "ids": [
            "puerto rico"
           ],
           "legendgroup": "cross",
           "marker": {
            "color": "#FECB52",
            "size": [
             1
            ],
            "sizemode": "area",
            "sizeref": 0.6504,
            "symbol": "circle"
           },
           "mode": "markers",
           "name": "cross",
           "orientation": "v",
           "showlegend": true,
           "type": "scatter",
           "x": [
            2097
           ],
           "xaxis": "x",
           "y": [
            1
           ],
           "yaxis": "y"
          }
         ],
         "name": "1997"
        },
        {
         "data": [
          {
           "hovertemplate": "<b>%{hovertext}</b><br><br>shape=light<br>year=1975<br>index=%{x}<br>count=%{marker.size}<extra></extra>",
           "hovertext": [
            "united states",
            "canada"
           ],
           "ids": [
            "united states",
            "canada"
           ],
           "legendgroup": "light",
           "marker": {
            "color": "#636efa",
            "size": [
             22,
             1
            ],
            "sizemode": "area",
            "sizeref": 0.6504,
            "symbol": "circle"
           },
           "mode": "markers",
           "name": "light",
           "orientation": "v",
           "showlegend": true,
           "type": "scatter",
           "x": [
            515,
            2314
           ],
           "xaxis": "x",
           "y": [
            22,
            1
           ],
           "yaxis": "y"
          },
          {
           "hovertemplate": "<b>%{hovertext}</b><br><br>shape=unknown<br>year=1975<br>index=%{x}<br>count=%{marker.size}<extra></extra>",
           "hovertext": [
            "united states",
            "canada"
           ],
           "ids": [
            "united states",
            "canada"
           ],
           "legendgroup": "unknown",
           "marker": {
            "color": "#EF553B",
            "size": [
             14,
             3
            ],
            "sizemode": "area",
            "sizeref": 0.6504,
            "symbol": "circle"
           },
           "mode": "markers",
           "name": "unknown",
           "orientation": "v",
           "showlegend": true,
           "type": "scatter",
           "x": [
            665,
            1247
           ],
           "xaxis": "x",
           "y": [
            14,
            3
           ],
           "yaxis": "y"
          },
          {
           "hovertemplate": "<b>%{hovertext}</b><br><br>shape=circle<br>year=1975<br>index=%{x}<br>count=%{marker.size}<extra></extra>",
           "hovertext": [
            "united states"
           ],
           "ids": [
            "united states"
           ],
           "legendgroup": "circle",
           "marker": {
            "color": "#00cc96",
            "size": [
             29
            ],
            "sizemode": "area",
            "sizeref": 0.6504,
            "symbol": "circle"
           },
           "mode": "markers",
           "name": "circle",
           "orientation": "v",
           "showlegend": true,
           "type": "scatter",
           "x": [
            434
           ],
           "xaxis": "x",
           "y": [
            29
           ],
           "yaxis": "y"
          },
          {
           "hovertemplate": "<b>%{hovertext}</b><br><br>shape=triangle<br>year=1975<br>index=%{x}<br>count=%{marker.size}<extra></extra>",
           "hovertext": [
            "united states",
            "india"
           ],
           "ids": [
            "united states",
            "india"
           ],
           "legendgroup": "triangle",
           "marker": {
            "color": "#FFA15A",
            "size": [
             13,
             1
            ],
            "sizemode": "area",
            "sizeref": 0.6504,
            "symbol": "circle"
           },
           "mode": "markers",
           "name": "triangle",
           "orientation": "v",
           "showlegend": true,
           "type": "scatter",
           "x": [
            695,
            2237
           ],
           "xaxis": "x",
           "y": [
            13,
            1
           ],
           "yaxis": "y"
          },
          {
           "hovertemplate": "<b>%{hovertext}</b><br><br>shape=sphere<br>year=1975<br>index=%{x}<br>count=%{marker.size}<extra></extra>",
           "hovertext": [
            "canada"
           ],
           "ids": [
            "canada"
           ],
           "legendgroup": "sphere",
           "marker": {
            "color": "#19d3f3",
            "size": [
             3
            ],
            "sizemode": "area",
            "sizeref": 0.6504,
            "symbol": "circle"
           },
           "mode": "markers",
           "name": "sphere",
           "orientation": "v",
           "showlegend": true,
           "type": "scatter",
           "x": [
            1249
           ],
           "xaxis": "x",
           "y": [
            3
           ],
           "yaxis": "y"
          },
          {
           "hovertemplate": "<b>%{hovertext}</b><br><br>shape=disk<br>year=1975<br>index=%{x}<br>count=%{marker.size}<extra></extra>",
           "hovertext": [
            "united states",
            "canada",
            "grenada"
           ],
           "ids": [
            "united states",
            "canada",
            "grenada"
           ],
           "legendgroup": "disk",
           "marker": {
            "color": "#FF6692",
            "size": [
             49,
             8,
             1
            ],
            "sizemode": "area",
            "sizeref": 0.6504,
            "symbol": "circle"
           },
           "mode": "markers",
           "name": "disk",
           "orientation": "v",
           "showlegend": true,
           "type": "scatter",
           "x": [
            323,
            841,
            2389
           ],
           "xaxis": "x",
           "y": [
            49,
            8,
            1
           ],
           "yaxis": "y"
          },
          {
           "hovertemplate": "<b>%{hovertext}</b><br><br>shape=oval<br>year=1975<br>index=%{x}<br>count=%{marker.size}<extra></extra>",
           "hovertext": [
            "puerto rico"
           ],
           "ids": [
            "puerto rico"
           ],
           "legendgroup": "oval",
           "marker": {
            "color": "#FF97FF",
            "size": [
             1
            ],
            "sizemode": "area",
            "sizeref": 0.6504,
            "symbol": "circle"
           },
           "mode": "markers",
           "name": "oval",
           "orientation": "v",
           "showlegend": true,
           "type": "scatter",
           "x": [
            2232
           ],
           "xaxis": "x",
           "y": [
            1
           ],
           "yaxis": "y"
          },
          {
           "hovertemplate": "<b>%{hovertext}</b><br><br>shape=rectangle<br>year=1975<br>index=%{x}<br>count=%{marker.size}<extra></extra>",
           "hovertext": [
            "canada"
           ],
           "ids": [
            "canada"
           ],
           "legendgroup": "rectangle",
           "marker": {
            "color": "#EF553B",
            "size": [
             2
            ],
            "sizemode": "area",
            "sizeref": 0.6504,
            "symbol": "circle"
           },
           "mode": "markers",
           "name": "rectangle",
           "orientation": "v",
           "showlegend": true,
           "type": "scatter",
           "x": [
            1680
           ],
           "xaxis": "x",
           "y": [
            2
           ],
           "yaxis": "y"
          }
         ],
         "name": "1975"
        },
        {
         "data": [
          {
           "hovertemplate": "<b>%{hovertext}</b><br><br>shape=light<br>year=1974<br>index=%{x}<br>count=%{marker.size}<extra></extra>",
           "hovertext": [
            "united states"
           ],
           "ids": [
            "united states"
           ],
           "legendgroup": "light",
           "marker": {
            "color": "#636efa",
            "size": [
             16
            ],
            "sizemode": "area",
            "sizeref": 0.6504,
            "symbol": "circle"
           },
           "mode": "markers",
           "name": "light",
           "orientation": "v",
           "showlegend": true,
           "type": "scatter",
           "x": [
            609
           ],
           "xaxis": "x",
           "y": [
            16
           ],
           "yaxis": "y"
          },
          {
           "hovertemplate": "<b>%{hovertext}</b><br><br>shape=unknown<br>year=1974<br>index=%{x}<br>count=%{marker.size}<extra></extra>",
           "hovertext": [
            "united states",
            "canada",
            "oman"
           ],
           "ids": [
            "united states",
            "canada",
            "oman"
           ],
           "legendgroup": "unknown",
           "marker": {
            "color": "#EF553B",
            "size": [
             33,
             4,
             1
            ],
            "sizemode": "area",
            "sizeref": 0.6504,
            "symbol": "circle"
           },
           "mode": "markers",
           "name": "unknown",
           "orientation": "v",
           "showlegend": true,
           "type": "scatter",
           "x": [
            403,
            1159,
            2379
           ],
           "xaxis": "x",
           "y": [
            33,
            4,
            1
           ],
           "yaxis": "y"
          },
          {
           "hovertemplate": "<b>%{hovertext}</b><br><br>shape=circle<br>year=1974<br>index=%{x}<br>count=%{marker.size}<extra></extra>",
           "hovertext": [
            "united states",
            "canada"
           ],
           "ids": [
            "united states",
            "canada"
           ],
           "legendgroup": "circle",
           "marker": {
            "color": "#00cc96",
            "size": [
             14,
             2
            ],
            "sizemode": "area",
            "sizeref": 0.6504,
            "symbol": "circle"
           },
           "mode": "markers",
           "name": "circle",
           "orientation": "v",
           "showlegend": true,
           "type": "scatter",
           "x": [
            658,
            1794
           ],
           "xaxis": "x",
           "y": [
            14,
            2
           ],
           "yaxis": "y"
          },
          {
           "hovertemplate": "<b>%{hovertext}</b><br><br>shape=triangle<br>year=1974<br>index=%{x}<br>count=%{marker.size}<extra></extra>",
           "hovertext": [
            "canada"
           ],
           "ids": [
            "canada"
           ],
           "legendgroup": "triangle",
           "marker": {
            "color": "#FFA15A",
            "size": [
             2
            ],
            "sizemode": "area",
            "sizeref": 0.6504,
            "symbol": "circle"
           },
           "mode": "markers",
           "name": "triangle",
           "orientation": "v",
           "showlegend": true,
           "type": "scatter",
           "x": [
            1789
           ],
           "xaxis": "x",
           "y": [
            2
           ],
           "yaxis": "y"
          },
          {
           "hovertemplate": "<b>%{hovertext}</b><br><br>shape=sphere<br>year=1974<br>index=%{x}<br>count=%{marker.size}<extra></extra>",
           "hovertext": [
            "canada",
            "puerto rico"
           ],
           "ids": [
            "canada",
            "puerto rico"
           ],
           "legendgroup": "sphere",
           "marker": {
            "color": "#19d3f3",
            "size": [
             1,
             1
            ],
            "sizemode": "area",
            "sizeref": 0.6504,
            "symbol": "circle"
           },
           "mode": "markers",
           "name": "sphere",
           "orientation": "v",
           "showlegend": true,
           "type": "scatter",
           "x": [
            2374,
            2377
           ],
           "xaxis": "x",
           "y": [
            1,
            1
           ],
           "yaxis": "y"
          },
          {
           "hovertemplate": "<b>%{hovertext}</b><br><br>shape=disk<br>year=1974<br>index=%{x}<br>count=%{marker.size}<extra></extra>",
           "hovertext": [
            "united states",
            "india"
           ],
           "ids": [
            "united states",
            "india"
           ],
           "legendgroup": "disk",
           "marker": {
            "color": "#FF6692",
            "size": [
             44,
             1
            ],
            "sizemode": "area",
            "sizeref": 0.6504,
            "symbol": "circle"
           },
           "mode": "markers",
           "name": "disk",
           "orientation": "v",
           "showlegend": true,
           "type": "scatter",
           "x": [
            341,
            2415
           ],
           "xaxis": "x",
           "y": [
            44,
            1
           ],
           "yaxis": "y"
          },
          {
           "hovertemplate": "<b>%{hovertext}</b><br><br>shape=oval<br>year=1974<br>index=%{x}<br>count=%{marker.size}<extra></extra>",
           "hovertext": [
            "united states",
            "canada"
           ],
           "ids": [
            "united states",
            "canada"
           ],
           "legendgroup": "oval",
           "marker": {
            "color": "#FF97FF",
            "size": [
             7,
             2
            ],
            "sizemode": "area",
            "sizeref": 0.6504,
            "symbol": "circle"
           },
           "mode": "markers",
           "name": "oval",
           "orientation": "v",
           "showlegend": true,
           "type": "scatter",
           "x": [
            867,
            1799
           ],
           "xaxis": "x",
           "y": [
            7,
            2
           ],
           "yaxis": "y"
          },
          {
           "hovertemplate": "<b>%{hovertext}</b><br><br>shape=rectangle<br>year=1974<br>index=%{x}<br>count=%{marker.size}<extra></extra>",
           "hovertext": [
            "india"
           ],
           "ids": [
            "india"
           ],
           "legendgroup": "rectangle",
           "marker": {
            "color": "#EF553B",
            "size": [
             1
            ],
            "sizemode": "area",
            "sizeref": 0.6504,
            "symbol": "circle"
           },
           "mode": "markers",
           "name": "rectangle",
           "orientation": "v",
           "showlegend": true,
           "type": "scatter",
           "x": [
            2398
           ],
           "xaxis": "x",
           "y": [
            1
           ],
           "yaxis": "y"
          }
         ],
         "name": "1974"
        },
        {
         "data": [
          {
           "hovertemplate": "<b>%{hovertext}</b><br><br>shape=light<br>year=1973<br>index=%{x}<br>count=%{marker.size}<extra></extra>",
           "hovertext": [
            "united states"
           ],
           "ids": [
            "united states"
           ],
           "legendgroup": "light",
           "marker": {
            "color": "#636efa",
            "size": [
             14
            ],
            "sizemode": "area",
            "sizeref": 0.6504,
            "symbol": "circle"
           },
           "mode": "markers",
           "name": "light",
           "orientation": "v",
           "showlegend": true,
           "type": "scatter",
           "x": [
            653
           ],
           "xaxis": "x",
           "y": [
            14
           ],
           "yaxis": "y"
          },
          {
           "hovertemplate": "<b>%{hovertext}</b><br><br>shape=unknown<br>year=1973<br>index=%{x}<br>count=%{marker.size}<extra></extra>",
           "hovertext": [
            "united states"
           ],
           "ids": [
            "united states"
           ],
           "legendgroup": "unknown",
           "marker": {
            "color": "#EF553B",
            "size": [
             13
            ],
            "sizemode": "area",
            "sizeref": 0.6504,
            "symbol": "circle"
           },
           "mode": "markers",
           "name": "unknown",
           "orientation": "v",
           "showlegend": true,
           "type": "scatter",
           "x": [
            700
           ],
           "xaxis": "x",
           "y": [
            13
           ],
           "yaxis": "y"
          },
          {
           "hovertemplate": "<b>%{hovertext}</b><br><br>shape=circle<br>year=1973<br>index=%{x}<br>count=%{marker.size}<extra></extra>",
           "hovertext": [
            "united states",
            "canada"
           ],
           "ids": [
            "united states",
            "canada"
           ],
           "legendgroup": "circle",
           "marker": {
            "color": "#00cc96",
            "size": [
             16,
             1
            ],
            "sizemode": "area",
            "sizeref": 0.6504,
            "symbol": "circle"
           },
           "mode": "markers",
           "name": "circle",
           "orientation": "v",
           "showlegend": true,
           "type": "scatter",
           "x": [
            614,
            2331
           ],
           "xaxis": "x",
           "y": [
            16,
            1
           ],
           "yaxis": "y"
          },
          {
           "hovertemplate": "<b>%{hovertext}</b><br><br>shape=fireball<br>year=1973<br>index=%{x}<br>count=%{marker.size}<extra></extra>",
           "hovertext": [
            "canada"
           ],
           "ids": [
            "canada"
           ],
           "legendgroup": "fireball",
           "marker": {
            "color": "#ab63fa",
            "size": [
             1
            ],
            "sizemode": "area",
            "sizeref": 0.6504,
            "symbol": "circle"
           },
           "mode": "markers",
           "name": "fireball",
           "orientation": "v",
           "showlegend": true,
           "type": "scatter",
           "x": [
            2339
           ],
           "xaxis": "x",
           "y": [
            1
           ],
           "yaxis": "y"
          },
          {
           "hovertemplate": "<b>%{hovertext}</b><br><br>shape=sphere<br>year=1973<br>index=%{x}<br>count=%{marker.size}<extra></extra>",
           "hovertext": [
            "canada",
            "china"
           ],
           "ids": [
            "canada",
            "china"
           ],
           "legendgroup": "sphere",
           "marker": {
            "color": "#19d3f3",
            "size": [
             3,
             1
            ],
            "sizemode": "area",
            "sizeref": 0.6504,
            "symbol": "circle"
           },
           "mode": "markers",
           "name": "sphere",
           "orientation": "v",
           "showlegend": true,
           "type": "scatter",
           "x": [
            1235,
            2371
           ],
           "xaxis": "x",
           "y": [
            3,
            1
           ],
           "yaxis": "y"
          },
          {
           "hovertemplate": "<b>%{hovertext}</b><br><br>shape=disk<br>year=1973<br>index=%{x}<br>count=%{marker.size}<extra></extra>",
           "hovertext": [
            "united states",
            "canada"
           ],
           "ids": [
            "united states",
            "canada"
           ],
           "legendgroup": "disk",
           "marker": {
            "color": "#FF6692",
            "size": [
             40,
             2
            ],
            "sizemode": "area",
            "sizeref": 0.6504,
            "symbol": "circle"
           },
           "mode": "markers",
           "name": "disk",
           "orientation": "v",
           "showlegend": true,
           "type": "scatter",
           "x": [
            363,
            1779
           ],
           "xaxis": "x",
           "y": [
            40,
            2
           ],
           "yaxis": "y"
          },
          {
           "hovertemplate": "<b>%{hovertext}</b><br><br>shape=oval<br>year=1973<br>index=%{x}<br>count=%{marker.size}<extra></extra>",
           "hovertext": [
            "puerto rico"
           ],
           "ids": [
            "puerto rico"
           ],
           "legendgroup": "oval",
           "marker": {
            "color": "#FF97FF",
            "size": [
             1
            ],
            "sizemode": "area",
            "sizeref": 0.6504,
            "symbol": "circle"
           },
           "mode": "markers",
           "name": "oval",
           "orientation": "v",
           "showlegend": true,
           "type": "scatter",
           "x": [
            2341
           ],
           "xaxis": "x",
           "y": [
            1
           ],
           "yaxis": "y"
          },
          {
           "hovertemplate": "<b>%{hovertext}</b><br><br>shape=cigar<br>year=1973<br>index=%{x}<br>count=%{marker.size}<extra></extra>",
           "hovertext": [
            "united states"
           ],
           "ids": [
            "united states"
           ],
           "legendgroup": "cigar",
           "marker": {
            "color": "#FECB52",
            "size": [
             13
            ],
            "sizemode": "area",
            "sizeref": 0.6504,
            "symbol": "circle"
           },
           "mode": "markers",
           "name": "cigar",
           "orientation": "v",
           "showlegend": true,
           "type": "scatter",
           "x": [
            691
           ],
           "xaxis": "x",
           "y": [
            13
           ],
           "yaxis": "y"
          },
          {
           "hovertemplate": "<b>%{hovertext}</b><br><br>shape=cylinder<br>year=1973<br>index=%{x}<br>count=%{marker.size}<extra></extra>",
           "hovertext": [
            "canada"
           ],
           "ids": [
            "canada"
           ],
           "legendgroup": "cylinder",
           "marker": {
            "color": "#ab63fa",
            "size": [
             2
            ],
            "sizemode": "area",
            "sizeref": 0.6504,
            "symbol": "circle"
           },
           "mode": "markers",
           "name": "cylinder",
           "orientation": "v",
           "showlegend": true,
           "type": "scatter",
           "x": [
            1812
           ],
           "xaxis": "x",
           "y": [
            2
           ],
           "yaxis": "y"
          }
         ],
         "name": "1973"
        },
        {
         "data": [
          {
           "hovertemplate": "<b>%{hovertext}</b><br><br>shape=light<br>year=1994<br>index=%{x}<br>count=%{marker.size}<extra></extra>",
           "hovertext": [
            "united states",
            "canada",
            "mexico"
           ],
           "ids": [
            "united states",
            "canada",
            "mexico"
           ],
           "legendgroup": "light",
           "marker": {
            "color": "#636efa",
            "size": [
             23,
             4,
             1
            ],
            "sizemode": "area",
            "sizeref": 0.6504,
            "symbol": "circle"
           },
           "mode": "markers",
           "name": "light",
           "orientation": "v",
           "showlegend": true,
           "type": "scatter",
           "x": [
            506,
            1171,
            2123
           ],
           "xaxis": "x",
           "y": [
            23,
            4,
            1
           ],
           "yaxis": "y"
          },
          {
           "hovertemplate": "<b>%{hovertext}</b><br><br>shape=unknown<br>year=1994<br>index=%{x}<br>count=%{marker.size}<extra></extra>",
           "hovertext": [
            "united states",
            "canada",
            "india"
           ],
           "ids": [
            "united states",
            "canada",
            "india"
           ],
           "legendgroup": "unknown",
           "marker": {
            "color": "#EF553B",
            "size": [
             24,
             3,
             1
            ],
            "sizemode": "area",
            "sizeref": 0.6504,
            "symbol": "circle"
           },
           "mode": "markers",
           "name": "unknown",
           "orientation": "v",
           "showlegend": true,
           "type": "scatter",
           "x": [
            476,
            1218,
            2185
           ],
           "xaxis": "x",
           "y": [
            24,
            3,
            1
           ],
           "yaxis": "y"
          },
          {
           "hovertemplate": "<b>%{hovertext}</b><br><br>shape=circle<br>year=1994<br>index=%{x}<br>count=%{marker.size}<extra></extra>",
           "hovertext": [
            "united states",
            "canada"
           ],
           "ids": [
            "united states",
            "canada"
           ],
           "legendgroup": "circle",
           "marker": {
            "color": "#00cc96",
            "size": [
             13,
             3
            ],
            "sizemode": "area",
            "sizeref": 0.6504,
            "symbol": "circle"
           },
           "mode": "markers",
           "name": "circle",
           "orientation": "v",
           "showlegend": true,
           "type": "scatter",
           "x": [
            699,
            1222
           ],
           "xaxis": "x",
           "y": [
            13,
            3
           ],
           "yaxis": "y"
          },
          {
           "hovertemplate": "<b>%{hovertext}</b><br><br>shape=triangle<br>year=1994<br>index=%{x}<br>count=%{marker.size}<extra></extra>",
           "hovertext": [
            "united states",
            "canada",
            "india"
           ],
           "ids": [
            "united states",
            "canada",
            "india"
           ],
           "legendgroup": "triangle",
           "marker": {
            "color": "#FFA15A",
            "size": [
             38,
             3,
             1
            ],
            "sizemode": "area",
            "sizeref": 0.6504,
            "symbol": "circle"
           },
           "mode": "markers",
           "name": "triangle",
           "orientation": "v",
           "showlegend": true,
           "type": "scatter",
           "x": [
            371,
            1210,
            2184
           ],
           "xaxis": "x",
           "y": [
            38,
            3,
            1
           ],
           "yaxis": "y"
          },
          {
           "hovertemplate": "<b>%{hovertext}</b><br><br>shape=sphere<br>year=1994<br>index=%{x}<br>count=%{marker.size}<extra></extra>",
           "hovertext": [
            "canada"
           ],
           "ids": [
            "canada"
           ],
           "legendgroup": "sphere",
           "marker": {
            "color": "#19d3f3",
            "size": [
             5
            ],
            "sizemode": "area",
            "sizeref": 0.6504,
            "symbol": "circle"
           },
           "mode": "markers",
           "name": "sphere",
           "orientation": "v",
           "showlegend": true,
           "type": "scatter",
           "x": [
            1053
           ],
           "xaxis": "x",
           "y": [
            5
           ],
           "yaxis": "y"
          },
          {
           "hovertemplate": "<b>%{hovertext}</b><br><br>shape=disk<br>year=1994<br>index=%{x}<br>count=%{marker.size}<extra></extra>",
           "hovertext": [
            "united states",
            "angola"
           ],
           "ids": [
            "united states",
            "angola"
           ],
           "legendgroup": "disk",
           "marker": {
            "color": "#FF6692",
            "size": [
             28,
             1
            ],
            "sizemode": "area",
            "sizeref": 0.6504,
            "symbol": "circle"
           },
           "mode": "markers",
           "name": "disk",
           "orientation": "v",
           "showlegend": true,
           "type": "scatter",
           "x": [
            436,
            2110
           ],
           "xaxis": "x",
           "y": [
            28,
            1
           ],
           "yaxis": "y"
          },
          {
           "hovertemplate": "<b>%{hovertext}</b><br><br>shape=flash<br>year=1994<br>index=%{x}<br>count=%{marker.size}<extra></extra>",
           "hovertext": [
            "georgia"
           ],
           "ids": [
            "georgia"
           ],
           "legendgroup": "flash",
           "marker": {
            "color": "#636efa",
            "size": [
             1
            ],
            "sizemode": "area",
            "sizeref": 0.6504,
            "symbol": "circle"
           },
           "mode": "markers",
           "name": "flash",
           "orientation": "v",
           "showlegend": true,
           "type": "scatter",
           "x": [
            2119
           ],
           "xaxis": "x",
           "y": [
            1
           ],
           "yaxis": "y"
          }
         ],
         "name": "1994"
        },
        {
         "data": [
          {
           "hovertemplate": "<b>%{hovertext}</b><br><br>shape=light<br>year=1976<br>index=%{x}<br>count=%{marker.size}<extra></extra>",
           "hovertext": [
            "united states",
            "canada"
           ],
           "ids": [
            "united states",
            "canada"
           ],
           "legendgroup": "light",
           "marker": {
            "color": "#636efa",
            "size": [
             25,
             1
            ],
            "sizemode": "area",
            "sizeref": 0.6504,
            "symbol": "circle"
           },
           "mode": "markers",
           "name": "light",
           "orientation": "v",
           "showlegend": true,
           "type": "scatter",
           "x": [
            469,
            2203
           ],
           "xaxis": "x",
           "y": [
            25,
            1
           ],
           "yaxis": "y"
          },
          {
           "hovertemplate": "<b>%{hovertext}</b><br><br>shape=unknown<br>year=1976<br>index=%{x}<br>count=%{marker.size}<extra></extra>",
           "hovertext": [
            "united states",
            "canada"
           ],
           "ids": [
            "united states",
            "canada"
           ],
           "legendgroup": "unknown",
           "marker": {
            "color": "#EF553B",
            "size": [
             24,
             4
            ],
            "sizemode": "area",
            "sizeref": 0.6504,
            "symbol": "circle"
           },
           "mode": "markers",
           "name": "unknown",
           "orientation": "v",
           "showlegend": true,
           "type": "scatter",
           "x": [
            484,
            1190
           ],
           "xaxis": "x",
           "y": [
            24,
            4
           ],
           "yaxis": "y"
          },
          {
           "hovertemplate": "<b>%{hovertext}</b><br><br>shape=circle<br>year=1976<br>index=%{x}<br>count=%{marker.size}<extra></extra>",
           "hovertext": [
            "united states",
            "canada"
           ],
           "ids": [
            "united states",
            "canada"
           ],
           "legendgroup": "circle",
           "marker": {
            "color": "#00cc96",
            "size": [
             11,
             1
            ],
            "sizemode": "area",
            "sizeref": 0.6504,
            "symbol": "circle"
           },
           "mode": "markers",
           "name": "circle",
           "orientation": "v",
           "showlegend": true,
           "type": "scatter",
           "x": [
            749,
            2231
           ],
           "xaxis": "x",
           "y": [
            11,
            1
           ],
           "yaxis": "y"
          },
          {
           "hovertemplate": "<b>%{hovertext}</b><br><br>shape=triangle<br>year=1976<br>index=%{x}<br>count=%{marker.size}<extra></extra>",
           "hovertext": [
            "united states"
           ],
           "ids": [
            "united states"
           ],
           "legendgroup": "triangle",
           "marker": {
            "color": "#FFA15A",
            "size": [
             12
            ],
            "sizemode": "area",
            "sizeref": 0.6504,
            "symbol": "circle"
           },
           "mode": "markers",
           "name": "triangle",
           "orientation": "v",
           "showlegend": true,
           "type": "scatter",
           "x": [
            707
           ],
           "xaxis": "x",
           "y": [
            12
           ],
           "yaxis": "y"
          },
          {
           "hovertemplate": "<b>%{hovertext}</b><br><br>shape=disk<br>year=1976<br>index=%{x}<br>count=%{marker.size}<extra></extra>",
           "hovertext": [
            "united states"
           ],
           "ids": [
            "united states"
           ],
           "legendgroup": "disk",
           "marker": {
            "color": "#FF6692",
            "size": [
             35
            ],
            "sizemode": "area",
            "sizeref": 0.6504,
            "symbol": "circle"
           },
           "mode": "markers",
           "name": "disk",
           "orientation": "v",
           "showlegend": true,
           "type": "scatter",
           "x": [
            388
           ],
           "xaxis": "x",
           "y": [
            35
           ],
           "yaxis": "y"
          },
          {
           "hovertemplate": "<b>%{hovertext}</b><br><br>shape=formation<br>year=1976<br>index=%{x}<br>count=%{marker.size}<extra></extra>",
           "hovertext": [
            "canada"
           ],
           "ids": [
            "canada"
           ],
           "legendgroup": "formation",
           "marker": {
            "color": "#B6E880",
            "size": [
             1
            ],
            "sizemode": "area",
            "sizeref": 0.6504,
            "symbol": "circle"
           },
           "mode": "markers",
           "name": "formation",
           "orientation": "v",
           "showlegend": true,
           "type": "scatter",
           "x": [
            2229
           ],
           "xaxis": "x",
           "y": [
            1
           ],
           "yaxis": "y"
          },
          {
           "hovertemplate": "<b>%{hovertext}</b><br><br>shape=oval<br>year=1976<br>index=%{x}<br>count=%{marker.size}<extra></extra>",
           "hovertext": [
            "south africa"
           ],
           "ids": [
            "south africa"
           ],
           "legendgroup": "oval",
           "marker": {
            "color": "#FF97FF",
            "size": [
             1
            ],
            "sizemode": "area",
            "sizeref": 0.6504,
            "symbol": "circle"
           },
           "mode": "markers",
           "name": "oval",
           "orientation": "v",
           "showlegend": true,
           "type": "scatter",
           "x": [
            2205
           ],
           "xaxis": "x",
           "y": [
            1
           ],
           "yaxis": "y"
          }
         ],
         "name": "1976"
        },
        {
         "data": [
          {
           "hovertemplate": "<b>%{hovertext}</b><br><br>shape=light<br>year=1990<br>index=%{x}<br>count=%{marker.size}<extra></extra>",
           "hovertext": [
            "united states",
            "canada"
           ],
           "ids": [
            "united states",
            "canada"
           ],
           "legendgroup": "light",
           "marker": {
            "color": "#636efa",
            "size": [
             18,
             4
            ],
            "sizemode": "area",
            "sizeref": 0.6504,
            "symbol": "circle"
           },
           "mode": "markers",
           "name": "light",
           "orientation": "v",
           "showlegend": true,
           "type": "scatter",
           "x": [
            568,
            1182
           ],
           "xaxis": "x",
           "y": [
            18,
            4
           ],
           "yaxis": "y"
          },
          {
           "hovertemplate": "<b>%{hovertext}</b><br><br>shape=unknown<br>year=1990<br>index=%{x}<br>count=%{marker.size}<extra></extra>",
           "hovertext": [
            "united states",
            "puerto rico"
           ],
           "ids": [
            "united states",
            "puerto rico"
           ],
           "legendgroup": "unknown",
           "marker": {
            "color": "#EF553B",
            "size": [
             29,
             1
            ],
            "sizemode": "area",
            "sizeref": 0.6504,
            "symbol": "circle"
           },
           "mode": "markers",
           "name": "unknown",
           "orientation": "v",
           "showlegend": true,
           "type": "scatter",
           "x": [
            425,
            1974
           ],
           "xaxis": "x",
           "y": [
            29,
            1
           ],
           "yaxis": "y"
          },
          {
           "hovertemplate": "<b>%{hovertext}</b><br><br>shape=circle<br>year=1990<br>index=%{x}<br>count=%{marker.size}<extra></extra>",
           "hovertext": [
            "canada",
            "india",
            "peru"
           ],
           "ids": [
            "canada",
            "india",
            "peru"
           ],
           "legendgroup": "circle",
           "marker": {
            "color": "#00cc96",
            "size": [
             1,
             1,
             1
            ],
            "sizemode": "area",
            "sizeref": 0.6504,
            "symbol": "circle"
           },
           "mode": "markers",
           "name": "circle",
           "orientation": "v",
           "showlegend": true,
           "type": "scatter",
           "x": [
            1907,
            1911,
            1912
           ],
           "xaxis": "x",
           "y": [
            1,
            1,
            1
           ],
           "yaxis": "y"
          },
          {
           "hovertemplate": "<b>%{hovertext}</b><br><br>shape=triangle<br>year=1990<br>index=%{x}<br>count=%{marker.size}<extra></extra>",
           "hovertext": [
            "united states",
            "canada"
           ],
           "ids": [
            "united states",
            "canada"
           ],
           "legendgroup": "triangle",
           "marker": {
            "color": "#FFA15A",
            "size": [
             13,
             4
            ],
            "sizemode": "area",
            "sizeref": 0.6504,
            "symbol": "circle"
           },
           "mode": "markers",
           "name": "triangle",
           "orientation": "v",
           "showlegend": true,
           "type": "scatter",
           "x": [
            685,
            1090
           ],
           "xaxis": "x",
           "y": [
            13,
            4
           ],
           "yaxis": "y"
          },
          {
           "hovertemplate": "<b>%{hovertext}</b><br><br>shape=disk<br>year=1990<br>index=%{x}<br>count=%{marker.size}<extra></extra>",
           "hovertext": [
            "united states",
            "canada"
           ],
           "ids": [
            "united states",
            "canada"
           ],
           "legendgroup": "disk",
           "marker": {
            "color": "#FF6692",
            "size": [
             14,
             3
            ],
            "sizemode": "area",
            "sizeref": 0.6504,
            "symbol": "circle"
           },
           "mode": "markers",
           "name": "disk",
           "orientation": "v",
           "showlegend": true,
           "type": "scatter",
           "x": [
            663,
            1289
           ],
           "xaxis": "x",
           "y": [
            14,
            3
           ],
           "yaxis": "y"
          },
          {
           "hovertemplate": "<b>%{hovertext}</b><br><br>shape=oval<br>year=1990<br>index=%{x}<br>count=%{marker.size}<extra></extra>",
           "hovertext": [
            "united states"
           ],
           "ids": [
            "united states"
           ],
           "legendgroup": "oval",
           "marker": {
            "color": "#FF97FF",
            "size": [
             7
            ],
            "sizemode": "area",
            "sizeref": 0.6504,
            "symbol": "circle"
           },
           "mode": "markers",
           "name": "oval",
           "orientation": "v",
           "showlegend": true,
           "type": "scatter",
           "x": [
            897
           ],
           "xaxis": "x",
           "y": [
            7
           ],
           "yaxis": "y"
          },
          {
           "hovertemplate": "<b>%{hovertext}</b><br><br>shape=chevron<br>year=1990<br>index=%{x}<br>count=%{marker.size}<extra></extra>",
           "hovertext": [
            "canada"
           ],
           "ids": [
            "canada"
           ],
           "legendgroup": "chevron",
           "marker": {
            "color": "#FF6692",
            "size": [
             2
            ],
            "sizemode": "area",
            "sizeref": 0.6504,
            "symbol": "circle"
           },
           "mode": "markers",
           "name": "chevron",
           "orientation": "v",
           "showlegend": true,
           "type": "scatter",
           "x": [
            1733
           ],
           "xaxis": "x",
           "y": [
            2
           ],
           "yaxis": "y"
          },
          {
           "hovertemplate": "<b>%{hovertext}</b><br><br>shape=teardrop<br>year=1990<br>index=%{x}<br>count=%{marker.size}<extra></extra>",
           "hovertext": [
            "india"
           ],
           "ids": [
            "india"
           ],
           "legendgroup": "teardrop",
           "marker": {
            "color": "#FF97FF",
            "size": [
             1
            ],
            "sizemode": "area",
            "sizeref": 0.6504,
            "symbol": "circle"
           },
           "mode": "markers",
           "name": "teardrop",
           "orientation": "v",
           "showlegend": true,
           "type": "scatter",
           "x": [
            1993
           ],
           "xaxis": "x",
           "y": [
            1
           ],
           "yaxis": "y"
          }
         ],
         "name": "1990"
        },
        {
         "data": [
          {
           "hovertemplate": "<b>%{hovertext}</b><br><br>shape=light<br>year=1977<br>index=%{x}<br>count=%{marker.size}<extra></extra>",
           "hovertext": [
            "united states",
            "canada"
           ],
           "ids": [
            "united states",
            "canada"
           ],
           "legendgroup": "light",
           "marker": {
            "color": "#636efa",
            "size": [
             21,
             4
            ],
            "sizemode": "area",
            "sizeref": 0.6504,
            "symbol": "circle"
           },
           "mode": "markers",
           "name": "light",
           "orientation": "v",
           "showlegend": true,
           "type": "scatter",
           "x": [
            534,
            1128
           ],
           "xaxis": "x",
           "y": [
            21,
            4
           ],
           "yaxis": "y"
          },
          {
           "hovertemplate": "<b>%{hovertext}</b><br><br>shape=unknown<br>year=1977<br>index=%{x}<br>count=%{marker.size}<extra></extra>",
           "hovertext": [
            "united states",
            "canada",
            "india"
           ],
           "ids": [
            "united states",
            "canada",
            "india"
           ],
           "legendgroup": "unknown",
           "marker": {
            "color": "#EF553B",
            "size": [
             26,
             3,
             1
            ],
            "sizemode": "area",
            "sizeref": 0.6504,
            "symbol": "circle"
           },
           "mode": "markers",
           "name": "unknown",
           "orientation": "v",
           "showlegend": true,
           "type": "scatter",
           "x": [
            454,
            1261,
            2221
           ],
           "xaxis": "x",
           "y": [
            26,
            3,
            1
           ],
           "yaxis": "y"
          },
          {
           "hovertemplate": "<b>%{hovertext}</b><br><br>shape=circle<br>year=1977<br>index=%{x}<br>count=%{marker.size}<extra></extra>",
           "hovertext": [
            "united states"
           ],
           "ids": [
            "united states"
           ],
           "legendgroup": "circle",
           "marker": {
            "color": "#00cc96",
            "size": [
             17
            ],
            "sizemode": "area",
            "sizeref": 0.6504,
            "symbol": "circle"
           },
           "mode": "markers",
           "name": "circle",
           "orientation": "v",
           "showlegend": true,
           "type": "scatter",
           "x": [
            585
           ],
           "xaxis": "x",
           "y": [
            17
           ],
           "yaxis": "y"
          },
          {
           "hovertemplate": "<b>%{hovertext}</b><br><br>shape=triangle<br>year=1977<br>index=%{x}<br>count=%{marker.size}<extra></extra>",
           "hovertext": [
            "united states",
            "canada"
           ],
           "ids": [
            "united states",
            "canada"
           ],
           "legendgroup": "triangle",
           "marker": {
            "color": "#FFA15A",
            "size": [
             18,
             2
            ],
            "sizemode": "area",
            "sizeref": 0.6504,
            "symbol": "circle"
           },
           "mode": "markers",
           "name": "triangle",
           "orientation": "v",
           "showlegend": true,
           "type": "scatter",
           "x": [
            575,
            1697
           ],
           "xaxis": "x",
           "y": [
            18,
            2
           ],
           "yaxis": "y"
          },
          {
           "hovertemplate": "<b>%{hovertext}</b><br><br>shape=sphere<br>year=1977<br>index=%{x}<br>count=%{marker.size}<extra></extra>",
           "hovertext": [
            "canada"
           ],
           "ids": [
            "canada"
           ],
           "legendgroup": "sphere",
           "marker": {
            "color": "#19d3f3",
            "size": [
             2
            ],
            "sizemode": "area",
            "sizeref": 0.6504,
            "symbol": "circle"
           },
           "mode": "markers",
           "name": "sphere",
           "orientation": "v",
           "showlegend": true,
           "type": "scatter",
           "x": [
            1696
           ],
           "xaxis": "x",
           "y": [
            2
           ],
           "yaxis": "y"
          },
          {
           "hovertemplate": "<b>%{hovertext}</b><br><br>shape=disk<br>year=1977<br>index=%{x}<br>count=%{marker.size}<extra></extra>",
           "hovertext": [
            "united states",
            "india"
           ],
           "ids": [
            "united states",
            "india"
           ],
           "legendgroup": "disk",
           "marker": {
            "color": "#FF6692",
            "size": [
             29,
             1
            ],
            "sizemode": "area",
            "sizeref": 0.6504,
            "symbol": "circle"
           },
           "mode": "markers",
           "name": "disk",
           "orientation": "v",
           "showlegend": true,
           "type": "scatter",
           "x": [
            435,
            2212
           ],
           "xaxis": "x",
           "y": [
            29,
            1
           ],
           "yaxis": "y"
          },
          {
           "hovertemplate": "<b>%{hovertext}</b><br><br>shape=changed<br>year=1977<br>index=%{x}<br>count=%{marker.size}<extra></extra>",
           "hovertext": [
            "canada"
           ],
           "ids": [
            "canada"
           ],
           "legendgroup": "changed",
           "marker": {
            "color": "#00cc96",
            "size": [
             2
            ],
            "sizemode": "area",
            "sizeref": 0.6504,
            "symbol": "circle"
           },
           "mode": "markers",
           "name": "changed",
           "orientation": "v",
           "showlegend": true,
           "type": "scatter",
           "x": [
            1689
           ],
           "xaxis": "x",
           "y": [
            2
           ],
           "yaxis": "y"
          }
         ],
         "name": "1977"
        },
        {
         "data": [
          {
           "hovertemplate": "<b>%{hovertext}</b><br><br>shape=light<br>year=1978<br>index=%{x}<br>count=%{marker.size}<extra></extra>",
           "hovertext": [
            "united states",
            "canada"
           ],
           "ids": [
            "united states",
            "canada"
           ],
           "legendgroup": "light",
           "marker": {
            "color": "#636efa",
            "size": [
             21,
             2
            ],
            "sizemode": "area",
            "sizeref": 0.6504,
            "symbol": "circle"
           },
           "mode": "markers",
           "name": "light",
           "orientation": "v",
           "showlegend": true,
           "type": "scatter",
           "x": [
            527,
            1703
           ],
           "xaxis": "x",
           "y": [
            21,
            2
           ],
           "yaxis": "y"
          },
          {
           "hovertemplate": "<b>%{hovertext}</b><br><br>shape=unknown<br>year=1978<br>index=%{x}<br>count=%{marker.size}<extra></extra>",
           "hovertext": [
            "united states",
            "canada"
           ],
           "ids": [
            "united states",
            "canada"
           ],
           "legendgroup": "unknown",
           "marker": {
            "color": "#EF553B",
            "size": [
             24,
             4
            ],
            "sizemode": "area",
            "sizeref": 0.6504,
            "symbol": "circle"
           },
           "mode": "markers",
           "name": "unknown",
           "orientation": "v",
           "showlegend": true,
           "type": "scatter",
           "x": [
            479,
            1108
           ],
           "xaxis": "x",
           "y": [
            24,
            4
           ],
           "yaxis": "y"
          },
          {
           "hovertemplate": "<b>%{hovertext}</b><br><br>shape=circle<br>year=1978<br>index=%{x}<br>count=%{marker.size}<extra></extra>",
           "hovertext": [
            "united states",
            "canada"
           ],
           "ids": [
            "united states",
            "canada"
           ],
           "legendgroup": "circle",
           "marker": {
            "color": "#00cc96",
            "size": [
             15,
             2
            ],
            "sizemode": "area",
            "sizeref": 0.6504,
            "symbol": "circle"
           },
           "mode": "markers",
           "name": "circle",
           "orientation": "v",
           "showlegend": true,
           "type": "scatter",
           "x": [
            632,
            1700
           ],
           "xaxis": "x",
           "y": [
            15,
            2
           ],
           "yaxis": "y"
          },
          {
           "hovertemplate": "<b>%{hovertext}</b><br><br>shape=triangle<br>year=1978<br>index=%{x}<br>count=%{marker.size}<extra></extra>",
           "hovertext": [
            "united states",
            "lebanon"
           ],
           "ids": [
            "united states",
            "lebanon"
           ],
           "legendgroup": "triangle",
           "marker": {
            "color": "#FFA15A",
            "size": [
             14,
             1
            ],
            "sizemode": "area",
            "sizeref": 0.6504,
            "symbol": "circle"
           },
           "mode": "markers",
           "name": "triangle",
           "orientation": "v",
           "showlegend": true,
           "type": "scatter",
           "x": [
            642,
            2300
           ],
           "xaxis": "x",
           "y": [
            14,
            1
           ],
           "yaxis": "y"
          },
          {
           "hovertemplate": "<b>%{hovertext}</b><br><br>shape=sphere<br>year=1978<br>index=%{x}<br>count=%{marker.size}<extra></extra>",
           "hovertext": [
            "canada"
           ],
           "ids": [
            "canada"
           ],
           "legendgroup": "sphere",
           "marker": {
            "color": "#19d3f3",
            "size": [
             3
            ],
            "sizemode": "area",
            "sizeref": 0.6504,
            "symbol": "circle"
           },
           "mode": "markers",
           "name": "sphere",
           "orientation": "v",
           "showlegend": true,
           "type": "scatter",
           "x": [
            1269
           ],
           "xaxis": "x",
           "y": [
            3
           ],
           "yaxis": "y"
          },
          {
           "hovertemplate": "<b>%{hovertext}</b><br><br>shape=disk<br>year=1978<br>index=%{x}<br>count=%{marker.size}<extra></extra>",
           "hovertext": [
            "united states",
            "canada",
            "india"
           ],
           "ids": [
            "united states",
            "canada",
            "india"
           ],
           "legendgroup": "disk",
           "marker": {
            "color": "#FF6692",
            "size": [
             27,
             1,
             1
            ],
            "sizemode": "area",
            "sizeref": 0.6504,
            "symbol": "circle"
           },
           "mode": "markers",
           "name": "disk",
           "orientation": "v",
           "showlegend": true,
           "type": "scatter",
           "x": [
            443,
            2289,
            2290
           ],
           "xaxis": "x",
           "y": [
            27,
            1,
            1
           ],
           "yaxis": "y"
          },
          {
           "hovertemplate": "<b>%{hovertext}</b><br><br>shape=cylinder<br>year=1978<br>index=%{x}<br>count=%{marker.size}<extra></extra>",
           "hovertext": [
            "france"
           ],
           "ids": [
            "france"
           ],
           "legendgroup": "cylinder",
           "marker": {
            "color": "#ab63fa",
            "size": [
             1
            ],
            "sizemode": "area",
            "sizeref": 0.6504,
            "symbol": "circle"
           },
           "mode": "markers",
           "name": "cylinder",
           "orientation": "v",
           "showlegend": true,
           "type": "scatter",
           "x": [
            2256
           ],
           "xaxis": "x",
           "y": [
            1
           ],
           "yaxis": "y"
          },
          {
           "hovertemplate": "<b>%{hovertext}</b><br><br>shape=diamond<br>year=1978<br>index=%{x}<br>count=%{marker.size}<extra></extra>",
           "hovertext": [
            "georgia"
           ],
           "ids": [
            "georgia"
           ],
           "legendgroup": "diamond",
           "marker": {
            "color": "#19d3f3",
            "size": [
             1
            ],
            "sizemode": "area",
            "sizeref": 0.6504,
            "symbol": "circle"
           },
           "mode": "markers",
           "name": "diamond",
           "orientation": "v",
           "showlegend": true,
           "type": "scatter",
           "x": [
            2202
           ],
           "xaxis": "x",
           "y": [
            1
           ],
           "yaxis": "y"
          }
         ],
         "name": "1978"
        },
        {
         "data": [
          {
           "hovertemplate": "<b>%{hovertext}</b><br><br>shape=light<br>year=1988<br>index=%{x}<br>count=%{marker.size}<extra></extra>",
           "hovertext": [
            "united states",
            "canada"
           ],
           "ids": [
            "united states",
            "canada"
           ],
           "legendgroup": "light",
           "marker": {
            "color": "#636efa",
            "size": [
             13,
             1
            ],
            "sizemode": "area",
            "sizeref": 0.6504,
            "symbol": "circle"
           },
           "mode": "markers",
           "name": "light",
           "orientation": "v",
           "showlegend": true,
           "type": "scatter",
           "x": [
            684,
            2514
           ],
           "xaxis": "x",
           "y": [
            13,
            1
           ],
           "yaxis": "y"
          },
          {
           "hovertemplate": "<b>%{hovertext}</b><br><br>shape=unknown<br>year=1988<br>index=%{x}<br>count=%{marker.size}<extra></extra>",
           "hovertext": [
            "united states",
            "canada"
           ],
           "ids": [
            "united states",
            "canada"
           ],
           "legendgroup": "unknown",
           "marker": {
            "color": "#EF553B",
            "size": [
             27,
             2
            ],
            "sizemode": "area",
            "sizeref": 0.6504,
            "symbol": "circle"
           },
           "mode": "markers",
           "name": "unknown",
           "orientation": "v",
           "showlegend": true,
           "type": "scatter",
           "x": [
            447,
            1734
           ],
           "xaxis": "x",
           "y": [
            27,
            2
           ],
           "yaxis": "y"
          },
          {
           "hovertemplate": "<b>%{hovertext}</b><br><br>shape=circle<br>year=1988<br>index=%{x}<br>count=%{marker.size}<extra></extra>",
           "hovertext": [
            "united states"
           ],
           "ids": [
            "united states"
           ],
           "legendgroup": "circle",
           "marker": {
            "color": "#00cc96",
            "size": [
             16
            ],
            "sizemode": "area",
            "sizeref": 0.6504,
            "symbol": "circle"
           },
           "mode": "markers",
           "name": "circle",
           "orientation": "v",
           "showlegend": true,
           "type": "scatter",
           "x": [
            619
           ],
           "xaxis": "x",
           "y": [
            16
           ],
           "yaxis": "y"
          },
          {
           "hovertemplate": "<b>%{hovertext}</b><br><br>shape=triangle<br>year=1988<br>index=%{x}<br>count=%{marker.size}<extra></extra>",
           "hovertext": [
            "united states",
            "canada"
           ],
           "ids": [
            "united states",
            "canada"
           ],
           "legendgroup": "triangle",
           "marker": {
            "color": "#FFA15A",
            "size": [
             15,
             3
            ],
            "sizemode": "area",
            "sizeref": 0.6504,
            "symbol": "circle"
           },
           "mode": "markers",
           "name": "triangle",
           "orientation": "v",
           "showlegend": true,
           "type": "scatter",
           "x": [
            621,
            1309
           ],
           "xaxis": "x",
           "y": [
            15,
            3
           ],
           "yaxis": "y"
          },
          {
           "hovertemplate": "<b>%{hovertext}</b><br><br>shape=sphere<br>year=1988<br>index=%{x}<br>count=%{marker.size}<extra></extra>",
           "hovertext": [
            "canada"
           ],
           "ids": [
            "canada"
           ],
           "legendgroup": "sphere",
           "marker": {
            "color": "#19d3f3",
            "size": [
             4
            ],
            "sizemode": "area",
            "sizeref": 0.6504,
            "symbol": "circle"
           },
           "mode": "markers",
           "name": "sphere",
           "orientation": "v",
           "showlegend": true,
           "type": "scatter",
           "x": [
            1138
           ],
           "xaxis": "x",
           "y": [
            4
           ],
           "yaxis": "y"
          },
          {
           "hovertemplate": "<b>%{hovertext}</b><br><br>shape=disk<br>year=1988<br>index=%{x}<br>count=%{marker.size}<extra></extra>",
           "hovertext": [
            "united states"
           ],
           "ids": [
            "united states"
           ],
           "legendgroup": "disk",
           "marker": {
            "color": "#FF6692",
            "size": [
             11
            ],
            "sizemode": "area",
            "sizeref": 0.6504,
            "symbol": "circle"
           },
           "mode": "markers",
           "name": "disk",
           "orientation": "v",
           "showlegend": true,
           "type": "scatter",
           "x": [
            745
           ],
           "xaxis": "x",
           "y": [
            11
           ],
           "yaxis": "y"
          },
          {
           "hovertemplate": "<b>%{hovertext}</b><br><br>shape=oval<br>year=1988<br>index=%{x}<br>count=%{marker.size}<extra></extra>",
           "hovertext": [
            "canada",
            "india"
           ],
           "ids": [
            "canada",
            "india"
           ],
           "legendgroup": "oval",
           "marker": {
            "color": "#FF97FF",
            "size": [
             1,
             1
            ],
            "sizemode": "area",
            "sizeref": 0.6504,
            "symbol": "circle"
           },
           "mode": "markers",
           "name": "oval",
           "orientation": "v",
           "showlegend": true,
           "type": "scatter",
           "x": [
            2488,
            2490
           ],
           "xaxis": "x",
           "y": [
            1,
            1
           ],
           "yaxis": "y"
          },
          {
           "hovertemplate": "<b>%{hovertext}</b><br><br>shape=cone<br>year=1988<br>index=%{x}<br>count=%{marker.size}<extra></extra>",
           "hovertext": [
            "netherlands"
           ],
           "ids": [
            "netherlands"
           ],
           "legendgroup": "cone",
           "marker": {
            "color": "#B6E880",
            "size": [
             1
            ],
            "sizemode": "area",
            "sizeref": 0.6504,
            "symbol": "circle"
           },
           "mode": "markers",
           "name": "cone",
           "orientation": "v",
           "showlegend": true,
           "type": "scatter",
           "x": [
            2200
           ],
           "xaxis": "x",
           "y": [
            1
           ],
           "yaxis": "y"
          }
         ],
         "name": "1988"
        },
        {
         "data": [
          {
           "hovertemplate": "<b>%{hovertext}</b><br><br>shape=light<br>year=1987<br>index=%{x}<br>count=%{marker.size}<extra></extra>",
           "hovertext": [
            "united states",
            "canada",
            "india"
           ],
           "ids": [
            "united states",
            "canada",
            "india"
           ],
           "legendgroup": "light",
           "marker": {
            "color": "#636efa",
            "size": [
             21,
             2,
             1
            ],
            "sizemode": "area",
            "sizeref": 0.6504,
            "symbol": "circle"
           },
           "mode": "markers",
           "name": "light",
           "orientation": "v",
           "showlegend": true,
           "type": "scatter",
           "x": [
            524,
            1723,
            2520
           ],
           "xaxis": "x",
           "y": [
            21,
            2,
            1
           ],
           "yaxis": "y"
          },
          {
           "hovertemplate": "<b>%{hovertext}</b><br><br>shape=unknown<br>year=1987<br>index=%{x}<br>count=%{marker.size}<extra></extra>",
           "hovertext": [
            "united states",
            "canada"
           ],
           "ids": [
            "united states",
            "canada"
           ],
           "legendgroup": "unknown",
           "marker": {
            "color": "#EF553B",
            "size": [
             25,
             4
            ],
            "sizemode": "area",
            "sizeref": 0.6504,
            "symbol": "circle"
           },
           "mode": "markers",
           "name": "unknown",
           "orientation": "v",
           "showlegend": true,
           "type": "scatter",
           "x": [
            465,
            1193
           ],
           "xaxis": "x",
           "y": [
            25,
            4
           ],
           "yaxis": "y"
          },
          {
           "hovertemplate": "<b>%{hovertext}</b><br><br>shape=circle<br>year=1987<br>index=%{x}<br>count=%{marker.size}<extra></extra>",
           "hovertext": [
            "united states"
           ],
           "ids": [
            "united states"
           ],
           "legendgroup": "circle",
           "marker": {
            "color": "#00cc96",
            "size": [
             8
            ],
            "sizemode": "area",
            "sizeref": 0.6504,
            "symbol": "circle"
           },
           "mode": "markers",
           "name": "circle",
           "orientation": "v",
           "showlegend": true,
           "type": "scatter",
           "x": [
            810
           ],
           "xaxis": "x",
           "y": [
            8
           ],
           "yaxis": "y"
          },
          {
           "hovertemplate": "<b>%{hovertext}</b><br><br>shape=triangle<br>year=1987<br>index=%{x}<br>count=%{marker.size}<extra></extra>",
           "hovertext": [
            "united states",
            "canada"
           ],
           "ids": [
            "united states",
            "canada"
           ],
           "legendgroup": "triangle",
           "marker": {
            "color": "#FFA15A",
            "size": [
             9,
             2
            ],
            "sizemode": "area",
            "sizeref": 0.6504,
            "symbol": "circle"
           },
           "mode": "markers",
           "name": "triangle",
           "orientation": "v",
           "showlegend": true,
           "type": "scatter",
           "x": [
            792,
            1712
           ],
           "xaxis": "x",
           "y": [
            9,
            2
           ],
           "yaxis": "y"
          },
          {
           "hovertemplate": "<b>%{hovertext}</b><br><br>shape=disk<br>year=1987<br>index=%{x}<br>count=%{marker.size}<extra></extra>",
           "hovertext": [
            "united states",
            "canada"
           ],
           "ids": [
            "united states",
            "canada"
           ],
           "legendgroup": "disk",
           "marker": {
            "color": "#FF6692",
            "size": [
             14,
             3
            ],
            "sizemode": "area",
            "sizeref": 0.6504,
            "symbol": "circle"
           },
           "mode": "markers",
           "name": "disk",
           "orientation": "v",
           "showlegend": true,
           "type": "scatter",
           "x": [
            661,
            1311
           ],
           "xaxis": "x",
           "y": [
            14,
            3
           ],
           "yaxis": "y"
          },
          {
           "hovertemplate": "<b>%{hovertext}</b><br><br>shape=changed<br>year=1987<br>index=%{x}<br>count=%{marker.size}<extra></extra>",
           "hovertext": [
            "canada"
           ],
           "ids": [
            "canada"
           ],
           "legendgroup": "changed",
           "marker": {
            "color": "#00cc96",
            "size": [
             2
            ],
            "sizemode": "area",
            "sizeref": 0.6504,
            "symbol": "circle"
           },
           "mode": "markers",
           "name": "changed",
           "orientation": "v",
           "showlegend": true,
           "type": "scatter",
           "x": [
            1717
           ],
           "xaxis": "x",
           "y": [
            2
           ],
           "yaxis": "y"
          }
         ],
         "name": "1987"
        },
        {
         "data": [
          {
           "hovertemplate": "<b>%{hovertext}</b><br><br>shape=light<br>year=1993<br>index=%{x}<br>count=%{marker.size}<extra></extra>",
           "hovertext": [
            "united states"
           ],
           "ids": [
            "united states"
           ],
           "legendgroup": "light",
           "marker": {
            "color": "#636efa",
            "size": [
             19
            ],
            "sizemode": "area",
            "sizeref": 0.6504,
            "symbol": "circle"
           },
           "mode": "markers",
           "name": "light",
           "orientation": "v",
           "showlegend": true,
           "type": "scatter",
           "x": [
            552
           ],
           "xaxis": "x",
           "y": [
            19
           ],
           "yaxis": "y"
          },
          {
           "hovertemplate": "<b>%{hovertext}</b><br><br>shape=unknown<br>year=1993<br>index=%{x}<br>count=%{marker.size}<extra></extra>",
           "hovertext": [
            "united states",
            "canada",
            "puerto rico"
           ],
           "ids": [
            "united states",
            "canada",
            "puerto rico"
           ],
           "legendgroup": "unknown",
           "marker": {
            "color": "#EF553B",
            "size": [
             23,
             2,
             1
            ],
            "sizemode": "area",
            "sizeref": 0.6504,
            "symbol": "circle"
           },
           "mode": "markers",
           "name": "unknown",
           "orientation": "v",
           "showlegend": true,
           "type": "scatter",
           "x": [
            504,
            1677,
            2104
           ],
           "xaxis": "x",
           "y": [
            23,
            2,
            1
           ],
           "yaxis": "y"
          },
          {
           "hovertemplate": "<b>%{hovertext}</b><br><br>shape=circle<br>year=1993<br>index=%{x}<br>count=%{marker.size}<extra></extra>",
           "hovertext": [
            "united states",
            "india",
            "egypt"
           ],
           "ids": [
            "united states",
            "india",
            "egypt"
           ],
           "legendgroup": "circle",
           "marker": {
            "color": "#00cc96",
            "size": [
             10,
             1,
             1
            ],
            "sizemode": "area",
            "sizeref": 0.6504,
            "symbol": "circle"
           },
           "mode": "markers",
           "name": "circle",
           "orientation": "v",
           "showlegend": true,
           "type": "scatter",
           "x": [
            761,
            1841,
            1885
           ],
           "xaxis": "x",
           "y": [
            10,
            1,
            1
           ],
           "yaxis": "y"
          },
          {
           "hovertemplate": "<b>%{hovertext}</b><br><br>shape=triangle<br>year=1993<br>index=%{x}<br>count=%{marker.size}<extra></extra>",
           "hovertext": [
            "united states",
            "canada",
            "india"
           ],
           "ids": [
            "united states",
            "canada",
            "india"
           ],
           "legendgroup": "triangle",
           "marker": {
            "color": "#FFA15A",
            "size": [
             25,
             3,
             1
            ],
            "sizemode": "area",
            "sizeref": 0.6504,
            "symbol": "circle"
           },
           "mode": "markers",
           "name": "triangle",
           "orientation": "v",
           "showlegend": true,
           "type": "scatter",
           "x": [
            466,
            1356,
            2148
           ],
           "xaxis": "x",
           "y": [
            25,
            3,
            1
           ],
           "yaxis": "y"
          },
          {
           "hovertemplate": "<b>%{hovertext}</b><br><br>shape=sphere<br>year=1993<br>index=%{x}<br>count=%{marker.size}<extra></extra>",
           "hovertext": [
            "puerto rico"
           ],
           "ids": [
            "puerto rico"
           ],
           "legendgroup": "sphere",
           "marker": {
            "color": "#19d3f3",
            "size": [
             1
            ],
            "sizemode": "area",
            "sizeref": 0.6504,
            "symbol": "circle"
           },
           "mode": "markers",
           "name": "sphere",
           "orientation": "v",
           "showlegend": true,
           "type": "scatter",
           "x": [
            2147
           ],
           "xaxis": "x",
           "y": [
            1
           ],
           "yaxis": "y"
          },
          {
           "hovertemplate": "<b>%{hovertext}</b><br><br>shape=disk<br>year=1993<br>index=%{x}<br>count=%{marker.size}<extra></extra>",
           "hovertext": [
            "canada",
            "egypt"
           ],
           "ids": [
            "canada",
            "egypt"
           ],
           "legendgroup": "disk",
           "marker": {
            "color": "#FF6692",
            "size": [
             4,
             1
            ],
            "sizemode": "area",
            "sizeref": 0.6504,
            "symbol": "circle"
           },
           "mode": "markers",
           "name": "disk",
           "orientation": "v",
           "showlegend": true,
           "type": "scatter",
           "x": [
            1166,
            2129
           ],
           "xaxis": "x",
           "y": [
            4,
            1
           ],
           "yaxis": "y"
          },
          {
           "hovertemplate": "<b>%{hovertext}</b><br><br>shape=oval<br>year=1993<br>index=%{x}<br>count=%{marker.size}<extra></extra>",
           "hovertext": [
            "canada"
           ],
           "ids": [
            "canada"
           ],
           "legendgroup": "oval",
           "marker": {
            "color": "#FF97FF",
            "size": [
             2
            ],
            "sizemode": "area",
            "sizeref": 0.6504,
            "symbol": "circle"
           },
           "mode": "markers",
           "name": "oval",
           "orientation": "v",
           "showlegend": true,
           "type": "scatter",
           "x": [
            1751
           ],
           "xaxis": "x",
           "y": [
            2
           ],
           "yaxis": "y"
          },
          {
           "hovertemplate": "<b>%{hovertext}</b><br><br>shape=cigar<br>year=1993<br>index=%{x}<br>count=%{marker.size}<extra></extra>",
           "hovertext": [
            "united states",
            "canada"
           ],
           "ids": [
            "united states",
            "canada"
           ],
           "legendgroup": "cigar",
           "marker": {
            "color": "#FECB52",
            "size": [
             9,
             1
            ],
            "sizemode": "area",
            "sizeref": 0.6504,
            "symbol": "circle"
           },
           "mode": "markers",
           "name": "cigar",
           "orientation": "v",
           "showlegend": true,
           "type": "scatter",
           "x": [
            788,
            1861
           ],
           "xaxis": "x",
           "y": [
            9,
            1
           ],
           "yaxis": "y"
          }
         ],
         "name": "1993"
        },
        {
         "data": [
          {
           "hovertemplate": "<b>%{hovertext}</b><br><br>shape=light<br>year=1991<br>index=%{x}<br>count=%{marker.size}<extra></extra>",
           "hovertext": [
            "united states",
            "canada"
           ],
           "ids": [
            "united states",
            "canada"
           ],
           "legendgroup": "light",
           "marker": {
            "color": "#636efa",
            "size": [
             14,
             3
            ],
            "sizemode": "area",
            "sizeref": 0.6504,
            "symbol": "circle"
           },
           "mode": "markers",
           "name": "light",
           "orientation": "v",
           "showlegend": true,
           "type": "scatter",
           "x": [
            656,
            1379
           ],
           "xaxis": "x",
           "y": [
            14,
            3
           ],
           "yaxis": "y"
          },
          {
           "hovertemplate": "<b>%{hovertext}</b><br><br>shape=unknown<br>year=1991<br>index=%{x}<br>count=%{marker.size}<extra></extra>",
           "hovertext": [
            "united states",
            "canada"
           ],
           "ids": [
            "united states",
            "canada"
           ],
           "legendgroup": "unknown",
           "marker": {
            "color": "#EF553B",
            "size": [
             15,
             4
            ],
            "sizemode": "area",
            "sizeref": 0.6504,
            "symbol": "circle"
           },
           "mode": "markers",
           "name": "unknown",
           "orientation": "v",
           "showlegend": true,
           "type": "scatter",
           "x": [
            633,
            1174
           ],
           "xaxis": "x",
           "y": [
            15,
            4
           ],
           "yaxis": "y"
          },
          {
           "hovertemplate": "<b>%{hovertext}</b><br><br>shape=circle<br>year=1991<br>index=%{x}<br>count=%{marker.size}<extra></extra>",
           "hovertext": [
            "united states"
           ],
           "ids": [
            "united states"
           ],
           "legendgroup": "circle",
           "marker": {
            "color": "#00cc96",
            "size": [
             10
            ],
            "sizemode": "area",
            "sizeref": 0.6504,
            "symbol": "circle"
           },
           "mode": "markers",
           "name": "circle",
           "orientation": "v",
           "showlegend": true,
           "type": "scatter",
           "x": [
            771
           ],
           "xaxis": "x",
           "y": [
            10
           ],
           "yaxis": "y"
          },
          {
           "hovertemplate": "<b>%{hovertext}</b><br><br>shape=triangle<br>year=1991<br>index=%{x}<br>count=%{marker.size}<extra></extra>",
           "hovertext": [
            "united states",
            "canada"
           ],
           "ids": [
            "united states",
            "canada"
           ],
           "legendgroup": "triangle",
           "marker": {
            "color": "#FFA15A",
            "size": [
             25,
             2
            ],
            "sizemode": "area",
            "sizeref": 0.6504,
            "symbol": "circle"
           },
           "mode": "markers",
           "name": "triangle",
           "orientation": "v",
           "showlegend": true,
           "type": "scatter",
           "x": [
            474,
            1773
           ],
           "xaxis": "x",
           "y": [
            25,
            2
           ],
           "yaxis": "y"
          },
          {
           "hovertemplate": "<b>%{hovertext}</b><br><br>shape=sphere<br>year=1991<br>index=%{x}<br>count=%{marker.size}<extra></extra>",
           "hovertext": [
            "canada"
           ],
           "ids": [
            "canada"
           ],
           "legendgroup": "sphere",
           "marker": {
            "color": "#19d3f3",
            "size": [
             1
            ],
            "sizemode": "area",
            "sizeref": 0.6504,
            "symbol": "circle"
           },
           "mode": "markers",
           "name": "sphere",
           "orientation": "v",
           "showlegend": true,
           "type": "scatter",
           "x": [
            1821
           ],
           "xaxis": "x",
           "y": [
            1
           ],
           "yaxis": "y"
          },
          {
           "hovertemplate": "<b>%{hovertext}</b><br><br>shape=disk<br>year=1991<br>index=%{x}<br>count=%{marker.size}<extra></extra>",
           "hovertext": [
            "united states",
            "peru"
           ],
           "ids": [
            "united states",
            "peru"
           ],
           "legendgroup": "disk",
           "marker": {
            "color": "#FF6692",
            "size": [
             18,
             1
            ],
            "sizemode": "area",
            "sizeref": 0.6504,
            "symbol": "circle"
           },
           "mode": "markers",
           "name": "disk",
           "orientation": "v",
           "showlegend": true,
           "type": "scatter",
           "x": [
            571,
            1968
           ],
           "xaxis": "x",
           "y": [
            18,
            1
           ],
           "yaxis": "y"
          },
          {
           "hovertemplate": "<b>%{hovertext}</b><br><br>shape=oval<br>year=1991<br>index=%{x}<br>count=%{marker.size}<extra></extra>",
           "hovertext": [
            "oman"
           ],
           "ids": [
            "oman"
           ],
           "legendgroup": "oval",
           "marker": {
            "color": "#FF97FF",
            "size": [
             1
            ],
            "sizemode": "area",
            "sizeref": 0.6504,
            "symbol": "circle"
           },
           "mode": "markers",
           "name": "oval",
           "orientation": "v",
           "showlegend": true,
           "type": "scatter",
           "x": [
            1822
           ],
           "xaxis": "x",
           "y": [
            1
           ],
           "yaxis": "y"
          },
          {
           "hovertemplate": "<b>%{hovertext}</b><br><br>shape=rectangle<br>year=1991<br>index=%{x}<br>count=%{marker.size}<extra></extra>",
           "hovertext": [
            "canada"
           ],
           "ids": [
            "canada"
           ],
           "legendgroup": "rectangle",
           "marker": {
            "color": "#EF553B",
            "size": [
             3
            ],
            "sizemode": "area",
            "sizeref": 0.6504,
            "symbol": "circle"
           },
           "mode": "markers",
           "name": "rectangle",
           "orientation": "v",
           "showlegend": true,
           "type": "scatter",
           "x": [
            1257
           ],
           "xaxis": "x",
           "y": [
            3
           ],
           "yaxis": "y"
          },
          {
           "hovertemplate": "<b>%{hovertext}</b><br><br>shape=egg<br>year=1991<br>index=%{x}<br>count=%{marker.size}<extra></extra>",
           "hovertext": [
            "peru"
           ],
           "ids": [
            "peru"
           ],
           "legendgroup": "egg",
           "marker": {
            "color": "#FFA15A",
            "size": [
             1
            ],
            "sizemode": "area",
            "sizeref": 0.6504,
            "symbol": "circle"
           },
           "mode": "markers",
           "name": "egg",
           "orientation": "v",
           "showlegend": true,
           "type": "scatter",
           "x": [
            1971
           ],
           "xaxis": "x",
           "y": [
            1
           ],
           "yaxis": "y"
          }
         ],
         "name": "1991"
        },
        {
         "data": [
          {
           "hovertemplate": "<b>%{hovertext}</b><br><br>shape=light<br>year=1980<br>index=%{x}<br>count=%{marker.size}<extra></extra>",
           "hovertext": [
            "united states",
            "canada",
            "india"
           ],
           "ids": [
            "united states",
            "canada",
            "india"
           ],
           "legendgroup": "light",
           "marker": {
            "color": "#636efa",
            "size": [
             17,
             2,
             1
            ],
            "sizemode": "area",
            "sizeref": 0.6504,
            "symbol": "circle"
           },
           "mode": "markers",
           "name": "light",
           "orientation": "v",
           "showlegend": true,
           "type": "scatter",
           "x": [
            581,
            1656,
            2271
           ],
           "xaxis": "x",
           "y": [
            17,
            2,
            1
           ],
           "yaxis": "y"
          },
          {
           "hovertemplate": "<b>%{hovertext}</b><br><br>shape=unknown<br>year=1980<br>index=%{x}<br>count=%{marker.size}<extra></extra>",
           "hovertext": [
            "united states"
           ],
           "ids": [
            "united states"
           ],
           "legendgroup": "unknown",
           "marker": {
            "color": "#EF553B",
            "size": [
             23
            ],
            "sizemode": "area",
            "sizeref": 0.6504,
            "symbol": "circle"
           },
           "mode": "markers",
           "name": "unknown",
           "orientation": "v",
           "showlegend": true,
           "type": "scatter",
           "x": [
            494
           ],
           "xaxis": "x",
           "y": [
            23
           ],
           "yaxis": "y"
          },
          {
           "hovertemplate": "<b>%{hovertext}</b><br><br>shape=circle<br>year=1980<br>index=%{x}<br>count=%{marker.size}<extra></extra>",
           "hovertext": [
            "united states",
            "canada"
           ],
           "ids": [
            "united states",
            "canada"
           ],
           "legendgroup": "circle",
           "marker": {
            "color": "#00cc96",
            "size": [
             9,
             3
            ],
            "sizemode": "area",
            "sizeref": 0.6504,
            "symbol": "circle"
           },
           "mode": "markers",
           "name": "circle",
           "orientation": "v",
           "showlegend": true,
           "type": "scatter",
           "x": [
            800,
            1368
           ],
           "xaxis": "x",
           "y": [
            9,
            3
           ],
           "yaxis": "y"
          },
          {
           "hovertemplate": "<b>%{hovertext}</b><br><br>shape=triangle<br>year=1980<br>index=%{x}<br>count=%{marker.size}<extra></extra>",
           "hovertext": [
            "united states"
           ],
           "ids": [
            "united states"
           ],
           "legendgroup": "triangle",
           "marker": {
            "color": "#FFA15A",
            "size": [
             14
            ],
            "sizemode": "area",
            "sizeref": 0.6504,
            "symbol": "circle"
           },
           "mode": "markers",
           "name": "triangle",
           "orientation": "v",
           "showlegend": true,
           "type": "scatter",
           "x": [
            651
           ],
           "xaxis": "x",
           "y": [
            14
           ],
           "yaxis": "y"
          },
          {
           "hovertemplate": "<b>%{hovertext}</b><br><br>shape=sphere<br>year=1980<br>index=%{x}<br>count=%{marker.size}<extra></extra>",
           "hovertext": [
            "canada"
           ],
           "ids": [
            "canada"
           ],
           "legendgroup": "sphere",
           "marker": {
            "color": "#19d3f3",
            "size": [
             1
            ],
            "sizemode": "area",
            "sizeref": 0.6504,
            "symbol": "circle"
           },
           "mode": "markers",
           "name": "sphere",
           "orientation": "v",
           "showlegend": true,
           "type": "scatter",
           "x": [
            2272
           ],
           "xaxis": "x",
           "y": [
            1
           ],
           "yaxis": "y"
          },
          {
           "hovertemplate": "<b>%{hovertext}</b><br><br>shape=disk<br>year=1980<br>index=%{x}<br>count=%{marker.size}<extra></extra>",
           "hovertext": [
            "united states",
            "canada",
            "australia"
           ],
           "ids": [
            "united states",
            "canada",
            "australia"
           ],
           "legendgroup": "disk",
           "marker": {
            "color": "#FF6692",
            "size": [
             24,
             2,
             1
            ],
            "sizemode": "area",
            "sizeref": 0.6504,
            "symbol": "circle"
           },
           "mode": "markers",
           "name": "disk",
           "orientation": "v",
           "showlegend": true,
           "type": "scatter",
           "x": [
            483,
            1650,
            2262
           ],
           "xaxis": "x",
           "y": [
            24,
            2,
            1
           ],
           "yaxis": "y"
          },
          {
           "hovertemplate": "<b>%{hovertext}</b><br><br>shape=formation<br>year=1980<br>index=%{x}<br>count=%{marker.size}<extra></extra>",
           "hovertext": [
            "canada"
           ],
           "ids": [
            "canada"
           ],
           "legendgroup": "formation",
           "marker": {
            "color": "#B6E880",
            "size": [
             1
            ],
            "sizemode": "area",
            "sizeref": 0.6504,
            "symbol": "circle"
           },
           "mode": "markers",
           "name": "formation",
           "orientation": "v",
           "showlegend": true,
           "type": "scatter",
           "x": [
            2267
           ],
           "xaxis": "x",
           "y": [
            1
           ],
           "yaxis": "y"
          },
          {
           "hovertemplate": "<b>%{hovertext}</b><br><br>shape=cigar<br>year=1980<br>index=%{x}<br>count=%{marker.size}<extra></extra>",
           "hovertext": [
            "jersey"
           ],
           "ids": [
            "jersey"
           ],
           "legendgroup": "cigar",
           "marker": {
            "color": "#FECB52",
            "size": [
             1
            ],
            "sizemode": "area",
            "sizeref": 0.6504,
            "symbol": "circle"
           },
           "mode": "markers",
           "name": "cigar",
           "orientation": "v",
           "showlegend": true,
           "type": "scatter",
           "x": [
            2260
           ],
           "xaxis": "x",
           "y": [
            1
           ],
           "yaxis": "y"
          },
          {
           "hovertemplate": "<b>%{hovertext}</b><br><br>shape=egg<br>year=1980<br>index=%{x}<br>count=%{marker.size}<extra></extra>",
           "hovertext": [
            "puerto rico"
           ],
           "ids": [
            "puerto rico"
           ],
           "legendgroup": "egg",
           "marker": {
            "color": "#FFA15A",
            "size": [
             1
            ],
            "sizemode": "area",
            "sizeref": 0.6504,
            "symbol": "circle"
           },
           "mode": "markers",
           "name": "egg",
           "orientation": "v",
           "showlegend": true,
           "type": "scatter",
           "x": [
            2264
           ],
           "xaxis": "x",
           "y": [
            1
           ],
           "yaxis": "y"
          }
         ],
         "name": "1980"
        },
        {
         "data": [
          {
           "hovertemplate": "<b>%{hovertext}</b><br><br>shape=light<br>year=1989<br>index=%{x}<br>count=%{marker.size}<extra></extra>",
           "hovertext": [
            "united states"
           ],
           "ids": [
            "united states"
           ],
           "legendgroup": "light",
           "marker": {
            "color": "#636efa",
            "size": [
             14
            ],
            "sizemode": "area",
            "sizeref": 0.6504,
            "symbol": "circle"
           },
           "mode": "markers",
           "name": "light",
           "orientation": "v",
           "showlegend": true,
           "type": "scatter",
           "x": [
            646
           ],
           "xaxis": "x",
           "y": [
            14
           ],
           "yaxis": "y"
          },
          {
           "hovertemplate": "<b>%{hovertext}</b><br><br>shape=unknown<br>year=1989<br>index=%{x}<br>count=%{marker.size}<extra></extra>",
           "hovertext": [
            "united states",
            "canada",
            "puerto rico"
           ],
           "ids": [
            "united states",
            "canada",
            "puerto rico"
           ],
           "legendgroup": "unknown",
           "marker": {
            "color": "#EF553B",
            "size": [
             22,
             1,
             1
            ],
            "sizemode": "area",
            "sizeref": 0.6504,
            "symbol": "circle"
           },
           "mode": "markers",
           "name": "unknown",
           "orientation": "v",
           "showlegend": true,
           "type": "scatter",
           "x": [
            514,
            1935,
            1948
           ],
           "xaxis": "x",
           "y": [
            22,
            1,
            1
           ],
           "yaxis": "y"
          },
          {
           "hovertemplate": "<b>%{hovertext}</b><br><br>shape=triangle<br>year=1989<br>index=%{x}<br>count=%{marker.size}<extra></extra>",
           "hovertext": [
            "united states",
            "canada"
           ],
           "ids": [
            "united states",
            "canada"
           ],
           "legendgroup": "triangle",
           "marker": {
            "color": "#FFA15A",
            "size": [
             24,
             2
            ],
            "sizemode": "area",
            "sizeref": 0.6504,
            "symbol": "circle"
           },
           "mode": "markers",
           "name": "triangle",
           "orientation": "v",
           "showlegend": true,
           "type": "scatter",
           "x": [
            488,
            1742
           ],
           "xaxis": "x",
           "y": [
            24,
            2
           ],
           "yaxis": "y"
          },
          {
           "hovertemplate": "<b>%{hovertext}</b><br><br>shape=sphere<br>year=1989<br>index=%{x}<br>count=%{marker.size}<extra></extra>",
           "hovertext": [
            "united states",
            "mexico"
           ],
           "ids": [
            "united states",
            "mexico"
           ],
           "legendgroup": "sphere",
           "marker": {
            "color": "#19d3f3",
            "size": [
             12,
             1
            ],
            "sizemode": "area",
            "sizeref": 0.6504,
            "symbol": "circle"
           },
           "mode": "markers",
           "name": "sphere",
           "orientation": "v",
           "showlegend": true,
           "type": "scatter",
           "x": [
            717,
            1932
           ],
           "xaxis": "x",
           "y": [
            12,
            1
           ],
           "yaxis": "y"
          },
          {
           "hovertemplate": "<b>%{hovertext}</b><br><br>shape=disk<br>year=1989<br>index=%{x}<br>count=%{marker.size}<extra></extra>",
           "hovertext": [
            "united states"
           ],
           "ids": [
            "united states"
           ],
           "legendgroup": "disk",
           "marker": {
            "color": "#FF6692",
            "size": [
             16
            ],
            "sizemode": "area",
            "sizeref": 0.6504,
            "symbol": "circle"
           },
           "mode": "markers",
           "name": "disk",
           "orientation": "v",
           "showlegend": true,
           "type": "scatter",
           "x": [
            596
           ],
           "xaxis": "x",
           "y": [
            16
           ],
           "yaxis": "y"
          },
          {
           "hovertemplate": "<b>%{hovertext}</b><br><br>shape=oval<br>year=1989<br>index=%{x}<br>count=%{marker.size}<extra></extra>",
           "hovertext": [
            "canada"
           ],
           "ids": [
            "canada"
           ],
           "legendgroup": "oval",
           "marker": {
            "color": "#FF97FF",
            "size": [
             1
            ],
            "sizemode": "area",
            "sizeref": 0.6504,
            "symbol": "circle"
           },
           "mode": "markers",
           "name": "oval",
           "orientation": "v",
           "showlegend": true,
           "type": "scatter",
           "x": [
            1928
           ],
           "xaxis": "x",
           "y": [
            1
           ],
           "yaxis": "y"
          },
          {
           "hovertemplate": "<b>%{hovertext}</b><br><br>shape=cigar<br>year=1989<br>index=%{x}<br>count=%{marker.size}<extra></extra>",
           "hovertext": [
            "canada"
           ],
           "ids": [
            "canada"
           ],
           "legendgroup": "cigar",
           "marker": {
            "color": "#FECB52",
            "size": [
             2
            ],
            "sizemode": "area",
            "sizeref": 0.6504,
            "symbol": "circle"
           },
           "mode": "markers",
           "name": "cigar",
           "orientation": "v",
           "showlegend": true,
           "type": "scatter",
           "x": [
            1738
           ],
           "xaxis": "x",
           "y": [
            2
           ],
           "yaxis": "y"
          },
          {
           "hovertemplate": "<b>%{hovertext}</b><br><br>shape=rectangle<br>year=1989<br>index=%{x}<br>count=%{marker.size}<extra></extra>",
           "hovertext": [
            "canada"
           ],
           "ids": [
            "canada"
           ],
           "legendgroup": "rectangle",
           "marker": {
            "color": "#EF553B",
            "size": [
             1
            ],
            "sizemode": "area",
            "sizeref": 0.6504,
            "symbol": "circle"
           },
           "mode": "markers",
           "name": "rectangle",
           "orientation": "v",
           "showlegend": true,
           "type": "scatter",
           "x": [
            1929
           ],
           "xaxis": "x",
           "y": [
            1
           ],
           "yaxis": "y"
          }
         ],
         "name": "1989"
        },
        {
         "data": [
          {
           "hovertemplate": "<b>%{hovertext}</b><br><br>shape=light<br>year=1984<br>index=%{x}<br>count=%{marker.size}<extra></extra>",
           "hovertext": [
            "united states",
            "canada"
           ],
           "ids": [
            "united states",
            "canada"
           ],
           "legendgroup": "light",
           "marker": {
            "color": "#636efa",
            "size": [
             11,
             2
            ],
            "sizemode": "area",
            "sizeref": 0.6504,
            "symbol": "circle"
           },
           "mode": "markers",
           "name": "light",
           "orientation": "v",
           "showlegend": true,
           "type": "scatter",
           "x": [
            736,
            1758
           ],
           "xaxis": "x",
           "y": [
            11,
            2
           ],
           "yaxis": "y"
          },
          {
           "hovertemplate": "<b>%{hovertext}</b><br><br>shape=unknown<br>year=1984<br>index=%{x}<br>count=%{marker.size}<extra></extra>",
           "hovertext": [
            "united states",
            "canada",
            "denmark"
           ],
           "ids": [
            "united states",
            "canada",
            "denmark"
           ],
           "legendgroup": "unknown",
           "marker": {
            "color": "#EF553B",
            "size": [
             23,
             3,
             1
            ],
            "sizemode": "area",
            "sizeref": 0.6504,
            "symbol": "circle"
           },
           "mode": "markers",
           "name": "unknown",
           "orientation": "v",
           "showlegend": true,
           "type": "scatter",
           "x": [
            491,
            1277,
            2601
           ],
           "xaxis": "x",
           "y": [
            23,
            3,
            1
           ],
           "yaxis": "y"
          },
          {
           "hovertemplate": "<b>%{hovertext}</b><br><br>shape=circle<br>year=1984<br>index=%{x}<br>count=%{marker.size}<extra></extra>",
           "hovertext": [
            "united states"
           ],
           "ids": [
            "united states"
           ],
           "legendgroup": "circle",
           "marker": {
            "color": "#00cc96",
            "size": [
             9
            ],
            "sizemode": "area",
            "sizeref": 0.6504,
            "symbol": "circle"
           },
           "mode": "markers",
           "name": "circle",
           "orientation": "v",
           "showlegend": true,
           "type": "scatter",
           "x": [
            795
           ],
           "xaxis": "x",
           "y": [
            9
           ],
           "yaxis": "y"
          },
          {
           "hovertemplate": "<b>%{hovertext}</b><br><br>shape=triangle<br>year=1984<br>index=%{x}<br>count=%{marker.size}<extra></extra>",
           "hovertext": [
            "united states"
           ],
           "ids": [
            "united states"
           ],
           "legendgroup": "triangle",
           "marker": {
            "color": "#FFA15A",
            "size": [
             13
            ],
            "sizemode": "area",
            "sizeref": 0.6504,
            "symbol": "circle"
           },
           "mode": "markers",
           "name": "triangle",
           "orientation": "v",
           "showlegend": true,
           "type": "scatter",
           "x": [
            689
           ],
           "xaxis": "x",
           "y": [
            13
           ],
           "yaxis": "y"
          },
          {
           "hovertemplate": "<b>%{hovertext}</b><br><br>shape=sphere<br>year=1984<br>index=%{x}<br>count=%{marker.size}<extra></extra>",
           "hovertext": [
            "canada"
           ],
           "ids": [
            "canada"
           ],
           "legendgroup": "sphere",
           "marker": {
            "color": "#19d3f3",
            "size": [
             3
            ],
            "sizemode": "area",
            "sizeref": 0.6504,
            "symbol": "circle"
           },
           "mode": "markers",
           "name": "sphere",
           "orientation": "v",
           "showlegend": true,
           "type": "scatter",
           "x": [
            1273
           ],
           "xaxis": "x",
           "y": [
            3
           ],
           "yaxis": "y"
          },
          {
           "hovertemplate": "<b>%{hovertext}</b><br><br>shape=disk<br>year=1984<br>index=%{x}<br>count=%{marker.size}<extra></extra>",
           "hovertext": [
            "united states",
            "canada"
           ],
           "ids": [
            "united states",
            "canada"
           ],
           "legendgroup": "disk",
           "marker": {
            "color": "#FF6692",
            "size": [
             8,
             3
            ],
            "sizemode": "area",
            "sizeref": 0.6504,
            "symbol": "circle"
           },
           "mode": "markers",
           "name": "disk",
           "orientation": "v",
           "showlegend": true,
           "type": "scatter",
           "x": [
            842,
            1287
           ],
           "xaxis": "x",
           "y": [
            8,
            3
           ],
           "yaxis": "y"
          },
          {
           "hovertemplate": "<b>%{hovertext}</b><br><br>shape=oval<br>year=1984<br>index=%{x}<br>count=%{marker.size}<extra></extra>",
           "hovertext": [
            "canada"
           ],
           "ids": [
            "canada"
           ],
           "legendgroup": "oval",
           "marker": {
            "color": "#FF97FF",
            "size": [
             1
            ],
            "sizemode": "area",
            "sizeref": 0.6504,
            "symbol": "circle"
           },
           "mode": "markers",
           "name": "oval",
           "orientation": "v",
           "showlegend": true,
           "type": "scatter",
           "x": [
            2613
           ],
           "xaxis": "x",
           "y": [
            1
           ],
           "yaxis": "y"
          }
         ],
         "name": "1984"
        },
        {
         "data": [
          {
           "hovertemplate": "<b>%{hovertext}</b><br><br>shape=light<br>year=1983<br>index=%{x}<br>count=%{marker.size}<extra></extra>",
           "hovertext": [
            "canada"
           ],
           "ids": [
            "canada"
           ],
           "legendgroup": "light",
           "marker": {
            "color": "#636efa",
            "size": [
             1
            ],
            "sizemode": "area",
            "sizeref": 0.6504,
            "symbol": "circle"
           },
           "mode": "markers",
           "name": "light",
           "orientation": "v",
           "showlegend": true,
           "type": "scatter",
           "x": [
            2566
           ],
           "xaxis": "x",
           "y": [
            1
           ],
           "yaxis": "y"
          },
          {
           "hovertemplate": "<b>%{hovertext}</b><br><br>shape=unknown<br>year=1983<br>index=%{x}<br>count=%{marker.size}<extra></extra>",
           "hovertext": [
            "united states",
            "india",
            "canada"
           ],
           "ids": [
            "united states",
            "india",
            "canada"
           ],
           "legendgroup": "unknown",
           "marker": {
            "color": "#EF553B",
            "size": [
             23,
             2,
             1
            ],
            "sizemode": "area",
            "sizeref": 0.6504,
            "symbol": "circle"
           },
           "mode": "markers",
           "name": "unknown",
           "orientation": "v",
           "showlegend": true,
           "type": "scatter",
           "x": [
            499,
            1755,
            2628
           ],
           "xaxis": "x",
           "y": [
            23,
            2,
            1
           ],
           "yaxis": "y"
          },
          {
           "hovertemplate": "<b>%{hovertext}</b><br><br>shape=circle<br>year=1983<br>index=%{x}<br>count=%{marker.size}<extra></extra>",
           "hovertext": [
            "puerto rico"
           ],
           "ids": [
            "puerto rico"
           ],
           "legendgroup": "circle",
           "marker": {
            "color": "#00cc96",
            "size": [
             1
            ],
            "sizemode": "area",
            "sizeref": 0.6504,
            "symbol": "circle"
           },
           "mode": "markers",
           "name": "circle",
           "orientation": "v",
           "showlegend": true,
           "type": "scatter",
           "x": [
            2550
           ],
           "xaxis": "x",
           "y": [
            1
           ],
           "yaxis": "y"
          },
          {
           "hovertemplate": "<b>%{hovertext}</b><br><br>shape=triangle<br>year=1983<br>index=%{x}<br>count=%{marker.size}<extra></extra>",
           "hovertext": [
            "united states"
           ],
           "ids": [
            "united states"
           ],
           "legendgroup": "triangle",
           "marker": {
            "color": "#FFA15A",
            "size": [
             16
            ],
            "sizemode": "area",
            "sizeref": 0.6504,
            "symbol": "circle"
           },
           "mode": "markers",
           "name": "triangle",
           "orientation": "v",
           "showlegend": true,
           "type": "scatter",
           "x": [
            597
           ],
           "xaxis": "x",
           "y": [
            16
           ],
           "yaxis": "y"
          },
          {
           "hovertemplate": "<b>%{hovertext}</b><br><br>shape=sphere<br>year=1983<br>index=%{x}<br>count=%{marker.size}<extra></extra>",
           "hovertext": [
            "united states"
           ],
           "ids": [
            "united states"
           ],
           "legendgroup": "sphere",
           "marker": {
            "color": "#19d3f3",
            "size": [
             7
            ],
            "sizemode": "area",
            "sizeref": 0.6504,
            "symbol": "circle"
           },
           "mode": "markers",
           "name": "sphere",
           "orientation": "v",
           "showlegend": true,
           "type": "scatter",
           "x": [
            892
           ],
           "xaxis": "x",
           "y": [
            7
           ],
           "yaxis": "y"
          },
          {
           "hovertemplate": "<b>%{hovertext}</b><br><br>shape=disk<br>year=1983<br>index=%{x}<br>count=%{marker.size}<extra></extra>",
           "hovertext": [
            "united states",
            "canada"
           ],
           "ids": [
            "united states",
            "canada"
           ],
           "legendgroup": "disk",
           "marker": {
            "color": "#FF6692",
            "size": [
             13,
             1
            ],
            "sizemode": "area",
            "sizeref": 0.6504,
            "symbol": "circle"
           },
           "mode": "markers",
           "name": "disk",
           "orientation": "v",
           "showlegend": true,
           "type": "scatter",
           "x": [
            680,
            2559
           ],
           "xaxis": "x",
           "y": [
            13,
            1
           ],
           "yaxis": "y"
          },
          {
           "hovertemplate": "<b>%{hovertext}</b><br><br>shape=formation<br>year=1983<br>index=%{x}<br>count=%{marker.size}<extra></extra>",
           "hovertext": [
            "canada"
           ],
           "ids": [
            "canada"
           ],
           "legendgroup": "formation",
           "marker": {
            "color": "#B6E880",
            "size": [
             2
            ],
            "sizemode": "area",
            "sizeref": 0.6504,
            "symbol": "circle"
           },
           "mode": "markers",
           "name": "formation",
           "orientation": "v",
           "showlegend": true,
           "type": "scatter",
           "x": [
            1749
           ],
           "xaxis": "x",
           "y": [
            2
           ],
           "yaxis": "y"
          },
          {
           "hovertemplate": "<b>%{hovertext}</b><br><br>shape=oval<br>year=1983<br>index=%{x}<br>count=%{marker.size}<extra></extra>",
           "hovertext": [
            "united states"
           ],
           "ids": [
            "united states"
           ],
           "legendgroup": "oval",
           "marker": {
            "color": "#FF97FF",
            "size": [
             7
            ],
            "sizemode": "area",
            "sizeref": 0.6504,
            "symbol": "circle"
           },
           "mode": "markers",
           "name": "oval",
           "orientation": "v",
           "showlegend": true,
           "type": "scatter",
           "x": [
            891
           ],
           "xaxis": "x",
           "y": [
            7
           ],
           "yaxis": "y"
          },
          {
           "hovertemplate": "<b>%{hovertext}</b><br><br>shape=cigar<br>year=1983<br>index=%{x}<br>count=%{marker.size}<extra></extra>",
           "hovertext": [
            "canada"
           ],
           "ids": [
            "canada"
           ],
           "legendgroup": "cigar",
           "marker": {
            "color": "#FECB52",
            "size": [
             1
            ],
            "sizemode": "area",
            "sizeref": 0.6504,
            "symbol": "circle"
           },
           "mode": "markers",
           "name": "cigar",
           "orientation": "v",
           "showlegend": true,
           "type": "scatter",
           "x": [
            2549
           ],
           "xaxis": "x",
           "y": [
            1
           ],
           "yaxis": "y"
          }
         ],
         "name": "1983"
        },
        {
         "data": [
          {
           "hovertemplate": "<b>%{hovertext}</b><br><br>shape=light<br>year=1986<br>index=%{x}<br>count=%{marker.size}<extra></extra>",
           "hovertext": [
            "united states",
            "puerto rico"
           ],
           "ids": [
            "united states",
            "puerto rico"
           ],
           "legendgroup": "light",
           "marker": {
            "color": "#636efa",
            "size": [
             9,
             1
            ],
            "sizemode": "area",
            "sizeref": 0.6504,
            "symbol": "circle"
           },
           "mode": "markers",
           "name": "light",
           "orientation": "v",
           "showlegend": true,
           "type": "scatter",
           "x": [
            790,
            2456
           ],
           "xaxis": "x",
           "y": [
            9,
            1
           ],
           "yaxis": "y"
          },
          {
           "hovertemplate": "<b>%{hovertext}</b><br><br>shape=unknown<br>year=1986<br>index=%{x}<br>count=%{marker.size}<extra></extra>",
           "hovertext": [
            "united states",
            "canada"
           ],
           "ids": [
            "united states",
            "canada"
           ],
           "legendgroup": "unknown",
           "marker": {
            "color": "#EF553B",
            "size": [
             22,
             2
            ],
            "sizemode": "area",
            "sizeref": 0.6504,
            "symbol": "circle"
           },
           "mode": "markers",
           "name": "unknown",
           "orientation": "v",
           "showlegend": true,
           "type": "scatter",
           "x": [
            510,
            1716
           ],
           "xaxis": "x",
           "y": [
            22,
            2
           ],
           "yaxis": "y"
          },
          {
           "hovertemplate": "<b>%{hovertext}</b><br><br>shape=circle<br>year=1986<br>index=%{x}<br>count=%{marker.size}<extra></extra>",
           "hovertext": [
            "united states"
           ],
           "ids": [
            "united states"
           ],
           "legendgroup": "circle",
           "marker": {
            "color": "#00cc96",
            "size": [
             8
            ],
            "sizemode": "area",
            "sizeref": 0.6504,
            "symbol": "circle"
           },
           "mode": "markers",
           "name": "circle",
           "orientation": "v",
           "showlegend": true,
           "type": "scatter",
           "x": [
            850
           ],
           "xaxis": "x",
           "y": [
            8
           ],
           "yaxis": "y"
          },
          {
           "hovertemplate": "<b>%{hovertext}</b><br><br>shape=triangle<br>year=1986<br>index=%{x}<br>count=%{marker.size}<extra></extra>",
           "hovertext": [
            "united states",
            "canada"
           ],
           "ids": [
            "united states",
            "canada"
           ],
           "legendgroup": "triangle",
           "marker": {
            "color": "#FFA15A",
            "size": [
             17,
             1
            ],
            "sizemode": "area",
            "sizeref": 0.6504,
            "symbol": "circle"
           },
           "mode": "markers",
           "name": "triangle",
           "orientation": "v",
           "showlegend": true,
           "type": "scatter",
           "x": [
            591,
            2438
           ],
           "xaxis": "x",
           "y": [
            17,
            1
           ],
           "yaxis": "y"
          },
          {
           "hovertemplate": "<b>%{hovertext}</b><br><br>shape=sphere<br>year=1986<br>index=%{x}<br>count=%{marker.size}<extra></extra>",
           "hovertext": [
            "united states"
           ],
           "ids": [
            "united states"
           ],
           "legendgroup": "sphere",
           "marker": {
            "color": "#19d3f3",
            "size": [
             8
            ],
            "sizemode": "area",
            "sizeref": 0.6504,
            "symbol": "circle"
           },
           "mode": "markers",
           "name": "sphere",
           "orientation": "v",
           "showlegend": true,
           "type": "scatter",
           "x": [
            823
           ],
           "xaxis": "x",
           "y": [
            8
           ],
           "yaxis": "y"
          },
          {
           "hovertemplate": "<b>%{hovertext}</b><br><br>shape=oval<br>year=1986<br>index=%{x}<br>count=%{marker.size}<extra></extra>",
           "hovertext": [
            "canada"
           ],
           "ids": [
            "canada"
           ],
           "legendgroup": "oval",
           "marker": {
            "color": "#FF97FF",
            "size": [
             1
            ],
            "sizemode": "area",
            "sizeref": 0.6504,
            "symbol": "circle"
           },
           "mode": "markers",
           "name": "oval",
           "orientation": "v",
           "showlegend": true,
           "type": "scatter",
           "x": [
            2455
           ],
           "xaxis": "x",
           "y": [
            1
           ],
           "yaxis": "y"
          },
          {
           "hovertemplate": "<b>%{hovertext}</b><br><br>shape=cigar<br>year=1986<br>index=%{x}<br>count=%{marker.size}<extra></extra>",
           "hovertext": [
            "canada"
           ],
           "ids": [
            "canada"
           ],
           "legendgroup": "cigar",
           "marker": {
            "color": "#FECB52",
            "size": [
             2
            ],
            "sizemode": "area",
            "sizeref": 0.6504,
            "symbol": "circle"
           },
           "mode": "markers",
           "name": "cigar",
           "orientation": "v",
           "showlegend": true,
           "type": "scatter",
           "x": [
            1775
           ],
           "xaxis": "x",
           "y": [
            2
           ],
           "yaxis": "y"
          },
          {
           "hovertemplate": "<b>%{hovertext}</b><br><br>shape=chevron<br>year=1986<br>index=%{x}<br>count=%{marker.size}<extra></extra>",
           "hovertext": [
            "canada"
           ],
           "ids": [
            "canada"
           ],
           "legendgroup": "chevron",
           "marker": {
            "color": "#FF6692",
            "size": [
             1
            ],
            "sizemode": "area",
            "sizeref": 0.6504,
            "symbol": "circle"
           },
           "mode": "markers",
           "name": "chevron",
           "orientation": "v",
           "showlegend": true,
           "type": "scatter",
           "x": [
            2462
           ],
           "xaxis": "x",
           "y": [
            1
           ],
           "yaxis": "y"
          }
         ],
         "name": "1986"
        },
        {
         "data": [
          {
           "hovertemplate": "<b>%{hovertext}</b><br><br>shape=light<br>year=1979<br>index=%{x}<br>count=%{marker.size}<extra></extra>",
           "hovertext": [
            "united states"
           ],
           "ids": [
            "united states"
           ],
           "legendgroup": "light",
           "marker": {
            "color": "#636efa",
            "size": [
             11
            ],
            "sizemode": "area",
            "sizeref": 0.6504,
            "symbol": "circle"
           },
           "mode": "markers",
           "name": "light",
           "orientation": "v",
           "showlegend": true,
           "type": "scatter",
           "x": [
            731
           ],
           "xaxis": "x",
           "y": [
            11
           ],
           "yaxis": "y"
          },
          {
           "hovertemplate": "<b>%{hovertext}</b><br><br>shape=unknown<br>year=1979<br>index=%{x}<br>count=%{marker.size}<extra></extra>",
           "hovertext": [
            "united states",
            "canada",
            "france"
           ],
           "ids": [
            "united states",
            "canada",
            "france"
           ],
           "legendgroup": "unknown",
           "marker": {
            "color": "#EF553B",
            "size": [
             20,
             2,
             1
            ],
            "sizemode": "area",
            "sizeref": 0.6504,
            "symbol": "circle"
           },
           "mode": "markers",
           "name": "unknown",
           "orientation": "v",
           "showlegend": true,
           "type": "scatter",
           "x": [
            547,
            1645,
            2287
           ],
           "xaxis": "x",
           "y": [
            20,
            2,
            1
           ],
           "yaxis": "y"
          },
          {
           "hovertemplate": "<b>%{hovertext}</b><br><br>shape=circle<br>year=1979<br>index=%{x}<br>count=%{marker.size}<extra></extra>",
           "hovertext": [
            "united states",
            "canada"
           ],
           "ids": [
            "united states",
            "canada"
           ],
           "legendgroup": "circle",
           "marker": {
            "color": "#00cc96",
            "size": [
             12,
             1
            ],
            "sizemode": "area",
            "sizeref": 0.6504,
            "symbol": "circle"
           },
           "mode": "markers",
           "name": "circle",
           "orientation": "v",
           "showlegend": true,
           "type": "scatter",
           "x": [
            722,
            2306
           ],
           "xaxis": "x",
           "y": [
            12,
            1
           ],
           "yaxis": "y"
          },
          {
           "hovertemplate": "<b>%{hovertext}</b><br><br>shape=triangle<br>year=1979<br>index=%{x}<br>count=%{marker.size}<extra></extra>",
           "hovertext": [
            "united states",
            "canada"
           ],
           "ids": [
            "united states",
            "canada"
           ],
           "legendgroup": "triangle",
           "marker": {
            "color": "#FFA15A",
            "size": [
             15,
             3
            ],
            "sizemode": "area",
            "sizeref": 0.6504,
            "symbol": "circle"
           },
           "mode": "markers",
           "name": "triangle",
           "orientation": "v",
           "showlegend": true,
           "type": "scatter",
           "x": [
            623,
            1362
           ],
           "xaxis": "x",
           "y": [
            15,
            3
           ],
           "yaxis": "y"
          },
          {
           "hovertemplate": "<b>%{hovertext}</b><br><br>shape=disk<br>year=1979<br>index=%{x}<br>count=%{marker.size}<extra></extra>",
           "hovertext": [
            "united states",
            "canada"
           ],
           "ids": [
            "united states",
            "canada"
           ],
           "legendgroup": "disk",
           "marker": {
            "color": "#FF6692",
            "size": [
             21,
             3
            ],
            "sizemode": "area",
            "sizeref": 0.6504,
            "symbol": "circle"
           },
           "mode": "markers",
           "name": "disk",
           "orientation": "v",
           "showlegend": true,
           "type": "scatter",
           "x": [
            526,
            1351
           ],
           "xaxis": "x",
           "y": [
            21,
            3
           ],
           "yaxis": "y"
          },
          {
           "hovertemplate": "<b>%{hovertext}</b><br><br>shape=formation<br>year=1979<br>index=%{x}<br>count=%{marker.size}<extra></extra>",
           "hovertext": [
            "canada"
           ],
           "ids": [
            "canada"
           ],
           "legendgroup": "formation",
           "marker": {
            "color": "#B6E880",
            "size": [
             1
            ],
            "sizemode": "area",
            "sizeref": 0.6504,
            "symbol": "circle"
           },
           "mode": "markers",
           "name": "formation",
           "orientation": "v",
           "showlegend": true,
           "type": "scatter",
           "x": [
            2301
           ],
           "xaxis": "x",
           "y": [
            1
           ],
           "yaxis": "y"
          }
         ],
         "name": "1979"
        },
        {
         "data": [
          {
           "hovertemplate": "<b>%{hovertext}</b><br><br>shape=light<br>year=1992<br>index=%{x}<br>count=%{marker.size}<extra></extra>",
           "hovertext": [
            "united states"
           ],
           "ids": [
            "united states"
           ],
           "legendgroup": "light",
           "marker": {
            "color": "#636efa",
            "size": [
             14
            ],
            "sizemode": "area",
            "sizeref": 0.6504,
            "symbol": "circle"
           },
           "mode": "markers",
           "name": "light",
           "orientation": "v",
           "showlegend": true,
           "type": "scatter",
           "x": [
            645
           ],
           "xaxis": "x",
           "y": [
            14
           ],
           "yaxis": "y"
          },
          {
           "hovertemplate": "<b>%{hovertext}</b><br><br>shape=unknown<br>year=1992<br>index=%{x}<br>count=%{marker.size}<extra></extra>",
           "hovertext": [
            "united states",
            "canada",
            "india",
            "puerto rico"
           ],
           "ids": [
            "united states",
            "canada",
            "india",
            "puerto rico"
           ],
           "legendgroup": "unknown",
           "marker": {
            "color": "#EF553B",
            "size": [
             21,
             3,
             1,
             1
            ],
            "sizemode": "area",
            "sizeref": 0.6504,
            "symbol": "circle"
           },
           "mode": "markers",
           "name": "unknown",
           "orientation": "v",
           "showlegend": true,
           "type": "scatter",
           "x": [
            532,
            1323,
            1874,
            1875
           ],
           "xaxis": "x",
           "y": [
            21,
            3,
            1,
            1
           ],
           "yaxis": "y"
          },
          {
           "hovertemplate": "<b>%{hovertext}</b><br><br>shape=circle<br>year=1992<br>index=%{x}<br>count=%{marker.size}<extra></extra>",
           "hovertext": [
            "united states",
            "canada"
           ],
           "ids": [
            "united states",
            "canada"
           ],
           "legendgroup": "circle",
           "marker": {
            "color": "#00cc96",
            "size": [
             11,
             2
            ],
            "sizemode": "area",
            "sizeref": 0.6504,
            "symbol": "circle"
           },
           "mode": "markers",
           "name": "circle",
           "orientation": "v",
           "showlegend": true,
           "type": "scatter",
           "x": [
            728,
            1769
           ],
           "xaxis": "x",
           "y": [
            11,
            2
           ],
           "yaxis": "y"
          },
          {
           "hovertemplate": "<b>%{hovertext}</b><br><br>shape=triangle<br>year=1992<br>index=%{x}<br>count=%{marker.size}<extra></extra>",
           "hovertext": [
            "united states"
           ],
           "ids": [
            "united states"
           ],
           "legendgroup": "triangle",
           "marker": {
            "color": "#FFA15A",
            "size": [
             17
            ],
            "sizemode": "area",
            "sizeref": 0.6504,
            "symbol": "circle"
           },
           "mode": "markers",
           "name": "triangle",
           "orientation": "v",
           "showlegend": true,
           "type": "scatter",
           "x": [
            594
           ],
           "xaxis": "x",
           "y": [
            17
           ],
           "yaxis": "y"
          },
          {
           "hovertemplate": "<b>%{hovertext}</b><br><br>shape=sphere<br>year=1992<br>index=%{x}<br>count=%{marker.size}<extra></extra>",
           "hovertext": [
            "canada"
           ],
           "ids": [
            "canada"
           ],
           "legendgroup": "sphere",
           "marker": {
            "color": "#19d3f3",
            "size": [
             3
            ],
            "sizemode": "area",
            "sizeref": 0.6504,
            "symbol": "circle"
           },
           "mode": "markers",
           "name": "sphere",
           "orientation": "v",
           "showlegend": true,
           "type": "scatter",
           "x": [
            1316
           ],
           "xaxis": "x",
           "y": [
            3
           ],
           "yaxis": "y"
          },
          {
           "hovertemplate": "<b>%{hovertext}</b><br><br>shape=disk<br>year=1992<br>index=%{x}<br>count=%{marker.size}<extra></extra>",
           "hovertext": [
            "united states"
           ],
           "ids": [
            "united states"
           ],
           "legendgroup": "disk",
           "marker": {
            "color": "#FF6692",
            "size": [
             15
            ],
            "sizemode": "area",
            "sizeref": 0.6504,
            "symbol": "circle"
           },
           "mode": "markers",
           "name": "disk",
           "orientation": "v",
           "showlegend": true,
           "type": "scatter",
           "x": [
            637
           ],
           "xaxis": "x",
           "y": [
            15
           ],
           "yaxis": "y"
          },
          {
           "hovertemplate": "<b>%{hovertext}</b><br><br>shape=oval<br>year=1992<br>index=%{x}<br>count=%{marker.size}<extra></extra>",
           "hovertext": [
            "canada"
           ],
           "ids": [
            "canada"
           ],
           "legendgroup": "oval",
           "marker": {
            "color": "#FF97FF",
            "size": [
             2
            ],
            "sizemode": "area",
            "sizeref": 0.6504,
            "symbol": "circle"
           },
           "mode": "markers",
           "name": "oval",
           "orientation": "v",
           "showlegend": true,
           "type": "scatter",
           "x": [
            1746
           ],
           "xaxis": "x",
           "y": [
            2
           ],
           "yaxis": "y"
          },
          {
           "hovertemplate": "<b>%{hovertext}</b><br><br>shape=changed<br>year=1992<br>index=%{x}<br>count=%{marker.size}<extra></extra>",
           "hovertext": [
            "canada"
           ],
           "ids": [
            "canada"
           ],
           "legendgroup": "changed",
           "marker": {
            "color": "#00cc96",
            "size": [
             1
            ],
            "sizemode": "area",
            "sizeref": 0.6504,
            "symbol": "circle"
           },
           "mode": "markers",
           "name": "changed",
           "orientation": "v",
           "showlegend": true,
           "type": "scatter",
           "x": [
            1828
           ],
           "xaxis": "x",
           "y": [
            1
           ],
           "yaxis": "y"
          }
         ],
         "name": "1992"
        },
        {
         "data": [
          {
           "hovertemplate": "<b>%{hovertext}</b><br><br>shape=light<br>year=1985<br>index=%{x}<br>count=%{marker.size}<extra></extra>",
           "hovertext": [
            "united states"
           ],
           "ids": [
            "united states"
           ],
           "legendgroup": "light",
           "marker": {
            "color": "#636efa",
            "size": [
             10
            ],
            "sizemode": "area",
            "sizeref": 0.6504,
            "symbol": "circle"
           },
           "mode": "markers",
           "name": "light",
           "orientation": "v",
           "showlegend": true,
           "type": "scatter",
           "x": [
            765
           ],
           "xaxis": "x",
           "y": [
            10
           ],
           "yaxis": "y"
          },
          {
           "hovertemplate": "<b>%{hovertext}</b><br><br>shape=unknown<br>year=1985<br>index=%{x}<br>count=%{marker.size}<extra></extra>",
           "hovertext": [
            "united states",
            "canada"
           ],
           "ids": [
            "united states",
            "canada"
           ],
           "legendgroup": "unknown",
           "marker": {
            "color": "#EF553B",
            "size": [
             18,
             2
            ],
            "sizemode": "area",
            "sizeref": 0.6504,
            "symbol": "circle"
           },
           "mode": "markers",
           "name": "unknown",
           "orientation": "v",
           "showlegend": true,
           "type": "scatter",
           "x": [
            567,
            1772
           ],
           "xaxis": "x",
           "y": [
            18,
            2
           ],
           "yaxis": "y"
          },
          {
           "hovertemplate": "<b>%{hovertext}</b><br><br>shape=circle<br>year=1985<br>index=%{x}<br>count=%{marker.size}<extra></extra>",
           "hovertext": [
            "united states"
           ],
           "ids": [
            "united states"
           ],
           "legendgroup": "circle",
           "marker": {
            "color": "#00cc96",
            "size": [
             13
            ],
            "sizemode": "area",
            "sizeref": 0.6504,
            "symbol": "circle"
           },
           "mode": "markers",
           "name": "circle",
           "orientation": "v",
           "showlegend": true,
           "type": "scatter",
           "x": [
            681
           ],
           "xaxis": "x",
           "y": [
            13
           ],
           "yaxis": "y"
          },
          {
           "hovertemplate": "<b>%{hovertext}</b><br><br>shape=triangle<br>year=1985<br>index=%{x}<br>count=%{marker.size}<extra></extra>",
           "hovertext": [
            "united states",
            "canada"
           ],
           "ids": [
            "united states",
            "canada"
           ],
           "legendgroup": "triangle",
           "marker": {
            "color": "#FFA15A",
            "size": [
             11,
             2
            ],
            "sizemode": "area",
            "sizeref": 0.6504,
            "symbol": "circle"
           },
           "mode": "markers",
           "name": "triangle",
           "orientation": "v",
           "showlegend": true,
           "type": "scatter",
           "x": [
            740,
            1770
           ],
           "xaxis": "x",
           "y": [
            11,
            2
           ],
           "yaxis": "y"
          },
          {
           "hovertemplate": "<b>%{hovertext}</b><br><br>shape=sphere<br>year=1985<br>index=%{x}<br>count=%{marker.size}<extra></extra>",
           "hovertext": [
            "united states",
            "canada"
           ],
           "ids": [
            "united states",
            "canada"
           ],
           "legendgroup": "sphere",
           "marker": {
            "color": "#19d3f3",
            "size": [
             12,
             3
            ],
            "sizemode": "area",
            "sizeref": 0.6504,
            "symbol": "circle"
           },
           "mode": "markers",
           "name": "sphere",
           "orientation": "v",
           "showlegend": true,
           "type": "scatter",
           "x": [
            714,
            1326
           ],
           "xaxis": "x",
           "y": [
            12,
            3
           ],
           "yaxis": "y"
          },
          {
           "hovertemplate": "<b>%{hovertext}</b><br><br>shape=disk<br>year=1985<br>index=%{x}<br>count=%{marker.size}<extra></extra>",
           "hovertext": [
            "canada"
           ],
           "ids": [
            "canada"
           ],
           "legendgroup": "disk",
           "marker": {
            "color": "#FF6692",
            "size": [
             4
            ],
            "sizemode": "area",
            "sizeref": 0.6504,
            "symbol": "circle"
           },
           "mode": "markers",
           "name": "disk",
           "orientation": "v",
           "showlegend": true,
           "type": "scatter",
           "x": [
            1137
           ],
           "xaxis": "x",
           "y": [
            4
           ],
           "yaxis": "y"
          },
          {
           "hovertemplate": "<b>%{hovertext}</b><br><br>shape=oval<br>year=1985<br>index=%{x}<br>count=%{marker.size}<extra></extra>",
           "hovertext": [
            "canada"
           ],
           "ids": [
            "canada"
           ],
           "legendgroup": "oval",
           "marker": {
            "color": "#FF97FF",
            "size": [
             1
            ],
            "sizemode": "area",
            "sizeref": 0.6504,
            "symbol": "circle"
           },
           "mode": "markers",
           "name": "oval",
           "orientation": "v",
           "showlegend": true,
           "type": "scatter",
           "x": [
            2543
           ],
           "xaxis": "x",
           "y": [
            1
           ],
           "yaxis": "y"
          },
          {
           "hovertemplate": "<b>%{hovertext}</b><br><br>shape=egg<br>year=1985<br>index=%{x}<br>count=%{marker.size}<extra></extra>",
           "hovertext": [
            "brazil"
           ],
           "ids": [
            "brazil"
           ],
           "legendgroup": "egg",
           "marker": {
            "color": "#FFA15A",
            "size": [
             1
            ],
            "sizemode": "area",
            "sizeref": 0.6504,
            "symbol": "circle"
           },
           "mode": "markers",
           "name": "egg",
           "orientation": "v",
           "showlegend": true,
           "type": "scatter",
           "x": [
            2615
           ],
           "xaxis": "x",
           "y": [
            1
           ],
           "yaxis": "y"
          }
         ],
         "name": "1985"
        },
        {
         "data": [
          {
           "hovertemplate": "<b>%{hovertext}</b><br><br>shape=light<br>year=1982<br>index=%{x}<br>count=%{marker.size}<extra></extra>",
           "hovertext": [
            "united states",
            "canada"
           ],
           "ids": [
            "united states",
            "canada"
           ],
           "legendgroup": "light",
           "marker": {
            "color": "#636efa",
            "size": [
             14,
             4
            ],
            "sizemode": "area",
            "sizeref": 0.6504,
            "symbol": "circle"
           },
           "mode": "markers",
           "name": "light",
           "orientation": "v",
           "showlegend": true,
           "type": "scatter",
           "x": [
            671,
            1184
           ],
           "xaxis": "x",
           "y": [
            14,
            4
           ],
           "yaxis": "y"
          },
          {
           "hovertemplate": "<b>%{hovertext}</b><br><br>shape=unknown<br>year=1982<br>index=%{x}<br>count=%{marker.size}<extra></extra>",
           "hovertext": [
            "united states",
            "canada"
           ],
           "ids": [
            "united states",
            "canada"
           ],
           "legendgroup": "unknown",
           "marker": {
            "color": "#EF553B",
            "size": [
             17,
             1
            ],
            "sizemode": "area",
            "sizeref": 0.6504,
            "symbol": "circle"
           },
           "mode": "markers",
           "name": "unknown",
           "orientation": "v",
           "showlegend": true,
           "type": "scatter",
           "x": [
            582,
            2546
           ],
           "xaxis": "x",
           "y": [
            17,
            1
           ],
           "yaxis": "y"
          },
          {
           "hovertemplate": "<b>%{hovertext}</b><br><br>shape=circle<br>year=1982<br>index=%{x}<br>count=%{marker.size}<extra></extra>",
           "hovertext": [
            "india"
           ],
           "ids": [
            "india"
           ],
           "legendgroup": "circle",
           "marker": {
            "color": "#00cc96",
            "size": [
             1
            ],
            "sizemode": "area",
            "sizeref": 0.6504,
            "symbol": "circle"
           },
           "mode": "markers",
           "name": "circle",
           "orientation": "v",
           "showlegend": true,
           "type": "scatter",
           "x": [
            2592
           ],
           "xaxis": "x",
           "y": [
            1
           ],
           "yaxis": "y"
          },
          {
           "hovertemplate": "<b>%{hovertext}</b><br><br>shape=triangle<br>year=1982<br>index=%{x}<br>count=%{marker.size}<extra></extra>",
           "hovertext": [
            "united states"
           ],
           "ids": [
            "united states"
           ],
           "legendgroup": "triangle",
           "marker": {
            "color": "#FFA15A",
            "size": [
             13
            ],
            "sizemode": "area",
            "sizeref": 0.6504,
            "symbol": "circle"
           },
           "mode": "markers",
           "name": "triangle",
           "orientation": "v",
           "showlegend": true,
           "type": "scatter",
           "x": [
            687
           ],
           "xaxis": "x",
           "y": [
            13
           ],
           "yaxis": "y"
          },
          {
           "hovertemplate": "<b>%{hovertext}</b><br><br>shape=sphere<br>year=1982<br>index=%{x}<br>count=%{marker.size}<extra></extra>",
           "hovertext": [
            "united states"
           ],
           "ids": [
            "united states"
           ],
           "legendgroup": "sphere",
           "marker": {
            "color": "#19d3f3",
            "size": [
             7
            ],
            "sizemode": "area",
            "sizeref": 0.6504,
            "symbol": "circle"
           },
           "mode": "markers",
           "name": "sphere",
           "orientation": "v",
           "showlegend": true,
           "type": "scatter",
           "x": [
            880
           ],
           "xaxis": "x",
           "y": [
            7
           ],
           "yaxis": "y"
          },
          {
           "hovertemplate": "<b>%{hovertext}</b><br><br>shape=disk<br>year=1982<br>index=%{x}<br>count=%{marker.size}<extra></extra>",
           "hovertext": [
            "united states",
            "canada"
           ],
           "ids": [
            "united states",
            "canada"
           ],
           "legendgroup": "disk",
           "marker": {
            "color": "#FF6692",
            "size": [
             18,
             3
            ],
            "sizemode": "area",
            "sizeref": 0.6504,
            "symbol": "circle"
           },
           "mode": "markers",
           "name": "disk",
           "orientation": "v",
           "showlegend": true,
           "type": "scatter",
           "x": [
            572,
            1307
           ],
           "xaxis": "x",
           "y": [
            18,
            3
           ],
           "yaxis": "y"
          },
          {
           "hovertemplate": "<b>%{hovertext}</b><br><br>shape=formation<br>year=1982<br>index=%{x}<br>count=%{marker.size}<extra></extra>",
           "hovertext": [
            "canada"
           ],
           "ids": [
            "canada"
           ],
           "legendgroup": "formation",
           "marker": {
            "color": "#B6E880",
            "size": [
             1
            ],
            "sizemode": "area",
            "sizeref": 0.6504,
            "symbol": "circle"
           },
           "mode": "markers",
           "name": "formation",
           "orientation": "v",
           "showlegend": true,
           "type": "scatter",
           "x": [
            2570
           ],
           "xaxis": "x",
           "y": [
            1
           ],
           "yaxis": "y"
          },
          {
           "hovertemplate": "<b>%{hovertext}</b><br><br>shape=teardrop<br>year=1982<br>index=%{x}<br>count=%{marker.size}<extra></extra>",
           "hovertext": [
            "canada"
           ],
           "ids": [
            "canada"
           ],
           "legendgroup": "teardrop",
           "marker": {
            "color": "#FF97FF",
            "size": [
             1
            ],
            "sizemode": "area",
            "sizeref": 0.6504,
            "symbol": "circle"
           },
           "mode": "markers",
           "name": "teardrop",
           "orientation": "v",
           "showlegend": true,
           "type": "scatter",
           "x": [
            2545
           ],
           "xaxis": "x",
           "y": [
            1
           ],
           "yaxis": "y"
          }
         ],
         "name": "1982"
        },
        {
         "data": [
          {
           "hovertemplate": "<b>%{hovertext}</b><br><br>shape=light<br>year=1972<br>index=%{x}<br>count=%{marker.size}<extra></extra>",
           "hovertext": [
            "united states"
           ],
           "ids": [
            "united states"
           ],
           "legendgroup": "light",
           "marker": {
            "color": "#636efa",
            "size": [
             10
            ],
            "sizemode": "area",
            "sizeref": 0.6504,
            "symbol": "circle"
           },
           "mode": "markers",
           "name": "light",
           "orientation": "v",
           "showlegend": true,
           "type": "scatter",
           "x": [
            766
           ],
           "xaxis": "x",
           "y": [
            10
           ],
           "yaxis": "y"
          },
          {
           "hovertemplate": "<b>%{hovertext}</b><br><br>shape=unknown<br>year=1972<br>index=%{x}<br>count=%{marker.size}<extra></extra>",
           "hovertext": [
            "united states",
            "canada",
            "mexico"
           ],
           "ids": [
            "united states",
            "canada",
            "mexico"
           ],
           "legendgroup": "unknown",
           "marker": {
            "color": "#EF553B",
            "size": [
             15,
             2,
             1
            ],
            "sizemode": "area",
            "sizeref": 0.6504,
            "symbol": "circle"
           },
           "mode": "markers",
           "name": "unknown",
           "orientation": "v",
           "showlegend": true,
           "type": "scatter",
           "x": [
            639,
            1786,
            2330
           ],
           "xaxis": "x",
           "y": [
            15,
            2,
            1
           ],
           "yaxis": "y"
          },
          {
           "hovertemplate": "<b>%{hovertext}</b><br><br>shape=circle<br>year=1972<br>index=%{x}<br>count=%{marker.size}<extra></extra>",
           "hovertext": [
            "united states"
           ],
           "ids": [
            "united states"
           ],
           "legendgroup": "circle",
           "marker": {
            "color": "#00cc96",
            "size": [
             17
            ],
            "sizemode": "area",
            "sizeref": 0.6504,
            "symbol": "circle"
           },
           "mode": "markers",
           "name": "circle",
           "orientation": "v",
           "showlegend": true,
           "type": "scatter",
           "x": [
            593
           ],
           "xaxis": "x",
           "y": [
            17
           ],
           "yaxis": "y"
          },
          {
           "hovertemplate": "<b>%{hovertext}</b><br><br>shape=fireball<br>year=1972<br>index=%{x}<br>count=%{marker.size}<extra></extra>",
           "hovertext": [
            "canada"
           ],
           "ids": [
            "canada"
           ],
           "legendgroup": "fireball",
           "marker": {
            "color": "#ab63fa",
            "size": [
             1
            ],
            "sizemode": "area",
            "sizeref": 0.6504,
            "symbol": "circle"
           },
           "mode": "markers",
           "name": "fireball",
           "orientation": "v",
           "showlegend": true,
           "type": "scatter",
           "x": [
            2320
           ],
           "xaxis": "x",
           "y": [
            1
           ],
           "yaxis": "y"
          },
          {
           "hovertemplate": "<b>%{hovertext}</b><br><br>shape=sphere<br>year=1972<br>index=%{x}<br>count=%{marker.size}<extra></extra>",
           "hovertext": [
            "canada"
           ],
           "ids": [
            "canada"
           ],
           "legendgroup": "sphere",
           "marker": {
            "color": "#19d3f3",
            "size": [
             1
            ],
            "sizemode": "area",
            "sizeref": 0.6504,
            "symbol": "circle"
           },
           "mode": "markers",
           "name": "sphere",
           "orientation": "v",
           "showlegend": true,
           "type": "scatter",
           "x": [
            2328
           ],
           "xaxis": "x",
           "y": [
            1
           ],
           "yaxis": "y"
          },
          {
           "hovertemplate": "<b>%{hovertext}</b><br><br>shape=disk<br>year=1972<br>index=%{x}<br>count=%{marker.size}<extra></extra>",
           "hovertext": [
            "united states",
            "canada",
            "india"
           ],
           "ids": [
            "united states",
            "canada",
            "india"
           ],
           "legendgroup": "disk",
           "marker": {
            "color": "#FF6692",
            "size": [
             15,
             4,
             1
            ],
            "sizemode": "area",
            "sizeref": 0.6504,
            "symbol": "circle"
           },
           "mode": "markers",
           "name": "disk",
           "orientation": "v",
           "showlegend": true,
           "type": "scatter",
           "x": [
            624,
            1177,
            2319
           ],
           "xaxis": "x",
           "y": [
            15,
            4,
            1
           ],
           "yaxis": "y"
          },
          {
           "hovertemplate": "<b>%{hovertext}</b><br><br>shape=oval<br>year=1972<br>index=%{x}<br>count=%{marker.size}<extra></extra>",
           "hovertext": [
            "united states",
            "canada",
            "lebanon",
            "puerto rico"
           ],
           "ids": [
            "united states",
            "canada",
            "lebanon",
            "puerto rico"
           ],
           "legendgroup": "oval",
           "marker": {
            "color": "#FF97FF",
            "size": [
             5,
             1,
             1,
             1
            ],
            "sizemode": "area",
            "sizeref": 0.6504,
            "symbol": "circle"
           },
           "mode": "markers",
           "name": "oval",
           "orientation": "v",
           "showlegend": true,
           "type": "scatter",
           "x": [
            1000,
            2322,
            2323,
            2326
           ],
           "xaxis": "x",
           "y": [
            5,
            1,
            1,
            1
           ],
           "yaxis": "y"
          },
          {
           "hovertemplate": "<b>%{hovertext}</b><br><br>shape=cigar<br>year=1972<br>index=%{x}<br>count=%{marker.size}<extra></extra>",
           "hovertext": [
            "india"
           ],
           "ids": [
            "india"
           ],
           "legendgroup": "cigar",
           "marker": {
            "color": "#FECB52",
            "size": [
             1
            ],
            "sizemode": "area",
            "sizeref": 0.6504,
            "symbol": "circle"
           },
           "mode": "markers",
           "name": "cigar",
           "orientation": "v",
           "showlegend": true,
           "type": "scatter",
           "x": [
            2344
           ],
           "xaxis": "x",
           "y": [
            1
           ],
           "yaxis": "y"
          }
         ],
         "name": "1972"
        },
        {
         "data": [
          {
           "hovertemplate": "<b>%{hovertext}</b><br><br>shape=light<br>year=1981<br>index=%{x}<br>count=%{marker.size}<extra></extra>",
           "hovertext": [
            "united states",
            "india"
           ],
           "ids": [
            "united states",
            "india"
           ],
           "legendgroup": "light",
           "marker": {
            "color": "#636efa",
            "size": [
             11,
             1
            ],
            "sizemode": "area",
            "sizeref": 0.6504,
            "symbol": "circle"
           },
           "mode": "markers",
           "name": "light",
           "orientation": "v",
           "showlegend": true,
           "type": "scatter",
           "x": [
            752,
            2572
           ],
           "xaxis": "x",
           "y": [
            11,
            1
           ],
           "yaxis": "y"
          },
          {
           "hovertemplate": "<b>%{hovertext}</b><br><br>shape=unknown<br>year=1981<br>index=%{x}<br>count=%{marker.size}<extra></extra>",
           "hovertext": [
            "united states"
           ],
           "ids": [
            "united states"
           ],
           "legendgroup": "unknown",
           "marker": {
            "color": "#EF553B",
            "size": [
             16
            ],
            "sizemode": "area",
            "sizeref": 0.6504,
            "symbol": "circle"
           },
           "mode": "markers",
           "name": "unknown",
           "orientation": "v",
           "showlegend": true,
           "type": "scatter",
           "x": [
            607
           ],
           "xaxis": "x",
           "y": [
            16
           ],
           "yaxis": "y"
          },
          {
           "hovertemplate": "<b>%{hovertext}</b><br><br>shape=circle<br>year=1981<br>index=%{x}<br>count=%{marker.size}<extra></extra>",
           "hovertext": [
            "united states"
           ],
           "ids": [
            "united states"
           ],
           "legendgroup": "circle",
           "marker": {
            "color": "#00cc96",
            "size": [
             6
            ],
            "sizemode": "area",
            "sizeref": 0.6504,
            "symbol": "circle"
           },
           "mode": "markers",
           "name": "circle",
           "orientation": "v",
           "showlegend": true,
           "type": "scatter",
           "x": [
            997
           ],
           "xaxis": "x",
           "y": [
            6
           ],
           "yaxis": "y"
          },
          {
           "hovertemplate": "<b>%{hovertext}</b><br><br>shape=fireball<br>year=1981<br>index=%{x}<br>count=%{marker.size}<extra></extra>",
           "hovertext": [
            "canada"
           ],
           "ids": [
            "canada"
           ],
           "legendgroup": "fireball",
           "marker": {
            "color": "#ab63fa",
            "size": [
             1
            ],
            "sizemode": "area",
            "sizeref": 0.6504,
            "symbol": "circle"
           },
           "mode": "markers",
           "name": "fireball",
           "orientation": "v",
           "showlegend": true,
           "type": "scatter",
           "x": [
            2579
           ],
           "xaxis": "x",
           "y": [
            1
           ],
           "yaxis": "y"
          },
          {
           "hovertemplate": "<b>%{hovertext}</b><br><br>shape=triangle<br>year=1981<br>index=%{x}<br>count=%{marker.size}<extra></extra>",
           "hovertext": [
            "united states",
            "canada",
            "lebanon"
           ],
           "ids": [
            "united states",
            "canada",
            "lebanon"
           ],
           "legendgroup": "triangle",
           "marker": {
            "color": "#FFA15A",
            "size": [
             7,
             2,
             1
            ],
            "sizemode": "area",
            "sizeref": 0.6504,
            "symbol": "circle"
           },
           "mode": "markers",
           "name": "triangle",
           "orientation": "v",
           "showlegend": true,
           "type": "scatter",
           "x": [
            883,
            1664,
            2584
           ],
           "xaxis": "x",
           "y": [
            7,
            2,
            1
           ],
           "yaxis": "y"
          },
          {
           "hovertemplate": "<b>%{hovertext}</b><br><br>shape=disk<br>year=1981<br>index=%{x}<br>count=%{marker.size}<extra></extra>",
           "hovertext": [
            "united states",
            "canada"
           ],
           "ids": [
            "united states",
            "canada"
           ],
           "legendgroup": "disk",
           "marker": {
            "color": "#FF6692",
            "size": [
             15,
             1
            ],
            "sizemode": "area",
            "sizeref": 0.6504,
            "symbol": "circle"
           },
           "mode": "markers",
           "name": "disk",
           "orientation": "v",
           "showlegend": true,
           "type": "scatter",
           "x": [
            631,
            2427
           ],
           "xaxis": "x",
           "y": [
            15,
            1
           ],
           "yaxis": "y"
          },
          {
           "hovertemplate": "<b>%{hovertext}</b><br><br>shape=formation<br>year=1981<br>index=%{x}<br>count=%{marker.size}<extra></extra>",
           "hovertext": [
            "canada"
           ],
           "ids": [
            "canada"
           ],
           "legendgroup": "formation",
           "marker": {
            "color": "#B6E880",
            "size": [
             1
            ],
            "sizemode": "area",
            "sizeref": 0.6504,
            "symbol": "circle"
           },
           "mode": "markers",
           "name": "formation",
           "orientation": "v",
           "showlegend": true,
           "type": "scatter",
           "x": [
            2582
           ],
           "xaxis": "x",
           "y": [
            1
           ],
           "yaxis": "y"
          },
          {
           "hovertemplate": "<b>%{hovertext}</b><br><br>shape=cigar<br>year=1981<br>index=%{x}<br>count=%{marker.size}<extra></extra>",
           "hovertext": [
            "canada"
           ],
           "ids": [
            "canada"
           ],
           "legendgroup": "cigar",
           "marker": {
            "color": "#FECB52",
            "size": [
             2
            ],
            "sizemode": "area",
            "sizeref": 0.6504,
            "symbol": "circle"
           },
           "mode": "markers",
           "name": "cigar",
           "orientation": "v",
           "showlegend": true,
           "type": "scatter",
           "x": [
            1778
           ],
           "xaxis": "x",
           "y": [
            2
           ],
           "yaxis": "y"
          }
         ],
         "name": "1981"
        },
        {
         "data": [
          {
           "hovertemplate": "<b>%{hovertext}</b><br><br>shape=light<br>year=1971<br>index=%{x}<br>count=%{marker.size}<extra></extra>",
           "hovertext": [
            "united states"
           ],
           "ids": [
            "united states"
           ],
           "legendgroup": "light",
           "marker": {
            "color": "#636efa",
            "size": [
             7
            ],
            "sizemode": "area",
            "sizeref": 0.6504,
            "symbol": "circle"
           },
           "mode": "markers",
           "name": "light",
           "orientation": "v",
           "showlegend": true,
           "type": "scatter",
           "x": [
            890
           ],
           "xaxis": "x",
           "y": [
            7
           ],
           "yaxis": "y"
          },
          {
           "hovertemplate": "<b>%{hovertext}</b><br><br>shape=unknown<br>year=1971<br>index=%{x}<br>count=%{marker.size}<extra></extra>",
           "hovertext": [
            "united states",
            "india"
           ],
           "ids": [
            "united states",
            "india"
           ],
           "legendgroup": "unknown",
           "marker": {
            "color": "#EF553B",
            "size": [
             9,
             1
            ],
            "sizemode": "area",
            "sizeref": 0.6504,
            "symbol": "circle"
           },
           "mode": "markers",
           "name": "unknown",
           "orientation": "v",
           "showlegend": true,
           "type": "scatter",
           "x": [
            784,
            2368
           ],
           "xaxis": "x",
           "y": [
            9,
            1
           ],
           "yaxis": "y"
          },
          {
           "hovertemplate": "<b>%{hovertext}</b><br><br>shape=circle<br>year=1971<br>index=%{x}<br>count=%{marker.size}<extra></extra>",
           "hovertext": [
            "united states",
            "canada",
            "georgia"
           ],
           "ids": [
            "united states",
            "canada",
            "georgia"
           ],
           "legendgroup": "circle",
           "marker": {
            "color": "#00cc96",
            "size": [
             6,
             1,
             1
            ],
            "sizemode": "area",
            "sizeref": 0.6504,
            "symbol": "circle"
           },
           "mode": "markers",
           "name": "circle",
           "orientation": "v",
           "showlegend": true,
           "type": "scatter",
           "x": [
            969,
            2346,
            2348
           ],
           "xaxis": "x",
           "y": [
            6,
            1,
            1
           ],
           "yaxis": "y"
          },
          {
           "hovertemplate": "<b>%{hovertext}</b><br><br>shape=fireball<br>year=1971<br>index=%{x}<br>count=%{marker.size}<extra></extra>",
           "hovertext": [
            "canada"
           ],
           "ids": [
            "canada"
           ],
           "legendgroup": "fireball",
           "marker": {
            "color": "#ab63fa",
            "size": [
             1
            ],
            "sizemode": "area",
            "sizeref": 0.6504,
            "symbol": "circle"
           },
           "mode": "markers",
           "name": "fireball",
           "orientation": "v",
           "showlegend": true,
           "type": "scatter",
           "x": [
            2356
           ],
           "xaxis": "x",
           "y": [
            1
           ],
           "yaxis": "y"
          },
          {
           "hovertemplate": "<b>%{hovertext}</b><br><br>shape=triangle<br>year=1971<br>index=%{x}<br>count=%{marker.size}<extra></extra>",
           "hovertext": [
            "mexico"
           ],
           "ids": [
            "mexico"
           ],
           "legendgroup": "triangle",
           "marker": {
            "color": "#FFA15A",
            "size": [
             1
            ],
            "sizemode": "area",
            "sizeref": 0.6504,
            "symbol": "circle"
           },
           "mode": "markers",
           "name": "triangle",
           "orientation": "v",
           "showlegend": true,
           "type": "scatter",
           "x": [
            2366
           ],
           "xaxis": "x",
           "y": [
            1
           ],
           "yaxis": "y"
          },
          {
           "hovertemplate": "<b>%{hovertext}</b><br><br>shape=sphere<br>year=1971<br>index=%{x}<br>count=%{marker.size}<extra></extra>",
           "hovertext": [
            "canada"
           ],
           "ids": [
            "canada"
           ],
           "legendgroup": "sphere",
           "marker": {
            "color": "#19d3f3",
            "size": [
             1
            ],
            "sizemode": "area",
            "sizeref": 0.6504,
            "symbol": "circle"
           },
           "mode": "markers",
           "name": "sphere",
           "orientation": "v",
           "showlegend": true,
           "type": "scatter",
           "x": [
            2363
           ],
           "xaxis": "x",
           "y": [
            1
           ],
           "yaxis": "y"
          },
          {
           "hovertemplate": "<b>%{hovertext}</b><br><br>shape=disk<br>year=1971<br>index=%{x}<br>count=%{marker.size}<extra></extra>",
           "hovertext": [
            "united states",
            "canada"
           ],
           "ids": [
            "united states",
            "canada"
           ],
           "legendgroup": "disk",
           "marker": {
            "color": "#FF6692",
            "size": [
             14,
             1
            ],
            "sizemode": "area",
            "sizeref": 0.6504,
            "symbol": "circle"
           },
           "mode": "markers",
           "name": "disk",
           "orientation": "v",
           "showlegend": true,
           "type": "scatter",
           "x": [
            648,
            2354
           ],
           "xaxis": "x",
           "y": [
            14,
            1
           ],
           "yaxis": "y"
          },
          {
           "hovertemplate": "<b>%{hovertext}</b><br><br>shape=oval<br>year=1971<br>index=%{x}<br>count=%{marker.size}<extra></extra>",
           "hovertext": [
            "canada"
           ],
           "ids": [
            "canada"
           ],
           "legendgroup": "oval",
           "marker": {
            "color": "#FF97FF",
            "size": [
             1
            ],
            "sizemode": "area",
            "sizeref": 0.6504,
            "symbol": "circle"
           },
           "mode": "markers",
           "name": "oval",
           "orientation": "v",
           "showlegend": true,
           "type": "scatter",
           "x": [
            2359
           ],
           "xaxis": "x",
           "y": [
            1
           ],
           "yaxis": "y"
          },
          {
           "hovertemplate": "<b>%{hovertext}</b><br><br>shape=cigar<br>year=1971<br>index=%{x}<br>count=%{marker.size}<extra></extra>",
           "hovertext": [
            "united states"
           ],
           "ids": [
            "united states"
           ],
           "legendgroup": "cigar",
           "marker": {
            "color": "#FECB52",
            "size": [
             7
            ],
            "sizemode": "area",
            "sizeref": 0.6504,
            "symbol": "circle"
           },
           "mode": "markers",
           "name": "cigar",
           "orientation": "v",
           "showlegend": true,
           "type": "scatter",
           "x": [
            920
           ],
           "xaxis": "x",
           "y": [
            7
           ],
           "yaxis": "y"
          }
         ],
         "name": "1971"
        },
        {
         "data": [
          {
           "hovertemplate": "<b>%{hovertext}</b><br><br>shape=disk<br>year=1970<br>index=%{x}<br>count=%{marker.size}<extra></extra>",
           "hovertext": [
            "united states"
           ],
           "ids": [
            "united states"
           ],
           "legendgroup": "disk",
           "marker": {
            "color": "#FF6692",
            "size": [
             1
            ],
            "sizemode": "area",
            "sizeref": 0.6504,
            "symbol": "circle"
           },
           "mode": "markers",
           "name": "disk",
           "orientation": "v",
           "showlegend": true,
           "type": "scatter",
           "x": [
            3597
           ],
           "xaxis": "x",
           "y": [
            1
           ],
           "yaxis": "y"
          }
         ],
         "name": "1970"
        }
       ],
       "layout": {
        "legend": {
         "itemsizing": "constant",
         "title": {
          "text": "shape"
         },
         "tracegroupgap": 0
        },
        "margin": {
         "t": 60
        },
        "sliders": [
         {
          "active": 0,
          "currentvalue": {
           "prefix": "year="
          },
          "len": 0.9,
          "pad": {
           "b": 10,
           "t": 60
          },
          "steps": [
           {
            "args": [
             [
              "2020"
             ],
             {
              "frame": {
               "duration": 0,
               "redraw": false
              },
              "fromcurrent": true,
              "mode": "immediate",
              "transition": {
               "duration": 0,
               "easing": "linear"
              }
             }
            ],
            "label": "2020",
            "method": "animate"
           },
           {
            "args": [
             [
              "2014"
             ],
             {
              "frame": {
               "duration": 0,
               "redraw": false
              },
              "fromcurrent": true,
              "mode": "immediate",
              "transition": {
               "duration": 0,
               "easing": "linear"
              }
             }
            ],
            "label": "2014",
            "method": "animate"
           },
           {
            "args": [
             [
              "2019"
             ],
             {
              "frame": {
               "duration": 0,
               "redraw": false
              },
              "fromcurrent": true,
              "mode": "immediate",
              "transition": {
               "duration": 0,
               "easing": "linear"
              }
             }
            ],
            "label": "2019",
            "method": "animate"
           },
           {
            "args": [
             [
              "2015"
             ],
             {
              "frame": {
               "duration": 0,
               "redraw": false
              },
              "fromcurrent": true,
              "mode": "immediate",
              "transition": {
               "duration": 0,
               "easing": "linear"
              }
             }
            ],
            "label": "2015",
            "method": "animate"
           },
           {
            "args": [
             [
              "2012"
             ],
             {
              "frame": {
               "duration": 0,
               "redraw": false
              },
              "fromcurrent": true,
              "mode": "immediate",
              "transition": {
               "duration": 0,
               "easing": "linear"
              }
             }
            ],
            "label": "2012",
            "method": "animate"
           },
           {
            "args": [
             [
              "2013"
             ],
             {
              "frame": {
               "duration": 0,
               "redraw": false
              },
              "fromcurrent": true,
              "mode": "immediate",
              "transition": {
               "duration": 0,
               "easing": "linear"
              }
             }
            ],
            "label": "2013",
            "method": "animate"
           },
           {
            "args": [
             [
              "2016"
             ],
             {
              "frame": {
               "duration": 0,
               "redraw": false
              },
              "fromcurrent": true,
              "mode": "immediate",
              "transition": {
               "duration": 0,
               "easing": "linear"
              }
             }
            ],
            "label": "2016",
            "method": "animate"
           },
           {
            "args": [
             [
              "2017"
             ],
             {
              "frame": {
               "duration": 0,
               "redraw": false
              },
              "fromcurrent": true,
              "mode": "immediate",
              "transition": {
               "duration": 0,
               "easing": "linear"
              }
             }
            ],
            "label": "2017",
            "method": "animate"
           },
           {
            "args": [
             [
              "2011"
             ],
             {
              "frame": {
               "duration": 0,
               "redraw": false
              },
              "fromcurrent": true,
              "mode": "immediate",
              "transition": {
               "duration": 0,
               "easing": "linear"
              }
             }
            ],
            "label": "2011",
            "method": "animate"
           },
           {
            "args": [
             [
              "2009"
             ],
             {
              "frame": {
               "duration": 0,
               "redraw": false
              },
              "fromcurrent": true,
              "mode": "immediate",
              "transition": {
               "duration": 0,
               "easing": "linear"
              }
             }
            ],
            "label": "2009",
            "method": "animate"
           },
           {
            "args": [
             [
              "2010"
             ],
             {
              "frame": {
               "duration": 0,
               "redraw": false
              },
              "fromcurrent": true,
              "mode": "immediate",
              "transition": {
               "duration": 0,
               "easing": "linear"
              }
             }
            ],
            "label": "2010",
            "method": "animate"
           },
           {
            "args": [
             [
              "2018"
             ],
             {
              "frame": {
               "duration": 0,
               "redraw": false
              },
              "fromcurrent": true,
              "mode": "immediate",
              "transition": {
               "duration": 0,
               "easing": "linear"
              }
             }
            ],
            "label": "2018",
            "method": "animate"
           },
           {
            "args": [
             [
              "2008"
             ],
             {
              "frame": {
               "duration": 0,
               "redraw": false
              },
              "fromcurrent": true,
              "mode": "immediate",
              "transition": {
               "duration": 0,
               "easing": "linear"
              }
             }
            ],
            "label": "2008",
            "method": "animate"
           },
           {
            "args": [
             [
              "2007"
             ],
             {
              "frame": {
               "duration": 0,
               "redraw": false
              },
              "fromcurrent": true,
              "mode": "immediate",
              "transition": {
               "duration": 0,
               "easing": "linear"
              }
             }
            ],
            "label": "2007",
            "method": "animate"
           },
           {
            "args": [
             [
              "2021"
             ],
             {
              "frame": {
               "duration": 0,
               "redraw": false
              },
              "fromcurrent": true,
              "mode": "immediate",
              "transition": {
               "duration": 0,
               "easing": "linear"
              }
             }
            ],
            "label": "2021",
            "method": "animate"
           },
           {
            "args": [
             [
              "2005"
             ],
             {
              "frame": {
               "duration": 0,
               "redraw": false
              },
              "fromcurrent": true,
              "mode": "immediate",
              "transition": {
               "duration": 0,
               "easing": "linear"
              }
             }
            ],
            "label": "2005",
            "method": "animate"
           },
           {
            "args": [
             [
              "2006"
             ],
             {
              "frame": {
               "duration": 0,
               "redraw": false
              },
              "fromcurrent": true,
              "mode": "immediate",
              "transition": {
               "duration": 0,
               "easing": "linear"
              }
             }
            ],
            "label": "2006",
            "method": "animate"
           },
           {
            "args": [
             [
              "2004"
             ],
             {
              "frame": {
               "duration": 0,
               "redraw": false
              },
              "fromcurrent": true,
              "mode": "immediate",
              "transition": {
               "duration": 0,
               "easing": "linear"
              }
             }
            ],
            "label": "2004",
            "method": "animate"
           },
           {
            "args": [
             [
              "2003"
             ],
             {
              "frame": {
               "duration": 0,
               "redraw": false
              },
              "fromcurrent": true,
              "mode": "immediate",
              "transition": {
               "duration": 0,
               "easing": "linear"
              }
             }
            ],
            "label": "2003",
            "method": "animate"
           },
           {
            "args": [
             [
              "2001"
             ],
             {
              "frame": {
               "duration": 0,
               "redraw": false
              },
              "fromcurrent": true,
              "mode": "immediate",
              "transition": {
               "duration": 0,
               "easing": "linear"
              }
             }
            ],
            "label": "2001",
            "method": "animate"
           },
           {
            "args": [
             [
              "1995"
             ],
             {
              "frame": {
               "duration": 0,
               "redraw": false
              },
              "fromcurrent": true,
              "mode": "immediate",
              "transition": {
               "duration": 0,
               "easing": "linear"
              }
             }
            ],
            "label": "1995",
            "method": "animate"
           },
           {
            "args": [
             [
              "2002"
             ],
             {
              "frame": {
               "duration": 0,
               "redraw": false
              },
              "fromcurrent": true,
              "mode": "immediate",
              "transition": {
               "duration": 0,
               "easing": "linear"
              }
             }
            ],
            "label": "2002",
            "method": "animate"
           },
           {
            "args": [
             [
              "1999"
             ],
             {
              "frame": {
               "duration": 0,
               "redraw": false
              },
              "fromcurrent": true,
              "mode": "immediate",
              "transition": {
               "duration": 0,
               "easing": "linear"
              }
             }
            ],
            "label": "1999",
            "method": "animate"
           },
           {
            "args": [
             [
              "2000"
             ],
             {
              "frame": {
               "duration": 0,
               "redraw": false
              },
              "fromcurrent": true,
              "mode": "immediate",
              "transition": {
               "duration": 0,
               "easing": "linear"
              }
             }
            ],
            "label": "2000",
            "method": "animate"
           },
           {
            "args": [
             [
              "1998"
             ],
             {
              "frame": {
               "duration": 0,
               "redraw": false
              },
              "fromcurrent": true,
              "mode": "immediate",
              "transition": {
               "duration": 0,
               "easing": "linear"
              }
             }
            ],
            "label": "1998",
            "method": "animate"
           },
           {
            "args": [
             [
              "1996"
             ],
             {
              "frame": {
               "duration": 0,
               "redraw": false
              },
              "fromcurrent": true,
              "mode": "immediate",
              "transition": {
               "duration": 0,
               "easing": "linear"
              }
             }
            ],
            "label": "1996",
            "method": "animate"
           },
           {
            "args": [
             [
              "1997"
             ],
             {
              "frame": {
               "duration": 0,
               "redraw": false
              },
              "fromcurrent": true,
              "mode": "immediate",
              "transition": {
               "duration": 0,
               "easing": "linear"
              }
             }
            ],
            "label": "1997",
            "method": "animate"
           },
           {
            "args": [
             [
              "1975"
             ],
             {
              "frame": {
               "duration": 0,
               "redraw": false
              },
              "fromcurrent": true,
              "mode": "immediate",
              "transition": {
               "duration": 0,
               "easing": "linear"
              }
             }
            ],
            "label": "1975",
            "method": "animate"
           },
           {
            "args": [
             [
              "1974"
             ],
             {
              "frame": {
               "duration": 0,
               "redraw": false
              },
              "fromcurrent": true,
              "mode": "immediate",
              "transition": {
               "duration": 0,
               "easing": "linear"
              }
             }
            ],
            "label": "1974",
            "method": "animate"
           },
           {
            "args": [
             [
              "1973"
             ],
             {
              "frame": {
               "duration": 0,
               "redraw": false
              },
              "fromcurrent": true,
              "mode": "immediate",
              "transition": {
               "duration": 0,
               "easing": "linear"
              }
             }
            ],
            "label": "1973",
            "method": "animate"
           },
           {
            "args": [
             [
              "1994"
             ],
             {
              "frame": {
               "duration": 0,
               "redraw": false
              },
              "fromcurrent": true,
              "mode": "immediate",
              "transition": {
               "duration": 0,
               "easing": "linear"
              }
             }
            ],
            "label": "1994",
            "method": "animate"
           },
           {
            "args": [
             [
              "1976"
             ],
             {
              "frame": {
               "duration": 0,
               "redraw": false
              },
              "fromcurrent": true,
              "mode": "immediate",
              "transition": {
               "duration": 0,
               "easing": "linear"
              }
             }
            ],
            "label": "1976",
            "method": "animate"
           },
           {
            "args": [
             [
              "1990"
             ],
             {
              "frame": {
               "duration": 0,
               "redraw": false
              },
              "fromcurrent": true,
              "mode": "immediate",
              "transition": {
               "duration": 0,
               "easing": "linear"
              }
             }
            ],
            "label": "1990",
            "method": "animate"
           },
           {
            "args": [
             [
              "1977"
             ],
             {
              "frame": {
               "duration": 0,
               "redraw": false
              },
              "fromcurrent": true,
              "mode": "immediate",
              "transition": {
               "duration": 0,
               "easing": "linear"
              }
             }
            ],
            "label": "1977",
            "method": "animate"
           },
           {
            "args": [
             [
              "1978"
             ],
             {
              "frame": {
               "duration": 0,
               "redraw": false
              },
              "fromcurrent": true,
              "mode": "immediate",
              "transition": {
               "duration": 0,
               "easing": "linear"
              }
             }
            ],
            "label": "1978",
            "method": "animate"
           },
           {
            "args": [
             [
              "1988"
             ],
             {
              "frame": {
               "duration": 0,
               "redraw": false
              },
              "fromcurrent": true,
              "mode": "immediate",
              "transition": {
               "duration": 0,
               "easing": "linear"
              }
             }
            ],
            "label": "1988",
            "method": "animate"
           },
           {
            "args": [
             [
              "1987"
             ],
             {
              "frame": {
               "duration": 0,
               "redraw": false
              },
              "fromcurrent": true,
              "mode": "immediate",
              "transition": {
               "duration": 0,
               "easing": "linear"
              }
             }
            ],
            "label": "1987",
            "method": "animate"
           },
           {
            "args": [
             [
              "1993"
             ],
             {
              "frame": {
               "duration": 0,
               "redraw": false
              },
              "fromcurrent": true,
              "mode": "immediate",
              "transition": {
               "duration": 0,
               "easing": "linear"
              }
             }
            ],
            "label": "1993",
            "method": "animate"
           },
           {
            "args": [
             [
              "1991"
             ],
             {
              "frame": {
               "duration": 0,
               "redraw": false
              },
              "fromcurrent": true,
              "mode": "immediate",
              "transition": {
               "duration": 0,
               "easing": "linear"
              }
             }
            ],
            "label": "1991",
            "method": "animate"
           },
           {
            "args": [
             [
              "1980"
             ],
             {
              "frame": {
               "duration": 0,
               "redraw": false
              },
              "fromcurrent": true,
              "mode": "immediate",
              "transition": {
               "duration": 0,
               "easing": "linear"
              }
             }
            ],
            "label": "1980",
            "method": "animate"
           },
           {
            "args": [
             [
              "1989"
             ],
             {
              "frame": {
               "duration": 0,
               "redraw": false
              },
              "fromcurrent": true,
              "mode": "immediate",
              "transition": {
               "duration": 0,
               "easing": "linear"
              }
             }
            ],
            "label": "1989",
            "method": "animate"
           },
           {
            "args": [
             [
              "1984"
             ],
             {
              "frame": {
               "duration": 0,
               "redraw": false
              },
              "fromcurrent": true,
              "mode": "immediate",
              "transition": {
               "duration": 0,
               "easing": "linear"
              }
             }
            ],
            "label": "1984",
            "method": "animate"
           },
           {
            "args": [
             [
              "1983"
             ],
             {
              "frame": {
               "duration": 0,
               "redraw": false
              },
              "fromcurrent": true,
              "mode": "immediate",
              "transition": {
               "duration": 0,
               "easing": "linear"
              }
             }
            ],
            "label": "1983",
            "method": "animate"
           },
           {
            "args": [
             [
              "1986"
             ],
             {
              "frame": {
               "duration": 0,
               "redraw": false
              },
              "fromcurrent": true,
              "mode": "immediate",
              "transition": {
               "duration": 0,
               "easing": "linear"
              }
             }
            ],
            "label": "1986",
            "method": "animate"
           },
           {
            "args": [
             [
              "1979"
             ],
             {
              "frame": {
               "duration": 0,
               "redraw": false
              },
              "fromcurrent": true,
              "mode": "immediate",
              "transition": {
               "duration": 0,
               "easing": "linear"
              }
             }
            ],
            "label": "1979",
            "method": "animate"
           },
           {
            "args": [
             [
              "1992"
             ],
             {
              "frame": {
               "duration": 0,
               "redraw": false
              },
              "fromcurrent": true,
              "mode": "immediate",
              "transition": {
               "duration": 0,
               "easing": "linear"
              }
             }
            ],
            "label": "1992",
            "method": "animate"
           },
           {
            "args": [
             [
              "1985"
             ],
             {
              "frame": {
               "duration": 0,
               "redraw": false
              },
              "fromcurrent": true,
              "mode": "immediate",
              "transition": {
               "duration": 0,
               "easing": "linear"
              }
             }
            ],
            "label": "1985",
            "method": "animate"
           },
           {
            "args": [
             [
              "1982"
             ],
             {
              "frame": {
               "duration": 0,
               "redraw": false
              },
              "fromcurrent": true,
              "mode": "immediate",
              "transition": {
               "duration": 0,
               "easing": "linear"
              }
             }
            ],
            "label": "1982",
            "method": "animate"
           },
           {
            "args": [
             [
              "1972"
             ],
             {
              "frame": {
               "duration": 0,
               "redraw": false
              },
              "fromcurrent": true,
              "mode": "immediate",
              "transition": {
               "duration": 0,
               "easing": "linear"
              }
             }
            ],
            "label": "1972",
            "method": "animate"
           },
           {
            "args": [
             [
              "1981"
             ],
             {
              "frame": {
               "duration": 0,
               "redraw": false
              },
              "fromcurrent": true,
              "mode": "immediate",
              "transition": {
               "duration": 0,
               "easing": "linear"
              }
             }
            ],
            "label": "1981",
            "method": "animate"
           },
           {
            "args": [
             [
              "1971"
             ],
             {
              "frame": {
               "duration": 0,
               "redraw": false
              },
              "fromcurrent": true,
              "mode": "immediate",
              "transition": {
               "duration": 0,
               "easing": "linear"
              }
             }
            ],
            "label": "1971",
            "method": "animate"
           },
           {
            "args": [
             [
              "1970"
             ],
             {
              "frame": {
               "duration": 0,
               "redraw": false
              },
              "fromcurrent": true,
              "mode": "immediate",
              "transition": {
               "duration": 0,
               "easing": "linear"
              }
             }
            ],
            "label": "1970",
            "method": "animate"
           }
          ],
          "x": 0.1,
          "xanchor": "left",
          "y": 0,
          "yanchor": "top"
         }
        ],
        "template": {
         "data": {
          "bar": [
           {
            "error_x": {
             "color": "#2a3f5f"
            },
            "error_y": {
             "color": "#2a3f5f"
            },
            "marker": {
             "line": {
              "color": "#E5ECF6",
              "width": 0.5
             },
             "pattern": {
              "fillmode": "overlay",
              "size": 10,
              "solidity": 0.2
             }
            },
            "type": "bar"
           }
          ],
          "barpolar": [
           {
            "marker": {
             "line": {
              "color": "#E5ECF6",
              "width": 0.5
             },
             "pattern": {
              "fillmode": "overlay",
              "size": 10,
              "solidity": 0.2
             }
            },
            "type": "barpolar"
           }
          ],
          "carpet": [
           {
            "aaxis": {
             "endlinecolor": "#2a3f5f",
             "gridcolor": "white",
             "linecolor": "white",
             "minorgridcolor": "white",
             "startlinecolor": "#2a3f5f"
            },
            "baxis": {
             "endlinecolor": "#2a3f5f",
             "gridcolor": "white",
             "linecolor": "white",
             "minorgridcolor": "white",
             "startlinecolor": "#2a3f5f"
            },
            "type": "carpet"
           }
          ],
          "choropleth": [
           {
            "colorbar": {
             "outlinewidth": 0,
             "ticks": ""
            },
            "type": "choropleth"
           }
          ],
          "contour": [
           {
            "colorbar": {
             "outlinewidth": 0,
             "ticks": ""
            },
            "colorscale": [
             [
              0,
              "#0d0887"
             ],
             [
              0.1111111111111111,
              "#46039f"
             ],
             [
              0.2222222222222222,
              "#7201a8"
             ],
             [
              0.3333333333333333,
              "#9c179e"
             ],
             [
              0.4444444444444444,
              "#bd3786"
             ],
             [
              0.5555555555555556,
              "#d8576b"
             ],
             [
              0.6666666666666666,
              "#ed7953"
             ],
             [
              0.7777777777777778,
              "#fb9f3a"
             ],
             [
              0.8888888888888888,
              "#fdca26"
             ],
             [
              1,
              "#f0f921"
             ]
            ],
            "type": "contour"
           }
          ],
          "contourcarpet": [
           {
            "colorbar": {
             "outlinewidth": 0,
             "ticks": ""
            },
            "type": "contourcarpet"
           }
          ],
          "heatmap": [
           {
            "colorbar": {
             "outlinewidth": 0,
             "ticks": ""
            },
            "colorscale": [
             [
              0,
              "#0d0887"
             ],
             [
              0.1111111111111111,
              "#46039f"
             ],
             [
              0.2222222222222222,
              "#7201a8"
             ],
             [
              0.3333333333333333,
              "#9c179e"
             ],
             [
              0.4444444444444444,
              "#bd3786"
             ],
             [
              0.5555555555555556,
              "#d8576b"
             ],
             [
              0.6666666666666666,
              "#ed7953"
             ],
             [
              0.7777777777777778,
              "#fb9f3a"
             ],
             [
              0.8888888888888888,
              "#fdca26"
             ],
             [
              1,
              "#f0f921"
             ]
            ],
            "type": "heatmap"
           }
          ],
          "heatmapgl": [
           {
            "colorbar": {
             "outlinewidth": 0,
             "ticks": ""
            },
            "colorscale": [
             [
              0,
              "#0d0887"
             ],
             [
              0.1111111111111111,
              "#46039f"
             ],
             [
              0.2222222222222222,
              "#7201a8"
             ],
             [
              0.3333333333333333,
              "#9c179e"
             ],
             [
              0.4444444444444444,
              "#bd3786"
             ],
             [
              0.5555555555555556,
              "#d8576b"
             ],
             [
              0.6666666666666666,
              "#ed7953"
             ],
             [
              0.7777777777777778,
              "#fb9f3a"
             ],
             [
              0.8888888888888888,
              "#fdca26"
             ],
             [
              1,
              "#f0f921"
             ]
            ],
            "type": "heatmapgl"
           }
          ],
          "histogram": [
           {
            "marker": {
             "pattern": {
              "fillmode": "overlay",
              "size": 10,
              "solidity": 0.2
             }
            },
            "type": "histogram"
           }
          ],
          "histogram2d": [
           {
            "colorbar": {
             "outlinewidth": 0,
             "ticks": ""
            },
            "colorscale": [
             [
              0,
              "#0d0887"
             ],
             [
              0.1111111111111111,
              "#46039f"
             ],
             [
              0.2222222222222222,
              "#7201a8"
             ],
             [
              0.3333333333333333,
              "#9c179e"
             ],
             [
              0.4444444444444444,
              "#bd3786"
             ],
             [
              0.5555555555555556,
              "#d8576b"
             ],
             [
              0.6666666666666666,
              "#ed7953"
             ],
             [
              0.7777777777777778,
              "#fb9f3a"
             ],
             [
              0.8888888888888888,
              "#fdca26"
             ],
             [
              1,
              "#f0f921"
             ]
            ],
            "type": "histogram2d"
           }
          ],
          "histogram2dcontour": [
           {
            "colorbar": {
             "outlinewidth": 0,
             "ticks": ""
            },
            "colorscale": [
             [
              0,
              "#0d0887"
             ],
             [
              0.1111111111111111,
              "#46039f"
             ],
             [
              0.2222222222222222,
              "#7201a8"
             ],
             [
              0.3333333333333333,
              "#9c179e"
             ],
             [
              0.4444444444444444,
              "#bd3786"
             ],
             [
              0.5555555555555556,
              "#d8576b"
             ],
             [
              0.6666666666666666,
              "#ed7953"
             ],
             [
              0.7777777777777778,
              "#fb9f3a"
             ],
             [
              0.8888888888888888,
              "#fdca26"
             ],
             [
              1,
              "#f0f921"
             ]
            ],
            "type": "histogram2dcontour"
           }
          ],
          "mesh3d": [
           {
            "colorbar": {
             "outlinewidth": 0,
             "ticks": ""
            },
            "type": "mesh3d"
           }
          ],
          "parcoords": [
           {
            "line": {
             "colorbar": {
              "outlinewidth": 0,
              "ticks": ""
             }
            },
            "type": "parcoords"
           }
          ],
          "pie": [
           {
            "automargin": true,
            "type": "pie"
           }
          ],
          "scatter": [
           {
            "marker": {
             "colorbar": {
              "outlinewidth": 0,
              "ticks": ""
             }
            },
            "type": "scatter"
           }
          ],
          "scatter3d": [
           {
            "line": {
             "colorbar": {
              "outlinewidth": 0,
              "ticks": ""
             }
            },
            "marker": {
             "colorbar": {
              "outlinewidth": 0,
              "ticks": ""
             }
            },
            "type": "scatter3d"
           }
          ],
          "scattercarpet": [
           {
            "marker": {
             "colorbar": {
              "outlinewidth": 0,
              "ticks": ""
             }
            },
            "type": "scattercarpet"
           }
          ],
          "scattergeo": [
           {
            "marker": {
             "colorbar": {
              "outlinewidth": 0,
              "ticks": ""
             }
            },
            "type": "scattergeo"
           }
          ],
          "scattergl": [
           {
            "marker": {
             "colorbar": {
              "outlinewidth": 0,
              "ticks": ""
             }
            },
            "type": "scattergl"
           }
          ],
          "scattermapbox": [
           {
            "marker": {
             "colorbar": {
              "outlinewidth": 0,
              "ticks": ""
             }
            },
            "type": "scattermapbox"
           }
          ],
          "scatterpolar": [
           {
            "marker": {
             "colorbar": {
              "outlinewidth": 0,
              "ticks": ""
             }
            },
            "type": "scatterpolar"
           }
          ],
          "scatterpolargl": [
           {
            "marker": {
             "colorbar": {
              "outlinewidth": 0,
              "ticks": ""
             }
            },
            "type": "scatterpolargl"
           }
          ],
          "scatterternary": [
           {
            "marker": {
             "colorbar": {
              "outlinewidth": 0,
              "ticks": ""
             }
            },
            "type": "scatterternary"
           }
          ],
          "surface": [
           {
            "colorbar": {
             "outlinewidth": 0,
             "ticks": ""
            },
            "colorscale": [
             [
              0,
              "#0d0887"
             ],
             [
              0.1111111111111111,
              "#46039f"
             ],
             [
              0.2222222222222222,
              "#7201a8"
             ],
             [
              0.3333333333333333,
              "#9c179e"
             ],
             [
              0.4444444444444444,
              "#bd3786"
             ],
             [
              0.5555555555555556,
              "#d8576b"
             ],
             [
              0.6666666666666666,
              "#ed7953"
             ],
             [
              0.7777777777777778,
              "#fb9f3a"
             ],
             [
              0.8888888888888888,
              "#fdca26"
             ],
             [
              1,
              "#f0f921"
             ]
            ],
            "type": "surface"
           }
          ],
          "table": [
           {
            "cells": {
             "fill": {
              "color": "#EBF0F8"
             },
             "line": {
              "color": "white"
             }
            },
            "header": {
             "fill": {
              "color": "#C8D4E3"
             },
             "line": {
              "color": "white"
             }
            },
            "type": "table"
           }
          ]
         },
         "layout": {
          "annotationdefaults": {
           "arrowcolor": "#2a3f5f",
           "arrowhead": 0,
           "arrowwidth": 1
          },
          "autotypenumbers": "strict",
          "coloraxis": {
           "colorbar": {
            "outlinewidth": 0,
            "ticks": ""
           }
          },
          "colorscale": {
           "diverging": [
            [
             0,
             "#8e0152"
            ],
            [
             0.1,
             "#c51b7d"
            ],
            [
             0.2,
             "#de77ae"
            ],
            [
             0.3,
             "#f1b6da"
            ],
            [
             0.4,
             "#fde0ef"
            ],
            [
             0.5,
             "#f7f7f7"
            ],
            [
             0.6,
             "#e6f5d0"
            ],
            [
             0.7,
             "#b8e186"
            ],
            [
             0.8,
             "#7fbc41"
            ],
            [
             0.9,
             "#4d9221"
            ],
            [
             1,
             "#276419"
            ]
           ],
           "sequential": [
            [
             0,
             "#0d0887"
            ],
            [
             0.1111111111111111,
             "#46039f"
            ],
            [
             0.2222222222222222,
             "#7201a8"
            ],
            [
             0.3333333333333333,
             "#9c179e"
            ],
            [
             0.4444444444444444,
             "#bd3786"
            ],
            [
             0.5555555555555556,
             "#d8576b"
            ],
            [
             0.6666666666666666,
             "#ed7953"
            ],
            [
             0.7777777777777778,
             "#fb9f3a"
            ],
            [
             0.8888888888888888,
             "#fdca26"
            ],
            [
             1,
             "#f0f921"
            ]
           ],
           "sequentialminus": [
            [
             0,
             "#0d0887"
            ],
            [
             0.1111111111111111,
             "#46039f"
            ],
            [
             0.2222222222222222,
             "#7201a8"
            ],
            [
             0.3333333333333333,
             "#9c179e"
            ],
            [
             0.4444444444444444,
             "#bd3786"
            ],
            [
             0.5555555555555556,
             "#d8576b"
            ],
            [
             0.6666666666666666,
             "#ed7953"
            ],
            [
             0.7777777777777778,
             "#fb9f3a"
            ],
            [
             0.8888888888888888,
             "#fdca26"
            ],
            [
             1,
             "#f0f921"
            ]
           ]
          },
          "colorway": [
           "#636efa",
           "#EF553B",
           "#00cc96",
           "#ab63fa",
           "#FFA15A",
           "#19d3f3",
           "#FF6692",
           "#B6E880",
           "#FF97FF",
           "#FECB52"
          ],
          "font": {
           "color": "#2a3f5f"
          },
          "geo": {
           "bgcolor": "white",
           "lakecolor": "white",
           "landcolor": "#E5ECF6",
           "showlakes": true,
           "showland": true,
           "subunitcolor": "white"
          },
          "hoverlabel": {
           "align": "left"
          },
          "hovermode": "closest",
          "mapbox": {
           "style": "light"
          },
          "paper_bgcolor": "white",
          "plot_bgcolor": "#E5ECF6",
          "polar": {
           "angularaxis": {
            "gridcolor": "white",
            "linecolor": "white",
            "ticks": ""
           },
           "bgcolor": "#E5ECF6",
           "radialaxis": {
            "gridcolor": "white",
            "linecolor": "white",
            "ticks": ""
           }
          },
          "scene": {
           "xaxis": {
            "backgroundcolor": "#E5ECF6",
            "gridcolor": "white",
            "gridwidth": 2,
            "linecolor": "white",
            "showbackground": true,
            "ticks": "",
            "zerolinecolor": "white"
           },
           "yaxis": {
            "backgroundcolor": "#E5ECF6",
            "gridcolor": "white",
            "gridwidth": 2,
            "linecolor": "white",
            "showbackground": true,
            "ticks": "",
            "zerolinecolor": "white"
           },
           "zaxis": {
            "backgroundcolor": "#E5ECF6",
            "gridcolor": "white",
            "gridwidth": 2,
            "linecolor": "white",
            "showbackground": true,
            "ticks": "",
            "zerolinecolor": "white"
           }
          },
          "shapedefaults": {
           "line": {
            "color": "#2a3f5f"
           }
          },
          "ternary": {
           "aaxis": {
            "gridcolor": "white",
            "linecolor": "white",
            "ticks": ""
           },
           "baxis": {
            "gridcolor": "white",
            "linecolor": "white",
            "ticks": ""
           },
           "bgcolor": "#E5ECF6",
           "caxis": {
            "gridcolor": "white",
            "linecolor": "white",
            "ticks": ""
           }
          },
          "title": {
           "x": 0.05
          },
          "xaxis": {
           "automargin": true,
           "gridcolor": "white",
           "linecolor": "white",
           "ticks": "",
           "title": {
            "standoff": 15
           },
           "zerolinecolor": "white",
           "zerolinewidth": 2
          },
          "yaxis": {
           "automargin": true,
           "gridcolor": "white",
           "linecolor": "white",
           "ticks": "",
           "title": {
            "standoff": 15
           },
           "zerolinecolor": "white",
           "zerolinewidth": 2
          }
         }
        },
        "updatemenus": [
         {
          "buttons": [
           {
            "args": [
             null,
             {
              "frame": {
               "duration": 500,
               "redraw": false
              },
              "fromcurrent": true,
              "mode": "immediate",
              "transition": {
               "duration": 500,
               "easing": "linear"
              }
             }
            ],
            "label": "&#9654;",
            "method": "animate"
           },
           {
            "args": [
             [
              null
             ],
             {
              "frame": {
               "duration": 0,
               "redraw": false
              },
              "fromcurrent": true,
              "mode": "immediate",
              "transition": {
               "duration": 0,
               "easing": "linear"
              }
             }
            ],
            "label": "&#9724;",
            "method": "animate"
           }
          ],
          "direction": "left",
          "pad": {
           "r": 10,
           "t": 70
          },
          "showactive": false,
          "type": "buttons",
          "x": 0.1,
          "xanchor": "right",
          "y": 0,
          "yanchor": "top"
         }
        ],
        "xaxis": {
         "anchor": "y",
         "domain": [
          0,
          1
         ],
         "title": {
          "text": "index"
         },
         "type": "log"
        },
        "yaxis": {
         "anchor": "x",
         "domain": [
          0,
          1
         ],
         "range": [
          1,
          1626
         ],
         "title": {
          "text": "count"
         }
        }
       }
      }
     },
     "metadata": {}
    }
   ],
   "metadata": {}
  }
 ],
 "metadata": {
  "orig_nbformat": 4,
  "language_info": {
   "name": "python",
   "version": "3.8.8",
   "mimetype": "text/x-python",
   "codemirror_mode": {
    "name": "ipython",
    "version": 3
   },
   "pygments_lexer": "ipython3",
   "nbconvert_exporter": "python",
   "file_extension": ".py"
  },
  "kernelspec": {
   "name": "python3",
   "display_name": "Python 3.8.8 64-bit ('base': conda)"
  },
  "interpreter": {
   "hash": "531730b0defc1becd7773a6e117194bcb242ddff7a0bf996f463bb957ca5c9e8"
  }
 },
 "nbformat": 4,
 "nbformat_minor": 2
}